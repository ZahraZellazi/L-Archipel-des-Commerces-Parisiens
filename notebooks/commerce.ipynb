{
 "cells": [
  {
   "cell_type": "markdown",
   "id": "cb78918d",
   "metadata": {},
   "source": [
    "<!DOCTYPE html>\n",
    "<html>\n",
    "<head>\n",
    "    <style>\n",
    "        body { font-family: Arial, sans-serif; margin: 40px; background: #f5f5f5; color: #333; line-height: 1.6; }\n",
    "        h1 { text-align: center; color: #ff69b4; font-size: 36px; font-weight: bold; margin-bottom: 10px; }\n",
    "        h2 { color: orange; font-size: 28px; font-weight: bold; margin-top: 30px; }\n",
    "        h3 { color: #00FFFF; font-size: 22px; margin-top: 20px; }\n",
    "        ul { margin-left: 20px; }\n",
    "        li { margin: 8px 0; }\n",
    "        hr { height: 2px; border: none; background-color: #ff69b4; margin: 20px 0; }\n",
    "    </style>\n",
    "</head>\n",
    "<body>\n",
    "\n",
    "<h1>🏪 PROJET : \"L'ARCHIPEL DES TERRASSES PARISIENNES\"</h1>\n",
    "<h2 style=\"text-align:center; color:#ff69b4;\">🔍 Analyse des clusters spontanés de terrasses commerciales à Paris</h2>\n",
    "<hr>\n",
    "\n",
    "<h2>🏪 1. Introduction</h2>\n",
    "<p><strong>📌 Objectif :</strong></p>\n",
    "<p>Ce projet vise à identifier et analyser les clusters spontanés de terrasses et étalages commerciaux à Paris.  \n",
    "Comprendre ces patterns d'agglomération naturelle aide les urbanistes, investisseurs et commerçants à prendre des décisions éclairées.</p>\n",
    "\n",
    "<h2>🛠️ Objectifs Clés</h2>\n",
    "<ul>\n",
    "    <li>🔄 Cartographier les clusters de terrasses par typologie</li>\n",
    "    <li>📈 Analyser les corrélations spatiales entre établissements</li>\n",
    "    <li>🏘️ Étudier l'influence des arrondissements sur la spécialisation</li>\n",
    "    <li>🗺️ Identifier les \"îles commerciales\" extérieures spontanées</li>\n",
    "</ul>\n",
    "\n",
    "<h2>🔑 Définitions</h2>\n",
    "<ul>\n",
    "    <li>🏷️ <strong>Cluster Commercial :</strong> Regroupement naturel de terrasses similaires ou complémentaires. Exemples : zones de restaurants, corridors de cafés, concentrations d'étalages</li>\n",
    "    <li>📊 <strong>Indice de Spécialisation :</strong> Concentration d'un type de terrasse dans une zone vs moyenne parisienne. Formule : (Type X terrasses / total terrasses en zone) × 100</li>\n",
    "    <li>🌐 <strong>Écosystème Commercial Extérieur :</strong> Terrasses interagissant dans un espace, créant des synergies et complémentarités</li>\n",
    "</ul>\n",
    "\n",
    "<h2>🎯 Valeur Métier</h2>\n",
    "<ul>\n",
    "    <li>🏛️ Ville de Paris : Support décisionnel pour les autorisations de terrasses</li>\n",
    "    <li>💼 Investisseurs : Identifier les zones sous-utilisées et opportunités de niche</li>\n",
    "    <li>🛍️ Commerçants : Comprendre les écosystèmes locaux pour un positionnement optimal</li>\n",
    "    <li>🏢 Urbanistes : Analyser les flux économiques et la vitalité des quartiers</li>\n",
    "</ul>\n",
    "\n",
    "<h2>👥 Parties Prenantes</h2>\n",
    "<ul>\n",
    "    <li>🏛️ Ville de Paris – Urbanisme et Développement Économique</li>\n",
    "    <li>💼 Investisseurs Immobiliers – Promoteurs, sociétés foncières</li>\n",
    "    <li>🛍️ Futurs Commerçants / Franchises</li>\n",
    "    <li>🏢 Chambre de Commerce – Support aux entreprises</li>\n",
    "    <li>🎓 Chercheurs en Économie Urbaine</li>\n",
    "</ul>\n",
    "\n",
    "<h2>📊 Critères de Succès</h2>\n",
    "<ul>\n",
    "    <li>🔍 Identifier au moins 5 clusters significatifs de terrasses</li>\n",
    "    <li>📈 Mettre en lumière des corrélations spatiales contre-intuitives</li>\n",
    "    <li>🎯 Produire des insights actionnables pour l'implantation commerciale</li>\n",
    "    <li>📱 Créer des visualisations claires et pédagogiques</li>\n",
    "</ul>\n",
    "\n",
    "<h2>🚧 Contraintes</h2>\n",
    "<ul>\n",
    "    <li>📅 Délai : 5 jours</li>\n",
    "    <li>💾 Données disponibles : 23,616 terrasses et étalages autorisés</li>\n",
    "    <li>🔍 Qualité des données : Catégorisation des types de terrasses à uniformiser</li>\n",
    "    <li>🌍 Périmètre : Paris intra-muros uniquement (20 arrondissements)</li>\n",
    "    <li>✅ MVP : focus sur l'analyse spatiale des implantations extérieures</li>\n",
    "</ul>\n",
    "\n",
    "<h2>📋 Livrables</h2>\n",
    "<ul>\n",
    "    <li>📊 Rapport d'analyse complet avec méthodologie et résultats</li>\n",
    "    <li>🗺️ Carte interactive des clusters identifiés</li>\n",
    "    <li>📈 Tableau de bord des métriques clés</li>\n",
    "    <li>💾 Code source et documentation technique</li>\n",
    "    <li>🎤 Présentation synthétique pour les parties prenantes</li>\n",
    "</ul>\n",
    "\n",
    "</body>\n",
    "</html>"
   ]
  },
  {
   "cell_type": "markdown",
   "id": "d7c3619c",
   "metadata": {},
   "source": [
    "**data understanding** "
   ]
  },
  {
   "cell_type": "code",
   "execution_count": 1,
   "id": "b6232790",
   "metadata": {},
   "outputs": [
    {
     "name": "stdout",
     "output_type": "stream",
     "text": [
      "📚 CHARGEMENT DES BIBLIOTHÈQUES...\n",
      "✅ Bibliothèques chargées avec succès!\n"
     ]
    }
   ],
   "source": [
    "# %% Cellule 2: Installation et Import des Bibliothèques\n",
    "print(\"📚 CHARGEMENT DES BIBLIOTHÈQUES...\")\n",
    "\n",
    "import pandas as pd\n",
    "import numpy as np\n",
    "import matplotlib.pyplot as plt\n",
    "import seaborn as sns\n",
    "from sklearn.cluster import DBSCAN\n",
    "from sklearn.preprocessing import StandardScaler\n",
    "import folium\n",
    "from folium.plugins import MarkerCluster\n",
    "import plotly.express as px\n",
    "import plotly.graph_objects as go\n",
    "from plotly.subplots import make_subplots\n",
    "\n",
    "print(\"✅ Bibliothèques chargées avec succès!\")"
   ]
  },
  {
   "cell_type": "code",
   "execution_count": 4,
   "id": "0fdd721c",
   "metadata": {},
   "outputs": [
    {
     "name": "stdout",
     "output_type": "stream",
     "text": [
      "📂 CHARGEMENT DES DONNÉES...\n",
      "✅ DONNÉES BRUTES CHARGÉES : 5,000 terrasses\n",
      "📊 Dimensions : 5000 lignes x 12 colonnes\n"
     ]
    }
   ],
   "source": [
    "# CHARGEMENT DES DONNÉES\n",
    "print(\"📂 CHARGEMENT DES DONNÉES...\")\n",
    "\n",
    "df_raw = pd.read_csv('../data/raw/terrasses_paris.csv')\n",
    "\n",
    "print(f\"✅ DONNÉES BRUTES CHARGÉES : {len(df_raw):,} terrasses\")\n",
    "print(f\"📊 Dimensions : {df_raw.shape[0]} lignes x {df_raw.shape[1]} colonnes\")\n"
   ]
  },
  {
   "cell_type": "markdown",
   "id": "b3a5866a",
   "metadata": {},
   "source": [
    "**Exploration des colonnes brutes**"
   ]
  },
  {
   "cell_type": "code",
   "execution_count": 5,
   "id": "c4527944",
   "metadata": {},
   "outputs": [
    {
     "name": "stdout",
     "output_type": "stream",
     "text": [
      "\n",
      "👀 APERÇU DES DONNÉES BRUTES :\n"
     ]
    },
    {
     "data": {
      "application/vnd.microsoft.datawrangler.viewer.v0+json": {
       "columns": [
        {
         "name": "index",
         "rawType": "int64",
         "type": "integer"
        },
        {
         "name": "typologie",
         "rawType": "object",
         "type": "string"
        },
        {
         "name": "adresse",
         "rawType": "object",
         "type": "string"
        },
        {
         "name": "arrondissement",
         "rawType": "float64",
         "type": "float"
        },
        {
         "name": "nom_enseigne",
         "rawType": "object",
         "type": "unknown"
        },
        {
         "name": "nom_societe",
         "rawType": "object",
         "type": "unknown"
        },
        {
         "name": "siret",
         "rawType": "float64",
         "type": "float"
        },
        {
         "name": "longueur",
         "rawType": "float64",
         "type": "float"
        },
        {
         "name": "largeur",
         "rawType": "float64",
         "type": "float"
        },
        {
         "name": "periode_installation",
         "rawType": "object",
         "type": "unknown"
        },
        {
         "name": "lien_affichette",
         "rawType": "object",
         "type": "string"
        },
        {
         "name": "geo_shape",
         "rawType": "object",
         "type": "string"
        },
        {
         "name": "geo_point_2d",
         "rawType": "object",
         "type": "string"
        }
       ],
       "ref": "021aaa28-abff-48fc-97ba-18c3ee5dd0aa",
       "rows": [
        [
         "0",
         "CONTRE-TERRASSE OUVERTE",
         "14 RUE DES PANOYAUX",
         "75020.0",
         "LOU PASCALOU",
         null,
         "52384413200010.0",
         "4.8",
         "4.0",
         null,
         "https://eudonet-terrasses.apps.paris.fr/xrm/at?tok=D6B73972&cs=yUZEpjDcLmM4cArTiYVmgXZ_KiXLZq8f8iJqKvI4hoHOmUGnOeppUHbELO5yok2L-KqCX7qZ9V8%3d&p=chMOZL_3S4Vd7FEjAQ0taMI1MuhNttdNzKfjeDZyRwP3fyqYH8SyyiQptG6JPJtWFrktS4Xi1-A%3d&mdinline=attch",
         "{'type': 'Feature', 'geometry': {'coordinates': [2.3854522524772896, 48.866330091701045], 'type': 'Point'}, 'properties': {}}",
         "{'lon': 2.3854522524772896, 'lat': 48.866330091701045}"
        ],
        [
         "1",
         "TERRASSE OUVERTE",
         "167 BOULEVARD VOLTAIRE",
         "75011.0",
         null,
         null,
         "51285599000010.0",
         "7.65",
         "2.0",
         null,
         "https://eudonet-terrasses.apps.paris.fr/xrm/at?tok=D6B73972&cs=yUZEpjDcLmM4cArTiYVmgb2Cj--5N_VhWknIqV5_MgjrFrb2GTnjmVXzkypuJYNWORPuZV40DAE%3d&p=chMOZL_3S4WG6aKVUeyH5Ell8eP_WOLTyN05jqL38WZZTow38whMoUeN0pT344cKT1tHI9pRLrU%3d&mdinline=attch",
         "{'type': 'Feature', 'geometry': {'coordinates': [2.3857018993955266, 48.854642373630554], 'type': 'Point'}, 'properties': {}}",
         "{'lon': 2.3857018993955266, 'lat': 48.854642373630554}"
        ],
        [
         "2",
         "TERRASSE OUVERTE",
         "16 RUE DU LOUVRE",
         "75001.0",
         "CHEZ ALEXANDRE",
         null,
         "42221797600014.0",
         "2.5",
         "1.1",
         null,
         "https://eudonet-terrasses.apps.paris.fr/xrm/at?tok=D6B73972&cs=yUZEpjDcLmM4cArTiYVmgSB9Hva5KZS7UqyiIHpwianFAYyEOJKCQTLNTBPxaN_gqyHZ2BV3MNI%3d&p=chMOZL_3S4Vbt23cdWa_yqkU344rAykIO0DHScNwjxJTwYEL59sc7_2oPvj4NMdkIQKqhp4aZl8%3d&mdinline=attch",
         "{'type': 'Feature', 'geometry': {'coordinates': [2.3410809317051617, 48.86116698012297], 'type': 'Point'}, 'properties': {}}",
         "{'lon': 2.3410809317051617, 'lat': 48.86116698012297}"
        ]
       ],
       "shape": {
        "columns": 12,
        "rows": 3
       }
      },
      "text/html": [
       "<div>\n",
       "<style scoped>\n",
       "    .dataframe tbody tr th:only-of-type {\n",
       "        vertical-align: middle;\n",
       "    }\n",
       "\n",
       "    .dataframe tbody tr th {\n",
       "        vertical-align: top;\n",
       "    }\n",
       "\n",
       "    .dataframe thead th {\n",
       "        text-align: right;\n",
       "    }\n",
       "</style>\n",
       "<table border=\"1\" class=\"dataframe\">\n",
       "  <thead>\n",
       "    <tr style=\"text-align: right;\">\n",
       "      <th></th>\n",
       "      <th>typologie</th>\n",
       "      <th>adresse</th>\n",
       "      <th>arrondissement</th>\n",
       "      <th>nom_enseigne</th>\n",
       "      <th>nom_societe</th>\n",
       "      <th>siret</th>\n",
       "      <th>longueur</th>\n",
       "      <th>largeur</th>\n",
       "      <th>periode_installation</th>\n",
       "      <th>lien_affichette</th>\n",
       "      <th>geo_shape</th>\n",
       "      <th>geo_point_2d</th>\n",
       "    </tr>\n",
       "  </thead>\n",
       "  <tbody>\n",
       "    <tr>\n",
       "      <th>0</th>\n",
       "      <td>CONTRE-TERRASSE OUVERTE</td>\n",
       "      <td>14 RUE DES PANOYAUX</td>\n",
       "      <td>75020.0</td>\n",
       "      <td>LOU PASCALOU</td>\n",
       "      <td>NaN</td>\n",
       "      <td>5.238441e+13</td>\n",
       "      <td>4.80</td>\n",
       "      <td>4.0</td>\n",
       "      <td>NaN</td>\n",
       "      <td>https://eudonet-terrasses.apps.paris.fr/xrm/at...</td>\n",
       "      <td>{'type': 'Feature', 'geometry': {'coordinates'...</td>\n",
       "      <td>{'lon': 2.3854522524772896, 'lat': 48.86633009...</td>\n",
       "    </tr>\n",
       "    <tr>\n",
       "      <th>1</th>\n",
       "      <td>TERRASSE OUVERTE</td>\n",
       "      <td>167 BOULEVARD VOLTAIRE</td>\n",
       "      <td>75011.0</td>\n",
       "      <td>NaN</td>\n",
       "      <td>NaN</td>\n",
       "      <td>5.128560e+13</td>\n",
       "      <td>7.65</td>\n",
       "      <td>2.0</td>\n",
       "      <td>NaN</td>\n",
       "      <td>https://eudonet-terrasses.apps.paris.fr/xrm/at...</td>\n",
       "      <td>{'type': 'Feature', 'geometry': {'coordinates'...</td>\n",
       "      <td>{'lon': 2.3857018993955266, 'lat': 48.85464237...</td>\n",
       "    </tr>\n",
       "    <tr>\n",
       "      <th>2</th>\n",
       "      <td>TERRASSE OUVERTE</td>\n",
       "      <td>16 RUE DU LOUVRE</td>\n",
       "      <td>75001.0</td>\n",
       "      <td>CHEZ ALEXANDRE</td>\n",
       "      <td>NaN</td>\n",
       "      <td>4.222180e+13</td>\n",
       "      <td>2.50</td>\n",
       "      <td>1.1</td>\n",
       "      <td>NaN</td>\n",
       "      <td>https://eudonet-terrasses.apps.paris.fr/xrm/at...</td>\n",
       "      <td>{'type': 'Feature', 'geometry': {'coordinates'...</td>\n",
       "      <td>{'lon': 2.3410809317051617, 'lat': 48.86116698...</td>\n",
       "    </tr>\n",
       "  </tbody>\n",
       "</table>\n",
       "</div>"
      ],
      "text/plain": [
       "                 typologie                 adresse  arrondissement  \\\n",
       "0  CONTRE-TERRASSE OUVERTE     14 RUE DES PANOYAUX         75020.0   \n",
       "1         TERRASSE OUVERTE  167 BOULEVARD VOLTAIRE         75011.0   \n",
       "2         TERRASSE OUVERTE        16 RUE DU LOUVRE         75001.0   \n",
       "\n",
       "     nom_enseigne nom_societe         siret  longueur  largeur  \\\n",
       "0    LOU PASCALOU         NaN  5.238441e+13      4.80      4.0   \n",
       "1             NaN         NaN  5.128560e+13      7.65      2.0   \n",
       "2  CHEZ ALEXANDRE         NaN  4.222180e+13      2.50      1.1   \n",
       "\n",
       "  periode_installation                                    lien_affichette  \\\n",
       "0                  NaN  https://eudonet-terrasses.apps.paris.fr/xrm/at...   \n",
       "1                  NaN  https://eudonet-terrasses.apps.paris.fr/xrm/at...   \n",
       "2                  NaN  https://eudonet-terrasses.apps.paris.fr/xrm/at...   \n",
       "\n",
       "                                           geo_shape  \\\n",
       "0  {'type': 'Feature', 'geometry': {'coordinates'...   \n",
       "1  {'type': 'Feature', 'geometry': {'coordinates'...   \n",
       "2  {'type': 'Feature', 'geometry': {'coordinates'...   \n",
       "\n",
       "                                        geo_point_2d  \n",
       "0  {'lon': 2.3854522524772896, 'lat': 48.86633009...  \n",
       "1  {'lon': 2.3857018993955266, 'lat': 48.85464237...  \n",
       "2  {'lon': 2.3410809317051617, 'lat': 48.86116698...  "
      ]
     },
     "metadata": {},
     "output_type": "display_data"
    },
    {
     "name": "stdout",
     "output_type": "stream",
     "text": [
      "\n",
      "📋 TOUTES LES COLONNES DISPONIBLES :\n",
      "    1. typologie - Type: object\n",
      "    2. adresse - Type: object\n",
      "    3. arrondissement - Type: float64\n",
      "    4. nom_enseigne - Type: object\n",
      "    5. nom_societe - Type: object\n",
      "    6. siret - Type: float64\n",
      "    7. longueur - Type: float64\n",
      "    8. largeur - Type: float64\n",
      "    9. periode_installation - Type: object\n",
      "   10. lien_affichette - Type: object\n",
      "   11. geo_shape - Type: object\n",
      "   12. geo_point_2d - Type: object\n",
      "\n",
      "🎯 COLONNES IMPORTANTES IDENTIFIÉES :\n",
      "   ✅ adresse\n",
      "   ✅ arrondissement\n",
      "   ✅ nom_enseigne\n",
      "   ✅ nom_societe\n",
      "   ✅ geo_shape\n",
      "   ✅ geo_point_2d\n",
      "\n",
      "📊 Aperçu de 'adresse':\n",
      "0       14 RUE DES PANOYAUX\n",
      "1    167 BOULEVARD VOLTAIRE\n",
      "2          16 RUE DU LOUVRE\n",
      "3       17 RUE LOUIS BONNET\n",
      "4       65 RUE CAULAINCOURT\n",
      "Name: adresse, dtype: object\n",
      "\n",
      "📊 Aperçu de 'arrondissement':\n",
      "0    75020.0\n",
      "1    75011.0\n",
      "2    75001.0\n",
      "3    75011.0\n",
      "4    75018.0\n",
      "Name: arrondissement, dtype: float64\n",
      "\n",
      "📊 Aperçu de 'nom_enseigne':\n",
      "0              LOU PASCALOU\n",
      "1                       NaN\n",
      "2            CHEZ ALEXANDRE\n",
      "3                    TINTIN\n",
      "4    LE CEPAGE MONTMARTROIS\n",
      "Name: nom_enseigne, dtype: object\n",
      "\n",
      "📊 Aperçu de 'nom_societe':\n",
      "0    NaN\n",
      "1    NaN\n",
      "2    NaN\n",
      "3    NaN\n",
      "4    NaN\n",
      "Name: nom_societe, dtype: object\n",
      "\n",
      "📊 Aperçu de 'geo_shape':\n",
      "0    {'type': 'Feature', 'geometry': {'coordinates'...\n",
      "1    {'type': 'Feature', 'geometry': {'coordinates'...\n",
      "2    {'type': 'Feature', 'geometry': {'coordinates'...\n",
      "3    {'type': 'Feature', 'geometry': {'coordinates'...\n",
      "4    {'type': 'Feature', 'geometry': {'coordinates'...\n",
      "Name: geo_shape, dtype: object\n",
      "\n",
      "📊 Aperçu de 'geo_point_2d':\n",
      "0    {'lon': 2.3854522524772896, 'lat': 48.86633009...\n",
      "1    {'lon': 2.3857018993955266, 'lat': 48.85464237...\n",
      "2    {'lon': 2.3410809317051617, 'lat': 48.86116698...\n",
      "3    {'lon': 2.376612773633264, 'lat': 48.871256422...\n",
      "4    {'lon': 2.335878734861472, 'lat': 48.889594167...\n",
      "Name: geo_point_2d, dtype: object\n"
     ]
    }
   ],
   "source": [
    "print(\"\\n👀 APERÇU DES DONNÉES BRUTES :\")\n",
    "display(df_raw.head(3))\n",
    "\n",
    "print(\"\\n📋 TOUTES LES COLONNES DISPONIBLES :\")\n",
    "for i, col in enumerate(df_raw.columns, 1):\n",
    "    print(f\"   {i:2d}. {col} - Type: {df_raw[col].dtype}\")\n",
    "\n",
    "print(f\"\\n🎯 COLONNES IMPORTANTES IDENTIFIÉES :\")\n",
    "important_cols = []\n",
    "for col in df_raw.columns:\n",
    "    if any(keyword in col.lower() for keyword in ['type', 'arrondissement', 'adresse', 'geo', 'nom', 'enseigne']):\n",
    "        important_cols.append(col)\n",
    "        print(f\"   ✅ {col}\")\n",
    "\n",
    "for col in important_cols:\n",
    "    print(f\"\\n📊 Aperçu de '{col}':\")\n",
    "    print(df_raw[col].head(5))"
   ]
  },
  {
   "cell_type": "markdown",
   "id": "b0367ebb",
   "metadata": {},
   "source": [
    "**QUALITÉ DES DONNÉES BRUTES**\n"
   ]
  },
  {
   "cell_type": "code",
   "execution_count": 6,
   "id": "f24b2de4",
   "metadata": {},
   "outputs": [
    {
     "name": "stdout",
     "output_type": "stream",
     "text": [
      "\n",
      "🔍 ANALYSE DE LA QUALITÉ (BRUTES) :\n",
      "📊 VALEURS MANQUANTES PAR COLONNE :\n",
      "   ⚠️  typologie                      :      2 manquantes (  0.0%)\n",
      "   ⚠️  adresse                        :      2 manquantes (  0.0%)\n",
      "   ⚠️  arrondissement                 :    150 manquantes (  3.0%)\n",
      "   ⚠️  nom_enseigne                   :    155 manquantes (  3.1%)\n",
      "   ⚠️  nom_societe                    :  4,847 manquantes ( 96.9%)\n",
      "   ⚠️  siret                          :    175 manquantes (  3.5%)\n",
      "   ⚠️  longueur                       :     16 manquantes (  0.3%)\n",
      "   ⚠️  largeur                        :     24 manquantes (  0.5%)\n",
      "   ⚠️  periode_installation           :  4,848 manquantes ( 97.0%)\n",
      "   ⚠️  lien_affichette                :    923 manquantes ( 18.5%)\n",
      "\n",
      "📈 STATISTIQUES DE QUALITÉ :\n",
      "   • Taux de complétude global : 81.4%\n",
      "   • Colonnes sans données manquantes : 2/12\n"
     ]
    }
   ],
   "source": [
    "print(\"\\n🔍 ANALYSE DE LA QUALITÉ (BRUTES) :\")\n",
    "\n",
    "# Valeurs manquantes\n",
    "missing_raw = df_raw.isnull().sum()\n",
    "print(\"📊 VALEURS MANQUANTES PAR COLONNE :\")\n",
    "for col in df_raw.columns:\n",
    "    if missing_raw[col] > 0:\n",
    "        print(f\"   ⚠️  {col:30} : {missing_raw[col]:6,} manquantes ({missing_raw[col]/len(df_raw)*100:5.1f}%)\")\n",
    "\n",
    "print(f\"\\n📈 STATISTIQUES DE QUALITÉ :\")\n",
    "print(f\"   • Taux de complétude global : {(1 - missing_raw.sum() / (len(df_raw) * len(df_raw.columns))) * 100:.1f}%\")\n",
    "print(f\"   • Colonnes sans données manquantes : {sum(missing_raw == 0)}/{len(df_raw.columns)}\")"
   ]
  },
  {
   "cell_type": "markdown",
   "id": "08c6793a",
   "metadata": {},
   "source": [
    "**Analyse des données géographiques brutes**"
   ]
  },
  {
   "cell_type": "code",
   "execution_count": null,
   "id": "7ea3f177",
   "metadata": {},
   "outputs": [
    {
     "name": "stdout",
     "output_type": "stream",
     "text": [
      "\n",
      "🗺️  ANALYSE DES DONNÉES GÉOGRAPHIQUES :\n",
      "📍 Colonnes géographiques trouvées : ['longueur', 'periode_installation', 'geo_shape', 'geo_point_2d']\n",
      "\n",
      "📊 Analyse de 'longueur':\n",
      "   • Type : float64\n",
      "   • Valeurs uniques : 712\n",
      "   • Exemples : [4.8, 7.65, 2.5]\n",
      "   • Format : Simple\n",
      "\n",
      "📊 Analyse de 'periode_installation':\n",
      "   • Type : object\n",
      "   • Valeurs uniques : 1\n",
      "   • Exemples : [\"Toute l'année\", \"Toute l'année\", \"Toute l'année\"]\n",
      "   • Format : Simple\n",
      "\n",
      "📊 Analyse de 'geo_shape':\n",
      "   • Type : object\n",
      "   • Valeurs uniques : 4988\n",
      "   • Exemples : [\"{'type': 'Feature', 'geometry': {'coordinates': [2.3854522524772896, 48.866330091701045], 'type': 'Point'}, 'properties': {}}\", \"{'type': 'Feature', 'geometry': {'coordinates': [2.3857018993955266, 48.854642373630554], 'type': 'Point'}, 'properties': {}}\", \"{'type': 'Feature', 'geometry': {'coordinates': [2.3410809317051617, 48.86116698012297], 'type': 'Point'}, 'properties': {}}\"]\n",
      "   • Format : Coordonnées combinées (lat,lon)\n",
      "\n",
      "📊 Analyse de 'geo_point_2d':\n",
      "   • Type : object\n",
      "   • Valeurs uniques : 4988\n",
      "   • Exemples : [\"{'lon': 2.3854522524772896, 'lat': 48.866330091701045}\", \"{'lon': 2.3857018993955266, 'lat': 48.854642373630554}\", \"{'lon': 2.3410809317051617, 'lat': 48.86116698012297}\"]\n",
      "   • Format : Coordonnées combinées (lat,lon)\n"
     ]
    }
   ],
   "source": [
    "print(\"\\n🗺️  ANALYSE DES DONNÉES GÉOGRAPHIQUES :\")\n",
    "\n",
    "geo_cols = [col for col in df_raw.columns if any(keyword in col.lower() for keyword in ['geo', 'lat', 'lon', 'coord'])]\n",
    "print(f\"📍 Colonnes géographiques trouvées : {geo_cols}\")\n",
    "\n",
    "for geo_col in geo_cols:\n",
    "    print(f\"\\n📊 Analyse de '{geo_col}':\")\n",
    "    print(f\"   • Type : {df_raw[geo_col].dtype}\")\n",
    "    print(f\"   • Valeurs uniques : {df_raw[geo_col].nunique()}\")\n",
    "    print(f\"   • Exemples : {df_raw[geo_col].dropna().head(3).tolist()}\")\n",
    "    \n",
    "    sample_val = df_raw[geo_col].dropna().iloc[0] if not df_raw[geo_col].dropna().empty else \"N/A\"\n",
    "    if isinstance(sample_val, str) and ',' in sample_val:\n",
    "        print(f\"   • Format : Coordonnées combinées (lat,lon)\")\n",
    "    else:\n",
    "        print(f\"   • Format : Simple\")"
   ]
  },
  {
   "cell_type": "markdown",
   "id": "122d28fb",
   "metadata": {},
   "source": [
    "**Analyse des types et catégories brutes**"
   ]
  },
  {
   "cell_type": "code",
   "execution_count": 8,
   "id": "ae1b82c8",
   "metadata": {},
   "outputs": [
    {
     "name": "stdout",
     "output_type": "stream",
     "text": [
      "\n",
      "🏷️  ANALYSE DES CATÉGORIES ET TYPES :\n",
      "🎪 Colonnes de type trouvées : ['typologie']\n",
      "\n",
      "📊 Analyse de 'typologie':\n",
      "   • Valeurs uniques : 24\n",
      "   • Top 5 valeurs :\n",
      "      1. TERRASSE OUVERTE : 1,892\n",
      "      2. ETALAGE : 985\n",
      "      3. CONTRE TERRASSE ESTIVALE SUR STATIONNEMENT : 464\n",
      "      4. TERRASSE FERMÉE : 408\n",
      "      5. TERRASSES OUVERTES SUR TROTTOIR : 346\n"
     ]
    }
   ],
   "source": [
    "print(\"\\n🏷️  ANALYSE DES CATÉGORIES ET TYPES :\")\n",
    "\n",
    "type_cols = [col for col in df_raw.columns if any(keyword in col.lower() for keyword in ['type', 'typologie', 'categorie', 'catégorie'])]\n",
    "print(f\"🎪 Colonnes de type trouvées : {type_cols}\")\n",
    "\n",
    "for type_col in type_cols:\n",
    "    print(f\"\\n📊 Analyse de '{type_col}':\")\n",
    "    type_stats = df_raw[type_col].value_counts()\n",
    "    print(f\"   • Valeurs uniques : {type_stats.nunique()}\")\n",
    "    print(f\"   • Top 5 valeurs :\")\n",
    "    for i, (val, count) in enumerate(type_stats.head().items(), 1):\n",
    "        print(f\"      {i}. {val} : {count:,}\")"
   ]
  },
  {
   "cell_type": "code",
   "execution_count": null,
   "id": "86f2c990",
   "metadata": {},
   "outputs": [],
   "source": []
  }
 ],
 "metadata": {
  "kernelspec": {
   "display_name": ".venv",
   "language": "python",
   "name": "python3"
  },
  "language_info": {
   "codemirror_mode": {
    "name": "ipython",
    "version": 3
   },
   "file_extension": ".py",
   "mimetype": "text/x-python",
   "name": "python",
   "nbconvert_exporter": "python",
   "pygments_lexer": "ipython3",
   "version": "3.13.1"
  }
 },
 "nbformat": 4,
 "nbformat_minor": 5
}
