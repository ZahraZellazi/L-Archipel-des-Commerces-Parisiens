{
 "cells": [
  {
   "cell_type": "markdown",
   "id": "cb78918d",
   "metadata": {},
   "source": [
    "<!DOCTYPE html>\n",
    "<html>\n",
    "<head>\n",
    "    <style>\n",
    "        body { font-family: Arial, sans-serif; margin: 40px; background: #f5f5f5; color: #333; line-height: 1.6; }\n",
    "        h1 { text-align: center; color: lightgreen; font-size: 36px; font-weight: bold; margin-bottom: 10px; }\n",
    "        h2 { color:  #EF806C; font-size: 28px; font-weight: bold; margin-top: 30px; }\n",
    "        h3 { color: #00FFFF; font-size: 22px; margin-top: 20px; }\n",
    "        ul { margin-left: 20px; }\n",
    "        li { margin: 8px 0; }\n",
    "        hr { height: 2px; border: none; background-color: grelightgreenen ; margin: 20px 0; }\n",
    "    </style>\n",
    "</head>\n",
    "<body>\n",
    "\n",
    "<h1>🏪 PROJET : \"L'ARCHIPEL DES TERRASSES PARISIENNES\"</h1>\n",
    "<h2 style=\"text-align:center; color:lightgreen;\">🔍 Analyse des clusters spontanés de terrasses commerciales à Paris</h2>\n",
    "<hr>\n",
    "\n",
    "<h2>🏪 1. Introduction</h2>\n",
    "<p><strong>📌 Objectif :</strong></p>\n",
    "<p>Ce projet vise à identifier et analyser les clusters spontanés de terrasses et étalages commerciaux à Paris.  \n",
    "Comprendre ces patterns d'agglomération naturelle aide les urbanistes, investisseurs et commerçants à prendre des décisions éclairées.</p>\n",
    "\n",
    "<h2>🛠️ Objectifs Clés</h2>\n",
    "<ul>\n",
    "    <li>🔄 Cartographier les clusters de terrasses par typologie</li>\n",
    "    <li>📈 Analyser les corrélations spatiales entre établissements</li>\n",
    "    <li>🏘️ Étudier l'influence des arrondissements sur la spécialisation</li>\n",
    "    <li>🗺️ Identifier les \"îles commerciales\" extérieures spontanées</li>\n",
    "</ul>\n",
    "\n",
    "<h2>🔑 Définitions</h2>\n",
    "<ul>\n",
    "    <li>🏷️ <strong>Cluster Commercial :</strong> Regroupement naturel de terrasses similaires ou complémentaires. Exemples : zones de restaurants, corridors de cafés, concentrations d'étalages</li>\n",
    "    <li>📊 <strong>Indice de Spécialisation :</strong> Concentration d'un type de terrasse dans une zone vs moyenne parisienne. Formule : (Type X terrasses / total terrasses en zone) × 100</li>\n",
    "    <li>🌐 <strong>Écosystème Commercial Extérieur :</strong> Terrasses interagissant dans un espace, créant des synergies et complémentarités</li>\n",
    "</ul>\n",
    "\n",
    "<h2>🎯 Valeur Métier</h2>\n",
    "<ul>\n",
    "    <li>🏛️ Ville de Paris : Support décisionnel pour les autorisations de terrasses</li>\n",
    "    <li>💼 Investisseurs : Identifier les zones sous-utilisées et opportunités de niche</li>\n",
    "    <li>🛍️ Commerçants : Comprendre les écosystèmes locaux pour un positionnement optimal</li>\n",
    "    <li>🏢 Urbanistes : Analyser les flux économiques et la vitalité des quartiers</li>\n",
    "</ul>\n",
    "\n",
    "<h2>👥 Parties Prenantes</h2>\n",
    "<ul>\n",
    "    <li>🏛️ Ville de Paris – Urbanisme et Développement Économique</li>\n",
    "    <li>💼 Investisseurs Immobiliers – Promoteurs, sociétés foncières</li>\n",
    "    <li>🛍️ Futurs Commerçants / Franchises</li>\n",
    "    <li>🏢 Chambre de Commerce – Support aux entreprises</li>\n",
    "    <li>🎓 Chercheurs en Économie Urbaine</li>\n",
    "</ul>\n",
    "\n",
    "<h2>📊 Critères de Succès</h2>\n",
    "<ul>\n",
    "    <li>🔍 Identifier au moins 5 clusters significatifs de terrasses</li>\n",
    "    <li>📈 Mettre en lumière des corrélations spatiales contre-intuitives</li>\n",
    "    <li>🎯 Produire des insights actionnables pour l'implantation commerciale</li>\n",
    "    <li>📱 Créer des visualisations claires et pédagogiques</li>\n",
    "</ul>\n",
    "\n",
    "<h2>🚧 Contraintes</h2>\n",
    "<ul>\n",
    "    <li>📅 Délai : 5 jours</li>\n",
    "    <li>💾 Données disponibles : 23,616 terrasses et étalages autorisés</li>\n",
    "    <li>🔍 Qualité des données : Catégorisation des types de terrasses à uniformiser</li>\n",
    "    <li>🌍 Périmètre : Paris intra-muros uniquement (20 arrondissements)</li>\n",
    "    <li>✅ MVP : focus sur l'analyse spatiale des implantations extérieures</li>\n",
    "</ul>\n",
    "\n",
    "<h2>📋 Livrables</h2>\n",
    "<ul>\n",
    "    <li>📊 Rapport d'analyse complet avec méthodologie et résultats</li>\n",
    "    <li>🗺️ Carte interactive des clusters identifiés</li>\n",
    "    <li>📈 Tableau de bord des métriques clés</li>\n",
    "    <li>💾 Code source et documentation technique</li>\n",
    "    <li>🎤 Présentation synthétique pour les parties prenantes</li>\n",
    "</ul>\n",
    "\n",
    "</body>\n",
    "</html>"
   ]
  },
  {
   "cell_type": "markdown",
   "id": "d7c3619c",
   "metadata": {},
   "source": [
    "<!DOCTYPE html>\n",
    "<html>\n",
    "<head>\n",
    "    <style>\n",
    "        body { font-family: Arial, sans-serif; margin: 40px; background: #f5f5f5; color: #333; line-height: 1.6; }\n",
    "        h1 { text-align: center; color: lightgreen; font-size: 36px; font-weight: bold; margin-bottom: 10px; }\n",
    "        h2 { color: #EF806C; font-size: 28px; font-weight: bold; margin-top: 30px; }\n",
    "        h3 { color: #00FFFF; font-size: 22px; margin-top: 20px; }\n",
    "        ul { margin-left: 20px; }\n",
    "        li { margin: 8px 0; }\n",
    "        hr { height: 2px; border: none; background-color: lightgreen; margin: 20px 0; }\n",
    "    </style>\n",
    "</head>\n",
    "<body>\n",
    "\n",
    "<h1>🏪 2. Data Understanding</h2>\n",
    "<p><strong>📌 Goal:</strong></p>\n",
    "<p>The Data Understanding phase aims to explore and comprehend the dataset collected. This step ensures that all variables, their distributions, and the data quality are well understood before moving to analysis and modeling.</p>\n",
    "\n",
    "<h2>🛠️ Key Elements of This Phase</h2>\n",
    "<ul>\n",
    "    <li>🔍 Dataset exploration: rows, columns, and types of variables</li>\n",
    "    <li>🧹 Data quality assessment: missing values, inconsistencies, duplicates</li>\n",
    "    <li>📊 Summary statistics: counts, averages, ranges, distributions</li>\n",
    "    <li>🌐 Spatial analysis: examining locations, districts, coordinates</li>\n",
    "    <li>🏷️ Categorical analysis: types of terraces, district classification, permit status</li>\n",
    "    <li>📅 Temporal analysis: permit dates, seasonality, trends over time</li>\n",
    "</ul>\n",
    "\n",
    "<p>This phase sets the foundation for **data cleaning, preparation, and further analysis** by providing a clear understanding of what the dataset contains and its limitations.</p>\n"
   ]
  },
  {
   "cell_type": "markdown",
   "id": "ce822b66",
   "metadata": {},
   "source": [
    "<!DOCTYPE html>\n",
    "<html>\n",
    "<head>\n",
    "    <style>\n",
    "        body { font-family: Arial, sans-serif; margin: 40px; background: #f5f5f5; color: #333; line-height: 1.6; }\n",
    "        h1 { text-align: center; color: lightgreen; font-size: 36px; font-weight: bold; margin-bottom: 10px; }\n",
    "        h2 { color: #EF806C; font-size: 28px; font-weight: bold; margin-top: 30px; }\n",
    "        h3 { color: #00FFFF; font-size: 22px; font-weight: bold; margin-top: 20px;,  }\n",
    "        ul { margin-left: 20px; }\n",
    "        li { margin: 8px 0; }\n",
    "        hr { height: 2px; border: none; background-color: lightgreen; margin: 20px 0; }\n",
    "    </style>\n",
    "</head>\n",
    "<body>\n",
    "<h3>Imports</h3>\n"
   ]
  },
  {
   "cell_type": "code",
   "execution_count": 1,
   "id": "b6232790",
   "metadata": {},
   "outputs": [
    {
     "name": "stdout",
     "output_type": "stream",
     "text": [
      "📚 CHARGEMENT DES BIBLIOTHÈQUES...\n",
      "✅ Bibliothèques chargées avec succès!\n"
     ]
    }
   ],
   "source": [
    "# %% Cellule 2: Installation et Import des Bibliothèques\n",
    "print(\"📚 CHARGEMENT DES BIBLIOTHÈQUES...\")\n",
    "\n",
    "import pandas as pd\n",
    "import numpy as np\n",
    "import matplotlib.pyplot as plt\n",
    "import seaborn as sns\n",
    "from sklearn.cluster import DBSCAN\n",
    "from sklearn.preprocessing import StandardScaler\n",
    "import folium\n",
    "from folium.plugins import MarkerCluster\n",
    "import plotly.express as px\n",
    "import plotly.graph_objects as go\n",
    "from plotly.subplots import make_subplots\n",
    "\n",
    "\n",
    "print(\"✅ Bibliothèques chargées avec succès!\")"
   ]
  },
  {
   "cell_type": "markdown",
   "id": "9c3627e2",
   "metadata": {},
   "source": [
    "<!DOCTYPE html>\n",
    "<html>\n",
    "<head>\n",
    "    <style>\n",
    "        body { font-family: Arial, sans-serif; margin: 40px; background: #f5f5f5; color: #333; line-height: 1.6; }\n",
    "        h1 { text-align: center; color: lightgreen; font-size: 36px; font-weight: bold; margin-bottom: 10px; }\n",
    "        h2 { color: #EF806C; font-size: 28px; font-weight: bold; margin-top: 30px; }\n",
    "        h3 { color: #00FFFF; font-size: 22px; font-weight: bold; margin-top: 20px;,  }\n",
    "        ul { margin-left: 20px; }\n",
    "        li { margin: 8px 0; }\n",
    "        hr { height: 2px; border: none; background-color: lightgreen; margin: 20px 0; }\n",
    "    </style>\n",
    "</head>\n",
    "<body>\n",
    "<h3>Data Loading</h3>\n"
   ]
  },
  {
   "cell_type": "code",
   "execution_count": 2,
   "id": "0fdd721c",
   "metadata": {},
   "outputs": [
    {
     "name": "stdout",
     "output_type": "stream",
     "text": [
      "📂 CHARGEMENT DES DONNÉES...\n",
      "✅ DONNÉES BRUTES CHARGÉES : 5,000 terrasses\n",
      "📊 Dimensions : 5000 lignes x 12 colonnes\n"
     ]
    }
   ],
   "source": [
    "\n",
    "print(\"📂 CHARGEMENT DES DONNÉES...\")\n",
    "\n",
    "df_raw = pd.read_csv('../data/raw/terrasses_paris.csv')\n",
    "\n",
    "print(f\"✅ DONNÉES BRUTES CHARGÉES : {len(df_raw):,} terrasses\")\n",
    "print(f\"📊 Dimensions : {df_raw.shape[0]} lignes x {df_raw.shape[1]} colonnes\")\n"
   ]
  },
  {
   "cell_type": "markdown",
   "id": "b3a5866a",
   "metadata": {},
   "source": [
    "<!DOCTYPE html>\n",
    "<html>\n",
    "<head>\n",
    "    <style>\n",
    "        body { font-family: Arial, sans-serif; margin: 40px; background: #f5f5f5; color: #333; line-height: 1.6; }\n",
    "        h1 { text-align: center; color: lightgreen; font-size: 36px; font-weight: bold; margin-bottom: 10px; }\n",
    "        h2 { color: #EF806C; font-size: 28px; font-weight: bold; margin-top: 30px; }\n",
    "        h3 { color: #00FFFF; font-size: 22px; font-weight: bold; margin-top: 20px;,  }\n",
    "        ul { margin-left: 20px; }\n",
    "        li { margin: 8px 0; }\n",
    "        hr { height: 2px; border: none; background-color: lightgreen; margin: 20px 0; }\n",
    "    </style>\n",
    "</head>\n",
    "<body>\n",
    "<h3>Exploration des colonnes brutes</h3>\n"
   ]
  },
  {
   "cell_type": "code",
   "execution_count": 3,
   "id": "c4527944",
   "metadata": {},
   "outputs": [
    {
     "name": "stdout",
     "output_type": "stream",
     "text": [
      "\n",
      "👀 APERÇU DES DONNÉES BRUTES :\n"
     ]
    },
    {
     "data": {
      "application/vnd.microsoft.datawrangler.viewer.v0+json": {
       "columns": [
        {
         "name": "index",
         "rawType": "int64",
         "type": "integer"
        },
        {
         "name": "typologie",
         "rawType": "object",
         "type": "string"
        },
        {
         "name": "adresse",
         "rawType": "object",
         "type": "string"
        },
        {
         "name": "arrondissement",
         "rawType": "float64",
         "type": "float"
        },
        {
         "name": "nom_enseigne",
         "rawType": "object",
         "type": "unknown"
        },
        {
         "name": "nom_societe",
         "rawType": "object",
         "type": "unknown"
        },
        {
         "name": "siret",
         "rawType": "float64",
         "type": "float"
        },
        {
         "name": "longueur",
         "rawType": "float64",
         "type": "float"
        },
        {
         "name": "largeur",
         "rawType": "float64",
         "type": "float"
        },
        {
         "name": "periode_installation",
         "rawType": "object",
         "type": "unknown"
        },
        {
         "name": "lien_affichette",
         "rawType": "object",
         "type": "string"
        },
        {
         "name": "geo_shape",
         "rawType": "object",
         "type": "string"
        },
        {
         "name": "geo_point_2d",
         "rawType": "object",
         "type": "string"
        }
       ],
       "ref": "54361ae9-3bf8-4816-ae45-8d3df0f87f72",
       "rows": [
        [
         "0",
         "CONTRE-TERRASSE OUVERTE",
         "14 RUE DES PANOYAUX",
         "75020.0",
         "LOU PASCALOU",
         null,
         "52384400000000.0",
         "4.8",
         "4.0",
         null,
         "https://eudonet-terrasses.apps.paris.fr/xrm/at?tok=D6B73972&cs=yUZEpjDcLmM4cArTiYVmgXZ_KiXLZq8f8iJqKvI4hoHOmUGnOeppUHbELO5yok2L-KqCX7qZ9V8%3d&p=chMOZL_3S4Vd7FEjAQ0taMI1MuhNttdNzKfjeDZyRwP3fyqYH8SyyiQptG6JPJtWFrktS4Xi1-A%3d&mdinline=attch",
         "{'type': 'Feature', 'geometry': {'coordinates': [2.3854522524772896, 48.866330091701045], 'type': 'Point'}, 'properties': {}}",
         "{'lon': 2.3854522524772896, 'lat': 48.866330091701045}"
        ],
        [
         "1",
         "TERRASSE OUVERTE",
         "167 BOULEVARD VOLTAIRE",
         "75011.0",
         null,
         null,
         "51285600000000.0",
         "7.65",
         "2.0",
         null,
         "https://eudonet-terrasses.apps.paris.fr/xrm/at?tok=D6B73972&cs=yUZEpjDcLmM4cArTiYVmgb2Cj--5N_VhWknIqV5_MgjrFrb2GTnjmVXzkypuJYNWORPuZV40DAE%3d&p=chMOZL_3S4WG6aKVUeyH5Ell8eP_WOLTyN05jqL38WZZTow38whMoUeN0pT344cKT1tHI9pRLrU%3d&mdinline=attch",
         "{'type': 'Feature', 'geometry': {'coordinates': [2.3857018993955266, 48.854642373630554], 'type': 'Point'}, 'properties': {}}",
         "{'lon': 2.3857018993955266, 'lat': 48.854642373630554}"
        ],
        [
         "2",
         "TERRASSE OUVERTE",
         "16 RUE DU LOUVRE",
         "75001.0",
         "CHEZ ALEXANDRE",
         null,
         "42221800000000.0",
         "2.5",
         "1.1",
         null,
         "https://eudonet-terrasses.apps.paris.fr/xrm/at?tok=D6B73972&cs=yUZEpjDcLmM4cArTiYVmgSB9Hva5KZS7UqyiIHpwianFAYyEOJKCQTLNTBPxaN_gqyHZ2BV3MNI%3d&p=chMOZL_3S4Vbt23cdWa_yqkU344rAykIO0DHScNwjxJTwYEL59sc7_2oPvj4NMdkIQKqhp4aZl8%3d&mdinline=attch",
         "{'type': 'Feature', 'geometry': {'coordinates': [2.3410809317051617, 48.86116698012297], 'type': 'Point'}, 'properties': {}}",
         "{'lon': 2.3410809317051617, 'lat': 48.86116698012297}"
        ]
       ],
       "shape": {
        "columns": 12,
        "rows": 3
       }
      },
      "text/html": [
       "<div>\n",
       "<style scoped>\n",
       "    .dataframe tbody tr th:only-of-type {\n",
       "        vertical-align: middle;\n",
       "    }\n",
       "\n",
       "    .dataframe tbody tr th {\n",
       "        vertical-align: top;\n",
       "    }\n",
       "\n",
       "    .dataframe thead th {\n",
       "        text-align: right;\n",
       "    }\n",
       "</style>\n",
       "<table border=\"1\" class=\"dataframe\">\n",
       "  <thead>\n",
       "    <tr style=\"text-align: right;\">\n",
       "      <th></th>\n",
       "      <th>typologie</th>\n",
       "      <th>adresse</th>\n",
       "      <th>arrondissement</th>\n",
       "      <th>nom_enseigne</th>\n",
       "      <th>nom_societe</th>\n",
       "      <th>siret</th>\n",
       "      <th>longueur</th>\n",
       "      <th>largeur</th>\n",
       "      <th>periode_installation</th>\n",
       "      <th>lien_affichette</th>\n",
       "      <th>geo_shape</th>\n",
       "      <th>geo_point_2d</th>\n",
       "    </tr>\n",
       "  </thead>\n",
       "  <tbody>\n",
       "    <tr>\n",
       "      <th>0</th>\n",
       "      <td>CONTRE-TERRASSE OUVERTE</td>\n",
       "      <td>14 RUE DES PANOYAUX</td>\n",
       "      <td>75020.0</td>\n",
       "      <td>LOU PASCALOU</td>\n",
       "      <td>NaN</td>\n",
       "      <td>5.238440e+13</td>\n",
       "      <td>4.80</td>\n",
       "      <td>4.0</td>\n",
       "      <td>NaN</td>\n",
       "      <td>https://eudonet-terrasses.apps.paris.fr/xrm/at...</td>\n",
       "      <td>{'type': 'Feature', 'geometry': {'coordinates'...</td>\n",
       "      <td>{'lon': 2.3854522524772896, 'lat': 48.86633009...</td>\n",
       "    </tr>\n",
       "    <tr>\n",
       "      <th>1</th>\n",
       "      <td>TERRASSE OUVERTE</td>\n",
       "      <td>167 BOULEVARD VOLTAIRE</td>\n",
       "      <td>75011.0</td>\n",
       "      <td>NaN</td>\n",
       "      <td>NaN</td>\n",
       "      <td>5.128560e+13</td>\n",
       "      <td>7.65</td>\n",
       "      <td>2.0</td>\n",
       "      <td>NaN</td>\n",
       "      <td>https://eudonet-terrasses.apps.paris.fr/xrm/at...</td>\n",
       "      <td>{'type': 'Feature', 'geometry': {'coordinates'...</td>\n",
       "      <td>{'lon': 2.3857018993955266, 'lat': 48.85464237...</td>\n",
       "    </tr>\n",
       "    <tr>\n",
       "      <th>2</th>\n",
       "      <td>TERRASSE OUVERTE</td>\n",
       "      <td>16 RUE DU LOUVRE</td>\n",
       "      <td>75001.0</td>\n",
       "      <td>CHEZ ALEXANDRE</td>\n",
       "      <td>NaN</td>\n",
       "      <td>4.222180e+13</td>\n",
       "      <td>2.50</td>\n",
       "      <td>1.1</td>\n",
       "      <td>NaN</td>\n",
       "      <td>https://eudonet-terrasses.apps.paris.fr/xrm/at...</td>\n",
       "      <td>{'type': 'Feature', 'geometry': {'coordinates'...</td>\n",
       "      <td>{'lon': 2.3410809317051617, 'lat': 48.86116698...</td>\n",
       "    </tr>\n",
       "  </tbody>\n",
       "</table>\n",
       "</div>"
      ],
      "text/plain": [
       "                 typologie                 adresse  arrondissement  \\\n",
       "0  CONTRE-TERRASSE OUVERTE     14 RUE DES PANOYAUX         75020.0   \n",
       "1         TERRASSE OUVERTE  167 BOULEVARD VOLTAIRE         75011.0   \n",
       "2         TERRASSE OUVERTE        16 RUE DU LOUVRE         75001.0   \n",
       "\n",
       "     nom_enseigne nom_societe         siret  longueur  largeur  \\\n",
       "0    LOU PASCALOU         NaN  5.238440e+13      4.80      4.0   \n",
       "1             NaN         NaN  5.128560e+13      7.65      2.0   \n",
       "2  CHEZ ALEXANDRE         NaN  4.222180e+13      2.50      1.1   \n",
       "\n",
       "  periode_installation                                    lien_affichette  \\\n",
       "0                  NaN  https://eudonet-terrasses.apps.paris.fr/xrm/at...   \n",
       "1                  NaN  https://eudonet-terrasses.apps.paris.fr/xrm/at...   \n",
       "2                  NaN  https://eudonet-terrasses.apps.paris.fr/xrm/at...   \n",
       "\n",
       "                                           geo_shape  \\\n",
       "0  {'type': 'Feature', 'geometry': {'coordinates'...   \n",
       "1  {'type': 'Feature', 'geometry': {'coordinates'...   \n",
       "2  {'type': 'Feature', 'geometry': {'coordinates'...   \n",
       "\n",
       "                                        geo_point_2d  \n",
       "0  {'lon': 2.3854522524772896, 'lat': 48.86633009...  \n",
       "1  {'lon': 2.3857018993955266, 'lat': 48.85464237...  \n",
       "2  {'lon': 2.3410809317051617, 'lat': 48.86116698...  "
      ]
     },
     "metadata": {},
     "output_type": "display_data"
    },
    {
     "name": "stdout",
     "output_type": "stream",
     "text": [
      "\n",
      "📋 TOUTES LES COLONNES DISPONIBLES :\n",
      "    1. typologie - Type: object\n",
      "    2. adresse - Type: object\n",
      "    3. arrondissement - Type: float64\n",
      "    4. nom_enseigne - Type: object\n",
      "    5. nom_societe - Type: object\n",
      "    6. siret - Type: float64\n",
      "    7. longueur - Type: float64\n",
      "    8. largeur - Type: float64\n",
      "    9. periode_installation - Type: object\n",
      "   10. lien_affichette - Type: object\n",
      "   11. geo_shape - Type: object\n",
      "   12. geo_point_2d - Type: object\n",
      "\n",
      "🎯 COLONNES IMPORTANTES IDENTIFIÉES :\n",
      "   ✅ adresse\n",
      "   ✅ arrondissement\n",
      "   ✅ nom_enseigne\n",
      "   ✅ nom_societe\n",
      "   ✅ geo_shape\n",
      "   ✅ geo_point_2d\n",
      "\n",
      "📊 Aperçu de 'adresse':\n",
      "0       14 RUE DES PANOYAUX\n",
      "1    167 BOULEVARD VOLTAIRE\n",
      "2          16 RUE DU LOUVRE\n",
      "3       17 RUE LOUIS BONNET\n",
      "4       65 RUE CAULAINCOURT\n",
      "Name: adresse, dtype: object\n",
      "\n",
      "📊 Aperçu de 'arrondissement':\n",
      "0    75020.0\n",
      "1    75011.0\n",
      "2    75001.0\n",
      "3    75011.0\n",
      "4    75018.0\n",
      "Name: arrondissement, dtype: float64\n",
      "\n",
      "📊 Aperçu de 'nom_enseigne':\n",
      "0              LOU PASCALOU\n",
      "1                       NaN\n",
      "2            CHEZ ALEXANDRE\n",
      "3                    TINTIN\n",
      "4    LE CEPAGE MONTMARTROIS\n",
      "Name: nom_enseigne, dtype: object\n",
      "\n",
      "📊 Aperçu de 'nom_societe':\n",
      "0    NaN\n",
      "1    NaN\n",
      "2    NaN\n",
      "3    NaN\n",
      "4    NaN\n",
      "Name: nom_societe, dtype: object\n",
      "\n",
      "📊 Aperçu de 'geo_shape':\n",
      "0    {'type': 'Feature', 'geometry': {'coordinates'...\n",
      "1    {'type': 'Feature', 'geometry': {'coordinates'...\n",
      "2    {'type': 'Feature', 'geometry': {'coordinates'...\n",
      "3    {'type': 'Feature', 'geometry': {'coordinates'...\n",
      "4    {'type': 'Feature', 'geometry': {'coordinates'...\n",
      "Name: geo_shape, dtype: object\n",
      "\n",
      "📊 Aperçu de 'geo_point_2d':\n",
      "0    {'lon': 2.3854522524772896, 'lat': 48.86633009...\n",
      "1    {'lon': 2.3857018993955266, 'lat': 48.85464237...\n",
      "2    {'lon': 2.3410809317051617, 'lat': 48.86116698...\n",
      "3    {'lon': 2.376612773633264, 'lat': 48.871256422...\n",
      "4    {'lon': 2.335878734861472, 'lat': 48.889594167...\n",
      "Name: geo_point_2d, dtype: object\n"
     ]
    }
   ],
   "source": [
    "print(\"\\n👀 APERÇU DES DONNÉES BRUTES :\")\n",
    "display(df_raw.head(3))\n",
    "\n",
    "print(\"\\n📋 TOUTES LES COLONNES DISPONIBLES :\")\n",
    "for i, col in enumerate(df_raw.columns, 1):\n",
    "    print(f\"   {i:2d}. {col} - Type: {df_raw[col].dtype}\")\n",
    "\n",
    "print(f\"\\n🎯 COLONNES IMPORTANTES IDENTIFIÉES :\")\n",
    "important_cols = []\n",
    "for col in df_raw.columns:\n",
    "    if any(keyword in col.lower() for keyword in ['type', 'arrondissement', 'adresse', 'geo', 'nom', 'enseigne']):\n",
    "        important_cols.append(col)\n",
    "        print(f\"   ✅ {col}\")\n",
    "\n",
    "for col in important_cols:\n",
    "    print(f\"\\n📊 Aperçu de '{col}':\")\n",
    "    print(df_raw[col].head(5))"
   ]
  },
  {
   "cell_type": "markdown",
   "id": "5a11e5ac",
   "metadata": {},
   "source": [
    "### 📌 Interpretation: Data Understanding\n",
    "\n",
    "- **Columns Overview:** The dataset contains 12 columns, covering shop type, location, legal entity, dimensions, installation period, and geospatial info.\n",
    "- **Key Columns Selected:** `adresse`, `arrondissement`, `nom_enseigne`, `nom_societe`, `geo_shape`, `geo_point_2d` — these are essential for spatial and business analysis.\n",
    "- **Insights:**\n",
    "  - `adresse` & `arrondissement` → help locate shops and analyze spatial distribution.\n",
    "  - `nom_enseigne` & `nom_societe` → identify brand presence and company patterns.\n",
    "  - `geo_shape` & `geo_point_2d` → allow mapping clusters and measuring proximity."
   ]
  },
  {
   "cell_type": "markdown",
   "id": "b0367ebb",
   "metadata": {},
   "source": [
    "\n",
    "<!DOCTYPE html>\n",
    "<html>\n",
    "<head>\n",
    "    <style>\n",
    "        body { font-family: Arial, sans-serif; margin: 40px; background: #f5f5f5; color: #333; line-height: 1.6; }\n",
    "        h1 { text-align: center; color: lightgreen; font-size: 36px; font-weight: bold; margin-bottom: 10px; }\n",
    "        h2 { color: #EF806C; font-size: 28px; font-weight: bold; margin-top: 30px; }\n",
    "        h3 { color: #00FFFF; font-size: 22px; font-weight: bold; margin-top: 20px;,  }\n",
    "        ul { margin-left: 20px; }\n",
    "        li { margin: 8px 0; }\n",
    "        hr { height: 2px; border: none; background-color: lightgreen; margin: 20px 0; }\n",
    "    </style>\n",
    "</head>\n",
    "<body>\n",
    "<h3>Qualité des colonnes brutes</h3>\n"
   ]
  },
  {
   "cell_type": "code",
   "execution_count": 4,
   "id": "f24b2de4",
   "metadata": {},
   "outputs": [
    {
     "name": "stdout",
     "output_type": "stream",
     "text": [
      "\n",
      "🔍 ANALYSE DE LA QUALITÉ (BRUTES) :\n",
      "📊 VALEURS MANQUANTES PAR COLONNE :\n",
      "   ⚠️  typologie                      :      2 manquantes (  0.0%)\n",
      "   ⚠️  adresse                        :      2 manquantes (  0.0%)\n",
      "   ⚠️  arrondissement                 :    150 manquantes (  3.0%)\n",
      "   ⚠️  nom_enseigne                   :    155 manquantes (  3.1%)\n",
      "   ⚠️  nom_societe                    :  4,847 manquantes ( 96.9%)\n",
      "   ⚠️  siret                          :    175 manquantes (  3.5%)\n",
      "   ⚠️  longueur                       :     16 manquantes (  0.3%)\n",
      "   ⚠️  largeur                        :     24 manquantes (  0.5%)\n",
      "   ⚠️  periode_installation           :  4,848 manquantes ( 97.0%)\n",
      "   ⚠️  lien_affichette                :    923 manquantes ( 18.5%)\n",
      "\n",
      "📈 STATISTIQUES DE QUALITÉ :\n",
      "   • Taux de complétude global : 81.4%\n",
      "   • Colonnes sans données manquantes : 2/12\n"
     ]
    },
    {
     "ename": "NameError",
     "evalue": "name 'missing_percent' is not defined",
     "output_type": "error",
     "traceback": [
      "\u001b[31m---------------------------------------------------------------------------\u001b[39m",
      "\u001b[31mNameError\u001b[39m                                 Traceback (most recent call last)",
      "\u001b[36mCell\u001b[39m\u001b[36m \u001b[39m\u001b[32mIn[4]\u001b[39m\u001b[32m, line 13\u001b[39m\n\u001b[32m     11\u001b[39m \u001b[38;5;28mprint\u001b[39m(\u001b[33mf\u001b[39m\u001b[33m\"\u001b[39m\u001b[33m   • Taux de complétude global : \u001b[39m\u001b[38;5;132;01m{\u001b[39;00m(\u001b[32m1\u001b[39m\u001b[38;5;250m \u001b[39m-\u001b[38;5;250m \u001b[39mmissing_raw.sum()\u001b[38;5;250m \u001b[39m/\u001b[38;5;250m \u001b[39m(\u001b[38;5;28mlen\u001b[39m(df_raw)\u001b[38;5;250m \u001b[39m*\u001b[38;5;250m \u001b[39m\u001b[38;5;28mlen\u001b[39m(df_raw.columns)))\u001b[38;5;250m \u001b[39m*\u001b[38;5;250m \u001b[39m\u001b[32m100\u001b[39m\u001b[38;5;132;01m:\u001b[39;00m\u001b[33m.1f\u001b[39m\u001b[38;5;132;01m}\u001b[39;00m\u001b[33m%\u001b[39m\u001b[33m\"\u001b[39m)\n\u001b[32m     12\u001b[39m \u001b[38;5;28mprint\u001b[39m(\u001b[33mf\u001b[39m\u001b[33m\"\u001b[39m\u001b[33m   • Colonnes sans données manquantes : \u001b[39m\u001b[38;5;132;01m{\u001b[39;00m\u001b[38;5;28msum\u001b[39m(missing_raw\u001b[38;5;250m \u001b[39m==\u001b[38;5;250m \u001b[39m\u001b[32m0\u001b[39m)\u001b[38;5;132;01m}\u001b[39;00m\u001b[33m/\u001b[39m\u001b[38;5;132;01m{\u001b[39;00m\u001b[38;5;28mlen\u001b[39m(df_raw.columns)\u001b[38;5;132;01m}\u001b[39;00m\u001b[33m\"\u001b[39m)\n\u001b[32m---> \u001b[39m\u001b[32m13\u001b[39m \u001b[38;5;28mprint\u001b[39m(\u001b[33mf\u001b[39m\u001b[33m\"\u001b[39m\u001b[33m   • Colonnes avec +20% de données manquantes : \u001b[39m\u001b[38;5;132;01m{\u001b[39;00m\u001b[38;5;28msum\u001b[39m(\u001b[43mmissing_percent\u001b[49m\u001b[38;5;250m \u001b[39m>\u001b[38;5;250m \u001b[39m\u001b[32m20\u001b[39m)\u001b[38;5;132;01m}\u001b[39;00m\u001b[33m\"\u001b[39m)\n\u001b[32m     17\u001b[39m \u001b[38;5;66;03m# Graphique des valeurs manquantes\u001b[39;00m\n\u001b[32m     18\u001b[39m fig = px.bar(x=missing_data.index, y=missing_percent, \n\u001b[32m     19\u001b[39m              title=\u001b[33m'\u001b[39m\u001b[33m📊 POURCENTAGE DE VALEURS MANQUANTES PAR COLONNE\u001b[39m\u001b[33m'\u001b[39m,\n\u001b[32m     20\u001b[39m              labels={\u001b[33m'\u001b[39m\u001b[33mx\u001b[39m\u001b[33m'\u001b[39m: \u001b[33m'\u001b[39m\u001b[33mColonnes\u001b[39m\u001b[33m'\u001b[39m, \u001b[33m'\u001b[39m\u001b[33my\u001b[39m\u001b[33m'\u001b[39m: \u001b[33m'\u001b[39m\u001b[33m%\u001b[39m\u001b[33m Valeurs Manquantes\u001b[39m\u001b[33m'\u001b[39m},\n\u001b[32m     21\u001b[39m              color=missing_percent,\n\u001b[32m     22\u001b[39m              color_continuous_scale=\u001b[33m'\u001b[39m\u001b[33mreds\u001b[39m\u001b[33m'\u001b[39m)\n",
      "\u001b[31mNameError\u001b[39m: name 'missing_percent' is not defined"
     ]
    }
   ],
   "source": [
    "print(\"\\n🔍 ANALYSE DE LA QUALITÉ (BRUTES) :\")\n",
    "\n",
    "# Valeurs manquantes\n",
    "missing_raw = df_raw.isnull().sum()\n",
    "print(\"📊 VALEURS MANQUANTES PAR COLONNE :\")\n",
    "for col in df_raw.columns:\n",
    "    if missing_raw[col] > 0:\n",
    "        print(f\"   ⚠️  {col:30} : {missing_raw[col]:6,} manquantes ({missing_raw[col]/len(df_raw)*100:5.1f}%)\")\n",
    "\n",
    "print(f\"\\n📈 STATISTIQUES DE QUALITÉ :\")\n",
    "print(f\"   • Taux de complétude global : {(1 - missing_raw.sum() / (len(df_raw) * len(df_raw.columns))) * 100:.1f}%\")\n",
    "print(f\"   • Colonnes sans données manquantes : {sum(missing_raw == 0)}/{len(df_raw.columns)}\")\n",
    "print(f\"   • Colonnes avec +20% de données manquantes : {sum(missing_percent > 20)}\")\n",
    "\n",
    "\n",
    "\n",
    "# Graphique des valeurs manquantes\n",
    "fig = px.bar(x=missing_data.index, y=missing_percent, \n",
    "             title='📊 POURCENTAGE DE VALEURS MANQUANTES PAR COLONNE',\n",
    "             labels={'x': 'Colonnes', 'y': '% Valeurs Manquantes'},\n",
    "             color=missing_percent,\n",
    "             color_continuous_scale='reds')\n",
    "\n",
    "fig.update_layout(xaxis_tickangle=-45, showlegend=False)\n",
    "fig.show()\n",
    "\n",
    "# Métriques de qualité\n",
    "completeness = (1 - df_raw.isnull().sum().sum() / (len(df_raw) * len(df_raw.columns))) * 100\n"
   ]
  },
  {
   "cell_type": "markdown",
   "id": "ff550d30",
   "metadata": {},
   "source": [
    "### 🔍 Interpretation: Data Quality\n",
    "\n",
    "- **Missing Values Overview:**  \n",
    "  - Most columns have very few missing values (`typologie`, `adresse`, `arrondissement`, `nom_enseigne`, `siret`, `longueur`, `largeur`).  \n",
    "  - Columns `nom_societe` and `periode_installation` have extremely high missing rates (~97%), indicating they may not be reliable for analysis.  \n",
    "  - `lien_affichette` has 18.5% missing values — could be used selectively.  \n",
    "\n",
    "- **Global Quality Metrics:**  \n",
    "  - Overall completeness: 81.4%  \n",
    "  - Only 2 columns are fully complete.  \n",
    "  - 2 columns have more than 20% missing values, signaling caution or potential exclusion.  \n"
   ]
  },
  {
   "cell_type": "markdown",
   "id": "08c6793a",
   "metadata": {},
   "source": [
    "\n",
    "<!DOCTYPE html>\n",
    "<html>\n",
    "<head>\n",
    "    <style>\n",
    "        body { font-family: Arial, sans-serif; margin: 40px; background: #f5f5f5; color: #333; line-height: 1.6; }\n",
    "        h1 { text-align: center; color: lightgreen; font-size: 36px; font-weight: bold; margin-bottom: 10px; }\n",
    "        h2 { color: #EF806C; font-size: 28px; font-weight: bold; margin-top: 30px; }\n",
    "        h3 { color: #00FFFF; font-size: 22px; font-weight: bold; margin-top: 20px;,  }\n",
    "        ul { margin-left: 20px; }\n",
    "        li { margin: 8px 0; }\n",
    "        hr { height: 2px; border: none; background-color: lightgreen; margin: 20px 0; }\n",
    "    </style>\n",
    "</head>\n",
    "<body>\n",
    "<h3>Analyse des données géographiques brutes</h3>\n"
   ]
  },
  {
   "cell_type": "code",
   "execution_count": null,
   "id": "7ea3f177",
   "metadata": {},
   "outputs": [
    {
     "name": "stdout",
     "output_type": "stream",
     "text": [
      "\n",
      "🗺️  ANALYSE DES DONNÉES GÉOGRAPHIQUES :\n",
      "📍 Colonnes géographiques trouvées : ['longueur', 'periode_installation', 'geo_shape', 'geo_point_2d']\n",
      "\n",
      "📊 Analyse de 'longueur':\n",
      "   • Type : float64\n",
      "   • Valeurs uniques : 712\n",
      "   • Exemples : [4.8, 7.65, 2.5]\n",
      "   • Format : Simple\n",
      "\n",
      "📊 Analyse de 'periode_installation':\n",
      "   • Type : object\n",
      "   • Valeurs uniques : 1\n",
      "   • Exemples : [\"Toute l'année\", \"Toute l'année\", \"Toute l'année\"]\n",
      "   • Format : Simple\n",
      "\n",
      "📊 Analyse de 'geo_shape':\n",
      "   • Type : object\n",
      "   • Valeurs uniques : 4988\n",
      "   • Exemples : [\"{'type': 'Feature', 'geometry': {'coordinates': [2.3854522524772896, 48.866330091701045], 'type': 'Point'}, 'properties': {}}\", \"{'type': 'Feature', 'geometry': {'coordinates': [2.3857018993955266, 48.854642373630554], 'type': 'Point'}, 'properties': {}}\", \"{'type': 'Feature', 'geometry': {'coordinates': [2.3410809317051617, 48.86116698012297], 'type': 'Point'}, 'properties': {}}\"]\n",
      "   • Format : Coordonnées combinées (lat,lon)\n",
      "\n",
      "📊 Analyse de 'geo_point_2d':\n",
      "   • Type : object\n",
      "   • Valeurs uniques : 4988\n",
      "   • Exemples : [\"{'lon': 2.3854522524772896, 'lat': 48.866330091701045}\", \"{'lon': 2.3857018993955266, 'lat': 48.854642373630554}\", \"{'lon': 2.3410809317051617, 'lat': 48.86116698012297}\"]\n",
      "   • Format : Coordonnées combinées (lat,lon)\n"
     ]
    }
   ],
   "source": [
    "print(\"\\n🗺️  ANALYSE DES DONNÉES GÉOGRAPHIQUES :\")\n",
    "\n",
    "geo_cols = [col for col in df_raw.columns if any(keyword in col.lower() for keyword in ['geo', 'lat', 'lon', 'coord'])]\n",
    "print(f\"📍 Colonnes géographiques trouvées : {geo_cols}\")\n",
    "\n",
    "for geo_col in geo_cols:\n",
    "    print(f\"\\n📊 Analyse de '{geo_col}':\")\n",
    "    print(f\"   • Type : {df_raw[geo_col].dtype}\")\n",
    "    print(f\"   • Valeurs uniques : {df_raw[geo_col].nunique()}\")\n",
    "    print(f\"   • Exemples : {df_raw[geo_col].dropna().head(3).tolist()}\")\n",
    "    \n",
    "    sample_val = df_raw[geo_col].dropna().iloc[0] if not df_raw[geo_col].dropna().empty else \"N/A\"\n",
    "    if isinstance(sample_val, str) and ',' in sample_val:\n",
    "        print(f\"   • Format : Coordonnées combinées (lat,lon)\")\n",
    "    else:\n",
    "        print(f\"   • Format : Simple\")\n",
    "\n",
    "\n",
    "\n"
   ]
  },
  {
   "cell_type": "markdown",
   "id": "a6d71930",
   "metadata": {},
   "source": [
    "### 🌍 Interpretation: Geographical Data\n",
    "\n",
    "- **Columns Identified:** `longueur`, `periode_installation`, `geo_shape`, `geo_point_2d`  \n",
    "\n",
    "- **`longueur`:**  \n",
    "  - Numeric and simple, with 712 unique values.  \n",
    "  - Can be used to analyze terrace lengths and spatial distribution.  \n",
    "\n",
    "- **`periode_installation`:**  \n",
    "  - Single repeated value (\"Toute l'année\"), so this column has no variability.  \n",
    "  - Not useful for analysis of seasonal patterns.  \n",
    "\n",
    "- **`geo_shape`:**  \n",
    "  - Contains 4988 unique coordinates in a complex object format.  \n",
    "  - Represents precise locations of terraces; can be used for mapping and spatial clustering.  \n",
    "\n",
    "- **`geo_point_2d`:**  \n",
    "  - Also 4988 unique coordinates in a simplified latitude/longitude format.  \n",
    "  - Easier to use for visualization, geospatial computations, and cluster analysis.  \n",
    "\n"
   ]
  },
  {
   "cell_type": "markdown",
   "id": "122d28fb",
   "metadata": {},
   "source": [
    "\n",
    "<!DOCTYPE html>\n",
    "<html>\n",
    "<head>\n",
    "    <style>\n",
    "        body { font-family: Arial, sans-serif; margin: 40px; background: #f5f5f5; color: #333; line-height: 1.6; }\n",
    "        h1 { text-align: center; color: lightgreen; font-size: 36px; font-weight: bold; margin-bottom: 10px; }\n",
    "        h2 { color: #EF806C; font-size: 28px; font-weight: bold; margin-top: 30px; }\n",
    "        h3 { color: #00FFFF; font-size: 22px; font-weight: bold; margin-top: 20px;,  }\n",
    "        ul { margin-left: 20px; }\n",
    "        li { margin: 8px 0; }\n",
    "        hr { height: 2px; border: none; background-color: lightgreen; margin: 20px 0; }\n",
    "    </style>\n",
    "</head>\n",
    "<body>\n",
    "<h3>Analyse des types et catégories brutes</h3>\n"
   ]
  },
  {
   "cell_type": "code",
   "execution_count": null,
   "id": "ae1b82c8",
   "metadata": {},
   "outputs": [
    {
     "name": "stdout",
     "output_type": "stream",
     "text": [
      "\n",
      "🏷️  ANALYSE DES CATÉGORIES ET TYPES :\n",
      "🎪 Colonnes de type trouvées : ['typologie']\n",
      "\n",
      "📊 Analyse de 'typologie':\n",
      "   • Valeurs uniques : 24\n",
      "   • Top 5 valeurs :\n",
      "      1. TERRASSE OUVERTE : 1,892\n",
      "      2. ETALAGE : 985\n",
      "      3. CONTRE TERRASSE ESTIVALE SUR STATIONNEMENT : 464\n",
      "      4. TERRASSE FERMÉE : 408\n",
      "      5. TERRASSES OUVERTES SUR TROTTOIR : 346\n"
     ]
    }
   ],
   "source": [
    "print(\"\\n🏷️  ANALYSE DES CATÉGORIES ET TYPES :\")\n",
    "\n",
    "type_cols = [col for col in df_raw.columns if any(keyword in col.lower() for keyword in ['type', 'typologie', 'categorie', 'catégorie'])]\n",
    "print(f\"🎪 Colonnes de type trouvées : {type_cols}\")\n",
    "\n",
    "for type_col in type_cols:\n",
    "    print(f\"\\n📊 Analyse de '{type_col}':\")\n",
    "    type_stats = df_raw[type_col].value_counts()\n",
    "    print(f\"   • Valeurs uniques : {type_stats.nunique()}\")\n",
    "    print(f\"   • Top 5 valeurs :\")\n",
    "    for i, (val, count) in enumerate(type_stats.head().items(), 1):\n",
    "        print(f\"      {i}. {val} : {count:,}\")"
   ]
  },
  {
   "cell_type": "markdown",
   "id": "95f5b20e",
   "metadata": {},
   "source": [
    "### 🏷️ Interpretation: Categories & Types\n",
    "\n",
    "- **Column:** `typologie`  \n",
    "- **Unique Values:** 24  \n",
    "- **Most Frequent Types:**  \n",
    "  1. **TERRASSE OUVERTE** – 1,892 occurrences  \n",
    "  2. **ETALAGE** – 985 occurrences  \n",
    "  3. **CONTRE TERRASSE ESTIVALE SUR STATIONNEMENT** – 464 occurrences  \n",
    "  4. **TERRASSE FERMÉE** – 408 occurrences  \n",
    "  5. **TERRASSES OUVERTES SUR TROTTOIR** – 346 occurrences  \n",
    "\n",
    "- **Insights:**  \n",
    "  - Open terraces (\"TERRASSE OUVERTE\") dominate the dataset, showing a strong outdoor commercial presence.  \n",
    "  - Displays/étalages are also common, indicating commercial activity on sidewalks.  \n",
    "  - Some terrace types are more specialized (e.g., \"CONTRE TERRASSE ESTIVALE\"), which could be interesting for spatial clustering.  \n",
    "\n"
   ]
  },
  {
   "cell_type": "markdown",
   "id": "7f6ed114",
   "metadata": {},
   "source": [
    "\n",
    "<!DOCTYPE html>\n",
    "<html>\n",
    "<head>\n",
    "    <style>\n",
    "        body { font-family: Arial, sans-serif; margin: 40px; background: #f5f5f5; color: #333; line-height: 1.6; }\n",
    "        h1 { text-align: center; color: lightgreen; font-size: 36px; font-weight: bold; margin-bottom: 10px; }\n",
    "        h2 { color: #EF806C; font-size: 28px; font-weight: bold; margin-top: 30px; }\n",
    "        h3 { color: #00FFFF; font-size: 22px; font-weight: bold; margin-top: 20px;,  }\n",
    "        ul { margin-left: 20px; }\n",
    "        li { margin: 8px 0; }\n",
    "        hr { height: 2px; border: none; background-color: lightgreen; margin: 20px 0; }\n",
    "    </style>\n",
    "</head>\n",
    "<body>\n",
    "<h3>Analyse des arronsissements brutes</h3>\n"
   ]
  },
  {
   "cell_type": "code",
   "execution_count": null,
   "id": "86f2c990",
   "metadata": {},
   "outputs": [
    {
     "name": "stdout",
     "output_type": "stream",
     "text": [
      "🏙️ ANALYSE INTERACTIVE DES ARRONDISSEMENTS :\n",
      "📍 Utilisation de la colonne : arrondissement\n"
     ]
    },
    {
     "data": {
      "application/vnd.plotly.v1+json": {
       "config": {
        "plotlyServerURL": "https://plot.ly"
       },
       "data": [
        {
         "hovertemplate": "Arrondissement=%{x}<br>Nombre_Terrasses=%{marker.color}<extra></extra>",
         "legendgroup": "",
         "marker": {
          "color": {
           "bdata": "VQFPAU0BQgErASIBIQETAQQB+wDuANsAswCxAKgAoACTAJMAkgCRAIEA",
           "dtype": "i2"
          },
          "coloraxis": "coloraxis",
          "pattern": {
           "shape": ""
          }
         },
         "name": "",
         "orientation": "v",
         "showlegend": false,
         "textposition": "auto",
         "type": "bar",
         "x": {
          "bdata": "AAAAAKBQ8kAAAAAAcFDyQAAAAAAwUPJAAAAAACBQ8kAAAAAAkFDyQAAAAABgUPJAAAAAANBP8kAAAAAAQFDyQAAAAAAAUPJAAAAAABBQ8kAAAAAAwFDyQAAAAABQUPJAAAAAAJBP8kAAAAAAsFDyQAAAAADAT/JAAAAAAPBP8kAAAAAAwFbyQAAAAACgT/JAAAAAAOBP8kAAAAAAgFDyQAAAAACwT/JA",
          "dtype": "f8"
         },
         "xaxis": "x",
         "y": {
          "bdata": "VQFPAU0BQgErASIBIQETAQQB+wDuANsAswCxAKgAoACTAJMAkgCRAIEA",
          "dtype": "i2"
         },
         "yaxis": "y"
        }
       ],
       "layout": {
        "barmode": "relative",
        "coloraxis": {
         "colorbar": {
          "title": {
           "text": "Nombre_Terrasses"
          }
         },
         "colorscale": [
          [
           0,
           "#440154"
          ],
          [
           0.1111111111111111,
           "#482878"
          ],
          [
           0.2222222222222222,
           "#3e4989"
          ],
          [
           0.3333333333333333,
           "#31688e"
          ],
          [
           0.4444444444444444,
           "#26828e"
          ],
          [
           0.5555555555555556,
           "#1f9e89"
          ],
          [
           0.6666666666666666,
           "#35b779"
          ],
          [
           0.7777777777777778,
           "#6ece58"
          ],
          [
           0.8888888888888888,
           "#b5de2b"
          ],
          [
           1,
           "#fde725"
          ]
         ]
        },
        "legend": {
         "tracegroupgap": 0
        },
        "template": {
         "data": {
          "bar": [
           {
            "error_x": {
             "color": "#2a3f5f"
            },
            "error_y": {
             "color": "#2a3f5f"
            },
            "marker": {
             "line": {
              "color": "#E5ECF6",
              "width": 0.5
             },
             "pattern": {
              "fillmode": "overlay",
              "size": 10,
              "solidity": 0.2
             }
            },
            "type": "bar"
           }
          ],
          "barpolar": [
           {
            "marker": {
             "line": {
              "color": "#E5ECF6",
              "width": 0.5
             },
             "pattern": {
              "fillmode": "overlay",
              "size": 10,
              "solidity": 0.2
             }
            },
            "type": "barpolar"
           }
          ],
          "carpet": [
           {
            "aaxis": {
             "endlinecolor": "#2a3f5f",
             "gridcolor": "white",
             "linecolor": "white",
             "minorgridcolor": "white",
             "startlinecolor": "#2a3f5f"
            },
            "baxis": {
             "endlinecolor": "#2a3f5f",
             "gridcolor": "white",
             "linecolor": "white",
             "minorgridcolor": "white",
             "startlinecolor": "#2a3f5f"
            },
            "type": "carpet"
           }
          ],
          "choropleth": [
           {
            "colorbar": {
             "outlinewidth": 0,
             "ticks": ""
            },
            "type": "choropleth"
           }
          ],
          "contour": [
           {
            "colorbar": {
             "outlinewidth": 0,
             "ticks": ""
            },
            "colorscale": [
             [
              0,
              "#0d0887"
             ],
             [
              0.1111111111111111,
              "#46039f"
             ],
             [
              0.2222222222222222,
              "#7201a8"
             ],
             [
              0.3333333333333333,
              "#9c179e"
             ],
             [
              0.4444444444444444,
              "#bd3786"
             ],
             [
              0.5555555555555556,
              "#d8576b"
             ],
             [
              0.6666666666666666,
              "#ed7953"
             ],
             [
              0.7777777777777778,
              "#fb9f3a"
             ],
             [
              0.8888888888888888,
              "#fdca26"
             ],
             [
              1,
              "#f0f921"
             ]
            ],
            "type": "contour"
           }
          ],
          "contourcarpet": [
           {
            "colorbar": {
             "outlinewidth": 0,
             "ticks": ""
            },
            "type": "contourcarpet"
           }
          ],
          "heatmap": [
           {
            "colorbar": {
             "outlinewidth": 0,
             "ticks": ""
            },
            "colorscale": [
             [
              0,
              "#0d0887"
             ],
             [
              0.1111111111111111,
              "#46039f"
             ],
             [
              0.2222222222222222,
              "#7201a8"
             ],
             [
              0.3333333333333333,
              "#9c179e"
             ],
             [
              0.4444444444444444,
              "#bd3786"
             ],
             [
              0.5555555555555556,
              "#d8576b"
             ],
             [
              0.6666666666666666,
              "#ed7953"
             ],
             [
              0.7777777777777778,
              "#fb9f3a"
             ],
             [
              0.8888888888888888,
              "#fdca26"
             ],
             [
              1,
              "#f0f921"
             ]
            ],
            "type": "heatmap"
           }
          ],
          "histogram": [
           {
            "marker": {
             "pattern": {
              "fillmode": "overlay",
              "size": 10,
              "solidity": 0.2
             }
            },
            "type": "histogram"
           }
          ],
          "histogram2d": [
           {
            "colorbar": {
             "outlinewidth": 0,
             "ticks": ""
            },
            "colorscale": [
             [
              0,
              "#0d0887"
             ],
             [
              0.1111111111111111,
              "#46039f"
             ],
             [
              0.2222222222222222,
              "#7201a8"
             ],
             [
              0.3333333333333333,
              "#9c179e"
             ],
             [
              0.4444444444444444,
              "#bd3786"
             ],
             [
              0.5555555555555556,
              "#d8576b"
             ],
             [
              0.6666666666666666,
              "#ed7953"
             ],
             [
              0.7777777777777778,
              "#fb9f3a"
             ],
             [
              0.8888888888888888,
              "#fdca26"
             ],
             [
              1,
              "#f0f921"
             ]
            ],
            "type": "histogram2d"
           }
          ],
          "histogram2dcontour": [
           {
            "colorbar": {
             "outlinewidth": 0,
             "ticks": ""
            },
            "colorscale": [
             [
              0,
              "#0d0887"
             ],
             [
              0.1111111111111111,
              "#46039f"
             ],
             [
              0.2222222222222222,
              "#7201a8"
             ],
             [
              0.3333333333333333,
              "#9c179e"
             ],
             [
              0.4444444444444444,
              "#bd3786"
             ],
             [
              0.5555555555555556,
              "#d8576b"
             ],
             [
              0.6666666666666666,
              "#ed7953"
             ],
             [
              0.7777777777777778,
              "#fb9f3a"
             ],
             [
              0.8888888888888888,
              "#fdca26"
             ],
             [
              1,
              "#f0f921"
             ]
            ],
            "type": "histogram2dcontour"
           }
          ],
          "mesh3d": [
           {
            "colorbar": {
             "outlinewidth": 0,
             "ticks": ""
            },
            "type": "mesh3d"
           }
          ],
          "parcoords": [
           {
            "line": {
             "colorbar": {
              "outlinewidth": 0,
              "ticks": ""
             }
            },
            "type": "parcoords"
           }
          ],
          "pie": [
           {
            "automargin": true,
            "type": "pie"
           }
          ],
          "scatter": [
           {
            "fillpattern": {
             "fillmode": "overlay",
             "size": 10,
             "solidity": 0.2
            },
            "type": "scatter"
           }
          ],
          "scatter3d": [
           {
            "line": {
             "colorbar": {
              "outlinewidth": 0,
              "ticks": ""
             }
            },
            "marker": {
             "colorbar": {
              "outlinewidth": 0,
              "ticks": ""
             }
            },
            "type": "scatter3d"
           }
          ],
          "scattercarpet": [
           {
            "marker": {
             "colorbar": {
              "outlinewidth": 0,
              "ticks": ""
             }
            },
            "type": "scattercarpet"
           }
          ],
          "scattergeo": [
           {
            "marker": {
             "colorbar": {
              "outlinewidth": 0,
              "ticks": ""
             }
            },
            "type": "scattergeo"
           }
          ],
          "scattergl": [
           {
            "marker": {
             "colorbar": {
              "outlinewidth": 0,
              "ticks": ""
             }
            },
            "type": "scattergl"
           }
          ],
          "scattermap": [
           {
            "marker": {
             "colorbar": {
              "outlinewidth": 0,
              "ticks": ""
             }
            },
            "type": "scattermap"
           }
          ],
          "scattermapbox": [
           {
            "marker": {
             "colorbar": {
              "outlinewidth": 0,
              "ticks": ""
             }
            },
            "type": "scattermapbox"
           }
          ],
          "scatterpolar": [
           {
            "marker": {
             "colorbar": {
              "outlinewidth": 0,
              "ticks": ""
             }
            },
            "type": "scatterpolar"
           }
          ],
          "scatterpolargl": [
           {
            "marker": {
             "colorbar": {
              "outlinewidth": 0,
              "ticks": ""
             }
            },
            "type": "scatterpolargl"
           }
          ],
          "scatterternary": [
           {
            "marker": {
             "colorbar": {
              "outlinewidth": 0,
              "ticks": ""
             }
            },
            "type": "scatterternary"
           }
          ],
          "surface": [
           {
            "colorbar": {
             "outlinewidth": 0,
             "ticks": ""
            },
            "colorscale": [
             [
              0,
              "#0d0887"
             ],
             [
              0.1111111111111111,
              "#46039f"
             ],
             [
              0.2222222222222222,
              "#7201a8"
             ],
             [
              0.3333333333333333,
              "#9c179e"
             ],
             [
              0.4444444444444444,
              "#bd3786"
             ],
             [
              0.5555555555555556,
              "#d8576b"
             ],
             [
              0.6666666666666666,
              "#ed7953"
             ],
             [
              0.7777777777777778,
              "#fb9f3a"
             ],
             [
              0.8888888888888888,
              "#fdca26"
             ],
             [
              1,
              "#f0f921"
             ]
            ],
            "type": "surface"
           }
          ],
          "table": [
           {
            "cells": {
             "fill": {
              "color": "#EBF0F8"
             },
             "line": {
              "color": "white"
             }
            },
            "header": {
             "fill": {
              "color": "#C8D4E3"
             },
             "line": {
              "color": "white"
             }
            },
            "type": "table"
           }
          ]
         },
         "layout": {
          "annotationdefaults": {
           "arrowcolor": "#2a3f5f",
           "arrowhead": 0,
           "arrowwidth": 1
          },
          "autotypenumbers": "strict",
          "coloraxis": {
           "colorbar": {
            "outlinewidth": 0,
            "ticks": ""
           }
          },
          "colorscale": {
           "diverging": [
            [
             0,
             "#8e0152"
            ],
            [
             0.1,
             "#c51b7d"
            ],
            [
             0.2,
             "#de77ae"
            ],
            [
             0.3,
             "#f1b6da"
            ],
            [
             0.4,
             "#fde0ef"
            ],
            [
             0.5,
             "#f7f7f7"
            ],
            [
             0.6,
             "#e6f5d0"
            ],
            [
             0.7,
             "#b8e186"
            ],
            [
             0.8,
             "#7fbc41"
            ],
            [
             0.9,
             "#4d9221"
            ],
            [
             1,
             "#276419"
            ]
           ],
           "sequential": [
            [
             0,
             "#0d0887"
            ],
            [
             0.1111111111111111,
             "#46039f"
            ],
            [
             0.2222222222222222,
             "#7201a8"
            ],
            [
             0.3333333333333333,
             "#9c179e"
            ],
            [
             0.4444444444444444,
             "#bd3786"
            ],
            [
             0.5555555555555556,
             "#d8576b"
            ],
            [
             0.6666666666666666,
             "#ed7953"
            ],
            [
             0.7777777777777778,
             "#fb9f3a"
            ],
            [
             0.8888888888888888,
             "#fdca26"
            ],
            [
             1,
             "#f0f921"
            ]
           ],
           "sequentialminus": [
            [
             0,
             "#0d0887"
            ],
            [
             0.1111111111111111,
             "#46039f"
            ],
            [
             0.2222222222222222,
             "#7201a8"
            ],
            [
             0.3333333333333333,
             "#9c179e"
            ],
            [
             0.4444444444444444,
             "#bd3786"
            ],
            [
             0.5555555555555556,
             "#d8576b"
            ],
            [
             0.6666666666666666,
             "#ed7953"
            ],
            [
             0.7777777777777778,
             "#fb9f3a"
            ],
            [
             0.8888888888888888,
             "#fdca26"
            ],
            [
             1,
             "#f0f921"
            ]
           ]
          },
          "colorway": [
           "#636efa",
           "#EF553B",
           "#00cc96",
           "#ab63fa",
           "#FFA15A",
           "#19d3f3",
           "#FF6692",
           "#B6E880",
           "#FF97FF",
           "#FECB52"
          ],
          "font": {
           "color": "#2a3f5f"
          },
          "geo": {
           "bgcolor": "white",
           "lakecolor": "white",
           "landcolor": "#E5ECF6",
           "showlakes": true,
           "showland": true,
           "subunitcolor": "white"
          },
          "hoverlabel": {
           "align": "left"
          },
          "hovermode": "closest",
          "mapbox": {
           "style": "light"
          },
          "paper_bgcolor": "white",
          "plot_bgcolor": "#E5ECF6",
          "polar": {
           "angularaxis": {
            "gridcolor": "white",
            "linecolor": "white",
            "ticks": ""
           },
           "bgcolor": "#E5ECF6",
           "radialaxis": {
            "gridcolor": "white",
            "linecolor": "white",
            "ticks": ""
           }
          },
          "scene": {
           "xaxis": {
            "backgroundcolor": "#E5ECF6",
            "gridcolor": "white",
            "gridwidth": 2,
            "linecolor": "white",
            "showbackground": true,
            "ticks": "",
            "zerolinecolor": "white"
           },
           "yaxis": {
            "backgroundcolor": "#E5ECF6",
            "gridcolor": "white",
            "gridwidth": 2,
            "linecolor": "white",
            "showbackground": true,
            "ticks": "",
            "zerolinecolor": "white"
           },
           "zaxis": {
            "backgroundcolor": "#E5ECF6",
            "gridcolor": "white",
            "gridwidth": 2,
            "linecolor": "white",
            "showbackground": true,
            "ticks": "",
            "zerolinecolor": "white"
           }
          },
          "shapedefaults": {
           "line": {
            "color": "#2a3f5f"
           }
          },
          "ternary": {
           "aaxis": {
            "gridcolor": "white",
            "linecolor": "white",
            "ticks": ""
           },
           "baxis": {
            "gridcolor": "white",
            "linecolor": "white",
            "ticks": ""
           },
           "bgcolor": "#E5ECF6",
           "caxis": {
            "gridcolor": "white",
            "linecolor": "white",
            "ticks": ""
           }
          },
          "title": {
           "x": 0.05
          },
          "xaxis": {
           "automargin": true,
           "gridcolor": "white",
           "linecolor": "white",
           "ticks": "",
           "title": {
            "standoff": 15
           },
           "zerolinecolor": "white",
           "zerolinewidth": 2
          },
          "yaxis": {
           "automargin": true,
           "gridcolor": "white",
           "linecolor": "white",
           "ticks": "",
           "title": {
            "standoff": 15
           },
           "zerolinecolor": "white",
           "zerolinewidth": 2
          }
         }
        },
        "title": {
         "text": "🏙️ NOMBRE DE TERRASSES PAR ARRONDISSEMENT"
        },
        "xaxis": {
         "anchor": "y",
         "domain": [
          0,
          1
         ],
         "tickangle": -45,
         "title": {
          "text": "Arrondissement"
         }
        },
        "yaxis": {
         "anchor": "x",
         "domain": [
          0,
          1
         ],
         "title": {
          "text": "Nombre_Terrasses"
         }
        }
       }
      }
     },
     "metadata": {},
     "output_type": "display_data"
    },
    {
     "data": {
      "application/vnd.plotly.v1+json": {
       "config": {
        "plotlyServerURL": "https://plot.ly"
       },
       "data": [
        {
         "domain": {
          "x": [
           0,
           1
          ],
          "y": [
           0,
           1
          ]
         },
         "hovertemplate": "Arrondissement=%{label}<br>Nombre_Terrasses=%{value}<extra></extra>",
         "labels": {
          "bdata": "AAAAAKBQ8kAAAAAAcFDyQAAAAAAwUPJAAAAAACBQ8kAAAAAAkFDyQAAAAABgUPJAAAAAANBP8kAAAAAAQFDyQAAAAAAAUPJAAAAAABBQ8kA=",
          "dtype": "f8"
         },
         "legendgroup": "",
         "name": "",
         "showlegend": true,
         "type": "pie",
         "values": {
          "bdata": "VQFPAU0BQgErASIBIQETAQQB+wA=",
          "dtype": "i2"
         }
        }
       ],
       "layout": {
        "legend": {
         "tracegroupgap": 0
        },
        "template": {
         "data": {
          "bar": [
           {
            "error_x": {
             "color": "#2a3f5f"
            },
            "error_y": {
             "color": "#2a3f5f"
            },
            "marker": {
             "line": {
              "color": "#E5ECF6",
              "width": 0.5
             },
             "pattern": {
              "fillmode": "overlay",
              "size": 10,
              "solidity": 0.2
             }
            },
            "type": "bar"
           }
          ],
          "barpolar": [
           {
            "marker": {
             "line": {
              "color": "#E5ECF6",
              "width": 0.5
             },
             "pattern": {
              "fillmode": "overlay",
              "size": 10,
              "solidity": 0.2
             }
            },
            "type": "barpolar"
           }
          ],
          "carpet": [
           {
            "aaxis": {
             "endlinecolor": "#2a3f5f",
             "gridcolor": "white",
             "linecolor": "white",
             "minorgridcolor": "white",
             "startlinecolor": "#2a3f5f"
            },
            "baxis": {
             "endlinecolor": "#2a3f5f",
             "gridcolor": "white",
             "linecolor": "white",
             "minorgridcolor": "white",
             "startlinecolor": "#2a3f5f"
            },
            "type": "carpet"
           }
          ],
          "choropleth": [
           {
            "colorbar": {
             "outlinewidth": 0,
             "ticks": ""
            },
            "type": "choropleth"
           }
          ],
          "contour": [
           {
            "colorbar": {
             "outlinewidth": 0,
             "ticks": ""
            },
            "colorscale": [
             [
              0,
              "#0d0887"
             ],
             [
              0.1111111111111111,
              "#46039f"
             ],
             [
              0.2222222222222222,
              "#7201a8"
             ],
             [
              0.3333333333333333,
              "#9c179e"
             ],
             [
              0.4444444444444444,
              "#bd3786"
             ],
             [
              0.5555555555555556,
              "#d8576b"
             ],
             [
              0.6666666666666666,
              "#ed7953"
             ],
             [
              0.7777777777777778,
              "#fb9f3a"
             ],
             [
              0.8888888888888888,
              "#fdca26"
             ],
             [
              1,
              "#f0f921"
             ]
            ],
            "type": "contour"
           }
          ],
          "contourcarpet": [
           {
            "colorbar": {
             "outlinewidth": 0,
             "ticks": ""
            },
            "type": "contourcarpet"
           }
          ],
          "heatmap": [
           {
            "colorbar": {
             "outlinewidth": 0,
             "ticks": ""
            },
            "colorscale": [
             [
              0,
              "#0d0887"
             ],
             [
              0.1111111111111111,
              "#46039f"
             ],
             [
              0.2222222222222222,
              "#7201a8"
             ],
             [
              0.3333333333333333,
              "#9c179e"
             ],
             [
              0.4444444444444444,
              "#bd3786"
             ],
             [
              0.5555555555555556,
              "#d8576b"
             ],
             [
              0.6666666666666666,
              "#ed7953"
             ],
             [
              0.7777777777777778,
              "#fb9f3a"
             ],
             [
              0.8888888888888888,
              "#fdca26"
             ],
             [
              1,
              "#f0f921"
             ]
            ],
            "type": "heatmap"
           }
          ],
          "histogram": [
           {
            "marker": {
             "pattern": {
              "fillmode": "overlay",
              "size": 10,
              "solidity": 0.2
             }
            },
            "type": "histogram"
           }
          ],
          "histogram2d": [
           {
            "colorbar": {
             "outlinewidth": 0,
             "ticks": ""
            },
            "colorscale": [
             [
              0,
              "#0d0887"
             ],
             [
              0.1111111111111111,
              "#46039f"
             ],
             [
              0.2222222222222222,
              "#7201a8"
             ],
             [
              0.3333333333333333,
              "#9c179e"
             ],
             [
              0.4444444444444444,
              "#bd3786"
             ],
             [
              0.5555555555555556,
              "#d8576b"
             ],
             [
              0.6666666666666666,
              "#ed7953"
             ],
             [
              0.7777777777777778,
              "#fb9f3a"
             ],
             [
              0.8888888888888888,
              "#fdca26"
             ],
             [
              1,
              "#f0f921"
             ]
            ],
            "type": "histogram2d"
           }
          ],
          "histogram2dcontour": [
           {
            "colorbar": {
             "outlinewidth": 0,
             "ticks": ""
            },
            "colorscale": [
             [
              0,
              "#0d0887"
             ],
             [
              0.1111111111111111,
              "#46039f"
             ],
             [
              0.2222222222222222,
              "#7201a8"
             ],
             [
              0.3333333333333333,
              "#9c179e"
             ],
             [
              0.4444444444444444,
              "#bd3786"
             ],
             [
              0.5555555555555556,
              "#d8576b"
             ],
             [
              0.6666666666666666,
              "#ed7953"
             ],
             [
              0.7777777777777778,
              "#fb9f3a"
             ],
             [
              0.8888888888888888,
              "#fdca26"
             ],
             [
              1,
              "#f0f921"
             ]
            ],
            "type": "histogram2dcontour"
           }
          ],
          "mesh3d": [
           {
            "colorbar": {
             "outlinewidth": 0,
             "ticks": ""
            },
            "type": "mesh3d"
           }
          ],
          "parcoords": [
           {
            "line": {
             "colorbar": {
              "outlinewidth": 0,
              "ticks": ""
             }
            },
            "type": "parcoords"
           }
          ],
          "pie": [
           {
            "automargin": true,
            "type": "pie"
           }
          ],
          "scatter": [
           {
            "fillpattern": {
             "fillmode": "overlay",
             "size": 10,
             "solidity": 0.2
            },
            "type": "scatter"
           }
          ],
          "scatter3d": [
           {
            "line": {
             "colorbar": {
              "outlinewidth": 0,
              "ticks": ""
             }
            },
            "marker": {
             "colorbar": {
              "outlinewidth": 0,
              "ticks": ""
             }
            },
            "type": "scatter3d"
           }
          ],
          "scattercarpet": [
           {
            "marker": {
             "colorbar": {
              "outlinewidth": 0,
              "ticks": ""
             }
            },
            "type": "scattercarpet"
           }
          ],
          "scattergeo": [
           {
            "marker": {
             "colorbar": {
              "outlinewidth": 0,
              "ticks": ""
             }
            },
            "type": "scattergeo"
           }
          ],
          "scattergl": [
           {
            "marker": {
             "colorbar": {
              "outlinewidth": 0,
              "ticks": ""
             }
            },
            "type": "scattergl"
           }
          ],
          "scattermap": [
           {
            "marker": {
             "colorbar": {
              "outlinewidth": 0,
              "ticks": ""
             }
            },
            "type": "scattermap"
           }
          ],
          "scattermapbox": [
           {
            "marker": {
             "colorbar": {
              "outlinewidth": 0,
              "ticks": ""
             }
            },
            "type": "scattermapbox"
           }
          ],
          "scatterpolar": [
           {
            "marker": {
             "colorbar": {
              "outlinewidth": 0,
              "ticks": ""
             }
            },
            "type": "scatterpolar"
           }
          ],
          "scatterpolargl": [
           {
            "marker": {
             "colorbar": {
              "outlinewidth": 0,
              "ticks": ""
             }
            },
            "type": "scatterpolargl"
           }
          ],
          "scatterternary": [
           {
            "marker": {
             "colorbar": {
              "outlinewidth": 0,
              "ticks": ""
             }
            },
            "type": "scatterternary"
           }
          ],
          "surface": [
           {
            "colorbar": {
             "outlinewidth": 0,
             "ticks": ""
            },
            "colorscale": [
             [
              0,
              "#0d0887"
             ],
             [
              0.1111111111111111,
              "#46039f"
             ],
             [
              0.2222222222222222,
              "#7201a8"
             ],
             [
              0.3333333333333333,
              "#9c179e"
             ],
             [
              0.4444444444444444,
              "#bd3786"
             ],
             [
              0.5555555555555556,
              "#d8576b"
             ],
             [
              0.6666666666666666,
              "#ed7953"
             ],
             [
              0.7777777777777778,
              "#fb9f3a"
             ],
             [
              0.8888888888888888,
              "#fdca26"
             ],
             [
              1,
              "#f0f921"
             ]
            ],
            "type": "surface"
           }
          ],
          "table": [
           {
            "cells": {
             "fill": {
              "color": "#EBF0F8"
             },
             "line": {
              "color": "white"
             }
            },
            "header": {
             "fill": {
              "color": "#C8D4E3"
             },
             "line": {
              "color": "white"
             }
            },
            "type": "table"
           }
          ]
         },
         "layout": {
          "annotationdefaults": {
           "arrowcolor": "#2a3f5f",
           "arrowhead": 0,
           "arrowwidth": 1
          },
          "autotypenumbers": "strict",
          "coloraxis": {
           "colorbar": {
            "outlinewidth": 0,
            "ticks": ""
           }
          },
          "colorscale": {
           "diverging": [
            [
             0,
             "#8e0152"
            ],
            [
             0.1,
             "#c51b7d"
            ],
            [
             0.2,
             "#de77ae"
            ],
            [
             0.3,
             "#f1b6da"
            ],
            [
             0.4,
             "#fde0ef"
            ],
            [
             0.5,
             "#f7f7f7"
            ],
            [
             0.6,
             "#e6f5d0"
            ],
            [
             0.7,
             "#b8e186"
            ],
            [
             0.8,
             "#7fbc41"
            ],
            [
             0.9,
             "#4d9221"
            ],
            [
             1,
             "#276419"
            ]
           ],
           "sequential": [
            [
             0,
             "#0d0887"
            ],
            [
             0.1111111111111111,
             "#46039f"
            ],
            [
             0.2222222222222222,
             "#7201a8"
            ],
            [
             0.3333333333333333,
             "#9c179e"
            ],
            [
             0.4444444444444444,
             "#bd3786"
            ],
            [
             0.5555555555555556,
             "#d8576b"
            ],
            [
             0.6666666666666666,
             "#ed7953"
            ],
            [
             0.7777777777777778,
             "#fb9f3a"
            ],
            [
             0.8888888888888888,
             "#fdca26"
            ],
            [
             1,
             "#f0f921"
            ]
           ],
           "sequentialminus": [
            [
             0,
             "#0d0887"
            ],
            [
             0.1111111111111111,
             "#46039f"
            ],
            [
             0.2222222222222222,
             "#7201a8"
            ],
            [
             0.3333333333333333,
             "#9c179e"
            ],
            [
             0.4444444444444444,
             "#bd3786"
            ],
            [
             0.5555555555555556,
             "#d8576b"
            ],
            [
             0.6666666666666666,
             "#ed7953"
            ],
            [
             0.7777777777777778,
             "#fb9f3a"
            ],
            [
             0.8888888888888888,
             "#fdca26"
            ],
            [
             1,
             "#f0f921"
            ]
           ]
          },
          "colorway": [
           "#636efa",
           "#EF553B",
           "#00cc96",
           "#ab63fa",
           "#FFA15A",
           "#19d3f3",
           "#FF6692",
           "#B6E880",
           "#FF97FF",
           "#FECB52"
          ],
          "font": {
           "color": "#2a3f5f"
          },
          "geo": {
           "bgcolor": "white",
           "lakecolor": "white",
           "landcolor": "#E5ECF6",
           "showlakes": true,
           "showland": true,
           "subunitcolor": "white"
          },
          "hoverlabel": {
           "align": "left"
          },
          "hovermode": "closest",
          "mapbox": {
           "style": "light"
          },
          "paper_bgcolor": "white",
          "plot_bgcolor": "#E5ECF6",
          "polar": {
           "angularaxis": {
            "gridcolor": "white",
            "linecolor": "white",
            "ticks": ""
           },
           "bgcolor": "#E5ECF6",
           "radialaxis": {
            "gridcolor": "white",
            "linecolor": "white",
            "ticks": ""
           }
          },
          "scene": {
           "xaxis": {
            "backgroundcolor": "#E5ECF6",
            "gridcolor": "white",
            "gridwidth": 2,
            "linecolor": "white",
            "showbackground": true,
            "ticks": "",
            "zerolinecolor": "white"
           },
           "yaxis": {
            "backgroundcolor": "#E5ECF6",
            "gridcolor": "white",
            "gridwidth": 2,
            "linecolor": "white",
            "showbackground": true,
            "ticks": "",
            "zerolinecolor": "white"
           },
           "zaxis": {
            "backgroundcolor": "#E5ECF6",
            "gridcolor": "white",
            "gridwidth": 2,
            "linecolor": "white",
            "showbackground": true,
            "ticks": "",
            "zerolinecolor": "white"
           }
          },
          "shapedefaults": {
           "line": {
            "color": "#2a3f5f"
           }
          },
          "ternary": {
           "aaxis": {
            "gridcolor": "white",
            "linecolor": "white",
            "ticks": ""
           },
           "baxis": {
            "gridcolor": "white",
            "linecolor": "white",
            "ticks": ""
           },
           "bgcolor": "#E5ECF6",
           "caxis": {
            "gridcolor": "white",
            "linecolor": "white",
            "ticks": ""
           }
          },
          "title": {
           "x": 0.05
          },
          "xaxis": {
           "automargin": true,
           "gridcolor": "white",
           "linecolor": "white",
           "ticks": "",
           "title": {
            "standoff": 15
           },
           "zerolinecolor": "white",
           "zerolinewidth": 2
          },
          "yaxis": {
           "automargin": true,
           "gridcolor": "white",
           "linecolor": "white",
           "ticks": "",
           "title": {
            "standoff": 15
           },
           "zerolinecolor": "white",
           "zerolinewidth": 2
          }
         }
        },
        "title": {
         "text": "🎪 TOP 10 DES ARRONDISSEMENTS (RÉPARTITION)"
        }
       }
      }
     },
     "metadata": {},
     "output_type": "display_data"
    },
    {
     "name": "stdout",
     "output_type": "stream",
     "text": [
      "📊 STATISTIQUES :\n",
      "   • 21 arrondissements différents\n",
      "   • Moyenne : 231 terrasses/arrondissement\n",
      "   • Max : 341 terrasses\n"
     ]
    }
   ],
   "source": [
    "# Cellule 4: ANALYSE INTERACTIVE DES ARRONDISSEMENTS\n",
    "print(\"🏙️ ANALYSE INTERACTIVE DES ARRONDISSEMENTS :\")\n",
    "\n",
    "# Recherche de la colonne d'arrondissement\n",
    "arr_cols = [col for col in df_raw.columns if any(keyword in col.lower() for keyword in ['arrondissement', 'arrdt', 'arr'])]\n",
    "\n",
    "if arr_cols:\n",
    "    arr_col = arr_cols[0]  # Prendre la première colonne trouvée\n",
    "    print(f\"📍 Utilisation de la colonne : {arr_col}\")\n",
    "    \n",
    "    arr_stats = df_raw[arr_col].value_counts().reset_index()\n",
    "    arr_stats.columns = ['Arrondissement', 'Nombre_Terrasses']\n",
    "    \n",
    "    # Graphique en barres interactif\n",
    "    fig = px.bar(arr_stats, x='Arrondissement', y='Nombre_Terrasses',\n",
    "                 title='🏙️ NOMBRE DE TERRASSES PAR ARRONDISSEMENT',\n",
    "                 color='Nombre_Terrasses',\n",
    "                 color_continuous_scale='viridis')\n",
    "    \n",
    "    fig.update_layout(xaxis_tickangle=-45)\n",
    "    fig.show()\n",
    "    \n",
    "    # Camembert pour la répartition\n",
    "    fig_pie = px.pie(arr_stats.head(10), names='Arrondissement', values='Nombre_Terrasses',\n",
    "                     title='🎪 TOP 10 DES ARRONDISSEMENTS (RÉPARTITION)')\n",
    "    fig_pie.show()\n",
    "    \n",
    "    print(f\"📊 STATISTIQUES :\")\n",
    "    print(f\"   • {arr_stats['Arrondissement'].nunique()} arrondissements différents\")\n",
    "    print(f\"   • Moyenne : {arr_stats['Nombre_Terrasses'].mean():.0f} terrasses/arrondissement\")\n",
    "    print(f\"   • Max : {arr_stats['Nombre_Terrasses'].max()} terrasses\")\n",
    "    \n",
    "else:\n",
    "    print(\"❌ Aucune colonne d'arrondissement trouvée\")"
   ]
  },
  {
   "cell_type": "markdown",
   "id": "dc1ad68e",
   "metadata": {},
   "source": [
    "### 🏙️ Interpretation: Arrondissements Analysis\n",
    "\n",
    "- **Column Used:** `arrondissement`  \n",
    "- **Number of Districts:** 21  \n",
    "- **Average Terraces per District:** 231  \n",
    "- **Maximum Terraces in a District:** 341  \n",
    "\n",
    "- **Insights:**  \n",
    "  - Terraces are unevenly distributed across Paris, with some arrondissements showing much higher concentrations.  \n",
    "  - The top 10 districts account for the majority of terrace activity, which may indicate commercial hotspots.  \n",
    "  - This distribution can guide targeted urban planning and commercial positioning strategies.  \n",
    "\n"
   ]
  },
  {
   "cell_type": "markdown",
   "id": "5a45c5c8",
   "metadata": {},
   "source": [
    "<!DOCTYPE html>\n",
    "<html>\n",
    "<head>\n",
    "    <style>\n",
    "        body { \n",
    "            font-family: Arial, sans-serif; \n",
    "            margin: 40px; \n",
    "            background: #f5f5f5; \n",
    "            color: #333; \n",
    "            line-height: 1.6; \n",
    "        }\n",
    "        h1 { \n",
    "            text-align: center; \n",
    "            color: lightgreen; \n",
    "            font-size: 36px; \n",
    "            font-weight: bold; \n",
    "            margin-bottom: 10px; \n",
    "        }\n",
    "        h2 { \n",
    "            color: #EF806C; \n",
    "            font-size: 28px; \n",
    "            font-weight: bold; \n",
    "            margin-top: 30px; \n",
    "        }\n",
    "        h3 { \n",
    "            color: #00FFFF; \n",
    "            font-size: 22px; \n",
    "            margin-top: 20px; \n",
    "        }\n",
    "        ul { \n",
    "            margin-left: 20px; \n",
    "        }\n",
    "        li { \n",
    "            margin: 8px 0; \n",
    "        }\n",
    "        hr { \n",
    "            height: 2px; \n",
    "            border: none; \n",
    "            background-color: lightgreen; \n",
    "            margin: 20px 0; \n",
    "        }\n",
    "    </style>\n",
    "</head>\n",
    "<body>\n",
    "\n",
    "<h1>🧹 3. Data Preparation</h1>\n",
    "<p><strong>📌 Goal:</strong></p>\n",
    "<p>The Data Preparation phase focuses on transforming raw data into a clean and structured format suitable for analysis. This stage ensures that the dataset is consistent, complete, and ready for visualization or modeling.</p>\n",
    "\n",
    "<h2>🛠️ Key Elements of This Phase</h2>\n",
    "<ul>\n",
    "    <li>🧩 Handling missing data: filling, imputing, or removing incomplete records</li>\n",
    "    <li>🧽 Data cleaning: correcting errors, standardizing text, removing duplicates</li>\n",
    "    <li>🔢 Data transformation: converting data types, normalizing numerical fields</li>\n",
    "    <li>🏷️ Feature selection: retaining relevant variables for analysis</li>\n",
    "    <li>🗺️ Spatial data formatting: ensuring coordinate consistency (lat/lon)</li>\n",
    "    <li>🧮 Creating derived variables: extracting insights from existing features</li>\n",
    "</ul>\n",
    "\n",
    "<p>This step bridges raw exploration and advanced analytics by ensuring the data is accurate, usable, and aligned with project goals.</p>\n",
    "\n",
    "\n",
    "</body>\n",
    "</html>\n"
   ]
  },
  {
   "cell_type": "markdown",
   "id": "f5631e64",
   "metadata": {},
   "source": [
    "\n",
    "<!DOCTYPE html>\n",
    "<html>\n",
    "<head>\n",
    "    <style>\n",
    "        body { font-family: Arial, sans-serif; margin: 40px; background: #f5f5f5; color: #333; line-height: 1.6; }\n",
    "        h1 { text-align: center; color: lightgreen; font-size: 36px; font-weight: bold; margin-bottom: 10px; }\n",
    "        h2 { color: #EF806C; font-size: 28px; font-weight: bold; margin-top: 30px; }\n",
    "        h3 { color: #00FFFF; font-size: 22px; font-weight: bold; margin-top: 20px;,  }\n",
    "        ul { margin-left: 20px; }\n",
    "        li { margin: 8px 0; }\n",
    "        hr { height: 2px; border: none; background-color: lightgreen; margin: 20px 0; }\n",
    "    </style>\n",
    "</head>\n",
    "<body>\n",
    "<h3>Création de la copie de sécurité</h3>\n"
   ]
  },
  {
   "cell_type": "code",
   "execution_count": 5,
   "id": "26d5f1d8",
   "metadata": {},
   "outputs": [
    {
     "name": "stdout",
     "output_type": "stream",
     "text": [
      "🔧 ÉTAPE 1: CRÉATION DE LA COPIE DE SÉCURITÉ\n",
      "\n",
      "📊 AVANT NETTOYAGE : 5,000 enregistrements\n",
      "📋 Colonnes disponibles : 12\n"
     ]
    }
   ],
   "source": [
    "\n",
    "print(\"🔧 ÉTAPE 1: CRÉATION DE LA COPIE DE SÉCURITÉ\")\n",
    "\n",
    "df_clean = df_raw.copy()\n",
    "\n",
    "\n",
    "print(f\"\\n📊 AVANT NETTOYAGE : {len(df_clean):,} enregistrements\")\n",
    "print(f\"📋 Colonnes disponibles : {len(df_clean.columns)}\")"
   ]
  },
  {
   "cell_type": "markdown",
   "id": "6fb6b045",
   "metadata": {},
   "source": [
    "<h2>🎯 Conclusion</h2>\n",
    "<ul>\n",
    "    <li>💾 <strong>Preserve raw data:</strong> Maintaining the original dataset ensures data integrity and allows future reference or verification.</li>\n",
    "    <li>🧩 <strong>Work on a copy:</strong> Performing cleaning and transformations on a duplicate prevents accidental data loss or corruption.</li>\n",
    "    <li>⚖️ <strong>Enable before/after comparison:</strong> Keeping both versions (raw and prepared) allows validation of data quality improvements and reproducibility of results.</li>\n",
    "</ul>\n",
    "\n",
    "<p>➡️ In short, this step builds a reliable, structured dataset — the foundation for accurate analysis and meaningful insights in the next phase.</p>\n"
   ]
  },
  {
   "cell_type": "markdown",
   "id": "70fc0961",
   "metadata": {},
   "source": [
    "\n",
    "<!DOCTYPE html>\n",
    "<html>\n",
    "<head>\n",
    "    <style>\n",
    "        body { font-family: Arial, sans-serif; margin: 40px; background: #f5f5f5; color: #333; line-height: 1.6; }\n",
    "        h1 { text-align: center; color: lightgreen; font-size: 36px; font-weight: bold; margin-bottom: 10px; }\n",
    "        h2 { color: #EF806C; font-size: 28px; font-weight: bold; margin-top: 30px; }\n",
    "        h3 { color: #00FFFF; font-size: 22px; font-weight: bold; margin-top: 20px;,  }\n",
    "        ul { margin-left: 20px; }\n",
    "        li { margin: 8px 0; }\n",
    "        hr { height: 2px; border: none; background-color: lightgreen; margin: 20px 0; }\n",
    "    </style>\n",
    "</head>\n",
    "<body>\n",
    "<h3> Extraction des coordonnées GPS</h3>\n"
   ]
  },
  {
   "cell_type": "code",
   "execution_count": 6,
   "id": "204728f9",
   "metadata": {},
   "outputs": [
    {
     "name": "stdout",
     "output_type": "stream",
     "text": [
      "📍 ÉTAPE 2: EXTRACTION DES COORDONNÉES GPS\n",
      "🔄 Extraction en cours...\n",
      "\n",
      "✅ RÉSULTATS :\n",
      "   • Points géolocalisés extraits : 5,000\n",
      "   • Latitude min/max : 48.819 / 48.899\n",
      "   • Longitude min/max : 2.255 / 2.411\n",
      "\n",
      "👀 APERÇU DES COORDONNÉES EXTRAITES :\n"
     ]
    },
    {
     "data": {
      "application/vnd.microsoft.datawrangler.viewer.v0+json": {
       "columns": [
        {
         "name": "index",
         "rawType": "int64",
         "type": "integer"
        },
        {
         "name": "geo_point_2d",
         "rawType": "object",
         "type": "string"
        },
        {
         "name": "latitude",
         "rawType": "float64",
         "type": "float"
        },
        {
         "name": "longitude",
         "rawType": "float64",
         "type": "float"
        }
       ],
       "ref": "71d1c9e1-eab2-4abe-9b37-dc0e6afa90ba",
       "rows": [
        [
         "0",
         "{'lon': 2.3854522524772896, 'lat': 48.866330091701045}",
         "48.866330091701045",
         "2.3854522524772896"
        ],
        [
         "1",
         "{'lon': 2.3857018993955266, 'lat': 48.854642373630554}",
         "48.854642373630554",
         "2.3857018993955266"
        ],
        [
         "2",
         "{'lon': 2.3410809317051617, 'lat': 48.86116698012297}",
         "48.86116698012297",
         "2.3410809317051617"
        ]
       ],
       "shape": {
        "columns": 3,
        "rows": 3
       }
      },
      "text/html": [
       "<div>\n",
       "<style scoped>\n",
       "    .dataframe tbody tr th:only-of-type {\n",
       "        vertical-align: middle;\n",
       "    }\n",
       "\n",
       "    .dataframe tbody tr th {\n",
       "        vertical-align: top;\n",
       "    }\n",
       "\n",
       "    .dataframe thead th {\n",
       "        text-align: right;\n",
       "    }\n",
       "</style>\n",
       "<table border=\"1\" class=\"dataframe\">\n",
       "  <thead>\n",
       "    <tr style=\"text-align: right;\">\n",
       "      <th></th>\n",
       "      <th>geo_point_2d</th>\n",
       "      <th>latitude</th>\n",
       "      <th>longitude</th>\n",
       "    </tr>\n",
       "  </thead>\n",
       "  <tbody>\n",
       "    <tr>\n",
       "      <th>0</th>\n",
       "      <td>{'lon': 2.3854522524772896, 'lat': 48.86633009...</td>\n",
       "      <td>48.866330</td>\n",
       "      <td>2.385452</td>\n",
       "    </tr>\n",
       "    <tr>\n",
       "      <th>1</th>\n",
       "      <td>{'lon': 2.3857018993955266, 'lat': 48.85464237...</td>\n",
       "      <td>48.854642</td>\n",
       "      <td>2.385702</td>\n",
       "    </tr>\n",
       "    <tr>\n",
       "      <th>2</th>\n",
       "      <td>{'lon': 2.3410809317051617, 'lat': 48.86116698...</td>\n",
       "      <td>48.861167</td>\n",
       "      <td>2.341081</td>\n",
       "    </tr>\n",
       "  </tbody>\n",
       "</table>\n",
       "</div>"
      ],
      "text/plain": [
       "                                        geo_point_2d   latitude  longitude\n",
       "0  {'lon': 2.3854522524772896, 'lat': 48.86633009...  48.866330   2.385452\n",
       "1  {'lon': 2.3857018993955266, 'lat': 48.85464237...  48.854642   2.385702\n",
       "2  {'lon': 2.3410809317051617, 'lat': 48.86116698...  48.861167   2.341081"
      ]
     },
     "metadata": {},
     "output_type": "display_data"
    }
   ],
   "source": [
    "\n",
    "print(\"📍 ÉTAPE 2: EXTRACTION DES COORDONNÉES GPS\")\n",
    "\n",
    "def extract_coordinates(geo_str):\n",
    "    \"\"\"\n",
    "    Extrait latitude et longitude de la chaîne JSON geo_point_2d\n",
    "    \"\"\"\n",
    "    try:\n",
    "        if pd.isna(geo_str):\n",
    "            return np.nan, np.nan\n",
    "        \n",
    "        # Convertir la string JSON en dictionnaire Python\n",
    "        import ast\n",
    "        geo_dict = ast.literal_eval(geo_str)\n",
    "        \n",
    "        # Extraire lat et lon\n",
    "        lat = geo_dict.get('lat', np.nan)\n",
    "        lon = geo_dict.get('lon', np.nan)\n",
    "        \n",
    "        return lat, lon\n",
    "        \n",
    "    except Exception as e:\n",
    "        print(f\"⚠️  Erreur d'extraction : {e}\")\n",
    "        return np.nan, np.nan\n",
    "\n",
    "# Appliquer l'extraction à toutes les lignes\n",
    "print(\"🔄 Extraction en cours...\")\n",
    "coordinates_data = df_clean['geo_point_2d'].apply(\n",
    "    lambda x: pd.Series(extract_coordinates(x)) if pd.notna(x) else pd.Series([np.nan, np.nan])\n",
    ")\n",
    "\n",
    "# Ajouter les nouvelles colonnes\n",
    "df_clean[['latitude', 'longitude']] = coordinates_data\n",
    "\n",
    "print(f\"\\n✅ RÉSULTATS :\")\n",
    "print(f\"   • Points géolocalisés extraits : {df_clean[['latitude', 'longitude']].notna().all(axis=1).sum():,}\")\n",
    "print(f\"   • Latitude min/max : {df_clean['latitude'].min():.3f} / {df_clean['latitude'].max():.3f}\")\n",
    "print(f\"   • Longitude min/max : {df_clean['longitude'].min():.3f} / {df_clean['longitude'].max():.3f}\")\n",
    "\n",
    "# Aperçu des coordonnées extraites\n",
    "print(\"\\n👀 APERÇU DES COORDONNÉES EXTRAITES :\")\n",
    "display(df_clean[['geo_point_2d', 'latitude', 'longitude']].head(3))"
   ]
  },
  {
   "cell_type": "markdown",
   "id": "39a09b1e",
   "metadata": {},
   "source": [
    "<h2>📍 cocnlusion </h2>\n",
    "\n",
    "<h3>🎯 Objectif</h3>\n",
    "<ul>\n",
    "    <li>🗺️ <strong>Format JSON à décoder :</strong> Les coordonnées géographiques sont stockées dans un champ JSON (<code>geo_point_2d</code>), nécessitant une extraction manuelle.</li>\n",
    "    <li>📍 <strong>Séparation des valeurs :</strong> Il est essentiel de dissocier la <strong>latitude</strong> et la <strong>longitude</strong> en deux colonnes distinctes pour l'analyse géospatiale.</li>\n",
    "    <li>🤖 <strong>Préparation pour le clustering :</strong> L’algorithme <code>DBSCAN</code> requiert des variables numériques indépendantes afin d’identifier les regroupements spatiaux (clusters).</li>\n",
    "</ul>\n",
    "\n",
    "<p>✅ Cette étape garantit la bonne préparation des données géographiques avant toute modélisation spatiale et permet d’obtenir des résultats de clustering précis et exploitables.</p>\n"
   ]
  },
  {
   "cell_type": "markdown",
   "id": "9f3c93f4",
   "metadata": {},
   "source": [
    "\n",
    "<!DOCTYPE html>\n",
    "<html>\n",
    "<head>\n",
    "    <style>\n",
    "        body { font-family: Arial, sans-serif; margin: 40px; background: #f5f5f5; color: #333; line-height: 1.6; }\n",
    "        h1 { text-align: center; color: lightgreen; font-size: 36px; font-weight: bold; margin-bottom: 10px; }\n",
    "        h2 { color: #EF806C; font-size: 28px; font-weight: bold; margin-top: 30px; }\n",
    "        h3 { color: #00FFFF; font-size: 22px; font-weight: bold; margin-top: 20px;,  }\n",
    "        ul { margin-left: 20px; }\n",
    "        li { margin: 8px 0; }\n",
    "        hr { height: 2px; border: none; background-color: lightgreen; margin: 20px 0; }\n",
    "    </style>\n",
    "</head>\n",
    "<body>\n",
    "<h3> Nettoyage des arrondissements</h3>\n"
   ]
  },
  {
   "cell_type": "code",
   "execution_count": 9,
   "id": "226f8117",
   "metadata": {},
   "outputs": [
    {
     "name": "stdout",
     "output_type": "stream",
     "text": [
      "🏙️ ÉTAPE 3: NETTOYAGE DES ARRONDISSEMENTS\n",
      "🔄 Conversion des arrondissements...\n",
      "\n",
      "✅ RÉSULTATS :\n",
      "   • Type avant : object\n",
      "   • Type après : object\n",
      "   • Arrondissements uniques : 21 → 21\n",
      "   • Format standardisé : '75020' au lieu de '75020.0'\n",
      "\n",
      "📊 DISTRIBUTION DES ARRONDISSEMENTS (après nettoyage) :\n",
      "    1. 75018 : 341 terrasses\n",
      "    2. 75015 : 335 terrasses\n",
      "    3. 75011 : 333 terrasses\n",
      "    4. 75010 : 322 terrasses\n",
      "    5. 75017 : 299 terrasses\n",
      "    6. 75014 : 290 terrasses\n",
      "    7. 75005 : 289 terrasses\n",
      "    8. 75012 : 275 terrasses\n",
      "    9. 75008 : 260 terrasses\n",
      "   10. 75009 : 251 terrasses\n"
     ]
    }
   ],
   "source": [
    "\n",
    "print(\"🏙️ ÉTAPE 3: NETTOYAGE DES ARRONDISSEMENTS\")\n",
    "\n",
    "# Conversion et nettoyage\n",
    "print(\"🔄 Conversion des arrondissements...\")\n",
    "\n",
    "# Sauvegarde du type original\n",
    "original_dtype = df_clean['arrondissement'].dtype\n",
    "original_nunique = df_clean['arrondissement'].nunique()\n",
    "\n",
    "# Conversion en string et nettoyage\n",
    "df_clean['arrondissement'] = df_clean['arrondissement'].astype(str)\n",
    "df_clean['arrondissement'] = df_clean['arrondissement'].str.replace('.0', '', regex=False)\n",
    "df_clean['arrondissement'] = df_clean['arrondissement'].replace('nan', np.nan)\n",
    "\n",
    "print(f\"\\n✅ RÉSULTATS :\")\n",
    "print(f\"   • Type avant : {original_dtype}\")\n",
    "print(f\"   • Type après : {df_clean['arrondissement'].dtype}\")\n",
    "print(f\"   • Arrondissements uniques : {original_nunique} → {df_clean['arrondissement'].nunique()}\")\n",
    "print(f\"   • Format standardisé : '75020' au lieu de '75020.0'\")\n",
    "\n",
    "# Distribution des arrondissements\n",
    "print(\"\\n📊 DISTRIBUTION DES ARRONDISSEMENTS (après nettoyage) :\")\n",
    "arrondissement_stats = df_clean['arrondissement'].value_counts().head(10)\n",
    "for i, (arr, count) in enumerate(arrondissement_stats.items(), 1):\n",
    "    print(f\"   {i:2d}. {arr} : {count:,} terrasses\")"
   ]
  },
  {
   "cell_type": "markdown",
   "id": "657c443e",
   "metadata": {},
   "source": [
    "<h2>🏙️ Conclusion</h2>\n",
    "\n",
    "<h3>🎯 Objectif</h3>\n",
    "<ul>\n",
    "    <li>🔢 <strong>Problème de type :</strong> Les valeurs des arrondissements sont enregistrées au format <code>float</code> (ex. 75020.0), ce qui n’est pas adapté à une analyse catégorielle.</li>\n",
    "    <li>🔤 <strong>Conversion nécessaire :</strong> Transformation en <code>string</code> pour permettre les regroupements, tris et visualisations correctes.</li>\n",
    "    <li>🧩 <strong>Uniformisation du format :</strong> Assure la cohérence entre les observations et facilite les comparaisons inter-arrondissements.</li>\n",
    "</ul>\n",
    "\n",
    "<p>✅ Cette étape simplifie l’analyse statistique et visuelle, garantissant une catégorisation claire des arrondissements lors des analyses ultérieures.</p>\n"
   ]
  },
  {
   "cell_type": "markdown",
   "id": "0062fe3e",
   "metadata": {},
   "source": [
    "\n",
    "<!DOCTYPE html>\n",
    "<html>\n",
    "<head>\n",
    "    <style>\n",
    "        body { font-family: Arial, sans-serif; margin: 40px; background: #f5f5f5; color: #333; line-height: 1.6; }\n",
    "        h1 { text-align: center; color: lightgreen; font-size: 36px; font-weight: bold; margin-bottom: 10px; }\n",
    "        h2 { color: #EF806C; font-size: 28px; font-weight: bold; margin-top: 30px; }\n",
    "        h3 { color: #00FFFF; font-size: 22px; font-weight: bold; margin-top: 20px;,  }\n",
    "        ul { margin-left: 20px; }\n",
    "        li { margin: 8px 0; }\n",
    "        hr { height: 2px; border: none; background-color: lightgreen; margin: 20px 0; }\n",
    "    </style>\n",
    "</head>\n",
    "<body>\n",
    "<h3> Standardisation des typologies </h3>\n"
   ]
  },
  {
   "cell_type": "code",
   "execution_count": 10,
   "id": "77865ad0",
   "metadata": {},
   "outputs": [
    {
     "name": "stdout",
     "output_type": "stream",
     "text": [
      "🏷️ ÉTAPE 4: STANDARDISATION DES TYPOLOGIES\n",
      "🔄 Standardisation en cours...\n",
      "\n",
      "✅ RÉSULTATS :\n",
      "   • Types uniques avant : 32\n",
      "   • Types uniques après : 32\n",
      "   • Exemple avant : ['CONTRE-TERRASSE OUVERTE', 'TERRASSE OUVERTE', 'TERRASSE OUVERTE', 'ETALAGE', 'TERRASSE OUVERTE']\n",
      "   • Exemple après : ['CONTRE-TERRASSE OUVERTE', 'TERRASSE OUVERTE', 'TERRASSE OUVERTE', 'ETALAGE', 'TERRASSE OUVERTE']\n",
      "\n",
      "📊 TOP 10 DES TYPOLOGIES (standardisées) :\n",
      "    1. TERRASSE OUVERTE : 1,892\n",
      "    2. ETALAGE : 985\n",
      "    3. CONTRE TERRASSE ESTIVALE SUR STATIONNEMENT : 464\n",
      "    4. TERRASSE FERMÉE : 408\n",
      "    5. TERRASSES OUVERTES SUR TROTTOIR : 346\n",
      "    6. TERRASSE ESTIVALE SUR TROTTOIR FACE À LA DEVANTURE : 225\n",
      "    7. CONTRE TERRASSE ESTIVALE SUR TROTTOIR FACE À LA DEVANTURE : 159\n",
      "    8. CONTRE-TERRASSE PERMANENTE SUR STATIONNEMENT : 59\n",
      "    9. ÉTALAGE SUR TROTTOIR : 59\n",
      "   10. COMMERCE ACCESSOIRE : 57\n"
     ]
    }
   ],
   "source": [
    "\n",
    "print(\"🏷️ ÉTAPE 4: STANDARDISATION DES TYPOLOGIES\")\n",
    "\n",
    "# Sauvegarde des stats avant nettoyage\n",
    "original_typologies = df_clean['typologie'].nunique()\n",
    "original_sample = df_clean['typologie'].head(5).tolist()\n",
    "\n",
    "print(\"🔄 Standardisation en cours...\")\n",
    "\n",
    "# Nettoyage des typologies\n",
    "df_clean['typologie'] = df_clean['typologie'].str.strip().str.upper()\n",
    "df_clean['typologie'] = df_clean['typologie'].replace('NAN', np.nan)\n",
    "\n",
    "print(f\"\\n✅ RÉSULTATS :\")\n",
    "print(f\"   • Types uniques avant : {original_typologies}\")\n",
    "print(f\"   • Types uniques après : {df_clean['typologie'].nunique()}\")\n",
    "print(f\"   • Exemple avant : {original_sample}\")\n",
    "print(f\"   • Exemple après : {df_clean['typologie'].head(5).tolist()}\")\n",
    "\n",
    "# Top des typologies après nettoyage\n",
    "print(\"\\n📊 TOP 10 DES TYPOLOGIES (standardisées) :\")\n",
    "typologie_stats = df_clean['typologie'].value_counts().head(10)\n",
    "for i, (typo, count) in enumerate(typologie_stats.items(), 1):\n",
    "    print(f\"   {i:2d}. {typo} : {count:,}\")"
   ]
  },
  {
   "cell_type": "markdown",
   "id": "e665e047",
   "metadata": {},
   "source": [
    "<h2>🧹Conclusion</h2>\n",
    "\n",
    "<h3>🎯 Objectif</h3>\n",
    "<ul>\n",
    "    <li>🔠 <strong>Uniformiser la casse :</strong> Convertir toutes les valeurs en minuscules (ou majuscules) afin d’éviter les doublons dus aux variations de casse.</li>\n",
    "    <li>✂️ <strong>Supprimer les espaces superflus :</strong> Éliminer les espaces en début ou fin de chaîne pour garantir la cohérence des données textuelles.</li>\n",
    "    <li>🏷️ <strong>Préparer les catégories :</strong> Faciliter les regroupements, tris et visualisations lors des futures analyses catégorielles.</li>\n",
    "</ul>\n",
    "\n",
    "<p>✅ Cette étape améliore la qualité des données textuelles et garantit des regroupements fiables lors de l’analyse exploratoire.</p>\n"
   ]
  },
  {
   "cell_type": "markdown",
   "id": "2941cbbc",
   "metadata": {},
   "source": [
    "\n",
    "<!DOCTYPE html>\n",
    "<html>\n",
    "<head>\n",
    "    <style>\n",
    "        body { font-family: Arial, sans-serif; margin: 40px; background: #f5f5f5; color: #333; line-height: 1.6; }\n",
    "        h1 { text-align: center; color: lightgreen; font-size: 36px; font-weight: bold; margin-bottom: 10px; }\n",
    "        h2 { color: #EF806C; font-size: 28px; font-weight: bold; margin-top: 30px; }\n",
    "        h3 { color: #00FFFF; font-size: 22px; font-weight: bold; margin-top: 20px;,  }\n",
    "        ul { margin-left: 20px; }\n",
    "        li { margin: 8px 0; }\n",
    "        hr { height: 2px; border: none; background-color: lightgreen; margin: 20px 0; }\n",
    "    </style>\n",
    "</head>\n",
    "<body>\n",
    "<h3> Filtrage des données complètes </h3>\n"
   ]
  },
  {
   "cell_type": "code",
   "execution_count": 11,
   "id": "d9001772",
   "metadata": {},
   "outputs": [
    {
     "name": "stdout",
     "output_type": "stream",
     "text": [
      "🎯 ÉTAPE 5: FILTRAGE DES DONNÉES COMPLÈTES\n",
      "📊 Avant filtrage : 5,000 enregistrements\n",
      "\n",
      "🔍 VÉRIFICATION DES DONNÉES MANQUANTES :\n",
      "   • latitude        :     0 manquantes (  0.0%)\n",
      "   • longitude       :     0 manquantes (  0.0%)\n",
      "   • typologie       :     2 manquantes (  0.0%)\n",
      "\n",
      "🔄 Filtrage en cours...\n",
      "\n",
      "✅ RÉSULTATS :\n",
      "   • Enregistrements conservés : 4,998\n",
      "   • Taux de conservation : 100.0%\n",
      "   • Données éliminées : 2\n"
     ]
    }
   ],
   "source": [
    "\n",
    "print(\"🎯 ÉTAPE 5: FILTRAGE DES DONNÉES COMPLÈTES\")\n",
    "\n",
    "initial_count = len(df_clean)\n",
    "print(f\"📊 Avant filtrage : {initial_count:,} enregistrements\")\n",
    "\n",
    "# Colonnes critiques pour l'analyse\n",
    "critical_columns = ['latitude', 'longitude', 'typologie']\n",
    "\n",
    "print(f\"\\n🔍 VÉRIFICATION DES DONNÉES MANQUANTES :\")\n",
    "for col in critical_columns:\n",
    "    missing = df_clean[col].isna().sum()\n",
    "    print(f\"   • {col:15} : {missing:5,} manquantes ({missing/initial_count*100:5.1f}%)\")\n",
    "\n",
    "# Filtrage\n",
    "print(\"\\n🔄 Filtrage en cours...\")\n",
    "df_clean = df_clean.dropna(subset=critical_columns)\n",
    "final_count = len(df_clean)\n",
    "\n",
    "print(f\"\\n✅ RÉSULTATS :\")\n",
    "print(f\"   • Enregistrements conservés : {final_count:,}\")\n",
    "print(f\"   • Taux de conservation : {final_count/initial_count*100:.1f}%\")\n",
    "print(f\"   • Données éliminées : {initial_count - final_count:,}\")"
   ]
  },
  {
   "cell_type": "markdown",
   "id": "e3b4407c",
   "metadata": {},
   "source": [
    "<h2>🧭 Conclusion </h2>\n",
    "\n",
    "<h3>🎯 Objectif</h3>\n",
    "<ul>\n",
    "    <li>🧹 <strong>Supprimer les lignes incomplètes :</strong> Retirer les enregistrements contenant des valeurs manquantes sur des champs essentiels à l’analyse.</li>\n",
    "    <li>📍 <strong>Conserver uniquement les données géolocalisées :</strong> Garder les lignes avec des coordonnées GPS et une typologie valide pour permettre les analyses spatiales.</li>\n",
    "    <li>📊 <strong>Améliorer la fiabilité des analyses :</strong> Garantir que les visualisations et modèles reposent sur des données complètes et cohérentes.</li>\n",
    "</ul>\n",
    "\n",
    "<p>✅ Cette étape assure une base de données propre, exploitable et prête pour les étapes de clustering et d’exploration géographique.</p>\n"
   ]
  },
  {
   "cell_type": "markdown",
   "id": "4e9ffaa2",
   "metadata": {},
   "source": [
    "\n",
    "<!DOCTYPE html>\n",
    "<html>\n",
    "<head>\n",
    "    <style>\n",
    "        body { font-family: Arial, sans-serif; margin: 40px; background: #f5f5f5; color: #333; line-height: 1.6; }\n",
    "        h1 { text-align: center; color: lightgreen; font-size: 36px; font-weight: bold; margin-bottom: 10px; }\n",
    "        h2 { color: #EF806C; font-size: 28px; font-weight: bold; margin-top: 30px; }\n",
    "        h3 { color: #00FFFF; font-size: 22px; font-weight: bold; margin-top: 20px;,  }\n",
    "        ul { margin-left: 20px; }\n",
    "        li { margin: 8px 0; }\n",
    "        hr { height: 2px; border: none; background-color: lightgreen; margin: 20px 0; }\n",
    "    </style>\n",
    "</head>\n",
    "<body>\n",
    "<h3> Validation des donées geographique  </h3>\n"
   ]
  },
  {
   "cell_type": "code",
   "execution_count": 12,
   "id": "4ecefbfc",
   "metadata": {},
   "outputs": [
    {
     "name": "stdout",
     "output_type": "stream",
     "text": [
      "🗺️ ÉTAPE 6: VALIDATION GÉOGRAPHIQUE\n",
      "📍 BORNES DE PARIS INTRA-MUROS :\n",
      "   • Latitude  : 48.810 → 48.910\n",
      "   • Longitude : 2.250 → 2.410\n",
      "\n",
      "✅ RÉSULTATS :\n",
      "   • Points avant validation : 4,998\n",
      "   • Points après validation : 4,988\n",
      "   • Points éliminés (hors Paris) : 10\n",
      "\n",
      "🌍 COORDONNÉES FINALES :\n",
      "   • Latitude min/max  : 48.819 / 48.899\n",
      "   • Longitude min/max : 2.255 / 2.410\n"
     ]
    }
   ],
   "source": [
    "\n",
    "print(\"🗺️ ÉTAPE 6: VALIDATION GÉOGRAPHIQUE\")\n",
    "\n",
    "\n",
    "# Bornes géographiques de Paris intra-muros\n",
    "paris_bounds = {\n",
    "    'lat_min': 48.81, 'lat_max': 48.91,   # Latitude Nord/Sud\n",
    "    'lon_min': 2.25, 'lon_max': 2.41      # Longitude Est/Ouest\n",
    "}\n",
    "\n",
    "print(f\"📍 BORNES DE PARIS INTRA-MUROS :\")\n",
    "print(f\"   • Latitude  : {paris_bounds['lat_min']:.3f} → {paris_bounds['lat_max']:.3f}\")\n",
    "print(f\"   • Longitude : {paris_bounds['lon_min']:.3f} → {paris_bounds['lon_max']:.3f}\")\n",
    "\n",
    "initial_geo_count = len(df_clean)\n",
    "\n",
    "# Application du filtre géographique\n",
    "mask_paris = (\n",
    "    (df_clean['latitude'] >= paris_bounds['lat_min']) & \n",
    "    (df_clean['latitude'] <= paris_bounds['lat_max']) &\n",
    "    (df_clean['longitude'] >= paris_bounds['lon_min']) & \n",
    "    (df_clean['longitude'] <= paris_bounds['lon_max'])\n",
    ")\n",
    "\n",
    "df_clean = df_clean[mask_paris]\n",
    "final_geo_count = len(df_clean)\n",
    "\n",
    "print(f\"\\n✅ RÉSULTATS :\")\n",
    "print(f\"   • Points avant validation : {initial_geo_count:,}\")\n",
    "print(f\"   • Points après validation : {final_geo_count:,}\")\n",
    "print(f\"   • Points éliminés (hors Paris) : {initial_geo_count - final_geo_count:,}\")\n",
    "\n",
    "# Vérification des coordonnées\n",
    "print(f\"\\n🌍 COORDONNÉES FINALES :\")\n",
    "print(f\"   • Latitude min/max  : {df_clean['latitude'].min():.3f} / {df_clean['latitude'].max():.3f}\")\n",
    "print(f\"   • Longitude min/max : {df_clean['longitude'].min():.3f} / {df_clean['longitude'].max():.3f}\")"
   ]
  },
  {
   "cell_type": "markdown",
   "id": "47afb884",
   "metadata": {},
   "source": [
    "<h2>🗺️ Conclusion</h2>\n",
    "\n",
    "<h3>🎯 Objectif</h3>\n",
    "<ul>\n",
    "    <li>📍 <strong>Vérifier la localisation :</strong> S’assurer que toutes les coordonnées GPS appartiennent bien au territoire parisien (intra-muros).</li>\n",
    "    <li>🚫 <strong>Éliminer les anomalies géographiques :</strong> Supprimer les points erronés, situés en dehors de Paris ou mal enregistrés.</li>\n",
    "    <li>🧭 <strong>Garantir la cohérence spatiale :</strong> Préparer un jeu de données géographiquement homogène et fiable pour l’analyse des clusters.</li>\n",
    "</ul>\n",
    "\n",
    "<p>✅ Ce filtrage renforce la précision des résultats et évite les biais lors du calcul des regroupements commerciaux ou des visualisations cartographiques.</p>\n"
   ]
  },
  {
   "cell_type": "code",
   "execution_count": 13,
   "id": "c17ff959",
   "metadata": {},
   "outputs": [
    {
     "name": "stdout",
     "output_type": "stream",
     "text": [
      "💾 ÉTAPE 7: SAUVEGARDE ET RÉSUMÉ FINAL\n",
      "\n",
      "======================================================================\n",
      "🎉 RÉSUMÉ COMPLET DU NETTOYAGE - PHASE 3 TERMINÉE !\n",
      "======================================================================\n",
      "\n",
      "📊 STATISTIQUES FINALES :\n",
      "   • Enregistrements bruts initiaux      : 5,000\n",
      "   • Enregistrements après nettoyage     : 4,988\n",
      "   • Taux de conservation global         : 99.8%\n",
      "   • Points géolocalisés valides         : 4,988\n",
      "   • Arrondissements couverts            : 21\n",
      "   • Types de terrasses                  : 32\n",
      "   • Données dans Paris intra-muros      : 100%\n",
      "\n",
      "💾 SAUVEGARDE DES DONNÉES NETTOYÉES...\n",
      "✅ Données sauvegardées : 'data/processed/terrasses_paris_nettoyees.csv'\n",
      "\n",
      "👀 APERÇU FINAL DES DONNÉES NETTOYÉES :\n"
     ]
    },
    {
     "data": {
      "application/vnd.microsoft.datawrangler.viewer.v0+json": {
       "columns": [
        {
         "name": "index",
         "rawType": "int64",
         "type": "integer"
        },
        {
         "name": "typologie",
         "rawType": "object",
         "type": "string"
        },
        {
         "name": "arrondissement",
         "rawType": "object",
         "type": "string"
        },
        {
         "name": "latitude",
         "rawType": "float64",
         "type": "float"
        },
        {
         "name": "longitude",
         "rawType": "float64",
         "type": "float"
        },
        {
         "name": "adresse",
         "rawType": "object",
         "type": "string"
        }
       ],
       "ref": "e356cdc5-bbf0-4910-b8a8-96ed01dd6cd1",
       "rows": [
        [
         "0",
         "CONTRE-TERRASSE OUVERTE",
         "75020",
         "48.866330091701045",
         "2.3854522524772896",
         "14 RUE DES PANOYAUX"
        ],
        [
         "1",
         "TERRASSE OUVERTE",
         "75011",
         "48.854642373630554",
         "2.3857018993955266",
         "167 BOULEVARD VOLTAIRE"
        ],
        [
         "2",
         "TERRASSE OUVERTE",
         "75001",
         "48.86116698012297",
         "2.3410809317051617",
         "16 RUE DU LOUVRE"
        ],
        [
         "3",
         "ETALAGE",
         "75011",
         "48.87125642267529",
         "2.376612773633264",
         "17 RUE LOUIS BONNET"
        ],
        [
         "4",
         "TERRASSE OUVERTE",
         "75018",
         "48.8895941672243",
         "2.335878734861472",
         "65 RUE CAULAINCOURT"
        ]
       ],
       "shape": {
        "columns": 5,
        "rows": 5
       }
      },
      "text/html": [
       "<div>\n",
       "<style scoped>\n",
       "    .dataframe tbody tr th:only-of-type {\n",
       "        vertical-align: middle;\n",
       "    }\n",
       "\n",
       "    .dataframe tbody tr th {\n",
       "        vertical-align: top;\n",
       "    }\n",
       "\n",
       "    .dataframe thead th {\n",
       "        text-align: right;\n",
       "    }\n",
       "</style>\n",
       "<table border=\"1\" class=\"dataframe\">\n",
       "  <thead>\n",
       "    <tr style=\"text-align: right;\">\n",
       "      <th></th>\n",
       "      <th>typologie</th>\n",
       "      <th>arrondissement</th>\n",
       "      <th>latitude</th>\n",
       "      <th>longitude</th>\n",
       "      <th>adresse</th>\n",
       "    </tr>\n",
       "  </thead>\n",
       "  <tbody>\n",
       "    <tr>\n",
       "      <th>0</th>\n",
       "      <td>CONTRE-TERRASSE OUVERTE</td>\n",
       "      <td>75020</td>\n",
       "      <td>48.866330</td>\n",
       "      <td>2.385452</td>\n",
       "      <td>14 RUE DES PANOYAUX</td>\n",
       "    </tr>\n",
       "    <tr>\n",
       "      <th>1</th>\n",
       "      <td>TERRASSE OUVERTE</td>\n",
       "      <td>75011</td>\n",
       "      <td>48.854642</td>\n",
       "      <td>2.385702</td>\n",
       "      <td>167 BOULEVARD VOLTAIRE</td>\n",
       "    </tr>\n",
       "    <tr>\n",
       "      <th>2</th>\n",
       "      <td>TERRASSE OUVERTE</td>\n",
       "      <td>75001</td>\n",
       "      <td>48.861167</td>\n",
       "      <td>2.341081</td>\n",
       "      <td>16 RUE DU LOUVRE</td>\n",
       "    </tr>\n",
       "    <tr>\n",
       "      <th>3</th>\n",
       "      <td>ETALAGE</td>\n",
       "      <td>75011</td>\n",
       "      <td>48.871256</td>\n",
       "      <td>2.376613</td>\n",
       "      <td>17 RUE LOUIS BONNET</td>\n",
       "    </tr>\n",
       "    <tr>\n",
       "      <th>4</th>\n",
       "      <td>TERRASSE OUVERTE</td>\n",
       "      <td>75018</td>\n",
       "      <td>48.889594</td>\n",
       "      <td>2.335879</td>\n",
       "      <td>65 RUE CAULAINCOURT</td>\n",
       "    </tr>\n",
       "  </tbody>\n",
       "</table>\n",
       "</div>"
      ],
      "text/plain": [
       "                 typologie arrondissement   latitude  longitude  \\\n",
       "0  CONTRE-TERRASSE OUVERTE          75020  48.866330   2.385452   \n",
       "1         TERRASSE OUVERTE          75011  48.854642   2.385702   \n",
       "2         TERRASSE OUVERTE          75001  48.861167   2.341081   \n",
       "3                  ETALAGE          75011  48.871256   2.376613   \n",
       "4         TERRASSE OUVERTE          75018  48.889594   2.335879   \n",
       "\n",
       "                  adresse  \n",
       "0     14 RUE DES PANOYAUX  \n",
       "1  167 BOULEVARD VOLTAIRE  \n",
       "2        16 RUE DU LOUVRE  \n",
       "3     17 RUE LOUIS BONNET  \n",
       "4     65 RUE CAULAINCOURT  "
      ]
     },
     "metadata": {},
     "output_type": "display_data"
    },
    {
     "name": "stdout",
     "output_type": "stream",
     "text": [
      "\n",
      "🎯 PROCHAINE ÉTAPE : PHASE 4 - MODELING (Clustering spatial)\n",
      "➡️  Prêt pour l'analyse des clusters avec DBSCAN!\n"
     ]
    }
   ],
   "source": [
    "\n",
    "print(\"💾 ÉTAPE 7: SAUVEGARDE ET RÉSUMÉ FINAL\")\n",
    "\n",
    "# Résumé complet du nettoyage\n",
    "print(\"\\n\" + \"=\"*70)\n",
    "print(\"🎉 RÉSUMÉ COMPLET DU NETTOYAGE - PHASE 3 TERMINÉE !\")\n",
    "print(\"=\"*70)\n",
    "\n",
    "cleaning_summary = {\n",
    "    \"Enregistrements bruts initiaux\": len(df_raw),\n",
    "    \"Enregistrements après nettoyage\": len(df_clean),\n",
    "    \"Taux de conservation global\": f\"{(len(df_clean)/len(df_raw)*100):.1f}%\",\n",
    "    \"Points géolocalisés valides\": df_clean[['latitude', 'longitude']].notna().all(axis=1).sum(),\n",
    "    \"Arrondissements couverts\": df_clean['arrondissement'].nunique(),\n",
    "    \"Types de terrasses\": df_clean['typologie'].nunique(),\n",
    "    \"Données dans Paris intra-muros\": \"100%\"\n",
    "}\n",
    "\n",
    "print(\"\\n📊 STATISTIQUES FINALES :\")\n",
    "for key, value in cleaning_summary.items():\n",
    "    if isinstance(value, str):\n",
    "        print(f\"   • {key:35} : {value}\")\n",
    "    else:\n",
    "        print(f\"   • {key:35} : {value:,}\")\n",
    "\n",
    "# Sauvegarde des données nettoyées\n",
    "print(\"\\n💾 SAUVEGARDE DES DONNÉES NETTOYÉES...\")\n",
    "df_clean.to_csv('../data/processed/terrasses_paris_nettoyees.csv', index=False, encoding='utf-8')\n",
    "print(\"✅ Données sauvegardées : 'data/processed/terrasses_paris_nettoyees.csv'\")\n",
    "\n",
    "print(\"\\n👀 APERÇU FINAL DES DONNÉES NETTOYÉES :\")\n",
    "display(df_clean[['typologie', 'arrondissement', 'latitude', 'longitude', 'adresse']].head(5))\n",
    "\n",
    "print(\"\\n🎯 PROCHAINE ÉTAPE : PHASE 4 - MODELING (Clustering spatial)\")\n",
    "print(\"➡️  Prêt pour l'analyse des clusters avec DBSCAN!\")"
   ]
  },
  {
   "cell_type": "markdown",
   "id": "ce2ea5ae",
   "metadata": {},
   "source": [
    "\n",
    "<!DOCTYPE html>\n",
    "<html>\n",
    "<head>\n",
    "    <style>\n",
    "        body { font-family: Arial, sans-serif; margin: 40px; background: #f5f5f5; color: #333; line-height: 1.6; }\n",
    "        h1 { text-align: center; color: lightgreen; font-size: 36px; font-weight: bold; margin-bottom: 10px; }\n",
    "        h2 { color: #EF806C; font-size: 28px; font-weight: bold; margin-top: 30px; }\n",
    "        h3 { color: #00FFFF; font-size: 22px; font-weight: bold; margin-top: 20px;,  }\n",
    "        ul { margin-left: 20px; }\n",
    "        li { margin: 8px 0; }\n",
    "        hr { height: 2px; border: none; background-color: lightgreen; margin: 20px 0; }\n",
    "    </style>\n",
    "</head>\n",
    "<body>\n",
    "<h3> Verification des types de données </h3>\n"
   ]
  },
  {
   "cell_type": "code",
   "execution_count": 15,
   "id": "01cc2263",
   "metadata": {},
   "outputs": [
    {
     "name": "stdout",
     "output_type": "stream",
     "text": [
      "🔍 TEST 1: VÉRIFICATION DES TYPES DE DONNÉES\n",
      "\n",
      "📊 TYPES ACTUELS DES COLONNES CLÉS :\n",
      "   ✅ latitude        : float64 (attendu: float64)\n",
      "   ✅ longitude       : float64 (attendu: float64)\n",
      "   ✅ typologie       : object (attendu: object)\n",
      "   ✅ arrondissement  : object (attendu: object)\n",
      "\n",
      "📍 VÉRIFICATION NUMÉRIQUE DES COORDONNÉES :\n",
      "   • Latitude  : Min 48.819138, Max 48.898886\n",
      "   • Longitude : Min 2.255028, Max 2.409811\n",
      "   • Valeurs NaN : Lat 0, Lon 0\n"
     ]
    }
   ],
   "source": [
    "\n",
    "print(\"🔍 TEST 1: VÉRIFICATION DES TYPES DE DONNÉES\")\n",
    "\n",
    "\n",
    "data_types_check = {\n",
    "    'latitude': 'float64',\n",
    "    'longitude': 'float64', \n",
    "    'typologie': 'object',\n",
    "    'arrondissement': 'object'\n",
    "}\n",
    "\n",
    "print(\"\\n📊 TYPES ACTUELS DES COLONNES CLÉS :\")\n",
    "for col, expected_type in data_types_check.items():\n",
    "    actual_type = df_clean[col].dtype\n",
    "    status = \"✅\" if str(actual_type) == expected_type else \"❌\"\n",
    "    print(f\"   {status} {col:15} : {actual_type} (attendu: {expected_type})\")\n",
    "\n",
    "# Vérification supplémentaire pour les coordonnées\n",
    "print(f\"\\n📍 VÉRIFICATION NUMÉRIQUE DES COORDONNÉES :\")\n",
    "print(f\"   • Latitude  : Min {df_clean['latitude'].min():.6f}, Max {df_clean['latitude'].max():.6f}\")\n",
    "print(f\"   • Longitude : Min {df_clean['longitude'].min():.6f}, Max {df_clean['longitude'].max():.6f}\")\n",
    "print(f\"   • Valeurs NaN : Lat {df_clean['latitude'].isna().sum()}, Lon {df_clean['longitude'].isna().sum()}\")"
   ]
  },
  {
   "cell_type": "markdown",
   "id": "7c6a33f8",
   "metadata": {},
   "source": [
    "<h2>🧪 Test 1 : Conclusion</h2>\n",
    "\n",
    "<h3>🎯 Objectif</h3>\n",
    "<p>S’assurer que chaque colonne possède le bon type de données afin de garantir la fiabilité des traitements et analyses ultérieurs.</p>\n",
    "\n",
    "<h3>📊 Points de Contrôle</h3>\n",
    "<ul>\n",
    "    <li>✅ <strong>Latitude</strong> → Doit être de type <code>float64</code></li>\n",
    "    <li>✅ <strong>Longitude</strong> → Doit être de type <code>float64</code></li>\n",
    "    <li>✅ <strong>Typologie</strong> → Doit être de type <code>object</code></li>\n",
    "    <li>✅ <strong>Arrondissement</strong> → Doit être de type <code>object</code></li>\n",
    "</ul>\n",
    "\n",
    "<h3>📍 Vérification Numérique des Coordonnées</h3>\n",
    "<ul>\n",
    "    <li>📈 <strong>Latitude :</strong> bornes min/max conformes à la zone parisienne (≈ 48.80 à 48.90)</li>\n",
    "    <li>📉 <strong>Longitude :</strong> bornes min/max conformes (≈ 2.25 à 2.42)</li>\n",
    "    <li>⚙️ <strong>Valeurs manquantes :</strong> Absence ou faible nombre de NaN validée</li>\n",
    "</ul>\n",
    "\n",
    "<p>✅ Cette étape confirme la conformité structurelle du jeu de données avant le passage aux étapes de clustering et de cartographie.</p>"
   ]
  },
  {
   "cell_type": "markdown",
   "id": "56360905",
   "metadata": {},
   "source": [
    "\n",
    "<!DOCTYPE html>\n",
    "<html>\n",
    "<head>\n",
    "    <style>\n",
    "        body { font-family: Arial, sans-serif; margin: 40px; background: #f5f5f5; color: #333; line-height: 1.6; }\n",
    "        h1 { text-align: center; color: lightgreen; font-size: 36px; font-weight: bold; margin-bottom: 10px; }\n",
    "        h2 { color: #EF806C; font-size: 28px; font-weight: bold; margin-top: 30px; }\n",
    "        h3 { color: #00FFFF; font-size: 22px; font-weight: bold; margin-top: 20px;,  }\n",
    "        ul { margin-left: 20px; }\n",
    "        li { margin: 8px 0; }\n",
    "        hr { height: 2px; border: none; background-color: lightgreen; margin: 20px 0; }\n",
    "    </style>\n",
    "</head>\n",
    "<body>\n",
    "<h3> Verification des valeurs manquantes  </h3>\n"
   ]
  },
  {
   "cell_type": "code",
   "execution_count": 16,
   "id": "41f939cb",
   "metadata": {},
   "outputs": [
    {
     "name": "stdout",
     "output_type": "stream",
     "text": [
      "🔍 TEST 2: VÉRIFICATION DES VALEURS MANQUANTES\n",
      "\n",
      "📊 VALEURS MANQUANTES PAR COLONNE CRITIQUE :\n",
      "   ✅ latitude        :    0 manquantes (0.00%)\n",
      "   ✅ longitude       :    0 manquantes (0.00%)\n",
      "   ✅ typologie       :    0 manquantes (0.00%)\n",
      "   ❌ arrondissement  :  148 manquantes (2.97%)\n",
      "\n",
      "🎯 RÉSULTAT DU TEST : ❌ PROBLÈME DÉTECTÉ\n"
     ]
    }
   ],
   "source": [
    "\n",
    "print(\"🔍 TEST 2: VÉRIFICATION DES VALEURS MANQUANTES\")\n",
    "\n",
    "\n",
    "critical_columns = ['latitude', 'longitude', 'typologie', 'arrondissement']\n",
    "\n",
    "print(\"\\n📊 VALEURS MANQUANTES PAR COLONNE CRITIQUE :\")\n",
    "missing_summary = []\n",
    "all_critical_ok = True\n",
    "\n",
    "for col in critical_columns:\n",
    "    missing_count = df_clean[col].isna().sum()\n",
    "    missing_percent = (missing_count / len(df_clean)) * 100\n",
    "    status = \"✅\" if missing_count == 0 else \"❌\"\n",
    "    \n",
    "    if missing_count > 0:\n",
    "        all_critical_ok = False\n",
    "        \n",
    "    missing_summary.append({\n",
    "        'Colonne': col, \n",
    "        'Manquantes': missing_count,\n",
    "        'Pourcentage': f\"{missing_percent:.2f}%\",\n",
    "        'Status': status\n",
    "    })\n",
    "    \n",
    "    print(f\"   {status} {col:15} : {missing_count:4} manquantes ({missing_percent:.2f}%)\")\n",
    "\n",
    "print(f\"\\n🎯 RÉSULTAT DU TEST : {'✅ TOUT EST COMPLET' if all_critical_ok else '❌ PROBLÈME DÉTECTÉ'}\")"
   ]
  },
  {
   "cell_type": "markdown",
   "id": "39335b61",
   "metadata": {},
   "source": [
    "\n",
    "<!DOCTYPE html>\n",
    "<html>\n",
    "<head>\n",
    "    <style>\n",
    "        body { font-family: Arial, sans-serif; margin: 40px; background: #f5f5f5; color: #333; line-height: 1.6; }\n",
    "        h1 { text-align: center; color: lightgreen; font-size: 36px; font-weight: bold; margin-bottom: 10px; }\n",
    "        h2 { color: #EF806C; font-size: 28px; font-weight: bold; margin-top: 30px; }\n",
    "        h3 { color: #00FFFF; font-size: 22px; font-weight: bold; margin-top: 20px;,  }\n",
    "        ul { margin-left: 20px; }\n",
    "        li { margin: 8px 0; }\n",
    "        hr { height: 2px; border: none; background-color: lightgreen; margin: 20px 0; }\n",
    "    </style>\n",
    "</head>\n",
    "<body>\n",
    "<h3> Verification de coherance geographique  </h3>\n"
   ]
  },
  {
   "cell_type": "markdown",
   "id": "ba463a55",
   "metadata": {},
   "source": [
    "\n",
    "<!DOCTYPE html>\n",
    "<html>\n",
    "<head>\n",
    "    <style>\n",
    "        body { font-family: Arial, sans-serif; margin: 40px; background: #f5f5f5; color: #333; line-height: 1.6; }\n",
    "        h1 { text-align: center; color: lightgreen; font-size: 36px; font-weight: bold; margin-bottom: 10px; }\n",
    "        h2 { color: #EF806C; font-size: 28px; font-weight: bold; margin-top: 30px; }\n",
    "        h3 { color: #00FFFF; font-size: 22px; font-weight: bold; margin-top: 20px;,  }\n",
    "        ul { margin-left: 20px; }\n",
    "        li { margin: 8px 0; }\n",
    "        hr { height: 2px; border: none; background-color: lightgreen; margin: 20px 0; }\n",
    "    </style>\n",
    "</head>\n",
    "<body>\n",
    "<h3> Verification des categories </h3>\n"
   ]
  },
  {
   "cell_type": "markdown",
   "id": "ed92269c",
   "metadata": {},
   "source": [
    "\n",
    "<!DOCTYPE html>\n",
    "<html>\n",
    "<head>\n",
    "    <style>\n",
    "        body { font-family: Arial, sans-serif; margin: 40px; background: #f5f5f5; color: #333; line-height: 1.6; }\n",
    "        h1 { text-align: center; color: lightgreen; font-size: 36px; font-weight: bold; margin-bottom: 10px; }\n",
    "        h2 { color: #EF806C; font-size: 28px; font-weight: bold; margin-top: 30px; }\n",
    "        h3 { color: #00FFFF; font-size: 22px; font-weight: bold; margin-top: 20px;,  }\n",
    "        ul { margin-left: 20px; }\n",
    "        li { margin: 8px 0; }\n",
    "        hr { height: 2px; border: none; background-color: lightgreen; margin: 20px 0; }\n",
    "    </style>\n",
    "</head>\n",
    "<body>\n",
    "<h3> Verification specifique pour DBSCAN </h3>\n"
   ]
  },
  {
   "cell_type": "markdown",
   "id": "b5325b51",
   "metadata": {},
   "source": [
    "\n",
    "<!DOCTYPE html>\n",
    "<html>\n",
    "<head>\n",
    "    <style>\n",
    "        body { font-family: Arial, sans-serif; margin: 40px; background: #f5f5f5; color: #333; line-height: 1.6; }\n",
    "        h1 { text-align: center; color: lightgreen; font-size: 36px; font-weight: bold; margin-bottom: 10px; }\n",
    "        h2 { color: #EF806C; font-size: 28px; font-weight: bold; margin-top: 30px; }\n",
    "        h3 { color: #00FFFF; font-size: 22px; font-weight: bold; margin-top: 20px;,  }\n",
    "        ul { margin-left: 20px; }\n",
    "        li { margin: 8px 0; }\n",
    "        hr { height: 2px; border: none; background-color: lightgreen; margin: 20px 0; }\n",
    "    </style>\n",
    "</head>\n",
    "<body>\n",
    "<h3> Rapport final </h3>\n"
   ]
  }
 ],
 "metadata": {
  "kernelspec": {
   "display_name": ".venv",
   "language": "python",
   "name": "python3"
  },
  "language_info": {
   "codemirror_mode": {
    "name": "ipython",
    "version": 3
   },
   "file_extension": ".py",
   "mimetype": "text/x-python",
   "name": "python",
   "nbconvert_exporter": "python",
   "pygments_lexer": "ipython3",
   "version": "3.13.1"
  }
 },
 "nbformat": 4,
 "nbformat_minor": 5
}
