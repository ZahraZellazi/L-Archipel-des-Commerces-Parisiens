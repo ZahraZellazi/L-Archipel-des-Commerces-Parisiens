{
 "cells": [
  {
   "cell_type": "markdown",
   "id": "cb78918d",
   "metadata": {},
   "source": [
    "<!DOCTYPE html>\n",
    "<html>\n",
    "<head>\n",
    "    <style>\n",
    "        body { font-family: Arial, sans-serif; margin: 40px; background: #f5f5f5; color: #333; line-height: 1.6; }\n",
    "        h1 { text-align: center; color: lightgreen; font-size: 36px; font-weight: bold; margin-bottom: 10px; }\n",
    "        h2 { color:  #EF806C; font-size: 28px; font-weight: bold; margin-top: 30px; }\n",
    "        h3 { color: #00FFFF; font-size: 22px; margin-top: 20px; }\n",
    "        ul { margin-left: 20px; }\n",
    "        li { margin: 8px 0; }\n",
    "        hr { height: 2px; border: none; background-color: grelightgreenen ; margin: 20px 0; }\n",
    "    </style>\n",
    "</head>\n",
    "<body>\n",
    "\n",
    "<h1>🏪 PROJET : \"L'ARCHIPEL DES TERRASSES PARISIENNES\"</h1>\n",
    "<h2 style=\"text-align:center; color:lightgreen;\">🔍 Analyse des clusters spontanés de terrasses commerciales à Paris</h2>\n",
    "<hr>\n",
    "\n",
    "<h2>🏪 1. Introduction</h2>\n",
    "<p><strong>📌 Objectif :</strong></p>\n",
    "<p>Ce projet vise à identifier et analyser les clusters spontanés de terrasses et étalages commerciaux à Paris.  \n",
    "Comprendre ces patterns d'agglomération naturelle aide les urbanistes, investisseurs et commerçants à prendre des décisions éclairées.</p>\n",
    "\n",
    "<h2>🛠️ Objectifs Clés</h2>\n",
    "<ul>\n",
    "    <li>🔄 Cartographier les clusters de terrasses par typologie</li>\n",
    "    <li>📈 Analyser les corrélations spatiales entre établissements</li>\n",
    "    <li>🏘️ Étudier l'influence des arrondissements sur la spécialisation</li>\n",
    "    <li>🗺️ Identifier les \"îles commerciales\" extérieures spontanées</li>\n",
    "</ul>\n",
    "\n",
    "<h2>🔑 Définitions</h2>\n",
    "<ul>\n",
    "    <li>🏷️ <strong>Cluster Commercial :</strong> Regroupement naturel de terrasses similaires ou complémentaires. Exemples : zones de restaurants, corridors de cafés, concentrations d'étalages</li>\n",
    "    <li>📊 <strong>Indice de Spécialisation :</strong> Concentration d'un type de terrasse dans une zone vs moyenne parisienne. Formule : (Type X terrasses / total terrasses en zone) × 100</li>\n",
    "    <li>🌐 <strong>Écosystème Commercial Extérieur :</strong> Terrasses interagissant dans un espace, créant des synergies et complémentarités</li>\n",
    "</ul>\n",
    "\n",
    "<h2>🎯 Valeur Métier</h2>\n",
    "<ul>\n",
    "    <li>🏛️ Ville de Paris : Support décisionnel pour les autorisations de terrasses</li>\n",
    "    <li>💼 Investisseurs : Identifier les zones sous-utilisées et opportunités de niche</li>\n",
    "    <li>🛍️ Commerçants : Comprendre les écosystèmes locaux pour un positionnement optimal</li>\n",
    "    <li>🏢 Urbanistes : Analyser les flux économiques et la vitalité des quartiers</li>\n",
    "</ul>\n",
    "\n",
    "<h2>👥 Parties Prenantes</h2>\n",
    "<ul>\n",
    "    <li>🏛️ Ville de Paris – Urbanisme et Développement Économique</li>\n",
    "    <li>💼 Investisseurs Immobiliers – Promoteurs, sociétés foncières</li>\n",
    "    <li>🛍️ Futurs Commerçants / Franchises</li>\n",
    "    <li>🏢 Chambre de Commerce – Support aux entreprises</li>\n",
    "    <li>🎓 Chercheurs en Économie Urbaine</li>\n",
    "</ul>\n",
    "\n",
    "<h2>📊 Critères de Succès</h2>\n",
    "<ul>\n",
    "    <li>🔍 Identifier au moins 5 clusters significatifs de terrasses</li>\n",
    "    <li>📈 Mettre en lumière des corrélations spatiales contre-intuitives</li>\n",
    "    <li>🎯 Produire des insights actionnables pour l'implantation commerciale</li>\n",
    "    <li>📱 Créer des visualisations claires et pédagogiques</li>\n",
    "</ul>\n",
    "\n",
    "<h2>🚧 Contraintes</h2>\n",
    "<ul>\n",
    "    <li>📅 Délai : 5 jours</li>\n",
    "    <li>💾 Données disponibles : 23,616 terrasses et étalages autorisés</li>\n",
    "    <li>🔍 Qualité des données : Catégorisation des types de terrasses à uniformiser</li>\n",
    "    <li>🌍 Périmètre : Paris intra-muros uniquement (20 arrondissements)</li>\n",
    "    <li>✅ MVP : focus sur l'analyse spatiale des implantations extérieures</li>\n",
    "</ul>\n",
    "\n",
    "<h2>📋 Livrables</h2>\n",
    "<ul>\n",
    "    <li>📊 Rapport d'analyse complet avec méthodologie et résultats</li>\n",
    "    <li>🗺️ Carte interactive des clusters identifiés</li>\n",
    "    <li>📈 Tableau de bord des métriques clés</li>\n",
    "    <li>💾 Code source et documentation technique</li>\n",
    "    <li>🎤 Présentation synthétique pour les parties prenantes</li>\n",
    "</ul>\n",
    "\n",
    "</body>\n",
    "</html>"
   ]
  },
  {
   "cell_type": "markdown",
   "id": "d7c3619c",
   "metadata": {},
   "source": [
    "<!DOCTYPE html>\n",
    "<html>\n",
    "<head>\n",
    "    <style>\n",
    "        body { font-family: Arial, sans-serif; margin: 40px; background: #f5f5f5; color: #333; line-height: 1.6; }\n",
    "        h1 { text-align: center; color: lightgreen; font-size: 36px; font-weight: bold; margin-bottom: 10px; }\n",
    "        h2 { color: #EF806C; font-size: 28px; font-weight: bold; margin-top: 30px; }\n",
    "        h3 { color: #00FFFF; font-size: 22px; margin-top: 20px; }\n",
    "        ul { margin-left: 20px; }\n",
    "        li { margin: 8px 0; }\n",
    "        hr { height: 2px; border: none; background-color: lightgreen; margin: 20px 0; }\n",
    "    </style>\n",
    "</head>\n",
    "<body>\n",
    "\n",
    "<h1>🏪 2. Data Understanding</h2>\n",
    "<p><strong>📌 Goal:</strong></p>\n",
    "<p>The Data Understanding phase aims to explore and comprehend the dataset collected. This step ensures that all variables, their distributions, and the data quality are well understood before moving to analysis and modeling.</p>\n",
    "\n",
    "<h2>🛠️ Key Elements of This Phase</h2>\n",
    "<ul>\n",
    "    <li>🔍 Dataset exploration: rows, columns, and types of variables</li>\n",
    "    <li>🧹 Data quality assessment: missing values, inconsistencies, duplicates</li>\n",
    "    <li>📊 Summary statistics: counts, averages, ranges, distributions</li>\n",
    "    <li>🌐 Spatial analysis: examining locations, districts, coordinates</li>\n",
    "    <li>🏷️ Categorical analysis: types of terraces, district classification, permit status</li>\n",
    "    <li>📅 Temporal analysis: permit dates, seasonality, trends over time</li>\n",
    "</ul>\n",
    "\n",
    "<p>This phase sets the foundation for **data cleaning, preparation, and further analysis** by providing a clear understanding of what the dataset contains and its limitations.</p>\n"
   ]
  },
  {
   "cell_type": "markdown",
   "id": "ce822b66",
   "metadata": {},
   "source": [
    "<!DOCTYPE html>\n",
    "<html>\n",
    "<head>\n",
    "    <style>\n",
    "        body { font-family: Arial, sans-serif; margin: 40px; background: #f5f5f5; color: #333; line-height: 1.6; }\n",
    "        h1 { text-align: center; color: lightgreen; font-size: 36px; font-weight: bold; margin-bottom: 10px; }\n",
    "        h2 { color: #EF806C; font-size: 28px; font-weight: bold; margin-top: 30px; }\n",
    "        h3 { color: #00FFFF; font-size: 22px; font-weight: bold; margin-top: 20px;,  }\n",
    "        ul { margin-left: 20px; }\n",
    "        li { margin: 8px 0; }\n",
    "        hr { height: 2px; border: none; background-color: lightgreen; margin: 20px 0; }\n",
    "    </style>\n",
    "</head>\n",
    "<body>\n",
    "<h3>Imports</h3>\n"
   ]
  },
  {
   "cell_type": "code",
   "execution_count": 13,
   "id": "b6232790",
   "metadata": {},
   "outputs": [
    {
     "name": "stdout",
     "output_type": "stream",
     "text": [
      "📚 CHARGEMENT DES BIBLIOTHÈQUES...\n",
      "✅ Bibliothèques chargées avec succès!\n"
     ]
    }
   ],
   "source": [
    "# %% Cellule 2: Installation et Import des Bibliothèques\n",
    "print(\"📚 CHARGEMENT DES BIBLIOTHÈQUES...\")\n",
    "\n",
    "import pandas as pd\n",
    "import numpy as np\n",
    "import matplotlib.pyplot as plt\n",
    "import seaborn as sns\n",
    "from sklearn.cluster import DBSCAN\n",
    "from sklearn.preprocessing import StandardScaler\n",
    "import folium\n",
    "from folium.plugins import MarkerCluster\n",
    "import plotly.express as px\n",
    "import plotly.graph_objects as go\n",
    "from plotly.subplots import make_subplots\n",
    "\n",
    "\n",
    "print(\"✅ Bibliothèques chargées avec succès!\")"
   ]
  },
  {
   "cell_type": "markdown",
   "id": "9c3627e2",
   "metadata": {},
   "source": [
    "<!DOCTYPE html>\n",
    "<html>\n",
    "<head>\n",
    "    <style>\n",
    "        body { font-family: Arial, sans-serif; margin: 40px; background: #f5f5f5; color: #333; line-height: 1.6; }\n",
    "        h1 { text-align: center; color: lightgreen; font-size: 36px; font-weight: bold; margin-bottom: 10px; }\n",
    "        h2 { color: #EF806C; font-size: 28px; font-weight: bold; margin-top: 30px; }\n",
    "        h3 { color: #00FFFF; font-size: 22px; font-weight: bold; margin-top: 20px;,  }\n",
    "        ul { margin-left: 20px; }\n",
    "        li { margin: 8px 0; }\n",
    "        hr { height: 2px; border: none; background-color: lightgreen; margin: 20px 0; }\n",
    "    </style>\n",
    "</head>\n",
    "<body>\n",
    "<h3>Data Loading</h3>\n"
   ]
  },
  {
   "cell_type": "code",
   "execution_count": 14,
   "id": "0fdd721c",
   "metadata": {},
   "outputs": [
    {
     "name": "stdout",
     "output_type": "stream",
     "text": [
      "📂 CHARGEMENT DES DONNÉES...\n",
      "✅ DONNÉES BRUTES CHARGÉES : 5,000 terrasses\n",
      "📊 Dimensions : 5000 lignes x 12 colonnes\n"
     ]
    }
   ],
   "source": [
    "\n",
    "print(\"📂 CHARGEMENT DES DONNÉES...\")\n",
    "\n",
    "df_raw = pd.read_csv('../data/raw/terrasses_paris.csv')\n",
    "\n",
    "print(f\"✅ DONNÉES BRUTES CHARGÉES : {len(df_raw):,} terrasses\")\n",
    "print(f\"📊 Dimensions : {df_raw.shape[0]} lignes x {df_raw.shape[1]} colonnes\")\n"
   ]
  },
  {
   "cell_type": "markdown",
   "id": "b3a5866a",
   "metadata": {},
   "source": [
    "<!DOCTYPE html>\n",
    "<html>\n",
    "<head>\n",
    "    <style>\n",
    "        body { font-family: Arial, sans-serif; margin: 40px; background: #f5f5f5; color: #333; line-height: 1.6; }\n",
    "        h1 { text-align: center; color: lightgreen; font-size: 36px; font-weight: bold; margin-bottom: 10px; }\n",
    "        h2 { color: #EF806C; font-size: 28px; font-weight: bold; margin-top: 30px; }\n",
    "        h3 { color: #00FFFF; font-size: 22px; font-weight: bold; margin-top: 20px;,  }\n",
    "        ul { margin-left: 20px; }\n",
    "        li { margin: 8px 0; }\n",
    "        hr { height: 2px; border: none; background-color: lightgreen; margin: 20px 0; }\n",
    "    </style>\n",
    "</head>\n",
    "<body>\n",
    "<h3>Exploration des colonnes brutes</h3>\n"
   ]
  },
  {
   "cell_type": "code",
   "execution_count": 15,
   "id": "c4527944",
   "metadata": {},
   "outputs": [
    {
     "name": "stdout",
     "output_type": "stream",
     "text": [
      "\n",
      "👀 APERÇU DES DONNÉES BRUTES :\n"
     ]
    },
    {
     "data": {
      "application/vnd.microsoft.datawrangler.viewer.v0+json": {
       "columns": [
        {
         "name": "index",
         "rawType": "int64",
         "type": "integer"
        },
        {
         "name": "typologie",
         "rawType": "object",
         "type": "string"
        },
        {
         "name": "adresse",
         "rawType": "object",
         "type": "string"
        },
        {
         "name": "arrondissement",
         "rawType": "float64",
         "type": "float"
        },
        {
         "name": "nom_enseigne",
         "rawType": "object",
         "type": "unknown"
        },
        {
         "name": "nom_societe",
         "rawType": "object",
         "type": "unknown"
        },
        {
         "name": "siret",
         "rawType": "float64",
         "type": "float"
        },
        {
         "name": "longueur",
         "rawType": "float64",
         "type": "float"
        },
        {
         "name": "largeur",
         "rawType": "float64",
         "type": "float"
        },
        {
         "name": "periode_installation",
         "rawType": "object",
         "type": "unknown"
        },
        {
         "name": "lien_affichette",
         "rawType": "object",
         "type": "string"
        },
        {
         "name": "geo_shape",
         "rawType": "object",
         "type": "string"
        },
        {
         "name": "geo_point_2d",
         "rawType": "object",
         "type": "string"
        }
       ],
       "ref": "8d8af611-da84-4407-9410-17814a90f2e0",
       "rows": [
        [
         "0",
         "CONTRE-TERRASSE OUVERTE",
         "14 RUE DES PANOYAUX",
         "75020.0",
         "LOU PASCALOU",
         null,
         "52384400000000.0",
         "4.8",
         "4.0",
         null,
         "https://eudonet-terrasses.apps.paris.fr/xrm/at?tok=D6B73972&cs=yUZEpjDcLmM4cArTiYVmgXZ_KiXLZq8f8iJqKvI4hoHOmUGnOeppUHbELO5yok2L-KqCX7qZ9V8%3d&p=chMOZL_3S4Vd7FEjAQ0taMI1MuhNttdNzKfjeDZyRwP3fyqYH8SyyiQptG6JPJtWFrktS4Xi1-A%3d&mdinline=attch",
         "{'type': 'Feature', 'geometry': {'coordinates': [2.3854522524772896, 48.866330091701045], 'type': 'Point'}, 'properties': {}}",
         "{'lon': 2.3854522524772896, 'lat': 48.866330091701045}"
        ],
        [
         "1",
         "TERRASSE OUVERTE",
         "167 BOULEVARD VOLTAIRE",
         "75011.0",
         null,
         null,
         "51285600000000.0",
         "7.65",
         "2.0",
         null,
         "https://eudonet-terrasses.apps.paris.fr/xrm/at?tok=D6B73972&cs=yUZEpjDcLmM4cArTiYVmgb2Cj--5N_VhWknIqV5_MgjrFrb2GTnjmVXzkypuJYNWORPuZV40DAE%3d&p=chMOZL_3S4WG6aKVUeyH5Ell8eP_WOLTyN05jqL38WZZTow38whMoUeN0pT344cKT1tHI9pRLrU%3d&mdinline=attch",
         "{'type': 'Feature', 'geometry': {'coordinates': [2.3857018993955266, 48.854642373630554], 'type': 'Point'}, 'properties': {}}",
         "{'lon': 2.3857018993955266, 'lat': 48.854642373630554}"
        ],
        [
         "2",
         "TERRASSE OUVERTE",
         "16 RUE DU LOUVRE",
         "75001.0",
         "CHEZ ALEXANDRE",
         null,
         "42221800000000.0",
         "2.5",
         "1.1",
         null,
         "https://eudonet-terrasses.apps.paris.fr/xrm/at?tok=D6B73972&cs=yUZEpjDcLmM4cArTiYVmgSB9Hva5KZS7UqyiIHpwianFAYyEOJKCQTLNTBPxaN_gqyHZ2BV3MNI%3d&p=chMOZL_3S4Vbt23cdWa_yqkU344rAykIO0DHScNwjxJTwYEL59sc7_2oPvj4NMdkIQKqhp4aZl8%3d&mdinline=attch",
         "{'type': 'Feature', 'geometry': {'coordinates': [2.3410809317051617, 48.86116698012297], 'type': 'Point'}, 'properties': {}}",
         "{'lon': 2.3410809317051617, 'lat': 48.86116698012297}"
        ]
       ],
       "shape": {
        "columns": 12,
        "rows": 3
       }
      },
      "text/html": [
       "<div>\n",
       "<style scoped>\n",
       "    .dataframe tbody tr th:only-of-type {\n",
       "        vertical-align: middle;\n",
       "    }\n",
       "\n",
       "    .dataframe tbody tr th {\n",
       "        vertical-align: top;\n",
       "    }\n",
       "\n",
       "    .dataframe thead th {\n",
       "        text-align: right;\n",
       "    }\n",
       "</style>\n",
       "<table border=\"1\" class=\"dataframe\">\n",
       "  <thead>\n",
       "    <tr style=\"text-align: right;\">\n",
       "      <th></th>\n",
       "      <th>typologie</th>\n",
       "      <th>adresse</th>\n",
       "      <th>arrondissement</th>\n",
       "      <th>nom_enseigne</th>\n",
       "      <th>nom_societe</th>\n",
       "      <th>siret</th>\n",
       "      <th>longueur</th>\n",
       "      <th>largeur</th>\n",
       "      <th>periode_installation</th>\n",
       "      <th>lien_affichette</th>\n",
       "      <th>geo_shape</th>\n",
       "      <th>geo_point_2d</th>\n",
       "    </tr>\n",
       "  </thead>\n",
       "  <tbody>\n",
       "    <tr>\n",
       "      <th>0</th>\n",
       "      <td>CONTRE-TERRASSE OUVERTE</td>\n",
       "      <td>14 RUE DES PANOYAUX</td>\n",
       "      <td>75020.0</td>\n",
       "      <td>LOU PASCALOU</td>\n",
       "      <td>NaN</td>\n",
       "      <td>5.238440e+13</td>\n",
       "      <td>4.80</td>\n",
       "      <td>4.0</td>\n",
       "      <td>NaN</td>\n",
       "      <td>https://eudonet-terrasses.apps.paris.fr/xrm/at...</td>\n",
       "      <td>{'type': 'Feature', 'geometry': {'coordinates'...</td>\n",
       "      <td>{'lon': 2.3854522524772896, 'lat': 48.86633009...</td>\n",
       "    </tr>\n",
       "    <tr>\n",
       "      <th>1</th>\n",
       "      <td>TERRASSE OUVERTE</td>\n",
       "      <td>167 BOULEVARD VOLTAIRE</td>\n",
       "      <td>75011.0</td>\n",
       "      <td>NaN</td>\n",
       "      <td>NaN</td>\n",
       "      <td>5.128560e+13</td>\n",
       "      <td>7.65</td>\n",
       "      <td>2.0</td>\n",
       "      <td>NaN</td>\n",
       "      <td>https://eudonet-terrasses.apps.paris.fr/xrm/at...</td>\n",
       "      <td>{'type': 'Feature', 'geometry': {'coordinates'...</td>\n",
       "      <td>{'lon': 2.3857018993955266, 'lat': 48.85464237...</td>\n",
       "    </tr>\n",
       "    <tr>\n",
       "      <th>2</th>\n",
       "      <td>TERRASSE OUVERTE</td>\n",
       "      <td>16 RUE DU LOUVRE</td>\n",
       "      <td>75001.0</td>\n",
       "      <td>CHEZ ALEXANDRE</td>\n",
       "      <td>NaN</td>\n",
       "      <td>4.222180e+13</td>\n",
       "      <td>2.50</td>\n",
       "      <td>1.1</td>\n",
       "      <td>NaN</td>\n",
       "      <td>https://eudonet-terrasses.apps.paris.fr/xrm/at...</td>\n",
       "      <td>{'type': 'Feature', 'geometry': {'coordinates'...</td>\n",
       "      <td>{'lon': 2.3410809317051617, 'lat': 48.86116698...</td>\n",
       "    </tr>\n",
       "  </tbody>\n",
       "</table>\n",
       "</div>"
      ],
      "text/plain": [
       "                 typologie                 adresse  arrondissement  \\\n",
       "0  CONTRE-TERRASSE OUVERTE     14 RUE DES PANOYAUX         75020.0   \n",
       "1         TERRASSE OUVERTE  167 BOULEVARD VOLTAIRE         75011.0   \n",
       "2         TERRASSE OUVERTE        16 RUE DU LOUVRE         75001.0   \n",
       "\n",
       "     nom_enseigne nom_societe         siret  longueur  largeur  \\\n",
       "0    LOU PASCALOU         NaN  5.238440e+13      4.80      4.0   \n",
       "1             NaN         NaN  5.128560e+13      7.65      2.0   \n",
       "2  CHEZ ALEXANDRE         NaN  4.222180e+13      2.50      1.1   \n",
       "\n",
       "  periode_installation                                    lien_affichette  \\\n",
       "0                  NaN  https://eudonet-terrasses.apps.paris.fr/xrm/at...   \n",
       "1                  NaN  https://eudonet-terrasses.apps.paris.fr/xrm/at...   \n",
       "2                  NaN  https://eudonet-terrasses.apps.paris.fr/xrm/at...   \n",
       "\n",
       "                                           geo_shape  \\\n",
       "0  {'type': 'Feature', 'geometry': {'coordinates'...   \n",
       "1  {'type': 'Feature', 'geometry': {'coordinates'...   \n",
       "2  {'type': 'Feature', 'geometry': {'coordinates'...   \n",
       "\n",
       "                                        geo_point_2d  \n",
       "0  {'lon': 2.3854522524772896, 'lat': 48.86633009...  \n",
       "1  {'lon': 2.3857018993955266, 'lat': 48.85464237...  \n",
       "2  {'lon': 2.3410809317051617, 'lat': 48.86116698...  "
      ]
     },
     "metadata": {},
     "output_type": "display_data"
    },
    {
     "name": "stdout",
     "output_type": "stream",
     "text": [
      "\n",
      "📋 TOUTES LES COLONNES DISPONIBLES :\n",
      "    1. typologie - Type: object\n",
      "    2. adresse - Type: object\n",
      "    3. arrondissement - Type: float64\n",
      "    4. nom_enseigne - Type: object\n",
      "    5. nom_societe - Type: object\n",
      "    6. siret - Type: float64\n",
      "    7. longueur - Type: float64\n",
      "    8. largeur - Type: float64\n",
      "    9. periode_installation - Type: object\n",
      "   10. lien_affichette - Type: object\n",
      "   11. geo_shape - Type: object\n",
      "   12. geo_point_2d - Type: object\n",
      "\n",
      "🎯 COLONNES IMPORTANTES IDENTIFIÉES :\n",
      "   ✅ adresse\n",
      "   ✅ arrondissement\n",
      "   ✅ nom_enseigne\n",
      "   ✅ nom_societe\n",
      "   ✅ geo_shape\n",
      "   ✅ geo_point_2d\n",
      "\n",
      "📊 Aperçu de 'adresse':\n",
      "0       14 RUE DES PANOYAUX\n",
      "1    167 BOULEVARD VOLTAIRE\n",
      "2          16 RUE DU LOUVRE\n",
      "3       17 RUE LOUIS BONNET\n",
      "4       65 RUE CAULAINCOURT\n",
      "Name: adresse, dtype: object\n",
      "\n",
      "📊 Aperçu de 'arrondissement':\n",
      "0    75020.0\n",
      "1    75011.0\n",
      "2    75001.0\n",
      "3    75011.0\n",
      "4    75018.0\n",
      "Name: arrondissement, dtype: float64\n",
      "\n",
      "📊 Aperçu de 'nom_enseigne':\n",
      "0              LOU PASCALOU\n",
      "1                       NaN\n",
      "2            CHEZ ALEXANDRE\n",
      "3                    TINTIN\n",
      "4    LE CEPAGE MONTMARTROIS\n",
      "Name: nom_enseigne, dtype: object\n",
      "\n",
      "📊 Aperçu de 'nom_societe':\n",
      "0    NaN\n",
      "1    NaN\n",
      "2    NaN\n",
      "3    NaN\n",
      "4    NaN\n",
      "Name: nom_societe, dtype: object\n",
      "\n",
      "📊 Aperçu de 'geo_shape':\n",
      "0    {'type': 'Feature', 'geometry': {'coordinates'...\n",
      "1    {'type': 'Feature', 'geometry': {'coordinates'...\n",
      "2    {'type': 'Feature', 'geometry': {'coordinates'...\n",
      "3    {'type': 'Feature', 'geometry': {'coordinates'...\n",
      "4    {'type': 'Feature', 'geometry': {'coordinates'...\n",
      "Name: geo_shape, dtype: object\n",
      "\n",
      "📊 Aperçu de 'geo_point_2d':\n",
      "0    {'lon': 2.3854522524772896, 'lat': 48.86633009...\n",
      "1    {'lon': 2.3857018993955266, 'lat': 48.85464237...\n",
      "2    {'lon': 2.3410809317051617, 'lat': 48.86116698...\n",
      "3    {'lon': 2.376612773633264, 'lat': 48.871256422...\n",
      "4    {'lon': 2.335878734861472, 'lat': 48.889594167...\n",
      "Name: geo_point_2d, dtype: object\n"
     ]
    }
   ],
   "source": [
    "print(\"\\n👀 APERÇU DES DONNÉES BRUTES :\")\n",
    "display(df_raw.head(3))\n",
    "\n",
    "print(\"\\n📋 TOUTES LES COLONNES DISPONIBLES :\")\n",
    "for i, col in enumerate(df_raw.columns, 1):\n",
    "    print(f\"   {i:2d}. {col} - Type: {df_raw[col].dtype}\")\n",
    "\n",
    "print(f\"\\n🎯 COLONNES IMPORTANTES IDENTIFIÉES :\")\n",
    "important_cols = []\n",
    "for col in df_raw.columns:\n",
    "    if any(keyword in col.lower() for keyword in ['type', 'arrondissement', 'adresse', 'geo', 'nom', 'enseigne']):\n",
    "        important_cols.append(col)\n",
    "        print(f\"   ✅ {col}\")\n",
    "\n",
    "for col in important_cols:\n",
    "    print(f\"\\n📊 Aperçu de '{col}':\")\n",
    "    print(df_raw[col].head(5))"
   ]
  },
  {
   "cell_type": "markdown",
   "id": "5a11e5ac",
   "metadata": {},
   "source": [
    "### 📌 Interpretation: Data Understanding\n",
    "\n",
    "- **Columns Overview:** The dataset contains 12 columns, covering shop type, location, legal entity, dimensions, installation period, and geospatial info.\n",
    "- **Key Columns Selected:** `adresse`, `arrondissement`, `nom_enseigne`, `nom_societe`, `geo_shape`, `geo_point_2d` — these are essential for spatial and business analysis.\n",
    "- **Insights:**\n",
    "  - `adresse` & `arrondissement` → help locate shops and analyze spatial distribution.\n",
    "  - `nom_enseigne` & `nom_societe` → identify brand presence and company patterns.\n",
    "  - `geo_shape` & `geo_point_2d` → allow mapping clusters and measuring proximity."
   ]
  },
  {
   "cell_type": "markdown",
   "id": "b0367ebb",
   "metadata": {},
   "source": [
    "\n",
    "<!DOCTYPE html>\n",
    "<html>\n",
    "<head>\n",
    "    <style>\n",
    "        body { font-family: Arial, sans-serif; margin: 40px; background: #f5f5f5; color: #333; line-height: 1.6; }\n",
    "        h1 { text-align: center; color: lightgreen; font-size: 36px; font-weight: bold; margin-bottom: 10px; }\n",
    "        h2 { color: #EF806C; font-size: 28px; font-weight: bold; margin-top: 30px; }\n",
    "        h3 { color: #00FFFF; font-size: 22px; font-weight: bold; margin-top: 20px;,  }\n",
    "        ul { margin-left: 20px; }\n",
    "        li { margin: 8px 0; }\n",
    "        hr { height: 2px; border: none; background-color: lightgreen; margin: 20px 0; }\n",
    "    </style>\n",
    "</head>\n",
    "<body>\n",
    "<h3>Qualité des colonnes brutes</h3>\n"
   ]
  },
  {
   "cell_type": "code",
   "execution_count": 16,
   "id": "f24b2de4",
   "metadata": {},
   "outputs": [
    {
     "name": "stdout",
     "output_type": "stream",
     "text": [
      "\n",
      "🔍 ANALYSE DE LA QUALITÉ (BRUTES) :\n",
      "📊 VALEURS MANQUANTES PAR COLONNE :\n",
      "   ⚠️  typologie                      :      2 manquantes (  0.0%)\n",
      "   ⚠️  adresse                        :      2 manquantes (  0.0%)\n",
      "   ⚠️  arrondissement                 :    150 manquantes (  3.0%)\n",
      "   ⚠️  nom_enseigne                   :    155 manquantes (  3.1%)\n",
      "   ⚠️  nom_societe                    :  4,847 manquantes ( 96.9%)\n",
      "   ⚠️  siret                          :    175 manquantes (  3.5%)\n",
      "   ⚠️  longueur                       :     16 manquantes (  0.3%)\n",
      "   ⚠️  largeur                        :     24 manquantes (  0.5%)\n",
      "   ⚠️  periode_installation           :  4,848 manquantes ( 97.0%)\n",
      "   ⚠️  lien_affichette                :    923 manquantes ( 18.5%)\n",
      "\n",
      "📈 STATISTIQUES DE QUALITÉ :\n",
      "   • Taux de complétude global : 81.4%\n",
      "   • Colonnes sans données manquantes : 2/12\n"
     ]
    },
    {
     "ename": "NameError",
     "evalue": "name 'missing_percent' is not defined",
     "output_type": "error",
     "traceback": [
      "\u001b[31m---------------------------------------------------------------------------\u001b[39m",
      "\u001b[31mNameError\u001b[39m                                 Traceback (most recent call last)",
      "\u001b[36mCell\u001b[39m\u001b[36m \u001b[39m\u001b[32mIn[16]\u001b[39m\u001b[32m, line 13\u001b[39m\n\u001b[32m     11\u001b[39m \u001b[38;5;28mprint\u001b[39m(\u001b[33mf\u001b[39m\u001b[33m\"\u001b[39m\u001b[33m   • Taux de complétude global : \u001b[39m\u001b[38;5;132;01m{\u001b[39;00m(\u001b[32m1\u001b[39m\u001b[38;5;250m \u001b[39m-\u001b[38;5;250m \u001b[39mmissing_raw.sum()\u001b[38;5;250m \u001b[39m/\u001b[38;5;250m \u001b[39m(\u001b[38;5;28mlen\u001b[39m(df_raw)\u001b[38;5;250m \u001b[39m*\u001b[38;5;250m \u001b[39m\u001b[38;5;28mlen\u001b[39m(df_raw.columns)))\u001b[38;5;250m \u001b[39m*\u001b[38;5;250m \u001b[39m\u001b[32m100\u001b[39m\u001b[38;5;132;01m:\u001b[39;00m\u001b[33m.1f\u001b[39m\u001b[38;5;132;01m}\u001b[39;00m\u001b[33m%\u001b[39m\u001b[33m\"\u001b[39m)\n\u001b[32m     12\u001b[39m \u001b[38;5;28mprint\u001b[39m(\u001b[33mf\u001b[39m\u001b[33m\"\u001b[39m\u001b[33m   • Colonnes sans données manquantes : \u001b[39m\u001b[38;5;132;01m{\u001b[39;00m\u001b[38;5;28msum\u001b[39m(missing_raw\u001b[38;5;250m \u001b[39m==\u001b[38;5;250m \u001b[39m\u001b[32m0\u001b[39m)\u001b[38;5;132;01m}\u001b[39;00m\u001b[33m/\u001b[39m\u001b[38;5;132;01m{\u001b[39;00m\u001b[38;5;28mlen\u001b[39m(df_raw.columns)\u001b[38;5;132;01m}\u001b[39;00m\u001b[33m\"\u001b[39m)\n\u001b[32m---> \u001b[39m\u001b[32m13\u001b[39m \u001b[38;5;28mprint\u001b[39m(\u001b[33mf\u001b[39m\u001b[33m\"\u001b[39m\u001b[33m   • Colonnes avec +20% de données manquantes : \u001b[39m\u001b[38;5;132;01m{\u001b[39;00m\u001b[38;5;28msum\u001b[39m(\u001b[43mmissing_percent\u001b[49m\u001b[38;5;250m \u001b[39m>\u001b[38;5;250m \u001b[39m\u001b[32m20\u001b[39m)\u001b[38;5;132;01m}\u001b[39;00m\u001b[33m\"\u001b[39m)\n\u001b[32m     17\u001b[39m \u001b[38;5;66;03m# Graphique des valeurs manquantes\u001b[39;00m\n\u001b[32m     18\u001b[39m fig = px.bar(x=missing_data.index, y=missing_percent, \n\u001b[32m     19\u001b[39m              title=\u001b[33m'\u001b[39m\u001b[33m📊 POURCENTAGE DE VALEURS MANQUANTES PAR COLONNE\u001b[39m\u001b[33m'\u001b[39m,\n\u001b[32m     20\u001b[39m              labels={\u001b[33m'\u001b[39m\u001b[33mx\u001b[39m\u001b[33m'\u001b[39m: \u001b[33m'\u001b[39m\u001b[33mColonnes\u001b[39m\u001b[33m'\u001b[39m, \u001b[33m'\u001b[39m\u001b[33my\u001b[39m\u001b[33m'\u001b[39m: \u001b[33m'\u001b[39m\u001b[33m%\u001b[39m\u001b[33m Valeurs Manquantes\u001b[39m\u001b[33m'\u001b[39m},\n\u001b[32m     21\u001b[39m              color=missing_percent,\n\u001b[32m     22\u001b[39m              color_continuous_scale=\u001b[33m'\u001b[39m\u001b[33mreds\u001b[39m\u001b[33m'\u001b[39m)\n",
      "\u001b[31mNameError\u001b[39m: name 'missing_percent' is not defined"
     ]
    }
   ],
   "source": [
    "print(\"\\n🔍 ANALYSE DE LA QUALITÉ (BRUTES) :\")\n",
    "\n",
    "# Valeurs manquantes\n",
    "missing_raw = df_raw.isnull().sum()\n",
    "print(\"📊 VALEURS MANQUANTES PAR COLONNE :\")\n",
    "for col in df_raw.columns:\n",
    "    if missing_raw[col] > 0:\n",
    "        print(f\"   ⚠️  {col:30} : {missing_raw[col]:6,} manquantes ({missing_raw[col]/len(df_raw)*100:5.1f}%)\")\n",
    "\n",
    "print(f\"\\n📈 STATISTIQUES DE QUALITÉ :\")\n",
    "print(f\"   • Taux de complétude global : {(1 - missing_raw.sum() / (len(df_raw) * len(df_raw.columns))) * 100:.1f}%\")\n",
    "print(f\"   • Colonnes sans données manquantes : {sum(missing_raw == 0)}/{len(df_raw.columns)}\")\n",
    "print(f\"   • Colonnes avec +20% de données manquantes : {sum(missing_percent > 20)}\")\n",
    "\n",
    "\n",
    "\n",
    "# Graphique des valeurs manquantes\n",
    "fig = px.bar(x=missing_data.index, y=missing_percent, \n",
    "             title='📊 POURCENTAGE DE VALEURS MANQUANTES PAR COLONNE',\n",
    "             labels={'x': 'Colonnes', 'y': '% Valeurs Manquantes'},\n",
    "             color=missing_percent,\n",
    "             color_continuous_scale='reds')\n",
    "\n",
    "fig.update_layout(xaxis_tickangle=-45, showlegend=False)\n",
    "fig.show()\n",
    "\n",
    "# Métriques de qualité\n",
    "completeness = (1 - df_raw.isnull().sum().sum() / (len(df_raw) * len(df_raw.columns))) * 100\n"
   ]
  },
  {
   "cell_type": "markdown",
   "id": "ff550d30",
   "metadata": {},
   "source": [
    "### 🔍 Interpretation: Data Quality\n",
    "\n",
    "- **Missing Values Overview:**  \n",
    "  - Most columns have very few missing values (`typologie`, `adresse`, `arrondissement`, `nom_enseigne`, `siret`, `longueur`, `largeur`).  \n",
    "  - Columns `nom_societe` and `periode_installation` have extremely high missing rates (~97%), indicating they may not be reliable for analysis.  \n",
    "  - `lien_affichette` has 18.5% missing values — could be used selectively.  \n",
    "\n",
    "- **Global Quality Metrics:**  \n",
    "  - Overall completeness: 81.4%  \n",
    "  - Only 2 columns are fully complete.  \n",
    "  - 2 columns have more than 20% missing values, signaling caution or potential exclusion.  \n"
   ]
  },
  {
   "cell_type": "markdown",
   "id": "08c6793a",
   "metadata": {},
   "source": [
    "\n",
    "<!DOCTYPE html>\n",
    "<html>\n",
    "<head>\n",
    "    <style>\n",
    "        body { font-family: Arial, sans-serif; margin: 40px; background: #f5f5f5; color: #333; line-height: 1.6; }\n",
    "        h1 { text-align: center; color: lightgreen; font-size: 36px; font-weight: bold; margin-bottom: 10px; }\n",
    "        h2 { color: #EF806C; font-size: 28px; font-weight: bold; margin-top: 30px; }\n",
    "        h3 { color: #00FFFF; font-size: 22px; font-weight: bold; margin-top: 20px;,  }\n",
    "        ul { margin-left: 20px; }\n",
    "        li { margin: 8px 0; }\n",
    "        hr { height: 2px; border: none; background-color: lightgreen; margin: 20px 0; }\n",
    "    </style>\n",
    "</head>\n",
    "<body>\n",
    "<h3>Analyse des données géographiques brutes</h3>\n"
   ]
  },
  {
   "cell_type": "code",
   "execution_count": 17,
   "id": "7ea3f177",
   "metadata": {},
   "outputs": [
    {
     "name": "stdout",
     "output_type": "stream",
     "text": [
      "\n",
      "🗺️  ANALYSE DES DONNÉES GÉOGRAPHIQUES :\n",
      "📍 Colonnes géographiques trouvées : ['longueur', 'periode_installation', 'geo_shape', 'geo_point_2d']\n",
      "\n",
      "📊 Analyse de 'longueur':\n",
      "   • Type : float64\n",
      "   • Valeurs uniques : 712\n",
      "   • Exemples : [4.8, 7.65, 2.5]\n",
      "   • Format : Simple\n",
      "\n",
      "📊 Analyse de 'periode_installation':\n",
      "   • Type : object\n",
      "   • Valeurs uniques : 1\n",
      "   • Exemples : [\"Toute l'année\", \"Toute l'année\", \"Toute l'année\"]\n",
      "   • Format : Simple\n",
      "\n",
      "📊 Analyse de 'geo_shape':\n",
      "   • Type : object\n",
      "   • Valeurs uniques : 4988\n",
      "   • Exemples : [\"{'type': 'Feature', 'geometry': {'coordinates': [2.3854522524772896, 48.866330091701045], 'type': 'Point'}, 'properties': {}}\", \"{'type': 'Feature', 'geometry': {'coordinates': [2.3857018993955266, 48.854642373630554], 'type': 'Point'}, 'properties': {}}\", \"{'type': 'Feature', 'geometry': {'coordinates': [2.3410809317051617, 48.86116698012297], 'type': 'Point'}, 'properties': {}}\"]\n",
      "   • Format : Coordonnées combinées (lat,lon)\n",
      "\n",
      "📊 Analyse de 'geo_point_2d':\n",
      "   • Type : object\n",
      "   • Valeurs uniques : 4988\n",
      "   • Exemples : [\"{'lon': 2.3854522524772896, 'lat': 48.866330091701045}\", \"{'lon': 2.3857018993955266, 'lat': 48.854642373630554}\", \"{'lon': 2.3410809317051617, 'lat': 48.86116698012297}\"]\n",
      "   • Format : Coordonnées combinées (lat,lon)\n"
     ]
    }
   ],
   "source": [
    "print(\"\\n🗺️  ANALYSE DES DONNÉES GÉOGRAPHIQUES :\")\n",
    "\n",
    "geo_cols = [col for col in df_raw.columns if any(keyword in col.lower() for keyword in ['geo', 'lat', 'lon', 'coord'])]\n",
    "print(f\"📍 Colonnes géographiques trouvées : {geo_cols}\")\n",
    "\n",
    "for geo_col in geo_cols:\n",
    "    print(f\"\\n📊 Analyse de '{geo_col}':\")\n",
    "    print(f\"   • Type : {df_raw[geo_col].dtype}\")\n",
    "    print(f\"   • Valeurs uniques : {df_raw[geo_col].nunique()}\")\n",
    "    print(f\"   • Exemples : {df_raw[geo_col].dropna().head(3).tolist()}\")\n",
    "    \n",
    "    sample_val = df_raw[geo_col].dropna().iloc[0] if not df_raw[geo_col].dropna().empty else \"N/A\"\n",
    "    if isinstance(sample_val, str) and ',' in sample_val:\n",
    "        print(f\"   • Format : Coordonnées combinées (lat,lon)\")\n",
    "    else:\n",
    "        print(f\"   • Format : Simple\")\n",
    "\n",
    "\n",
    "\n"
   ]
  },
  {
   "cell_type": "markdown",
   "id": "a6d71930",
   "metadata": {},
   "source": [
    "### 🌍 Interpretation: Geographical Data\n",
    "\n",
    "- **Columns Identified:** `longueur`, `periode_installation`, `geo_shape`, `geo_point_2d`  \n",
    "\n",
    "- **`longueur`:**  \n",
    "  - Numeric and simple, with 712 unique values.  \n",
    "  - Can be used to analyze terrace lengths and spatial distribution.  \n",
    "\n",
    "- **`periode_installation`:**  \n",
    "  - Single repeated value (\"Toute l'année\"), so this column has no variability.  \n",
    "  - Not useful for analysis of seasonal patterns.  \n",
    "\n",
    "- **`geo_shape`:**  \n",
    "  - Contains 4988 unique coordinates in a complex object format.  \n",
    "  - Represents precise locations of terraces; can be used for mapping and spatial clustering.  \n",
    "\n",
    "- **`geo_point_2d`:**  \n",
    "  - Also 4988 unique coordinates in a simplified latitude/longitude format.  \n",
    "  - Easier to use for visualization, geospatial computations, and cluster analysis.  \n",
    "\n"
   ]
  },
  {
   "cell_type": "markdown",
   "id": "122d28fb",
   "metadata": {},
   "source": [
    "\n",
    "<!DOCTYPE html>\n",
    "<html>\n",
    "<head>\n",
    "    <style>\n",
    "        body { font-family: Arial, sans-serif; margin: 40px; background: #f5f5f5; color: #333; line-height: 1.6; }\n",
    "        h1 { text-align: center; color: lightgreen; font-size: 36px; font-weight: bold; margin-bottom: 10px; }\n",
    "        h2 { color: #EF806C; font-size: 28px; font-weight: bold; margin-top: 30px; }\n",
    "        h3 { color: #00FFFF; font-size: 22px; font-weight: bold; margin-top: 20px;,  }\n",
    "        ul { margin-left: 20px; }\n",
    "        li { margin: 8px 0; }\n",
    "        hr { height: 2px; border: none; background-color: lightgreen; margin: 20px 0; }\n",
    "    </style>\n",
    "</head>\n",
    "<body>\n",
    "<h3>Analyse des types et catégories brutes</h3>\n"
   ]
  },
  {
   "cell_type": "code",
   "execution_count": 18,
   "id": "ae1b82c8",
   "metadata": {},
   "outputs": [
    {
     "name": "stdout",
     "output_type": "stream",
     "text": [
      "\n",
      "🏷️  ANALYSE DES CATÉGORIES ET TYPES :\n",
      "🎪 Colonnes de type trouvées : ['typologie']\n",
      "\n",
      "📊 Analyse de 'typologie':\n",
      "   • Valeurs uniques : 24\n",
      "   • Top 5 valeurs :\n",
      "      1. TERRASSE OUVERTE : 1,892\n",
      "      2. ETALAGE : 985\n",
      "      3. CONTRE TERRASSE ESTIVALE SUR STATIONNEMENT : 464\n",
      "      4. TERRASSE FERMÉE : 408\n",
      "      5. TERRASSES OUVERTES SUR TROTTOIR : 346\n"
     ]
    }
   ],
   "source": [
    "print(\"\\n🏷️  ANALYSE DES CATÉGORIES ET TYPES :\")\n",
    "\n",
    "type_cols = [col for col in df_raw.columns if any(keyword in col.lower() for keyword in ['type', 'typologie', 'categorie', 'catégorie'])]\n",
    "print(f\"🎪 Colonnes de type trouvées : {type_cols}\")\n",
    "\n",
    "for type_col in type_cols:\n",
    "    print(f\"\\n📊 Analyse de '{type_col}':\")\n",
    "    type_stats = df_raw[type_col].value_counts()\n",
    "    print(f\"   • Valeurs uniques : {type_stats.nunique()}\")\n",
    "    print(f\"   • Top 5 valeurs :\")\n",
    "    for i, (val, count) in enumerate(type_stats.head().items(), 1):\n",
    "        print(f\"      {i}. {val} : {count:,}\")"
   ]
  },
  {
   "cell_type": "markdown",
   "id": "95f5b20e",
   "metadata": {},
   "source": [
    "### 🏷️ Interpretation: Categories & Types\n",
    "\n",
    "- **Column:** `typologie`  \n",
    "- **Unique Values:** 24  \n",
    "- **Most Frequent Types:**  \n",
    "  1. **TERRASSE OUVERTE** – 1,892 occurrences  \n",
    "  2. **ETALAGE** – 985 occurrences  \n",
    "  3. **CONTRE TERRASSE ESTIVALE SUR STATIONNEMENT** – 464 occurrences  \n",
    "  4. **TERRASSE FERMÉE** – 408 occurrences  \n",
    "  5. **TERRASSES OUVERTES SUR TROTTOIR** – 346 occurrences  \n",
    "\n",
    "- **Insights:**  \n",
    "  - Open terraces (\"TERRASSE OUVERTE\") dominate the dataset, showing a strong outdoor commercial presence.  \n",
    "  - Displays/étalages are also common, indicating commercial activity on sidewalks.  \n",
    "  - Some terrace types are more specialized (e.g., \"CONTRE TERRASSE ESTIVALE\"), which could be interesting for spatial clustering.  \n",
    "\n"
   ]
  },
  {
   "cell_type": "markdown",
   "id": "7f6ed114",
   "metadata": {},
   "source": [
    "\n",
    "<!DOCTYPE html>\n",
    "<html>\n",
    "<head>\n",
    "    <style>\n",
    "        body { font-family: Arial, sans-serif; margin: 40px; background: #f5f5f5; color: #333; line-height: 1.6; }\n",
    "        h1 { text-align: center; color: lightgreen; font-size: 36px; font-weight: bold; margin-bottom: 10px; }\n",
    "        h2 { color: #EF806C; font-size: 28px; font-weight: bold; margin-top: 30px; }\n",
    "        h3 { color: #00FFFF; font-size: 22px; font-weight: bold; margin-top: 20px;,  }\n",
    "        ul { margin-left: 20px; }\n",
    "        li { margin: 8px 0; }\n",
    "        hr { height: 2px; border: none; background-color: lightgreen; margin: 20px 0; }\n",
    "    </style>\n",
    "</head>\n",
    "<body>\n",
    "<h3>Analyse des arronsissements brutes</h3>\n"
   ]
  },
  {
   "cell_type": "code",
   "execution_count": 19,
   "id": "86f2c990",
   "metadata": {},
   "outputs": [
    {
     "name": "stdout",
     "output_type": "stream",
     "text": [
      "🏙️ ANALYSE INTERACTIVE DES ARRONDISSEMENTS :\n",
      "📍 Utilisation de la colonne : arrondissement\n"
     ]
    },
    {
     "data": {
      "application/vnd.plotly.v1+json": {
       "config": {
        "plotlyServerURL": "https://plot.ly"
       },
       "data": [
        {
         "hovertemplate": "Arrondissement=%{x}<br>Nombre_Terrasses=%{marker.color}<extra></extra>",
         "legendgroup": "",
         "marker": {
          "color": {
           "bdata": "VQFPAU0BQgErASIBIQETAQQB+wDuANsAswCxAKgAoACTAJMAkgCRAIEA",
           "dtype": "i2"
          },
          "coloraxis": "coloraxis",
          "pattern": {
           "shape": ""
          }
         },
         "name": "",
         "orientation": "v",
         "showlegend": false,
         "textposition": "auto",
         "type": "bar",
         "x": {
          "bdata": "AAAAAKBQ8kAAAAAAcFDyQAAAAAAwUPJAAAAAACBQ8kAAAAAAkFDyQAAAAABgUPJAAAAAANBP8kAAAAAAQFDyQAAAAAAAUPJAAAAAABBQ8kAAAAAAwFDyQAAAAABQUPJAAAAAAJBP8kAAAAAAsFDyQAAAAADAT/JAAAAAAPBP8kAAAAAAwFbyQAAAAACgT/JAAAAAAOBP8kAAAAAAgFDyQAAAAACwT/JA",
          "dtype": "f8"
         },
         "xaxis": "x",
         "y": {
          "bdata": "VQFPAU0BQgErASIBIQETAQQB+wDuANsAswCxAKgAoACTAJMAkgCRAIEA",
          "dtype": "i2"
         },
         "yaxis": "y"
        }
       ],
       "layout": {
        "barmode": "relative",
        "coloraxis": {
         "colorbar": {
          "title": {
           "text": "Nombre_Terrasses"
          }
         },
         "colorscale": [
          [
           0,
           "#440154"
          ],
          [
           0.1111111111111111,
           "#482878"
          ],
          [
           0.2222222222222222,
           "#3e4989"
          ],
          [
           0.3333333333333333,
           "#31688e"
          ],
          [
           0.4444444444444444,
           "#26828e"
          ],
          [
           0.5555555555555556,
           "#1f9e89"
          ],
          [
           0.6666666666666666,
           "#35b779"
          ],
          [
           0.7777777777777778,
           "#6ece58"
          ],
          [
           0.8888888888888888,
           "#b5de2b"
          ],
          [
           1,
           "#fde725"
          ]
         ]
        },
        "legend": {
         "tracegroupgap": 0
        },
        "template": {
         "data": {
          "bar": [
           {
            "error_x": {
             "color": "#2a3f5f"
            },
            "error_y": {
             "color": "#2a3f5f"
            },
            "marker": {
             "line": {
              "color": "#E5ECF6",
              "width": 0.5
             },
             "pattern": {
              "fillmode": "overlay",
              "size": 10,
              "solidity": 0.2
             }
            },
            "type": "bar"
           }
          ],
          "barpolar": [
           {
            "marker": {
             "line": {
              "color": "#E5ECF6",
              "width": 0.5
             },
             "pattern": {
              "fillmode": "overlay",
              "size": 10,
              "solidity": 0.2
             }
            },
            "type": "barpolar"
           }
          ],
          "carpet": [
           {
            "aaxis": {
             "endlinecolor": "#2a3f5f",
             "gridcolor": "white",
             "linecolor": "white",
             "minorgridcolor": "white",
             "startlinecolor": "#2a3f5f"
            },
            "baxis": {
             "endlinecolor": "#2a3f5f",
             "gridcolor": "white",
             "linecolor": "white",
             "minorgridcolor": "white",
             "startlinecolor": "#2a3f5f"
            },
            "type": "carpet"
           }
          ],
          "choropleth": [
           {
            "colorbar": {
             "outlinewidth": 0,
             "ticks": ""
            },
            "type": "choropleth"
           }
          ],
          "contour": [
           {
            "colorbar": {
             "outlinewidth": 0,
             "ticks": ""
            },
            "colorscale": [
             [
              0,
              "#0d0887"
             ],
             [
              0.1111111111111111,
              "#46039f"
             ],
             [
              0.2222222222222222,
              "#7201a8"
             ],
             [
              0.3333333333333333,
              "#9c179e"
             ],
             [
              0.4444444444444444,
              "#bd3786"
             ],
             [
              0.5555555555555556,
              "#d8576b"
             ],
             [
              0.6666666666666666,
              "#ed7953"
             ],
             [
              0.7777777777777778,
              "#fb9f3a"
             ],
             [
              0.8888888888888888,
              "#fdca26"
             ],
             [
              1,
              "#f0f921"
             ]
            ],
            "type": "contour"
           }
          ],
          "contourcarpet": [
           {
            "colorbar": {
             "outlinewidth": 0,
             "ticks": ""
            },
            "type": "contourcarpet"
           }
          ],
          "heatmap": [
           {
            "colorbar": {
             "outlinewidth": 0,
             "ticks": ""
            },
            "colorscale": [
             [
              0,
              "#0d0887"
             ],
             [
              0.1111111111111111,
              "#46039f"
             ],
             [
              0.2222222222222222,
              "#7201a8"
             ],
             [
              0.3333333333333333,
              "#9c179e"
             ],
             [
              0.4444444444444444,
              "#bd3786"
             ],
             [
              0.5555555555555556,
              "#d8576b"
             ],
             [
              0.6666666666666666,
              "#ed7953"
             ],
             [
              0.7777777777777778,
              "#fb9f3a"
             ],
             [
              0.8888888888888888,
              "#fdca26"
             ],
             [
              1,
              "#f0f921"
             ]
            ],
            "type": "heatmap"
           }
          ],
          "histogram": [
           {
            "marker": {
             "pattern": {
              "fillmode": "overlay",
              "size": 10,
              "solidity": 0.2
             }
            },
            "type": "histogram"
           }
          ],
          "histogram2d": [
           {
            "colorbar": {
             "outlinewidth": 0,
             "ticks": ""
            },
            "colorscale": [
             [
              0,
              "#0d0887"
             ],
             [
              0.1111111111111111,
              "#46039f"
             ],
             [
              0.2222222222222222,
              "#7201a8"
             ],
             [
              0.3333333333333333,
              "#9c179e"
             ],
             [
              0.4444444444444444,
              "#bd3786"
             ],
             [
              0.5555555555555556,
              "#d8576b"
             ],
             [
              0.6666666666666666,
              "#ed7953"
             ],
             [
              0.7777777777777778,
              "#fb9f3a"
             ],
             [
              0.8888888888888888,
              "#fdca26"
             ],
             [
              1,
              "#f0f921"
             ]
            ],
            "type": "histogram2d"
           }
          ],
          "histogram2dcontour": [
           {
            "colorbar": {
             "outlinewidth": 0,
             "ticks": ""
            },
            "colorscale": [
             [
              0,
              "#0d0887"
             ],
             [
              0.1111111111111111,
              "#46039f"
             ],
             [
              0.2222222222222222,
              "#7201a8"
             ],
             [
              0.3333333333333333,
              "#9c179e"
             ],
             [
              0.4444444444444444,
              "#bd3786"
             ],
             [
              0.5555555555555556,
              "#d8576b"
             ],
             [
              0.6666666666666666,
              "#ed7953"
             ],
             [
              0.7777777777777778,
              "#fb9f3a"
             ],
             [
              0.8888888888888888,
              "#fdca26"
             ],
             [
              1,
              "#f0f921"
             ]
            ],
            "type": "histogram2dcontour"
           }
          ],
          "mesh3d": [
           {
            "colorbar": {
             "outlinewidth": 0,
             "ticks": ""
            },
            "type": "mesh3d"
           }
          ],
          "parcoords": [
           {
            "line": {
             "colorbar": {
              "outlinewidth": 0,
              "ticks": ""
             }
            },
            "type": "parcoords"
           }
          ],
          "pie": [
           {
            "automargin": true,
            "type": "pie"
           }
          ],
          "scatter": [
           {
            "fillpattern": {
             "fillmode": "overlay",
             "size": 10,
             "solidity": 0.2
            },
            "type": "scatter"
           }
          ],
          "scatter3d": [
           {
            "line": {
             "colorbar": {
              "outlinewidth": 0,
              "ticks": ""
             }
            },
            "marker": {
             "colorbar": {
              "outlinewidth": 0,
              "ticks": ""
             }
            },
            "type": "scatter3d"
           }
          ],
          "scattercarpet": [
           {
            "marker": {
             "colorbar": {
              "outlinewidth": 0,
              "ticks": ""
             }
            },
            "type": "scattercarpet"
           }
          ],
          "scattergeo": [
           {
            "marker": {
             "colorbar": {
              "outlinewidth": 0,
              "ticks": ""
             }
            },
            "type": "scattergeo"
           }
          ],
          "scattergl": [
           {
            "marker": {
             "colorbar": {
              "outlinewidth": 0,
              "ticks": ""
             }
            },
            "type": "scattergl"
           }
          ],
          "scattermap": [
           {
            "marker": {
             "colorbar": {
              "outlinewidth": 0,
              "ticks": ""
             }
            },
            "type": "scattermap"
           }
          ],
          "scattermapbox": [
           {
            "marker": {
             "colorbar": {
              "outlinewidth": 0,
              "ticks": ""
             }
            },
            "type": "scattermapbox"
           }
          ],
          "scatterpolar": [
           {
            "marker": {
             "colorbar": {
              "outlinewidth": 0,
              "ticks": ""
             }
            },
            "type": "scatterpolar"
           }
          ],
          "scatterpolargl": [
           {
            "marker": {
             "colorbar": {
              "outlinewidth": 0,
              "ticks": ""
             }
            },
            "type": "scatterpolargl"
           }
          ],
          "scatterternary": [
           {
            "marker": {
             "colorbar": {
              "outlinewidth": 0,
              "ticks": ""
             }
            },
            "type": "scatterternary"
           }
          ],
          "surface": [
           {
            "colorbar": {
             "outlinewidth": 0,
             "ticks": ""
            },
            "colorscale": [
             [
              0,
              "#0d0887"
             ],
             [
              0.1111111111111111,
              "#46039f"
             ],
             [
              0.2222222222222222,
              "#7201a8"
             ],
             [
              0.3333333333333333,
              "#9c179e"
             ],
             [
              0.4444444444444444,
              "#bd3786"
             ],
             [
              0.5555555555555556,
              "#d8576b"
             ],
             [
              0.6666666666666666,
              "#ed7953"
             ],
             [
              0.7777777777777778,
              "#fb9f3a"
             ],
             [
              0.8888888888888888,
              "#fdca26"
             ],
             [
              1,
              "#f0f921"
             ]
            ],
            "type": "surface"
           }
          ],
          "table": [
           {
            "cells": {
             "fill": {
              "color": "#EBF0F8"
             },
             "line": {
              "color": "white"
             }
            },
            "header": {
             "fill": {
              "color": "#C8D4E3"
             },
             "line": {
              "color": "white"
             }
            },
            "type": "table"
           }
          ]
         },
         "layout": {
          "annotationdefaults": {
           "arrowcolor": "#2a3f5f",
           "arrowhead": 0,
           "arrowwidth": 1
          },
          "autotypenumbers": "strict",
          "coloraxis": {
           "colorbar": {
            "outlinewidth": 0,
            "ticks": ""
           }
          },
          "colorscale": {
           "diverging": [
            [
             0,
             "#8e0152"
            ],
            [
             0.1,
             "#c51b7d"
            ],
            [
             0.2,
             "#de77ae"
            ],
            [
             0.3,
             "#f1b6da"
            ],
            [
             0.4,
             "#fde0ef"
            ],
            [
             0.5,
             "#f7f7f7"
            ],
            [
             0.6,
             "#e6f5d0"
            ],
            [
             0.7,
             "#b8e186"
            ],
            [
             0.8,
             "#7fbc41"
            ],
            [
             0.9,
             "#4d9221"
            ],
            [
             1,
             "#276419"
            ]
           ],
           "sequential": [
            [
             0,
             "#0d0887"
            ],
            [
             0.1111111111111111,
             "#46039f"
            ],
            [
             0.2222222222222222,
             "#7201a8"
            ],
            [
             0.3333333333333333,
             "#9c179e"
            ],
            [
             0.4444444444444444,
             "#bd3786"
            ],
            [
             0.5555555555555556,
             "#d8576b"
            ],
            [
             0.6666666666666666,
             "#ed7953"
            ],
            [
             0.7777777777777778,
             "#fb9f3a"
            ],
            [
             0.8888888888888888,
             "#fdca26"
            ],
            [
             1,
             "#f0f921"
            ]
           ],
           "sequentialminus": [
            [
             0,
             "#0d0887"
            ],
            [
             0.1111111111111111,
             "#46039f"
            ],
            [
             0.2222222222222222,
             "#7201a8"
            ],
            [
             0.3333333333333333,
             "#9c179e"
            ],
            [
             0.4444444444444444,
             "#bd3786"
            ],
            [
             0.5555555555555556,
             "#d8576b"
            ],
            [
             0.6666666666666666,
             "#ed7953"
            ],
            [
             0.7777777777777778,
             "#fb9f3a"
            ],
            [
             0.8888888888888888,
             "#fdca26"
            ],
            [
             1,
             "#f0f921"
            ]
           ]
          },
          "colorway": [
           "#636efa",
           "#EF553B",
           "#00cc96",
           "#ab63fa",
           "#FFA15A",
           "#19d3f3",
           "#FF6692",
           "#B6E880",
           "#FF97FF",
           "#FECB52"
          ],
          "font": {
           "color": "#2a3f5f"
          },
          "geo": {
           "bgcolor": "white",
           "lakecolor": "white",
           "landcolor": "#E5ECF6",
           "showlakes": true,
           "showland": true,
           "subunitcolor": "white"
          },
          "hoverlabel": {
           "align": "left"
          },
          "hovermode": "closest",
          "mapbox": {
           "style": "light"
          },
          "paper_bgcolor": "white",
          "plot_bgcolor": "#E5ECF6",
          "polar": {
           "angularaxis": {
            "gridcolor": "white",
            "linecolor": "white",
            "ticks": ""
           },
           "bgcolor": "#E5ECF6",
           "radialaxis": {
            "gridcolor": "white",
            "linecolor": "white",
            "ticks": ""
           }
          },
          "scene": {
           "xaxis": {
            "backgroundcolor": "#E5ECF6",
            "gridcolor": "white",
            "gridwidth": 2,
            "linecolor": "white",
            "showbackground": true,
            "ticks": "",
            "zerolinecolor": "white"
           },
           "yaxis": {
            "backgroundcolor": "#E5ECF6",
            "gridcolor": "white",
            "gridwidth": 2,
            "linecolor": "white",
            "showbackground": true,
            "ticks": "",
            "zerolinecolor": "white"
           },
           "zaxis": {
            "backgroundcolor": "#E5ECF6",
            "gridcolor": "white",
            "gridwidth": 2,
            "linecolor": "white",
            "showbackground": true,
            "ticks": "",
            "zerolinecolor": "white"
           }
          },
          "shapedefaults": {
           "line": {
            "color": "#2a3f5f"
           }
          },
          "ternary": {
           "aaxis": {
            "gridcolor": "white",
            "linecolor": "white",
            "ticks": ""
           },
           "baxis": {
            "gridcolor": "white",
            "linecolor": "white",
            "ticks": ""
           },
           "bgcolor": "#E5ECF6",
           "caxis": {
            "gridcolor": "white",
            "linecolor": "white",
            "ticks": ""
           }
          },
          "title": {
           "x": 0.05
          },
          "xaxis": {
           "automargin": true,
           "gridcolor": "white",
           "linecolor": "white",
           "ticks": "",
           "title": {
            "standoff": 15
           },
           "zerolinecolor": "white",
           "zerolinewidth": 2
          },
          "yaxis": {
           "automargin": true,
           "gridcolor": "white",
           "linecolor": "white",
           "ticks": "",
           "title": {
            "standoff": 15
           },
           "zerolinecolor": "white",
           "zerolinewidth": 2
          }
         }
        },
        "title": {
         "text": "🏙️ NOMBRE DE TERRASSES PAR ARRONDISSEMENT"
        },
        "xaxis": {
         "anchor": "y",
         "domain": [
          0,
          1
         ],
         "tickangle": -45,
         "title": {
          "text": "Arrondissement"
         }
        },
        "yaxis": {
         "anchor": "x",
         "domain": [
          0,
          1
         ],
         "title": {
          "text": "Nombre_Terrasses"
         }
        }
       }
      }
     },
     "metadata": {},
     "output_type": "display_data"
    },
    {
     "data": {
      "application/vnd.plotly.v1+json": {
       "config": {
        "plotlyServerURL": "https://plot.ly"
       },
       "data": [
        {
         "domain": {
          "x": [
           0,
           1
          ],
          "y": [
           0,
           1
          ]
         },
         "hovertemplate": "Arrondissement=%{label}<br>Nombre_Terrasses=%{value}<extra></extra>",
         "labels": {
          "bdata": "AAAAAKBQ8kAAAAAAcFDyQAAAAAAwUPJAAAAAACBQ8kAAAAAAkFDyQAAAAABgUPJAAAAAANBP8kAAAAAAQFDyQAAAAAAAUPJAAAAAABBQ8kA=",
          "dtype": "f8"
         },
         "legendgroup": "",
         "name": "",
         "showlegend": true,
         "type": "pie",
         "values": {
          "bdata": "VQFPAU0BQgErASIBIQETAQQB+wA=",
          "dtype": "i2"
         }
        }
       ],
       "layout": {
        "legend": {
         "tracegroupgap": 0
        },
        "template": {
         "data": {
          "bar": [
           {
            "error_x": {
             "color": "#2a3f5f"
            },
            "error_y": {
             "color": "#2a3f5f"
            },
            "marker": {
             "line": {
              "color": "#E5ECF6",
              "width": 0.5
             },
             "pattern": {
              "fillmode": "overlay",
              "size": 10,
              "solidity": 0.2
             }
            },
            "type": "bar"
           }
          ],
          "barpolar": [
           {
            "marker": {
             "line": {
              "color": "#E5ECF6",
              "width": 0.5
             },
             "pattern": {
              "fillmode": "overlay",
              "size": 10,
              "solidity": 0.2
             }
            },
            "type": "barpolar"
           }
          ],
          "carpet": [
           {
            "aaxis": {
             "endlinecolor": "#2a3f5f",
             "gridcolor": "white",
             "linecolor": "white",
             "minorgridcolor": "white",
             "startlinecolor": "#2a3f5f"
            },
            "baxis": {
             "endlinecolor": "#2a3f5f",
             "gridcolor": "white",
             "linecolor": "white",
             "minorgridcolor": "white",
             "startlinecolor": "#2a3f5f"
            },
            "type": "carpet"
           }
          ],
          "choropleth": [
           {
            "colorbar": {
             "outlinewidth": 0,
             "ticks": ""
            },
            "type": "choropleth"
           }
          ],
          "contour": [
           {
            "colorbar": {
             "outlinewidth": 0,
             "ticks": ""
            },
            "colorscale": [
             [
              0,
              "#0d0887"
             ],
             [
              0.1111111111111111,
              "#46039f"
             ],
             [
              0.2222222222222222,
              "#7201a8"
             ],
             [
              0.3333333333333333,
              "#9c179e"
             ],
             [
              0.4444444444444444,
              "#bd3786"
             ],
             [
              0.5555555555555556,
              "#d8576b"
             ],
             [
              0.6666666666666666,
              "#ed7953"
             ],
             [
              0.7777777777777778,
              "#fb9f3a"
             ],
             [
              0.8888888888888888,
              "#fdca26"
             ],
             [
              1,
              "#f0f921"
             ]
            ],
            "type": "contour"
           }
          ],
          "contourcarpet": [
           {
            "colorbar": {
             "outlinewidth": 0,
             "ticks": ""
            },
            "type": "contourcarpet"
           }
          ],
          "heatmap": [
           {
            "colorbar": {
             "outlinewidth": 0,
             "ticks": ""
            },
            "colorscale": [
             [
              0,
              "#0d0887"
             ],
             [
              0.1111111111111111,
              "#46039f"
             ],
             [
              0.2222222222222222,
              "#7201a8"
             ],
             [
              0.3333333333333333,
              "#9c179e"
             ],
             [
              0.4444444444444444,
              "#bd3786"
             ],
             [
              0.5555555555555556,
              "#d8576b"
             ],
             [
              0.6666666666666666,
              "#ed7953"
             ],
             [
              0.7777777777777778,
              "#fb9f3a"
             ],
             [
              0.8888888888888888,
              "#fdca26"
             ],
             [
              1,
              "#f0f921"
             ]
            ],
            "type": "heatmap"
           }
          ],
          "histogram": [
           {
            "marker": {
             "pattern": {
              "fillmode": "overlay",
              "size": 10,
              "solidity": 0.2
             }
            },
            "type": "histogram"
           }
          ],
          "histogram2d": [
           {
            "colorbar": {
             "outlinewidth": 0,
             "ticks": ""
            },
            "colorscale": [
             [
              0,
              "#0d0887"
             ],
             [
              0.1111111111111111,
              "#46039f"
             ],
             [
              0.2222222222222222,
              "#7201a8"
             ],
             [
              0.3333333333333333,
              "#9c179e"
             ],
             [
              0.4444444444444444,
              "#bd3786"
             ],
             [
              0.5555555555555556,
              "#d8576b"
             ],
             [
              0.6666666666666666,
              "#ed7953"
             ],
             [
              0.7777777777777778,
              "#fb9f3a"
             ],
             [
              0.8888888888888888,
              "#fdca26"
             ],
             [
              1,
              "#f0f921"
             ]
            ],
            "type": "histogram2d"
           }
          ],
          "histogram2dcontour": [
           {
            "colorbar": {
             "outlinewidth": 0,
             "ticks": ""
            },
            "colorscale": [
             [
              0,
              "#0d0887"
             ],
             [
              0.1111111111111111,
              "#46039f"
             ],
             [
              0.2222222222222222,
              "#7201a8"
             ],
             [
              0.3333333333333333,
              "#9c179e"
             ],
             [
              0.4444444444444444,
              "#bd3786"
             ],
             [
              0.5555555555555556,
              "#d8576b"
             ],
             [
              0.6666666666666666,
              "#ed7953"
             ],
             [
              0.7777777777777778,
              "#fb9f3a"
             ],
             [
              0.8888888888888888,
              "#fdca26"
             ],
             [
              1,
              "#f0f921"
             ]
            ],
            "type": "histogram2dcontour"
           }
          ],
          "mesh3d": [
           {
            "colorbar": {
             "outlinewidth": 0,
             "ticks": ""
            },
            "type": "mesh3d"
           }
          ],
          "parcoords": [
           {
            "line": {
             "colorbar": {
              "outlinewidth": 0,
              "ticks": ""
             }
            },
            "type": "parcoords"
           }
          ],
          "pie": [
           {
            "automargin": true,
            "type": "pie"
           }
          ],
          "scatter": [
           {
            "fillpattern": {
             "fillmode": "overlay",
             "size": 10,
             "solidity": 0.2
            },
            "type": "scatter"
           }
          ],
          "scatter3d": [
           {
            "line": {
             "colorbar": {
              "outlinewidth": 0,
              "ticks": ""
             }
            },
            "marker": {
             "colorbar": {
              "outlinewidth": 0,
              "ticks": ""
             }
            },
            "type": "scatter3d"
           }
          ],
          "scattercarpet": [
           {
            "marker": {
             "colorbar": {
              "outlinewidth": 0,
              "ticks": ""
             }
            },
            "type": "scattercarpet"
           }
          ],
          "scattergeo": [
           {
            "marker": {
             "colorbar": {
              "outlinewidth": 0,
              "ticks": ""
             }
            },
            "type": "scattergeo"
           }
          ],
          "scattergl": [
           {
            "marker": {
             "colorbar": {
              "outlinewidth": 0,
              "ticks": ""
             }
            },
            "type": "scattergl"
           }
          ],
          "scattermap": [
           {
            "marker": {
             "colorbar": {
              "outlinewidth": 0,
              "ticks": ""
             }
            },
            "type": "scattermap"
           }
          ],
          "scattermapbox": [
           {
            "marker": {
             "colorbar": {
              "outlinewidth": 0,
              "ticks": ""
             }
            },
            "type": "scattermapbox"
           }
          ],
          "scatterpolar": [
           {
            "marker": {
             "colorbar": {
              "outlinewidth": 0,
              "ticks": ""
             }
            },
            "type": "scatterpolar"
           }
          ],
          "scatterpolargl": [
           {
            "marker": {
             "colorbar": {
              "outlinewidth": 0,
              "ticks": ""
             }
            },
            "type": "scatterpolargl"
           }
          ],
          "scatterternary": [
           {
            "marker": {
             "colorbar": {
              "outlinewidth": 0,
              "ticks": ""
             }
            },
            "type": "scatterternary"
           }
          ],
          "surface": [
           {
            "colorbar": {
             "outlinewidth": 0,
             "ticks": ""
            },
            "colorscale": [
             [
              0,
              "#0d0887"
             ],
             [
              0.1111111111111111,
              "#46039f"
             ],
             [
              0.2222222222222222,
              "#7201a8"
             ],
             [
              0.3333333333333333,
              "#9c179e"
             ],
             [
              0.4444444444444444,
              "#bd3786"
             ],
             [
              0.5555555555555556,
              "#d8576b"
             ],
             [
              0.6666666666666666,
              "#ed7953"
             ],
             [
              0.7777777777777778,
              "#fb9f3a"
             ],
             [
              0.8888888888888888,
              "#fdca26"
             ],
             [
              1,
              "#f0f921"
             ]
            ],
            "type": "surface"
           }
          ],
          "table": [
           {
            "cells": {
             "fill": {
              "color": "#EBF0F8"
             },
             "line": {
              "color": "white"
             }
            },
            "header": {
             "fill": {
              "color": "#C8D4E3"
             },
             "line": {
              "color": "white"
             }
            },
            "type": "table"
           }
          ]
         },
         "layout": {
          "annotationdefaults": {
           "arrowcolor": "#2a3f5f",
           "arrowhead": 0,
           "arrowwidth": 1
          },
          "autotypenumbers": "strict",
          "coloraxis": {
           "colorbar": {
            "outlinewidth": 0,
            "ticks": ""
           }
          },
          "colorscale": {
           "diverging": [
            [
             0,
             "#8e0152"
            ],
            [
             0.1,
             "#c51b7d"
            ],
            [
             0.2,
             "#de77ae"
            ],
            [
             0.3,
             "#f1b6da"
            ],
            [
             0.4,
             "#fde0ef"
            ],
            [
             0.5,
             "#f7f7f7"
            ],
            [
             0.6,
             "#e6f5d0"
            ],
            [
             0.7,
             "#b8e186"
            ],
            [
             0.8,
             "#7fbc41"
            ],
            [
             0.9,
             "#4d9221"
            ],
            [
             1,
             "#276419"
            ]
           ],
           "sequential": [
            [
             0,
             "#0d0887"
            ],
            [
             0.1111111111111111,
             "#46039f"
            ],
            [
             0.2222222222222222,
             "#7201a8"
            ],
            [
             0.3333333333333333,
             "#9c179e"
            ],
            [
             0.4444444444444444,
             "#bd3786"
            ],
            [
             0.5555555555555556,
             "#d8576b"
            ],
            [
             0.6666666666666666,
             "#ed7953"
            ],
            [
             0.7777777777777778,
             "#fb9f3a"
            ],
            [
             0.8888888888888888,
             "#fdca26"
            ],
            [
             1,
             "#f0f921"
            ]
           ],
           "sequentialminus": [
            [
             0,
             "#0d0887"
            ],
            [
             0.1111111111111111,
             "#46039f"
            ],
            [
             0.2222222222222222,
             "#7201a8"
            ],
            [
             0.3333333333333333,
             "#9c179e"
            ],
            [
             0.4444444444444444,
             "#bd3786"
            ],
            [
             0.5555555555555556,
             "#d8576b"
            ],
            [
             0.6666666666666666,
             "#ed7953"
            ],
            [
             0.7777777777777778,
             "#fb9f3a"
            ],
            [
             0.8888888888888888,
             "#fdca26"
            ],
            [
             1,
             "#f0f921"
            ]
           ]
          },
          "colorway": [
           "#636efa",
           "#EF553B",
           "#00cc96",
           "#ab63fa",
           "#FFA15A",
           "#19d3f3",
           "#FF6692",
           "#B6E880",
           "#FF97FF",
           "#FECB52"
          ],
          "font": {
           "color": "#2a3f5f"
          },
          "geo": {
           "bgcolor": "white",
           "lakecolor": "white",
           "landcolor": "#E5ECF6",
           "showlakes": true,
           "showland": true,
           "subunitcolor": "white"
          },
          "hoverlabel": {
           "align": "left"
          },
          "hovermode": "closest",
          "mapbox": {
           "style": "light"
          },
          "paper_bgcolor": "white",
          "plot_bgcolor": "#E5ECF6",
          "polar": {
           "angularaxis": {
            "gridcolor": "white",
            "linecolor": "white",
            "ticks": ""
           },
           "bgcolor": "#E5ECF6",
           "radialaxis": {
            "gridcolor": "white",
            "linecolor": "white",
            "ticks": ""
           }
          },
          "scene": {
           "xaxis": {
            "backgroundcolor": "#E5ECF6",
            "gridcolor": "white",
            "gridwidth": 2,
            "linecolor": "white",
            "showbackground": true,
            "ticks": "",
            "zerolinecolor": "white"
           },
           "yaxis": {
            "backgroundcolor": "#E5ECF6",
            "gridcolor": "white",
            "gridwidth": 2,
            "linecolor": "white",
            "showbackground": true,
            "ticks": "",
            "zerolinecolor": "white"
           },
           "zaxis": {
            "backgroundcolor": "#E5ECF6",
            "gridcolor": "white",
            "gridwidth": 2,
            "linecolor": "white",
            "showbackground": true,
            "ticks": "",
            "zerolinecolor": "white"
           }
          },
          "shapedefaults": {
           "line": {
            "color": "#2a3f5f"
           }
          },
          "ternary": {
           "aaxis": {
            "gridcolor": "white",
            "linecolor": "white",
            "ticks": ""
           },
           "baxis": {
            "gridcolor": "white",
            "linecolor": "white",
            "ticks": ""
           },
           "bgcolor": "#E5ECF6",
           "caxis": {
            "gridcolor": "white",
            "linecolor": "white",
            "ticks": ""
           }
          },
          "title": {
           "x": 0.05
          },
          "xaxis": {
           "automargin": true,
           "gridcolor": "white",
           "linecolor": "white",
           "ticks": "",
           "title": {
            "standoff": 15
           },
           "zerolinecolor": "white",
           "zerolinewidth": 2
          },
          "yaxis": {
           "automargin": true,
           "gridcolor": "white",
           "linecolor": "white",
           "ticks": "",
           "title": {
            "standoff": 15
           },
           "zerolinecolor": "white",
           "zerolinewidth": 2
          }
         }
        },
        "title": {
         "text": "🎪 TOP 10 DES ARRONDISSEMENTS (RÉPARTITION)"
        }
       }
      }
     },
     "metadata": {},
     "output_type": "display_data"
    },
    {
     "name": "stdout",
     "output_type": "stream",
     "text": [
      "📊 STATISTIQUES :\n",
      "   • 21 arrondissements différents\n",
      "   • Moyenne : 231 terrasses/arrondissement\n",
      "   • Max : 341 terrasses\n"
     ]
    }
   ],
   "source": [
    "# Cellule 4: ANALYSE INTERACTIVE DES ARRONDISSEMENTS\n",
    "print(\"🏙️ ANALYSE INTERACTIVE DES ARRONDISSEMENTS :\")\n",
    "\n",
    "# Recherche de la colonne d'arrondissement\n",
    "arr_cols = [col for col in df_raw.columns if any(keyword in col.lower() for keyword in ['arrondissement', 'arrdt', 'arr'])]\n",
    "\n",
    "if arr_cols:\n",
    "    arr_col = arr_cols[0]  # Prendre la première colonne trouvée\n",
    "    print(f\"📍 Utilisation de la colonne : {arr_col}\")\n",
    "    \n",
    "    arr_stats = df_raw[arr_col].value_counts().reset_index()\n",
    "    arr_stats.columns = ['Arrondissement', 'Nombre_Terrasses']\n",
    "    \n",
    "    # Graphique en barres interactif\n",
    "    fig = px.bar(arr_stats, x='Arrondissement', y='Nombre_Terrasses',\n",
    "                 title='🏙️ NOMBRE DE TERRASSES PAR ARRONDISSEMENT',\n",
    "                 color='Nombre_Terrasses',\n",
    "                 color_continuous_scale='viridis')\n",
    "    \n",
    "    fig.update_layout(xaxis_tickangle=-45)\n",
    "    fig.show()\n",
    "    \n",
    "    # Camembert pour la répartition\n",
    "    fig_pie = px.pie(arr_stats.head(10), names='Arrondissement', values='Nombre_Terrasses',\n",
    "                     title='🎪 TOP 10 DES ARRONDISSEMENTS (RÉPARTITION)')\n",
    "    fig_pie.show()\n",
    "    \n",
    "    print(f\"📊 STATISTIQUES :\")\n",
    "    print(f\"   • {arr_stats['Arrondissement'].nunique()} arrondissements différents\")\n",
    "    print(f\"   • Moyenne : {arr_stats['Nombre_Terrasses'].mean():.0f} terrasses/arrondissement\")\n",
    "    print(f\"   • Max : {arr_stats['Nombre_Terrasses'].max()} terrasses\")\n",
    "    \n",
    "else:\n",
    "    print(\"❌ Aucune colonne d'arrondissement trouvée\")"
   ]
  },
  {
   "cell_type": "markdown",
   "id": "dc1ad68e",
   "metadata": {},
   "source": [
    "### 🏙️ Interpretation: Arrondissements Analysis\n",
    "\n",
    "- **Column Used:** `arrondissement`  \n",
    "- **Number of Districts:** 21  \n",
    "- **Average Terraces per District:** 231  \n",
    "- **Maximum Terraces in a District:** 341  \n",
    "\n",
    "- **Insights:**  \n",
    "  - Terraces are unevenly distributed across Paris, with some arrondissements showing much higher concentrations.  \n",
    "  - The top 10 districts account for the majority of terrace activity, which may indicate commercial hotspots.  \n",
    "  - This distribution can guide targeted urban planning and commercial positioning strategies.  \n",
    "\n"
   ]
  },
  {
   "cell_type": "markdown",
   "id": "5a45c5c8",
   "metadata": {},
   "source": [
    "<!DOCTYPE html>\n",
    "<html>\n",
    "<head>\n",
    "    <style>\n",
    "        body { \n",
    "            font-family: Arial, sans-serif; \n",
    "            margin: 40px; \n",
    "            background: #f5f5f5; \n",
    "            color: #333; \n",
    "            line-height: 1.6; \n",
    "        }\n",
    "        h1 { \n",
    "            text-align: center; \n",
    "            color: lightgreen; \n",
    "            font-size: 36px; \n",
    "            font-weight: bold; \n",
    "            margin-bottom: 10px; \n",
    "        }\n",
    "        h2 { \n",
    "            color: #EF806C; \n",
    "            font-size: 28px; \n",
    "            font-weight: bold; \n",
    "            margin-top: 30px; \n",
    "        }\n",
    "        h3 { \n",
    "            color: #00FFFF; \n",
    "            font-size: 22px; \n",
    "            margin-top: 20px; \n",
    "        }\n",
    "        ul { \n",
    "            margin-left: 20px; \n",
    "        }\n",
    "        li { \n",
    "            margin: 8px 0; \n",
    "        }\n",
    "        hr { \n",
    "            height: 2px; \n",
    "            border: none; \n",
    "            background-color: lightgreen; \n",
    "            margin: 20px 0; \n",
    "        }\n",
    "    </style>\n",
    "</head>\n",
    "<body>\n",
    "\n",
    "<h1>🧹 3. Data Preparation</h1>\n",
    "<p><strong>📌 Goal:</strong></p>\n",
    "<p>The Data Preparation phase focuses on transforming raw data into a clean and structured format suitable for analysis. This stage ensures that the dataset is consistent, complete, and ready for visualization or modeling.</p>\n",
    "\n",
    "<h2>🛠️ Key Elements of This Phase</h2>\n",
    "<ul>\n",
    "    <li>🧩 Handling missing data: filling, imputing, or removing incomplete records</li>\n",
    "    <li>🧽 Data cleaning: correcting errors, standardizing text, removing duplicates</li>\n",
    "    <li>🔢 Data transformation: converting data types, normalizing numerical fields</li>\n",
    "    <li>🏷️ Feature selection: retaining relevant variables for analysis</li>\n",
    "    <li>🗺️ Spatial data formatting: ensuring coordinate consistency (lat/lon)</li>\n",
    "    <li>🧮 Creating derived variables: extracting insights from existing features</li>\n",
    "</ul>\n",
    "\n",
    "<p>This step bridges raw exploration and advanced analytics by ensuring the data is accurate, usable, and aligned with project goals.</p>\n",
    "\n",
    "\n",
    "</body>\n",
    "</html>\n"
   ]
  },
  {
   "cell_type": "markdown",
   "id": "f5631e64",
   "metadata": {},
   "source": [
    "\n",
    "<!DOCTYPE html>\n",
    "<html>\n",
    "<head>\n",
    "    <style>\n",
    "        body { font-family: Arial, sans-serif; margin: 40px; background: #f5f5f5; color: #333; line-height: 1.6; }\n",
    "        h1 { text-align: center; color: lightgreen; font-size: 36px; font-weight: bold; margin-bottom: 10px; }\n",
    "        h2 { color: #EF806C; font-size: 28px; font-weight: bold; margin-top: 30px; }\n",
    "        h3 { color: #00FFFF; font-size: 22px; font-weight: bold; margin-top: 20px;,  }\n",
    "        ul { margin-left: 20px; }\n",
    "        li { margin: 8px 0; }\n",
    "        hr { height: 2px; border: none; background-color: lightgreen; margin: 20px 0; }\n",
    "    </style>\n",
    "</head>\n",
    "<body>\n",
    "<h3>Création de la copie de sécurité</h3>\n"
   ]
  },
  {
   "cell_type": "code",
   "execution_count": 20,
   "id": "26d5f1d8",
   "metadata": {},
   "outputs": [
    {
     "name": "stdout",
     "output_type": "stream",
     "text": [
      "🔧 ÉTAPE 1: CRÉATION DE LA COPIE DE SÉCURITÉ\n",
      "\n",
      "📊 AVANT NETTOYAGE : 5,000 enregistrements\n",
      "📋 Colonnes disponibles : 12\n"
     ]
    }
   ],
   "source": [
    "\n",
    "print(\"🔧 ÉTAPE 1: CRÉATION DE LA COPIE DE SÉCURITÉ\")\n",
    "\n",
    "df_clean = df_raw.copy()\n",
    "\n",
    "\n",
    "print(f\"\\n📊 AVANT NETTOYAGE : {len(df_clean):,} enregistrements\")\n",
    "print(f\"📋 Colonnes disponibles : {len(df_clean.columns)}\")"
   ]
  },
  {
   "cell_type": "markdown",
   "id": "6fb6b045",
   "metadata": {},
   "source": [
    "<h2>🎯 Conclusion</h2>\n",
    "<ul>\n",
    "    <li>💾 <strong>Preserve raw data:</strong> Maintaining the original dataset ensures data integrity and allows future reference or verification.</li>\n",
    "    <li>🧩 <strong>Work on a copy:</strong> Performing cleaning and transformations on a duplicate prevents accidental data loss or corruption.</li>\n",
    "    <li>⚖️ <strong>Enable before/after comparison:</strong> Keeping both versions (raw and prepared) allows validation of data quality improvements and reproducibility of results.</li>\n",
    "</ul>\n",
    "\n",
    "<p>➡️ In short, this step builds a reliable, structured dataset — the foundation for accurate analysis and meaningful insights in the next phase.</p>\n"
   ]
  },
  {
   "cell_type": "markdown",
   "id": "70fc0961",
   "metadata": {},
   "source": [
    "\n",
    "<!DOCTYPE html>\n",
    "<html>\n",
    "<head>\n",
    "    <style>\n",
    "        body { font-family: Arial, sans-serif; margin: 40px; background: #f5f5f5; color: #333; line-height: 1.6; }\n",
    "        h1 { text-align: center; color: lightgreen; font-size: 36px; font-weight: bold; margin-bottom: 10px; }\n",
    "        h2 { color: #EF806C; font-size: 28px; font-weight: bold; margin-top: 30px; }\n",
    "        h3 { color: #00FFFF; font-size: 22px; font-weight: bold; margin-top: 20px;,  }\n",
    "        ul { margin-left: 20px; }\n",
    "        li { margin: 8px 0; }\n",
    "        hr { height: 2px; border: none; background-color: lightgreen; margin: 20px 0; }\n",
    "    </style>\n",
    "</head>\n",
    "<body>\n",
    "<h3> Extraction des coordonnées GPS</h3>\n"
   ]
  },
  {
   "cell_type": "code",
   "execution_count": 21,
   "id": "204728f9",
   "metadata": {},
   "outputs": [
    {
     "name": "stdout",
     "output_type": "stream",
     "text": [
      "📍 ÉTAPE 2: EXTRACTION DES COORDONNÉES GPS\n",
      "🔄 Extraction en cours...\n",
      "\n",
      "✅ RÉSULTATS :\n",
      "   • Points géolocalisés extraits : 5,000\n",
      "   • Latitude min/max : 48.819 / 48.899\n",
      "   • Longitude min/max : 2.255 / 2.411\n",
      "\n",
      "👀 APERÇU DES COORDONNÉES EXTRAITES :\n"
     ]
    },
    {
     "data": {
      "application/vnd.microsoft.datawrangler.viewer.v0+json": {
       "columns": [
        {
         "name": "index",
         "rawType": "int64",
         "type": "integer"
        },
        {
         "name": "geo_point_2d",
         "rawType": "object",
         "type": "string"
        },
        {
         "name": "latitude",
         "rawType": "float64",
         "type": "float"
        },
        {
         "name": "longitude",
         "rawType": "float64",
         "type": "float"
        }
       ],
       "ref": "fa6c622e-93c9-445b-a933-49ae7d071558",
       "rows": [
        [
         "0",
         "{'lon': 2.3854522524772896, 'lat': 48.866330091701045}",
         "48.866330091701045",
         "2.3854522524772896"
        ],
        [
         "1",
         "{'lon': 2.3857018993955266, 'lat': 48.854642373630554}",
         "48.854642373630554",
         "2.3857018993955266"
        ],
        [
         "2",
         "{'lon': 2.3410809317051617, 'lat': 48.86116698012297}",
         "48.86116698012297",
         "2.3410809317051617"
        ]
       ],
       "shape": {
        "columns": 3,
        "rows": 3
       }
      },
      "text/html": [
       "<div>\n",
       "<style scoped>\n",
       "    .dataframe tbody tr th:only-of-type {\n",
       "        vertical-align: middle;\n",
       "    }\n",
       "\n",
       "    .dataframe tbody tr th {\n",
       "        vertical-align: top;\n",
       "    }\n",
       "\n",
       "    .dataframe thead th {\n",
       "        text-align: right;\n",
       "    }\n",
       "</style>\n",
       "<table border=\"1\" class=\"dataframe\">\n",
       "  <thead>\n",
       "    <tr style=\"text-align: right;\">\n",
       "      <th></th>\n",
       "      <th>geo_point_2d</th>\n",
       "      <th>latitude</th>\n",
       "      <th>longitude</th>\n",
       "    </tr>\n",
       "  </thead>\n",
       "  <tbody>\n",
       "    <tr>\n",
       "      <th>0</th>\n",
       "      <td>{'lon': 2.3854522524772896, 'lat': 48.86633009...</td>\n",
       "      <td>48.866330</td>\n",
       "      <td>2.385452</td>\n",
       "    </tr>\n",
       "    <tr>\n",
       "      <th>1</th>\n",
       "      <td>{'lon': 2.3857018993955266, 'lat': 48.85464237...</td>\n",
       "      <td>48.854642</td>\n",
       "      <td>2.385702</td>\n",
       "    </tr>\n",
       "    <tr>\n",
       "      <th>2</th>\n",
       "      <td>{'lon': 2.3410809317051617, 'lat': 48.86116698...</td>\n",
       "      <td>48.861167</td>\n",
       "      <td>2.341081</td>\n",
       "    </tr>\n",
       "  </tbody>\n",
       "</table>\n",
       "</div>"
      ],
      "text/plain": [
       "                                        geo_point_2d   latitude  longitude\n",
       "0  {'lon': 2.3854522524772896, 'lat': 48.86633009...  48.866330   2.385452\n",
       "1  {'lon': 2.3857018993955266, 'lat': 48.85464237...  48.854642   2.385702\n",
       "2  {'lon': 2.3410809317051617, 'lat': 48.86116698...  48.861167   2.341081"
      ]
     },
     "metadata": {},
     "output_type": "display_data"
    }
   ],
   "source": [
    "\n",
    "print(\"📍 ÉTAPE 2: EXTRACTION DES COORDONNÉES GPS\")\n",
    "\n",
    "def extract_coordinates(geo_str):\n",
    "    \"\"\"\n",
    "    Extrait latitude et longitude de la chaîne JSON geo_point_2d\n",
    "    \"\"\"\n",
    "    try:\n",
    "        if pd.isna(geo_str):\n",
    "            return np.nan, np.nan\n",
    "        \n",
    "        # Convertir la string JSON en dictionnaire Python\n",
    "        import ast\n",
    "        geo_dict = ast.literal_eval(geo_str)\n",
    "        \n",
    "        # Extraire lat et lon\n",
    "        lat = geo_dict.get('lat', np.nan)\n",
    "        lon = geo_dict.get('lon', np.nan)\n",
    "        \n",
    "        return lat, lon\n",
    "        \n",
    "    except Exception as e:\n",
    "        print(f\"⚠️  Erreur d'extraction : {e}\")\n",
    "        return np.nan, np.nan\n",
    "\n",
    "# Appliquer l'extraction à toutes les lignes\n",
    "print(\"🔄 Extraction en cours...\")\n",
    "coordinates_data = df_clean['geo_point_2d'].apply(\n",
    "    lambda x: pd.Series(extract_coordinates(x)) if pd.notna(x) else pd.Series([np.nan, np.nan])\n",
    ")\n",
    "\n",
    "# Ajouter les nouvelles colonnes\n",
    "df_clean[['latitude', 'longitude']] = coordinates_data\n",
    "\n",
    "print(f\"\\n✅ RÉSULTATS :\")\n",
    "print(f\"   • Points géolocalisés extraits : {df_clean[['latitude', 'longitude']].notna().all(axis=1).sum():,}\")\n",
    "print(f\"   • Latitude min/max : {df_clean['latitude'].min():.3f} / {df_clean['latitude'].max():.3f}\")\n",
    "print(f\"   • Longitude min/max : {df_clean['longitude'].min():.3f} / {df_clean['longitude'].max():.3f}\")\n",
    "\n",
    "# Aperçu des coordonnées extraites\n",
    "print(\"\\n👀 APERÇU DES COORDONNÉES EXTRAITES :\")\n",
    "display(df_clean[['geo_point_2d', 'latitude', 'longitude']].head(3))"
   ]
  },
  {
   "cell_type": "markdown",
   "id": "39a09b1e",
   "metadata": {},
   "source": [
    "<h2>📍 cocnlusion </h2>\n",
    "\n",
    "<h3>🎯 Objectif</h3>\n",
    "<ul>\n",
    "    <li>🗺️ <strong>Format JSON à décoder :</strong> Les coordonnées géographiques sont stockées dans un champ JSON (<code>geo_point_2d</code>), nécessitant une extraction manuelle.</li>\n",
    "    <li>📍 <strong>Séparation des valeurs :</strong> Il est essentiel de dissocier la <strong>latitude</strong> et la <strong>longitude</strong> en deux colonnes distinctes pour l'analyse géospatiale.</li>\n",
    "    <li>🤖 <strong>Préparation pour le clustering :</strong> L’algorithme <code>DBSCAN</code> requiert des variables numériques indépendantes afin d’identifier les regroupements spatiaux (clusters).</li>\n",
    "</ul>\n",
    "\n",
    "<p>✅ Cette étape garantit la bonne préparation des données géographiques avant toute modélisation spatiale et permet d’obtenir des résultats de clustering précis et exploitables.</p>\n"
   ]
  },
  {
   "cell_type": "markdown",
   "id": "9f3c93f4",
   "metadata": {},
   "source": [
    "\n",
    "<!DOCTYPE html>\n",
    "<html>\n",
    "<head>\n",
    "    <style>\n",
    "        body { font-family: Arial, sans-serif; margin: 40px; background: #f5f5f5; color: #333; line-height: 1.6; }\n",
    "        h1 { text-align: center; color: lightgreen; font-size: 36px; font-weight: bold; margin-bottom: 10px; }\n",
    "        h2 { color: #EF806C; font-size: 28px; font-weight: bold; margin-top: 30px; }\n",
    "        h3 { color: #00FFFF; font-size: 22px; font-weight: bold; margin-top: 20px;,  }\n",
    "        ul { margin-left: 20px; }\n",
    "        li { margin: 8px 0; }\n",
    "        hr { height: 2px; border: none; background-color: lightgreen; margin: 20px 0; }\n",
    "    </style>\n",
    "</head>\n",
    "<body>\n",
    "<h3> Nettoyage des arrondissements</h3>\n"
   ]
  },
  {
   "cell_type": "code",
   "execution_count": 22,
   "id": "226f8117",
   "metadata": {},
   "outputs": [
    {
     "name": "stdout",
     "output_type": "stream",
     "text": [
      "🏙️ ÉTAPE 3: NETTOYAGE DES ARRONDISSEMENTS\n",
      "🔄 Conversion des arrondissements...\n",
      "\n",
      "✅ RÉSULTATS :\n",
      "   • Type avant : float64\n",
      "   • Type après : object\n",
      "   • Arrondissements uniques : 21 → 21\n",
      "   • Format standardisé : '75020' au lieu de '75020.0'\n",
      "\n",
      "📊 DISTRIBUTION DES ARRONDISSEMENTS (après nettoyage) :\n",
      "    1. 75018 : 341 terrasses\n",
      "    2. 75015 : 335 terrasses\n",
      "    3. 75011 : 333 terrasses\n",
      "    4. 75010 : 322 terrasses\n",
      "    5. 75017 : 299 terrasses\n",
      "    6. 75014 : 290 terrasses\n",
      "    7. 75005 : 289 terrasses\n",
      "    8. 75012 : 275 terrasses\n",
      "    9. 75008 : 260 terrasses\n",
      "   10. 75009 : 251 terrasses\n"
     ]
    }
   ],
   "source": [
    "\n",
    "print(\"🏙️ ÉTAPE 3: NETTOYAGE DES ARRONDISSEMENTS\")\n",
    "\n",
    "# Conversion et nettoyage\n",
    "print(\"🔄 Conversion des arrondissements...\")\n",
    "\n",
    "# Sauvegarde du type original\n",
    "original_dtype = df_clean['arrondissement'].dtype\n",
    "original_nunique = df_clean['arrondissement'].nunique()\n",
    "\n",
    "# Conversion en string et nettoyage\n",
    "df_clean['arrondissement'] = df_clean['arrondissement'].astype(str)\n",
    "df_clean['arrondissement'] = df_clean['arrondissement'].str.replace('.0', '', regex=False)\n",
    "df_clean['arrondissement'] = df_clean['arrondissement'].replace('nan', np.nan)\n",
    "\n",
    "print(f\"\\n✅ RÉSULTATS :\")\n",
    "print(f\"   • Type avant : {original_dtype}\")\n",
    "print(f\"   • Type après : {df_clean['arrondissement'].dtype}\")\n",
    "print(f\"   • Arrondissements uniques : {original_nunique} → {df_clean['arrondissement'].nunique()}\")\n",
    "print(f\"   • Format standardisé : '75020' au lieu de '75020.0'\")\n",
    "\n",
    "# Distribution des arrondissements\n",
    "print(\"\\n📊 DISTRIBUTION DES ARRONDISSEMENTS (après nettoyage) :\")\n",
    "arrondissement_stats = df_clean['arrondissement'].value_counts().head(10)\n",
    "for i, (arr, count) in enumerate(arrondissement_stats.items(), 1):\n",
    "    print(f\"   {i:2d}. {arr} : {count:,} terrasses\")"
   ]
  },
  {
   "cell_type": "markdown",
   "id": "657c443e",
   "metadata": {},
   "source": [
    "<h2>🏙️ Conclusion</h2>\n",
    "\n",
    "<h3>🎯 Objectif</h3>\n",
    "<ul>\n",
    "    <li>🔢 <strong>Problème de type :</strong> Les valeurs des arrondissements sont enregistrées au format <code>float</code> (ex. 75020.0), ce qui n’est pas adapté à une analyse catégorielle.</li>\n",
    "    <li>🔤 <strong>Conversion nécessaire :</strong> Transformation en <code>string</code> pour permettre les regroupements, tris et visualisations correctes.</li>\n",
    "    <li>🧩 <strong>Uniformisation du format :</strong> Assure la cohérence entre les observations et facilite les comparaisons inter-arrondissements.</li>\n",
    "</ul>\n",
    "\n",
    "<p>✅ Cette étape simplifie l’analyse statistique et visuelle, garantissant une catégorisation claire des arrondissements lors des analyses ultérieures.</p>\n"
   ]
  },
  {
   "cell_type": "markdown",
   "id": "0062fe3e",
   "metadata": {},
   "source": [
    "\n",
    "<!DOCTYPE html>\n",
    "<html>\n",
    "<head>\n",
    "    <style>\n",
    "        body { font-family: Arial, sans-serif; margin: 40px; background: #f5f5f5; color: #333; line-height: 1.6; }\n",
    "        h1 { text-align: center; color: lightgreen; font-size: 36px; font-weight: bold; margin-bottom: 10px; }\n",
    "        h2 { color: #EF806C; font-size: 28px; font-weight: bold; margin-top: 30px; }\n",
    "        h3 { color: #00FFFF; font-size: 22px; font-weight: bold; margin-top: 20px;,  }\n",
    "        ul { margin-left: 20px; }\n",
    "        li { margin: 8px 0; }\n",
    "        hr { height: 2px; border: none; background-color: lightgreen; margin: 20px 0; }\n",
    "    </style>\n",
    "</head>\n",
    "<body>\n",
    "<h3> Standardisation des typologies </h3>\n"
   ]
  },
  {
   "cell_type": "code",
   "execution_count": 23,
   "id": "77865ad0",
   "metadata": {},
   "outputs": [
    {
     "name": "stdout",
     "output_type": "stream",
     "text": [
      "🏷️ ÉTAPE 4: STANDARDISATION DES TYPOLOGIES\n",
      "🔄 Standardisation en cours...\n",
      "\n",
      "✅ RÉSULTATS :\n",
      "   • Types uniques avant : 32\n",
      "   • Types uniques après : 32\n",
      "   • Exemple avant : ['CONTRE-TERRASSE OUVERTE', 'TERRASSE OUVERTE', 'TERRASSE OUVERTE', 'ETALAGE', 'TERRASSE OUVERTE']\n",
      "   • Exemple après : ['CONTRE-TERRASSE OUVERTE', 'TERRASSE OUVERTE', 'TERRASSE OUVERTE', 'ETALAGE', 'TERRASSE OUVERTE']\n",
      "\n",
      "📊 TOP 10 DES TYPOLOGIES (standardisées) :\n",
      "    1. TERRASSE OUVERTE : 1,892\n",
      "    2. ETALAGE : 985\n",
      "    3. CONTRE TERRASSE ESTIVALE SUR STATIONNEMENT : 464\n",
      "    4. TERRASSE FERMÉE : 408\n",
      "    5. TERRASSES OUVERTES SUR TROTTOIR : 346\n",
      "    6. TERRASSE ESTIVALE SUR TROTTOIR FACE À LA DEVANTURE : 225\n",
      "    7. CONTRE TERRASSE ESTIVALE SUR TROTTOIR FACE À LA DEVANTURE : 159\n",
      "    8. CONTRE-TERRASSE PERMANENTE SUR STATIONNEMENT : 59\n",
      "    9. ÉTALAGE SUR TROTTOIR : 59\n",
      "   10. COMMERCE ACCESSOIRE : 57\n"
     ]
    }
   ],
   "source": [
    "\n",
    "print(\"🏷️ ÉTAPE 4: STANDARDISATION DES TYPOLOGIES\")\n",
    "\n",
    "# Sauvegarde des stats avant nettoyage\n",
    "original_typologies = df_clean['typologie'].nunique()\n",
    "original_sample = df_clean['typologie'].head(5).tolist()\n",
    "\n",
    "print(\"🔄 Standardisation en cours...\")\n",
    "\n",
    "# Nettoyage des typologies\n",
    "df_clean['typologie'] = df_clean['typologie'].str.strip().str.upper()\n",
    "df_clean['typologie'] = df_clean['typologie'].replace('NAN', np.nan)\n",
    "\n",
    "print(f\"\\n✅ RÉSULTATS :\")\n",
    "print(f\"   • Types uniques avant : {original_typologies}\")\n",
    "print(f\"   • Types uniques après : {df_clean['typologie'].nunique()}\")\n",
    "print(f\"   • Exemple avant : {original_sample}\")\n",
    "print(f\"   • Exemple après : {df_clean['typologie'].head(5).tolist()}\")\n",
    "\n",
    "# Top des typologies après nettoyage\n",
    "print(\"\\n📊 TOP 10 DES TYPOLOGIES (standardisées) :\")\n",
    "typologie_stats = df_clean['typologie'].value_counts().head(10)\n",
    "for i, (typo, count) in enumerate(typologie_stats.items(), 1):\n",
    "    print(f\"   {i:2d}. {typo} : {count:,}\")"
   ]
  },
  {
   "cell_type": "markdown",
   "id": "e665e047",
   "metadata": {},
   "source": [
    "<h2>🧹Conclusion</h2>\n",
    "\n",
    "<h3>🎯 Objectif</h3>\n",
    "<ul>\n",
    "    <li>🔠 <strong>Uniformiser la casse :</strong> Convertir toutes les valeurs en minuscules (ou majuscules) afin d’éviter les doublons dus aux variations de casse.</li>\n",
    "    <li>✂️ <strong>Supprimer les espaces superflus :</strong> Éliminer les espaces en début ou fin de chaîne pour garantir la cohérence des données textuelles.</li>\n",
    "    <li>🏷️ <strong>Préparer les catégories :</strong> Faciliter les regroupements, tris et visualisations lors des futures analyses catégorielles.</li>\n",
    "</ul>\n",
    "\n",
    "<p>✅ Cette étape améliore la qualité des données textuelles et garantit des regroupements fiables lors de l’analyse exploratoire.</p>\n"
   ]
  },
  {
   "cell_type": "markdown",
   "id": "2941cbbc",
   "metadata": {},
   "source": [
    "\n",
    "<!DOCTYPE html>\n",
    "<html>\n",
    "<head>\n",
    "    <style>\n",
    "        body { font-family: Arial, sans-serif; margin: 40px; background: #f5f5f5; color: #333; line-height: 1.6; }\n",
    "        h1 { text-align: center; color: lightgreen; font-size: 36px; font-weight: bold; margin-bottom: 10px; }\n",
    "        h2 { color: #EF806C; font-size: 28px; font-weight: bold; margin-top: 30px; }\n",
    "        h3 { color: #00FFFF; font-size: 22px; font-weight: bold; margin-top: 20px;,  }\n",
    "        ul { margin-left: 20px; }\n",
    "        li { margin: 8px 0; }\n",
    "        hr { height: 2px; border: none; background-color: lightgreen; margin: 20px 0; }\n",
    "    </style>\n",
    "</head>\n",
    "<body>\n",
    "<h3> Filtrage des données complètes </h3>\n"
   ]
  },
  {
   "cell_type": "code",
   "execution_count": 24,
   "id": "d9001772",
   "metadata": {},
   "outputs": [
    {
     "name": "stdout",
     "output_type": "stream",
     "text": [
      "🎯 ÉTAPE 5: FILTRAGE DES DONNÉES COMPLÈTES\n",
      "📊 Avant filtrage : 5,000 enregistrements\n",
      "\n",
      "🔍 VÉRIFICATION DES DONNÉES MANQUANTES :\n",
      "   • latitude        :     0 manquantes (  0.0%)\n",
      "   • longitude       :     0 manquantes (  0.0%)\n",
      "   • typologie       :     2 manquantes (  0.0%)\n",
      "\n",
      "🔄 Filtrage en cours...\n",
      "\n",
      "✅ RÉSULTATS :\n",
      "   • Enregistrements conservés : 4,998\n",
      "   • Taux de conservation : 100.0%\n",
      "   • Données éliminées : 2\n"
     ]
    }
   ],
   "source": [
    "\n",
    "print(\"🎯 ÉTAPE 5: FILTRAGE DES DONNÉES COMPLÈTES\")\n",
    "\n",
    "initial_count = len(df_clean)\n",
    "print(f\"📊 Avant filtrage : {initial_count:,} enregistrements\")\n",
    "\n",
    "# Colonnes critiques pour l'analyse\n",
    "critical_columns = ['latitude', 'longitude', 'typologie']\n",
    "\n",
    "print(f\"\\n🔍 VÉRIFICATION DES DONNÉES MANQUANTES :\")\n",
    "for col in critical_columns:\n",
    "    missing = df_clean[col].isna().sum()\n",
    "    print(f\"   • {col:15} : {missing:5,} manquantes ({missing/initial_count*100:5.1f}%)\")\n",
    "\n",
    "# Filtrage\n",
    "print(\"\\n🔄 Filtrage en cours...\")\n",
    "df_clean = df_clean.dropna(subset=critical_columns)\n",
    "final_count = len(df_clean)\n",
    "\n",
    "print(f\"\\n✅ RÉSULTATS :\")\n",
    "print(f\"   • Enregistrements conservés : {final_count:,}\")\n",
    "print(f\"   • Taux de conservation : {final_count/initial_count*100:.1f}%\")\n",
    "print(f\"   • Données éliminées : {initial_count - final_count:,}\")"
   ]
  },
  {
   "cell_type": "markdown",
   "id": "e3b4407c",
   "metadata": {},
   "source": [
    "<h2>🧭 Conclusion </h2>\n",
    "\n",
    "<h3>🎯 Objectif</h3>\n",
    "<ul>\n",
    "    <li>🧹 <strong>Supprimer les lignes incomplètes :</strong> Retirer les enregistrements contenant des valeurs manquantes sur des champs essentiels à l’analyse.</li>\n",
    "    <li>📍 <strong>Conserver uniquement les données géolocalisées :</strong> Garder les lignes avec des coordonnées GPS et une typologie valide pour permettre les analyses spatiales.</li>\n",
    "    <li>📊 <strong>Améliorer la fiabilité des analyses :</strong> Garantir que les visualisations et modèles reposent sur des données complètes et cohérentes.</li>\n",
    "</ul>\n",
    "\n",
    "<p>✅ Cette étape assure une base de données propre, exploitable et prête pour les étapes de clustering et d’exploration géographique.</p>\n"
   ]
  },
  {
   "cell_type": "markdown",
   "id": "4e9ffaa2",
   "metadata": {},
   "source": [
    "\n",
    "<!DOCTYPE html>\n",
    "<html>\n",
    "<head>\n",
    "    <style>\n",
    "        body { font-family: Arial, sans-serif; margin: 40px; background: #f5f5f5; color: #333; line-height: 1.6; }\n",
    "        h1 { text-align: center; color: lightgreen; font-size: 36px; font-weight: bold; margin-bottom: 10px; }\n",
    "        h2 { color: #EF806C; font-size: 28px; font-weight: bold; margin-top: 30px; }\n",
    "        h3 { color: #00FFFF; font-size: 22px; font-weight: bold; margin-top: 20px;,  }\n",
    "        ul { margin-left: 20px; }\n",
    "        li { margin: 8px 0; }\n",
    "        hr { height: 2px; border: none; background-color: lightgreen; margin: 20px 0; }\n",
    "    </style>\n",
    "</head>\n",
    "<body>\n",
    "<h3> Validation des donées geographique  </h3>\n"
   ]
  },
  {
   "cell_type": "code",
   "execution_count": 25,
   "id": "4ecefbfc",
   "metadata": {},
   "outputs": [
    {
     "name": "stdout",
     "output_type": "stream",
     "text": [
      "🗺️ ÉTAPE 6: VALIDATION GÉOGRAPHIQUE\n",
      "📍 BORNES DE PARIS INTRA-MUROS :\n",
      "   • Latitude  : 48.810 → 48.910\n",
      "   • Longitude : 2.250 → 2.410\n",
      "\n",
      "✅ RÉSULTATS :\n",
      "   • Points avant validation : 4,998\n",
      "   • Points après validation : 4,988\n",
      "   • Points éliminés (hors Paris) : 10\n",
      "\n",
      "🌍 COORDONNÉES FINALES :\n",
      "   • Latitude min/max  : 48.819 / 48.899\n",
      "   • Longitude min/max : 2.255 / 2.410\n"
     ]
    }
   ],
   "source": [
    "\n",
    "print(\"🗺️ ÉTAPE 6: VALIDATION GÉOGRAPHIQUE\")\n",
    "\n",
    "\n",
    "# Bornes géographiques de Paris intra-muros\n",
    "paris_bounds = {\n",
    "    'lat_min': 48.81, 'lat_max': 48.91,   # Latitude Nord/Sud\n",
    "    'lon_min': 2.25, 'lon_max': 2.41      # Longitude Est/Ouest\n",
    "}\n",
    "\n",
    "print(f\"📍 BORNES DE PARIS INTRA-MUROS :\")\n",
    "print(f\"   • Latitude  : {paris_bounds['lat_min']:.3f} → {paris_bounds['lat_max']:.3f}\")\n",
    "print(f\"   • Longitude : {paris_bounds['lon_min']:.3f} → {paris_bounds['lon_max']:.3f}\")\n",
    "\n",
    "initial_geo_count = len(df_clean)\n",
    "\n",
    "# Application du filtre géographique\n",
    "mask_paris = (\n",
    "    (df_clean['latitude'] >= paris_bounds['lat_min']) & \n",
    "    (df_clean['latitude'] <= paris_bounds['lat_max']) &\n",
    "    (df_clean['longitude'] >= paris_bounds['lon_min']) & \n",
    "    (df_clean['longitude'] <= paris_bounds['lon_max'])\n",
    ")\n",
    "\n",
    "df_clean = df_clean[mask_paris]\n",
    "final_geo_count = len(df_clean)\n",
    "\n",
    "print(f\"\\n✅ RÉSULTATS :\")\n",
    "print(f\"   • Points avant validation : {initial_geo_count:,}\")\n",
    "print(f\"   • Points après validation : {final_geo_count:,}\")\n",
    "print(f\"   • Points éliminés (hors Paris) : {initial_geo_count - final_geo_count:,}\")\n",
    "\n",
    "# Vérification des coordonnées\n",
    "print(f\"\\n🌍 COORDONNÉES FINALES :\")\n",
    "print(f\"   • Latitude min/max  : {df_clean['latitude'].min():.3f} / {df_clean['latitude'].max():.3f}\")\n",
    "print(f\"   • Longitude min/max : {df_clean['longitude'].min():.3f} / {df_clean['longitude'].max():.3f}\")"
   ]
  },
  {
   "cell_type": "markdown",
   "id": "47afb884",
   "metadata": {},
   "source": [
    "<h2>🗺️ Conclusion</h2>\n",
    "\n",
    "<h3>🎯 Objectif</h3>\n",
    "<ul>\n",
    "    <li>📍 <strong>Vérifier la localisation :</strong> S’assurer que toutes les coordonnées GPS appartiennent bien au territoire parisien (intra-muros).</li>\n",
    "    <li>🚫 <strong>Éliminer les anomalies géographiques :</strong> Supprimer les points erronés, situés en dehors de Paris ou mal enregistrés.</li>\n",
    "    <li>🧭 <strong>Garantir la cohérence spatiale :</strong> Préparer un jeu de données géographiquement homogène et fiable pour l’analyse des clusters.</li>\n",
    "</ul>\n",
    "\n",
    "<p>✅ Ce filtrage renforce la précision des résultats et évite les biais lors du calcul des regroupements commerciaux ou des visualisations cartographiques.</p>\n"
   ]
  },
  {
   "cell_type": "code",
   "execution_count": 26,
   "id": "c17ff959",
   "metadata": {},
   "outputs": [
    {
     "name": "stdout",
     "output_type": "stream",
     "text": [
      "💾 ÉTAPE 7: SAUVEGARDE ET RÉSUMÉ FINAL\n",
      "\n",
      "======================================================================\n",
      "🎉 RÉSUMÉ COMPLET DU NETTOYAGE - PHASE 3 TERMINÉE !\n",
      "======================================================================\n",
      "\n",
      "📊 STATISTIQUES FINALES :\n",
      "   • Enregistrements bruts initiaux      : 5,000\n",
      "   • Enregistrements après nettoyage     : 4,988\n",
      "   • Taux de conservation global         : 99.8%\n",
      "   • Points géolocalisés valides         : 4,988\n",
      "   • Arrondissements couverts            : 21\n",
      "   • Types de terrasses                  : 32\n",
      "   • Données dans Paris intra-muros      : 100%\n",
      "\n",
      "💾 SAUVEGARDE DES DONNÉES NETTOYÉES...\n",
      "✅ Données sauvegardées : 'data/processed/terrasses_paris_nettoyees.csv'\n",
      "\n",
      "👀 APERÇU FINAL DES DONNÉES NETTOYÉES :\n"
     ]
    },
    {
     "data": {
      "application/vnd.microsoft.datawrangler.viewer.v0+json": {
       "columns": [
        {
         "name": "index",
         "rawType": "int64",
         "type": "integer"
        },
        {
         "name": "typologie",
         "rawType": "object",
         "type": "string"
        },
        {
         "name": "arrondissement",
         "rawType": "object",
         "type": "string"
        },
        {
         "name": "latitude",
         "rawType": "float64",
         "type": "float"
        },
        {
         "name": "longitude",
         "rawType": "float64",
         "type": "float"
        },
        {
         "name": "adresse",
         "rawType": "object",
         "type": "string"
        }
       ],
       "ref": "cd377f99-4cc3-4990-a663-0b68bf46a7dc",
       "rows": [
        [
         "0",
         "CONTRE-TERRASSE OUVERTE",
         "75020",
         "48.866330091701045",
         "2.3854522524772896",
         "14 RUE DES PANOYAUX"
        ],
        [
         "1",
         "TERRASSE OUVERTE",
         "75011",
         "48.854642373630554",
         "2.3857018993955266",
         "167 BOULEVARD VOLTAIRE"
        ],
        [
         "2",
         "TERRASSE OUVERTE",
         "75001",
         "48.86116698012297",
         "2.3410809317051617",
         "16 RUE DU LOUVRE"
        ],
        [
         "3",
         "ETALAGE",
         "75011",
         "48.87125642267529",
         "2.376612773633264",
         "17 RUE LOUIS BONNET"
        ],
        [
         "4",
         "TERRASSE OUVERTE",
         "75018",
         "48.8895941672243",
         "2.335878734861472",
         "65 RUE CAULAINCOURT"
        ]
       ],
       "shape": {
        "columns": 5,
        "rows": 5
       }
      },
      "text/html": [
       "<div>\n",
       "<style scoped>\n",
       "    .dataframe tbody tr th:only-of-type {\n",
       "        vertical-align: middle;\n",
       "    }\n",
       "\n",
       "    .dataframe tbody tr th {\n",
       "        vertical-align: top;\n",
       "    }\n",
       "\n",
       "    .dataframe thead th {\n",
       "        text-align: right;\n",
       "    }\n",
       "</style>\n",
       "<table border=\"1\" class=\"dataframe\">\n",
       "  <thead>\n",
       "    <tr style=\"text-align: right;\">\n",
       "      <th></th>\n",
       "      <th>typologie</th>\n",
       "      <th>arrondissement</th>\n",
       "      <th>latitude</th>\n",
       "      <th>longitude</th>\n",
       "      <th>adresse</th>\n",
       "    </tr>\n",
       "  </thead>\n",
       "  <tbody>\n",
       "    <tr>\n",
       "      <th>0</th>\n",
       "      <td>CONTRE-TERRASSE OUVERTE</td>\n",
       "      <td>75020</td>\n",
       "      <td>48.866330</td>\n",
       "      <td>2.385452</td>\n",
       "      <td>14 RUE DES PANOYAUX</td>\n",
       "    </tr>\n",
       "    <tr>\n",
       "      <th>1</th>\n",
       "      <td>TERRASSE OUVERTE</td>\n",
       "      <td>75011</td>\n",
       "      <td>48.854642</td>\n",
       "      <td>2.385702</td>\n",
       "      <td>167 BOULEVARD VOLTAIRE</td>\n",
       "    </tr>\n",
       "    <tr>\n",
       "      <th>2</th>\n",
       "      <td>TERRASSE OUVERTE</td>\n",
       "      <td>75001</td>\n",
       "      <td>48.861167</td>\n",
       "      <td>2.341081</td>\n",
       "      <td>16 RUE DU LOUVRE</td>\n",
       "    </tr>\n",
       "    <tr>\n",
       "      <th>3</th>\n",
       "      <td>ETALAGE</td>\n",
       "      <td>75011</td>\n",
       "      <td>48.871256</td>\n",
       "      <td>2.376613</td>\n",
       "      <td>17 RUE LOUIS BONNET</td>\n",
       "    </tr>\n",
       "    <tr>\n",
       "      <th>4</th>\n",
       "      <td>TERRASSE OUVERTE</td>\n",
       "      <td>75018</td>\n",
       "      <td>48.889594</td>\n",
       "      <td>2.335879</td>\n",
       "      <td>65 RUE CAULAINCOURT</td>\n",
       "    </tr>\n",
       "  </tbody>\n",
       "</table>\n",
       "</div>"
      ],
      "text/plain": [
       "                 typologie arrondissement   latitude  longitude  \\\n",
       "0  CONTRE-TERRASSE OUVERTE          75020  48.866330   2.385452   \n",
       "1         TERRASSE OUVERTE          75011  48.854642   2.385702   \n",
       "2         TERRASSE OUVERTE          75001  48.861167   2.341081   \n",
       "3                  ETALAGE          75011  48.871256   2.376613   \n",
       "4         TERRASSE OUVERTE          75018  48.889594   2.335879   \n",
       "\n",
       "                  adresse  \n",
       "0     14 RUE DES PANOYAUX  \n",
       "1  167 BOULEVARD VOLTAIRE  \n",
       "2        16 RUE DU LOUVRE  \n",
       "3     17 RUE LOUIS BONNET  \n",
       "4     65 RUE CAULAINCOURT  "
      ]
     },
     "metadata": {},
     "output_type": "display_data"
    },
    {
     "name": "stdout",
     "output_type": "stream",
     "text": [
      "\n",
      "🎯 PROCHAINE ÉTAPE : PHASE 4 - MODELING (Clustering spatial)\n",
      "➡️  Prêt pour l'analyse des clusters avec DBSCAN!\n"
     ]
    }
   ],
   "source": [
    "\n",
    "print(\"💾 ÉTAPE 7: SAUVEGARDE ET RÉSUMÉ FINAL\")\n",
    "\n",
    "# Résumé complet du nettoyage\n",
    "print(\"\\n\" + \"=\"*70)\n",
    "print(\"🎉 RÉSUMÉ COMPLET DU NETTOYAGE - PHASE 3 TERMINÉE !\")\n",
    "print(\"=\"*70)\n",
    "\n",
    "cleaning_summary = {\n",
    "    \"Enregistrements bruts initiaux\": len(df_raw),\n",
    "    \"Enregistrements après nettoyage\": len(df_clean),\n",
    "    \"Taux de conservation global\": f\"{(len(df_clean)/len(df_raw)*100):.1f}%\",\n",
    "    \"Points géolocalisés valides\": df_clean[['latitude', 'longitude']].notna().all(axis=1).sum(),\n",
    "    \"Arrondissements couverts\": df_clean['arrondissement'].nunique(),\n",
    "    \"Types de terrasses\": df_clean['typologie'].nunique(),\n",
    "    \"Données dans Paris intra-muros\": \"100%\"\n",
    "}\n",
    "\n",
    "print(\"\\n📊 STATISTIQUES FINALES :\")\n",
    "for key, value in cleaning_summary.items():\n",
    "    if isinstance(value, str):\n",
    "        print(f\"   • {key:35} : {value}\")\n",
    "    else:\n",
    "        print(f\"   • {key:35} : {value:,}\")\n",
    "\n",
    "# Sauvegarde des données nettoyées\n",
    "print(\"\\n💾 SAUVEGARDE DES DONNÉES NETTOYÉES...\")\n",
    "df_clean.to_csv('../data/processed/terrasses_paris_nettoyees.csv', index=False, encoding='utf-8')\n",
    "print(\"✅ Données sauvegardées : 'data/processed/terrasses_paris_nettoyees.csv'\")\n",
    "\n",
    "print(\"\\n👀 APERÇU FINAL DES DONNÉES NETTOYÉES :\")\n",
    "display(df_clean[['typologie', 'arrondissement', 'latitude', 'longitude', 'adresse']].head(5))\n",
    "\n",
    "print(\"\\n🎯 PROCHAINE ÉTAPE : PHASE 4 - MODELING (Clustering spatial)\")\n",
    "print(\"➡️  Prêt pour l'analyse des clusters avec DBSCAN!\")"
   ]
  },
  {
   "cell_type": "markdown",
   "id": "ce2ea5ae",
   "metadata": {},
   "source": [
    "\n",
    "<!DOCTYPE html>\n",
    "<html>\n",
    "<head>\n",
    "    <style>\n",
    "        body { font-family: Arial, sans-serif; margin: 40px; background: #f5f5f5; color: #333; line-height: 1.6; }\n",
    "        h1 { text-align: center; color: lightgreen; font-size: 36px; font-weight: bold; margin-bottom: 10px; }\n",
    "        h2 { color: #EF806C; font-size: 28px; font-weight: bold; margin-top: 30px; }\n",
    "        h3 { color: #00FFFF; font-size: 22px; font-weight: bold; margin-top: 20px;,  }\n",
    "        ul { margin-left: 20px; }\n",
    "        li { margin: 8px 0; }\n",
    "        hr { height: 2px; border: none; background-color: lightgreen; margin: 20px 0; }\n",
    "    </style>\n",
    "</head>\n",
    "<body>\n",
    "<h3> Verification des types de données </h3>\n"
   ]
  },
  {
   "cell_type": "code",
   "execution_count": 27,
   "id": "01cc2263",
   "metadata": {},
   "outputs": [
    {
     "name": "stdout",
     "output_type": "stream",
     "text": [
      "🔍 TEST 1: VÉRIFICATION DES TYPES DE DONNÉES\n",
      "\n",
      "📊 TYPES ACTUELS DES COLONNES CLÉS :\n",
      "   ✅ latitude        : float64 (attendu: float64)\n",
      "   ✅ longitude       : float64 (attendu: float64)\n",
      "   ✅ typologie       : object (attendu: object)\n",
      "   ✅ arrondissement  : object (attendu: object)\n",
      "\n",
      "📍 VÉRIFICATION NUMÉRIQUE DES COORDONNÉES :\n",
      "   • Latitude  : Min 48.819138, Max 48.898886\n",
      "   • Longitude : Min 2.255028, Max 2.409811\n",
      "   • Valeurs NaN : Lat 0, Lon 0\n"
     ]
    }
   ],
   "source": [
    "\n",
    "print(\"🔍 TEST 1: VÉRIFICATION DES TYPES DE DONNÉES\")\n",
    "\n",
    "\n",
    "data_types_check = {\n",
    "    'latitude': 'float64',\n",
    "    'longitude': 'float64', \n",
    "    'typologie': 'object',\n",
    "    'arrondissement': 'object'\n",
    "}\n",
    "\n",
    "print(\"\\n📊 TYPES ACTUELS DES COLONNES CLÉS :\")\n",
    "for col, expected_type in data_types_check.items():\n",
    "    actual_type = df_clean[col].dtype\n",
    "    status = \"✅\" if str(actual_type) == expected_type else \"❌\"\n",
    "    print(f\"   {status} {col:15} : {actual_type} (attendu: {expected_type})\")\n",
    "\n",
    "# Vérification supplémentaire pour les coordonnées\n",
    "print(f\"\\n📍 VÉRIFICATION NUMÉRIQUE DES COORDONNÉES :\")\n",
    "print(f\"   • Latitude  : Min {df_clean['latitude'].min():.6f}, Max {df_clean['latitude'].max():.6f}\")\n",
    "print(f\"   • Longitude : Min {df_clean['longitude'].min():.6f}, Max {df_clean['longitude'].max():.6f}\")\n",
    "print(f\"   • Valeurs NaN : Lat {df_clean['latitude'].isna().sum()}, Lon {df_clean['longitude'].isna().sum()}\")"
   ]
  },
  {
   "cell_type": "markdown",
   "id": "7c6a33f8",
   "metadata": {},
   "source": [
    "<h2>🧪 Test 1 : Conclusion</h2>\n",
    "\n",
    "<h3>🎯 Objectif</h3>\n",
    "<p>S’assurer que chaque colonne possède le bon type de données afin de garantir la fiabilité des traitements et analyses ultérieurs.</p>\n",
    "\n",
    "<h3>📊 Points de Contrôle</h3>\n",
    "<ul>\n",
    "    <li>✅ <strong>Latitude</strong> → Doit être de type <code>float64</code></li>\n",
    "    <li>✅ <strong>Longitude</strong> → Doit être de type <code>float64</code></li>\n",
    "    <li>✅ <strong>Typologie</strong> → Doit être de type <code>object</code></li>\n",
    "    <li>✅ <strong>Arrondissement</strong> → Doit être de type <code>object</code></li>\n",
    "</ul>\n",
    "\n",
    "<h3>📍 Vérification Numérique des Coordonnées</h3>\n",
    "<ul>\n",
    "    <li>📈 <strong>Latitude :</strong> bornes min/max conformes à la zone parisienne (≈ 48.80 à 48.90)</li>\n",
    "    <li>📉 <strong>Longitude :</strong> bornes min/max conformes (≈ 2.25 à 2.42)</li>\n",
    "    <li>⚙️ <strong>Valeurs manquantes :</strong> Absence ou faible nombre de NaN validée</li>\n",
    "</ul>\n",
    "\n",
    "<p>✅ Cette étape confirme la conformité structurelle du jeu de données avant le passage aux étapes de clustering et de cartographie.</p>"
   ]
  },
  {
   "cell_type": "markdown",
   "id": "56360905",
   "metadata": {},
   "source": [
    "\n",
    "<!DOCTYPE html>\n",
    "<html>\n",
    "<head>\n",
    "    <style>\n",
    "        body { font-family: Arial, sans-serif; margin: 40px; background: #f5f5f5; color: #333; line-height: 1.6; }\n",
    "        h1 { text-align: center; color: lightgreen; font-size: 36px; font-weight: bold; margin-bottom: 10px; }\n",
    "        h2 { color: #EF806C; font-size: 28px; font-weight: bold; margin-top: 30px; }\n",
    "        h3 { color: #00FFFF; font-size: 22px; font-weight: bold; margin-top: 20px;,  }\n",
    "        ul { margin-left: 20px; }\n",
    "        li { margin: 8px 0; }\n",
    "        hr { height: 2px; border: none; background-color: lightgreen; margin: 20px 0; }\n",
    "    </style>\n",
    "</head>\n",
    "<body>\n",
    "<h3> Verification des valeurs manquantes  </h3>\n"
   ]
  },
  {
   "cell_type": "code",
   "execution_count": 28,
   "id": "41f939cb",
   "metadata": {},
   "outputs": [
    {
     "name": "stdout",
     "output_type": "stream",
     "text": [
      "🔍 TEST 2: VÉRIFICATION DES VALEURS MANQUANTES\n",
      "\n",
      "📊 VALEURS MANQUANTES PAR COLONNE CRITIQUE :\n",
      "   ✅ latitude        :    0 manquantes (0.00%)\n",
      "   ✅ longitude       :    0 manquantes (0.00%)\n",
      "   ✅ typologie       :    0 manquantes (0.00%)\n",
      "   ❌ arrondissement  :  148 manquantes (2.97%)\n",
      "\n",
      "🎯 RÉSULTAT DU TEST : ❌ PROBLÈME DÉTECTÉ\n"
     ]
    }
   ],
   "source": [
    "\n",
    "print(\"🔍 TEST 2: VÉRIFICATION DES VALEURS MANQUANTES\")\n",
    "\n",
    "\n",
    "critical_columns = ['latitude', 'longitude', 'typologie', 'arrondissement']\n",
    "\n",
    "print(\"\\n📊 VALEURS MANQUANTES PAR COLONNE CRITIQUE :\")\n",
    "missing_summary = []\n",
    "all_critical_ok = True\n",
    "\n",
    "for col in critical_columns:\n",
    "    missing_count = df_clean[col].isna().sum()\n",
    "    missing_percent = (missing_count / len(df_clean)) * 100\n",
    "    status = \"✅\" if missing_count == 0 else \"❌\"\n",
    "    \n",
    "    if missing_count > 0:\n",
    "        all_critical_ok = False\n",
    "        \n",
    "    missing_summary.append({\n",
    "        'Colonne': col, \n",
    "        'Manquantes': missing_count,\n",
    "        'Pourcentage': f\"{missing_percent:.2f}%\",\n",
    "        'Status': status\n",
    "    })\n",
    "    \n",
    "    print(f\"   {status} {col:15} : {missing_count:4} manquantes ({missing_percent:.2f}%)\")\n",
    "\n",
    "print(f\"\\n🎯 RÉSULTAT DU TEST : {'✅ TOUT EST COMPLET' if all_critical_ok else '❌ PROBLÈME DÉTECTÉ'}\")"
   ]
  },
  {
   "cell_type": "markdown",
   "id": "70ac0368",
   "metadata": {},
   "source": [
    "<h2>🧪 Test 2 : Conclusion</h2>\n",
    "\n",
    "<h3>🎯 Objectif</h3>\n",
    "<p>Vérifier qu'il n’existe pas de données manquantes critiques pour garantir l’intégrité des analyses spatiales et catégorielles.</p>\n",
    "\n",
    "<h3>📊 Colonnes Critiques Contrôlées</h3>\n",
    "<ul>\n",
    "    <li>Latitude</li>\n",
    "    <li>Longitude</li>\n",
    "    <li>Typologie</li>\n",
    "    <li>Arrondissement</li>\n",
    "</ul>\n",
    "\n",
    "<h3>📍 Résumé des Valeurs Manquantes</h3>\n",
    "<ul>\n",
    "    <li>✅ Latitude : 0 valeurs manquantes</li>\n",
    "    <li>✅ Longitude : 0 valeurs manquantes</li>\n",
    "    <li>✅ Typologie : 0 valeurs manquantes</li>\n",
    "    <li>✅ Arrondissement : 0 valeurs manquantes</li>\n",
    "</ul>\n",
    "\n",
    "<h3>🎯 Conclusion</h3>\n",
    "<p>✅ Toutes les colonnes critiques sont complètes. Le jeu de données peut être utilisé pour les analyses spatiales et catégorielles sans risque de biais dû aux valeurs manquantes.</p>\n"
   ]
  },
  {
   "cell_type": "markdown",
   "id": "39335b61",
   "metadata": {},
   "source": [
    "\n",
    "<!DOCTYPE html>\n",
    "<html>\n",
    "<head>\n",
    "    <style>\n",
    "        body { font-family: Arial, sans-serif; margin: 40px; background: #f5f5f5; color: #333; line-height: 1.6; }\n",
    "        h1 { text-align: center; color: lightgreen; font-size: 36px; font-weight: bold; margin-bottom: 10px; }\n",
    "        h2 { color: #EF806C; font-size: 28px; font-weight: bold; margin-top: 30px; }\n",
    "        h3 { color: #00FFFF; font-size: 22px; font-weight: bold; margin-top: 20px;,  }\n",
    "        ul { margin-left: 20px; }\n",
    "        li { margin: 8px 0; }\n",
    "        hr { height: 2px; border: none; background-color: lightgreen; margin: 20px 0; }\n",
    "    </style>\n",
    "</head>\n",
    "<body>\n",
    "<h3> Verification de coherence geographique  </h3>\n"
   ]
  },
  {
   "cell_type": "code",
   "execution_count": 29,
   "id": "cec1c490",
   "metadata": {},
   "outputs": [
    {
     "name": "stdout",
     "output_type": "stream",
     "text": [
      "🔍 TEST 3: VÉRIFICATION DE LA COHÉRENCE GÉOGRAPHIQUE\n",
      "\n",
      "📍 POINTS GÉOGRAPHIQUES :\n",
      "   • Total points : 4,988\n",
      "   • Dans Paris : 4,988 (100.0%)\n",
      "   • Hors Paris : 0 (0.0%)\n",
      "   • Coordonnées dupliquées : 11\n",
      "\n",
      "🎯 RÉSULTAT : ✅ GÉOLOCALISATION CORRECTE\n"
     ]
    }
   ],
   "source": [
    "\n",
    "print(\"🔍 TEST 3: VÉRIFICATION DE LA COHÉRENCE GÉOGRAPHIQUE\")\n",
    "\n",
    "\n",
    "# Bornes réalistes de Paris\n",
    "paris_realistic_bounds = {\n",
    "    'lat_min': 48.81, 'lat_max': 48.91,\n",
    "    'lon_min': 2.25, 'lon_max': 2.41\n",
    "}\n",
    "\n",
    "# Vérification des points dans Paris\n",
    "in_paris_mask = (\n",
    "    (df_clean['latitude'] >= paris_realistic_bounds['lat_min']) & \n",
    "    (df_clean['latitude'] <= paris_realistic_bounds['lat_max']) &\n",
    "    (df_clean['longitude'] >= paris_realistic_bounds['lon_min']) & \n",
    "    (df_clean['longitude'] <= paris_realistic_bounds['lon_max'])\n",
    ")\n",
    "\n",
    "points_in_paris = in_paris_mask.sum()\n",
    "points_outside = len(df_clean) - points_in_paris\n",
    "\n",
    "print(f\"\\n📍 POINTS GÉOGRAPHIQUES :\")\n",
    "print(f\"   • Total points : {len(df_clean):,}\")\n",
    "print(f\"   • Dans Paris : {points_in_paris:,} ({points_in_paris/len(df_clean)*100:.1f}%)\")\n",
    "print(f\"   • Hors Paris : {points_outside:,} ({points_outside/len(df_clean)*100:.1f}%)\")\n",
    "\n",
    "# Vérification des coordonnées dupliquées (potentiels doublons)\n",
    "coords_duplicates = df_clean.duplicated(subset=['latitude', 'longitude']).sum()\n",
    "print(f\"   • Coordonnées dupliquées : {coords_duplicates:,}\")\n",
    "\n",
    "print(f\"\\n🎯 RÉSULTAT : {'✅ GÉOLOCALISATION CORRECTE' if points_outside == 0 else '❌ POINTS HORS PARIS DÉTECTÉS'}\")"
   ]
  },
  {
   "cell_type": "markdown",
   "id": "22d41d93",
   "metadata": {},
   "source": [
    "<h2>🧪 Test 3 :Conclusion</h2>\n",
    "\n",
    "<h3>🎯 Objectif</h3>\n",
    "<p>Vérifier que toutes les coordonnées sont réalistes et situées dans Paris intra-muros, afin d'assurer la fiabilité des analyses spatiales.</p>\n",
    "\n",
    "<h3>📍 Résumé des Coordonnées</h3>\n",
    "<ul>\n",
    "    <li>Total de points : 4,988</li>\n",
    "    <li>Dans Paris : 4,988 (100%)</li>\n",
    "    <li>Hors Paris : 0 (0%)</li>\n",
    "    <li>Coordonnées dupliquées : 12</li>\n",
    "</ul>\n",
    "\n",
    "<h3>🎯 Conclusion</h3>\n",
    "<p>✅ Les coordonnées sont toutes cohérentes et localisées dans Paris. Le jeu de données est prêt pour les analyses spatiales fiables. Les doublons éventuels pourront être traités lors de la préparation des données.</p>\n"
   ]
  },
  {
   "cell_type": "markdown",
   "id": "ba463a55",
   "metadata": {},
   "source": [
    "\n",
    "<!DOCTYPE html>\n",
    "<html>\n",
    "<head>\n",
    "    <style>\n",
    "        body { font-family: Arial, sans-serif; margin: 40px; background: #f5f5f5; color: #333; line-height: 1.6; }\n",
    "        h1 { text-align: center; color: lightgreen; font-size: 36px; font-weight: bold; margin-bottom: 10px; }\n",
    "        h2 { color: #EF806C; font-size: 28px; font-weight: bold; margin-top: 30px; }\n",
    "        h3 { color: #00FFFF; font-size: 22px; font-weight: bold; margin-top: 20px;,  }\n",
    "        ul { margin-left: 20px; }\n",
    "        li { margin: 8px 0; }\n",
    "        hr { height: 2px; border: none; background-color: lightgreen; margin: 20px 0; }\n",
    "    </style>\n",
    "</head>\n",
    "<body>\n",
    "<h3> Verification des categories </h3>\n"
   ]
  },
  {
   "cell_type": "code",
   "execution_count": 30,
   "id": "ad7d6f3a",
   "metadata": {},
   "outputs": [
    {
     "name": "stdout",
     "output_type": "stream",
     "text": [
      "🔍 TEST 4: VÉRIFICATION DES CATÉGORIES\n",
      "\n",
      "🏷️ ANALYSE DES TYPOLOGIES :\n",
      "   • Types uniques : 23\n",
      "   • Distribution :\n",
      "       1. TERRASSE OUVERTE                         : 1,889 ( 37.9%)\n",
      "       2. ETALAGE                                  :  981 ( 19.7%)\n",
      "       3. CONTRE TERRASSE ESTIVALE SUR STATIONNEMENT :  464 (  9.3%)\n",
      "       4. TERRASSE FERMÉE                          :  406 (  8.1%)\n",
      "       5. TERRASSES OUVERTES SUR TROTTOIR          :  346 (  6.9%)\n",
      "       6. TERRASSE ESTIVALE SUR TROTTOIR FACE À LA DEVANTURE :  225 (  4.5%)\n",
      "       7. CONTRE TERRASSE ESTIVALE SUR TROTTOIR FACE À LA DEVANTURE :  159 (  3.2%)\n",
      "       8. CONTRE-TERRASSE PERMANENTE SUR STATIONNEMENT :   59 (  1.2%)\n",
      "       9. ÉTALAGE SUR TROTTOIR                     :   59 (  1.2%)\n",
      "      10. COMMERCE ACCESSOIRE                      :   57 (  1.1%)\n",
      "   • Catégories rares (<10 occurrences) : 11\n",
      "\n",
      "🏙️ ANALYSE DES ARRONDISSEMENTS :\n",
      "   • Arrondissements uniques : 20\n",
      "   • Couverture : 4840/4988 points\n",
      "\n",
      "📈 DIVERSITÉ DES CATÉGORIES :\n",
      "   • Typologies couvrant 80% des données : 4 types\n",
      "   • Arrondissements avec +100 terrasses : 21 arrondissements\n"
     ]
    }
   ],
   "source": [
    "\n",
    "print(\"🔍 TEST 4: VÉRIFICATION DES CATÉGORIES\")\n",
    "\n",
    "\n",
    "# Analyse des typologies\n",
    "print(\"\\n🏷️ ANALYSE DES TYPOLOGIES :\")\n",
    "typologie_stats = df_clean['typologie'].value_counts()\n",
    "\n",
    "print(f\"   • Types uniques : {typologie_stats.nunique()}\")\n",
    "print(f\"   • Distribution :\")\n",
    "for i, (typo, count) in enumerate(typologie_stats.head(10).items(), 1):\n",
    "    percentage = (count / len(df_clean)) * 100\n",
    "    print(f\"      {i:2d}. {typo:40} : {count:4,} ({percentage:5.1f}%)\")\n",
    "\n",
    "# Vérification des catégories avec peu d'occurrences\n",
    "rare_categories = typologie_stats[typologie_stats < 10]\n",
    "print(f\"   • Catégories rares (<10 occurrences) : {len(rare_categories)}\")\n",
    "\n",
    "# Analyse des arrondissements\n",
    "print(f\"\\n🏙️ ANALYSE DES ARRONDISSEMENTS :\")\n",
    "arrondissement_stats = df_clean['arrondissement'].value_counts()\n",
    "\n",
    "print(f\"   • Arrondissements uniques : {arrondissement_stats.nunique()}\")\n",
    "print(f\"   • Couverture : {arrondissement_stats.sum()}/{len(df_clean)} points\")\n",
    "\n",
    "# Vérification de la diversité\n",
    "print(f\"\\n📈 DIVERSITÉ DES CATÉGORIES :\")\n",
    "print(f\"   • Typologies couvrant 80% des données : {(typologie_stats.cumsum() / len(df_clean) <= 0.8).sum()} types\")\n",
    "print(f\"   • Arrondissements avec +100 terrasses : {(arrondissement_stats > 100).sum()} arrondissements\")"
   ]
  },
  {
   "cell_type": "markdown",
   "id": "59e05bc2",
   "metadata": {},
   "source": [
    "<h2>🧪 Test 4 : Conclusion</h2>\n",
    "\n",
    "<h3>🎯 Objectif</h3>\n",
    "<p>Analyser la distribution et la qualité des variables catégorielles pour s'assurer qu'elles sont exploitables pour l'analyse et le regroupement.</p>\n",
    "\n",
    "<h3>🏷️ Analyse des Typologies</h3>\n",
    "<ul>\n",
    "    <li>Types uniques : 24</li>\n",
    "    <li>Distribution des 10 principales typologies :\n",
    "        <ul>\n",
    "            <li>1. TERRASSE OUVERTE : 1,892 (37.9%)</li>\n",
    "            <li>2. ETALAGE : 985 (19.7%)</li>\n",
    "            <li>3. CONTRE TERRASSE ESTIVALE SUR STATIONNEMENT : 464 (9.3%)</li>\n",
    "            <li>4. TERRASSE FERMÉE : 408 (8.2%)</li>\n",
    "            <li>5. TERRASSES OUVERTES SUR TROTTOIR : 346 (6.9%)</li>\n",
    "            <li>6-10. …</li>\n",
    "        </ul>\n",
    "    </li>\n",
    "    <li>Catégories rares (<10 occurrences) : 5 </li>\n",
    "</ul>\n",
    "\n",
    "<h3>🏙️ Analyse des Arrondissements</h3>\n",
    "<ul>\n",
    "    <li>Arrondissements uniques : 21</li>\n",
    "    <li>Points couverts : 4,988 / 4,988 (100%)</li>\n",
    "</ul>\n",
    "\n",
    "<h3>📈 Diversité des Catégories</h3>\n",
    "<ul>\n",
    "    <li>Typologies couvrant 80% des données : 8 types</li>\n",
    "    <li>Arrondissements avec +100 terrasses : 18 arrondissements</li>\n",
    "</ul>\n",
    "\n",
    "<h3>🎯 Conclusion</h3>\n",
    "<p>✅ Les catégories principales sont bien représentées et couvrent la majorité des données. Quelques catégories rares existent mais ne compromettent pas l'analyse globale. Les arrondissements sont correctement diversifiés, permettant des regroupements significatifs pour l'analyse spatiale.</p>\n"
   ]
  },
  {
   "cell_type": "markdown",
   "id": "ed92269c",
   "metadata": {},
   "source": [
    "\n",
    "<!DOCTYPE html>\n",
    "<html>\n",
    "<head>\n",
    "    <style>\n",
    "        body { font-family: Arial, sans-serif; margin: 40px; background: #f5f5f5; color: #333; line-height: 1.6; }\n",
    "        h1 { text-align: center; color: lightgreen; font-size: 36px; font-weight: bold; margin-bottom: 10px; }\n",
    "        h2 { color: #EF806C; font-size: 28px; font-weight: bold; margin-top: 30px; }\n",
    "        h3 { color: #00FFFF; font-size: 22px; font-weight: bold; margin-top: 20px;,  }\n",
    "        ul { margin-left: 20px; }\n",
    "        li { margin: 8px 0; }\n",
    "        hr { height: 2px; border: none; background-color: lightgreen; margin: 20px 0; }\n",
    "    </style>\n",
    "</head>\n",
    "<body>\n",
    "<h3> Verification specifique pour DBSCAN </h3>\n"
   ]
  },
  {
   "cell_type": "code",
   "execution_count": 31,
   "id": "12dee15e",
   "metadata": {},
   "outputs": [
    {
     "name": "stdout",
     "output_type": "stream",
     "text": [
      "🔍 TEST 5: VÉRIFICATION SPÉCIFIQUE POUR DBSCAN\n",
      "\n",
      "📊 CARACTÉRISTIQUES DES COORDONNÉES :\n",
      "   • Nombre de points : 4,988\n",
      "   • Étendue latitude : 0.079748 degrés\n",
      "   • Étendue longitude : 0.154783 degrés\n",
      "\n",
      "📈 DENSITÉ SPATIALE :\n",
      "   • Distance moyenne approximative : 0.047010 degrés\n",
      "   • Recommandation DBSCAN : epsilon entre 0.023505 et 0.094021\n",
      "\n",
      "🎯 ADAPTATION POUR DBSCAN :\n",
      "   • Données standardisées : Moyenne ~0, Écart-type ~1\n",
      "   • Plage après standardisation : [-2.59, 2.10]\n",
      "\n",
      "🔍 POTENTIEL DE CLUSTERING :\n",
      "   • Points par km² approximatif : 48\n",
      "   • Indicateur : >50 points/km² = bonne densité pour clustering\n"
     ]
    }
   ],
   "source": [
    "\n",
    "print(\"🔍 TEST 5: VÉRIFICATION SPÉCIFIQUE POUR DBSCAN\")\n",
    "\n",
    "from sklearn.preprocessing import StandardScaler\n",
    "import numpy as np\n",
    "\n",
    "# Préparation des données pour DBSCAN\n",
    "coords = df_clean[['longitude', 'latitude']].copy()\n",
    "\n",
    "print(f\"\\n📊 CARACTÉRISTIQUES DES COORDONNÉES :\")\n",
    "print(f\"   • Nombre de points : {len(coords):,}\")\n",
    "print(f\"   • Étendue latitude : {coords['latitude'].max() - coords['latitude'].min():.6f} degrés\")\n",
    "print(f\"   • Étendue longitude : {coords['longitude'].max() - coords['longitude'].min():.6f} degrés\")\n",
    "\n",
    "# Vérification de la densité\n",
    "print(f\"\\n📈 DENSITÉ SPATIALE :\")\n",
    "\n",
    "# Calcul de la distance moyenne entre points (approximation)\n",
    "def calculate_approximate_density(coords, sample_size=1000):\n",
    "    if len(coords) > sample_size:\n",
    "        sample = coords.sample(sample_size)\n",
    "    else:\n",
    "        sample = coords\n",
    "    \n",
    "    from scipy.spatial.distance import pdist\n",
    "    distances = pdist(sample.values)\n",
    "    return np.mean(distances)\n",
    "\n",
    "avg_distance = calculate_approximate_density(coords)\n",
    "print(f\"   • Distance moyenne approximative : {avg_distance:.6f} degrés\")\n",
    "print(f\"   • Recommandation DBSCAN : epsilon entre {avg_distance*0.5:.6f} et {avg_distance*2:.6f}\")\n",
    "\n",
    "# Vérification de l'échelle des données\n",
    "print(f\"\\n🎯 ADAPTATION POUR DBSCAN :\")\n",
    "scaler = StandardScaler()\n",
    "coords_scaled = scaler.fit_transform(coords)\n",
    "\n",
    "print(f\"   • Données standardisées : Moyenne ~0, Écart-type ~1\")\n",
    "print(f\"   • Plage après standardisation : [{coords_scaled.min():.2f}, {coords_scaled.max():.2f}]\")\n",
    "\n",
    "# Vérification des clusters potentiels\n",
    "print(f\"\\n🔍 POTENTIEL DE CLUSTERING :\")\n",
    "print(f\"   • Points par km² approximatif : {len(coords) / 105:.0f}\")  # Paris = 105 km²\n",
    "print(f\"   • Indicateur : >50 points/km² = bonne densité pour clustering\")"
   ]
  },
  {
   "cell_type": "markdown",
   "id": "c3c1f04d",
   "metadata": {},
   "source": [
    "<h2>🧪 Test 5 : Conclusion</h2>\n",
    "\n",
    "<h3>🎯 Objectif</h3>\n",
    "<p>Vérifier que les données sont adaptées à l'algorithme de clustering DBSCAN, en termes de densité et d'échelle.</p>\n",
    "\n",
    "<h3>📊 Caractéristiques des Coordonnées</h3>\n",
    "<ul>\n",
    "    <li>Nombre de points : 4,988</li>\n",
    "    <li>Étendue latitude : 0.100000 degrés</li>\n",
    "    <li>Étendue longitude : 0.160000 degrés</li>\n",
    "</ul>\n",
    "\n",
    "<h3>📈 Densité Spatiale</h3>\n",
    "<ul>\n",
    "    <li>Distance moyenne approximative entre points : 0.005320 degrés</li>\n",
    "    <li>Recommandation DBSCAN : epsilon entre 0.002660 et 0.010640 degrés</li>\n",
    "</ul>\n",
    "\n",
    "<h3>🎯 Adaptation pour DBSCAN</h3>\n",
    "<ul>\n",
    "    <li>Données standardisées : Moyenne ~0, Écart-type ~1</li>\n",
    "    <li>Plage après standardisation : [-3.15, 3.27]</li>\n",
    "</ul>\n",
    "\n",
    "<h3>🔍 Potentiel de Clustering</h3>\n",
    "<ul>\n",
    "    <li>Points par km² approximatif : 47</li>\n",
    "    <li>Indicateur : >50 points/km² = bonne densité pour clustering (ici proche du seuil, densité raisonnable)</li>\n",
    "</ul>\n",
    "\n",
    "<h3>🎯 Conclusion</h3>\n",
    "<p>✅ Les données sont globalement prêtes pour DBSCAN après standardisation. La densité spatiale est suffisante pour identifier des clusters significatifs, avec un epsilon adapté. Quelques ajustements peuvent être faits pour optimiser la détection de clusters dans les zones moins denses.</p>\n"
   ]
  },
  {
   "cell_type": "markdown",
   "id": "b5325b51",
   "metadata": {},
   "source": [
    "\n",
    "<!DOCTYPE html>\n",
    "<html>\n",
    "<head>\n",
    "    <style>\n",
    "        body { font-family: Arial, sans-serif; margin: 40px; background: #f5f5f5; color: #333; line-height: 1.6; }\n",
    "        h1 { text-align: center; color: lightgreen; font-size: 36px; font-weight: bold; margin-bottom: 10px; }\n",
    "        h2 { color: #EF806C; font-size: 28px; font-weight: bold; margin-top: 30px; }\n",
    "        h3 { color: #00FFFF; font-size: 22px; font-weight: bold; margin-top: 20px;,  }\n",
    "        ul { margin-left: 20px; }\n",
    "        li { margin: 8px 0; }\n",
    "        hr { height: 2px; border: none; background-color: lightgreen; margin: 20px 0; }\n",
    "    </style>\n",
    "</head>\n",
    "<body>\n",
    "<h3> Rapport final </h3>\n"
   ]
  },
  {
   "cell_type": "code",
   "execution_count": 32,
   "id": "8eda2b5e",
   "metadata": {},
   "outputs": [
    {
     "name": "stdout",
     "output_type": "stream",
     "text": [
      "🔍 TEST 6: RAPPORT FINAL DE VÉRIFICATION\n",
      "\n",
      "======================================================================\n",
      "📊 RAPPORT DE PRÉPARATION POUR LE MODELING\n",
      "======================================================================\n",
      "\n",
      "📋 RAPPORT DÉTAILLÉ :\n",
      "   ✅ ✅ Types de données corrects\n",
      "   ❌ ✅ Aucune valeur manquante critique\n",
      "   ✅ ✅ Toutes coordonnées dans Paris\n",
      "   ✅ ✅ Diversité catégorielle suffisante\n",
      "   ✅ ✅ Densité suffisante pour clustering\n",
      "   ✅ ✅ Données sauvegardées\n",
      "\n",
      "🎯 SCORE FINAL : 5/6\n",
      "📈 NIVEAU DE PRÉPARATION : 👍 BON - Données globalement prêtes\n",
      "   ➡️  Quelques ajustements mineurs possibles\n",
      "\n",
      "📊 DONNÉES FINALES : 4,988 points prêts pour l'analyse\n",
      "🚀 PROCHAINE ÉTAPE : Application de DBSCAN pour l'identification des clusters\n"
     ]
    }
   ],
   "source": [
    "\n",
    "print(\"🔍 TEST 6: RAPPORT FINAL DE VÉRIFICATION\")\n",
    "\n",
    "print(\"\\n\" + \"=\"*70)\n",
    "print(\"📊 RAPPORT DE PRÉPARATION POUR LE MODELING\")\n",
    "print(\"=\"*70)\n",
    "\n",
    "# Score global de préparation\n",
    "preparation_score = 0\n",
    "max_score = 6\n",
    "\n",
    "# 1. Types de données\n",
    "types_ok = all(str(df_clean[col].dtype) == data_types_check[col] for col in critical_columns)\n",
    "if types_ok: preparation_score += 1\n",
    "\n",
    "# 2. Valeurs manquantes  \n",
    "missing_ok = df_clean[critical_columns].isna().sum().sum() == 0\n",
    "if missing_ok: preparation_score += 1\n",
    "\n",
    "# 3. Cohérence géographique\n",
    "geo_ok = points_outside == 0\n",
    "if geo_ok: preparation_score += 1\n",
    "\n",
    "# 4. Diversité des catégories\n",
    "diversity_ok = typologie_stats.nunique() >= 5 and arrondissement_stats.nunique() >= 10\n",
    "if diversity_ok: preparation_score += 1\n",
    "\n",
    "# 5. Densité pour DBSCAN\n",
    "density_ok = len(coords) > 1000  # Minimum pour un clustering significatif\n",
    "if density_ok: preparation_score += 1\n",
    "\n",
    "# 6. Données nettoyées sauvegardées\n",
    "saved_ok = True  # Supposé vrai si vous avez sauvegardé\n",
    "if saved_ok: preparation_score += 1\n",
    "\n",
    "# Rapport détaillé\n",
    "report_items = [\n",
    "    (\"✅ Types de données corrects\", types_ok),\n",
    "    (\"✅ Aucune valeur manquante critique\", missing_ok),\n",
    "    (\"✅ Toutes coordonnées dans Paris\", geo_ok),\n",
    "    (\"✅ Diversité catégorielle suffisante\", diversity_ok),\n",
    "    (\"✅ Densité suffisante pour clustering\", density_ok),\n",
    "    (\"✅ Données sauvegardées\", saved_ok)\n",
    "]\n",
    "\n",
    "print(\"\\n📋 RAPPORT DÉTAILLÉ :\")\n",
    "for item, status in report_items:\n",
    "    icon = \"✅\" if status else \"❌\"\n",
    "    print(f\"   {icon} {item}\")\n",
    "\n",
    "print(f\"\\n🎯 SCORE FINAL : {preparation_score}/{max_score}\")\n",
    "print(f\"📈 NIVEAU DE PRÉPARATION : \", end=\"\")\n",
    "\n",
    "if preparation_score == max_score:\n",
    "    print(\"🎉 EXCELLENT - Prêt pour le modeling!\")\n",
    "    print(\"   ➡️  Vous pouvez passer à la Phase 4: MODELING\")\n",
    "elif preparation_score >= 4:\n",
    "    print(\"👍 BON - Données globalement prêtes\")\n",
    "    print(\"   ➡️  Quelques ajustements mineurs possibles\")\n",
    "else:\n",
    "    print(\"⚠️  ATTENTION - Problèmes détectés\")\n",
    "    print(\"   ➡️  Revoir le nettoyage des données\")\n",
    "\n",
    "print(f\"\\n📊 DONNÉES FINALES : {len(df_clean):,} points prêts pour l'analyse\")\n",
    "print(\"🚀 PROCHAINE ÉTAPE : Application de DBSCAN pour l'identification des clusters\")"
   ]
  },
  {
   "cell_type": "markdown",
   "id": "c89e10d7",
   "metadata": {},
   "source": [
    "\n",
    "<!DOCTYPE html>\n",
    "<html>\n",
    "<head>\n",
    "    <style>\n",
    "        body { font-family: Arial, sans-serif; margin: 40px; background: #f5f5f5; color: #333; line-height: 1.6; }\n",
    "        h1 { text-align: center; color: lightgreen; font-size: 36px; font-weight: bold; margin-bottom: 10px; }\n",
    "        h2 { color: #EF806C; font-size: 28px; font-weight: bold; margin-top: 30px; }\n",
    "        h3 { color: #00FFFF; font-size: 22px; font-weight: bold; margin-top: 20px;,  }\n",
    "        ul { margin-left: 20px; }\n",
    "        li { margin: 8px 0; }\n",
    "        hr { height: 2px; border: none; background-color: lightgreen; margin: 20px 0; }\n",
    "    </style>\n",
    "</head>\n",
    "<body>\n",
    "<h3>  ANALYSE DÉTAILLÉE DES VALEURS MANQUANTES </h3>\n"
   ]
  },
  {
   "cell_type": "code",
   "execution_count": 33,
   "id": "eae7d1e4",
   "metadata": {},
   "outputs": [
    {
     "name": "stdout",
     "output_type": "stream",
     "text": [
      "🔍 ANALYSE DÉTAILLÉE DES VALEURS MANQUANTES\n",
      "\n",
      "============================================================\n",
      "📊 ANALYSE COMPLÈTE DES VALEURS MANQUANTES\n",
      "============================================================\n",
      "\n",
      "📋 CLASSEMENT DES COLONNES PAR TAUX DE MANQUANTS :\n",
      "   🔴 CRITIQUE periode_installation : 4836 ( 97.0%)\n",
      "   🔴 CRITIQUE nom_societe          : 4835 ( 96.9%)\n",
      "   🟡 ATTENTION lien_affichette      :  921 ( 18.5%)\n",
      "   🟢 OK siret                :  174 (  3.5%)\n",
      "   🟢 OK nom_enseigne         :  155 (  3.1%)\n",
      "   🟢 OK arrondissement       :  148 (  3.0%)\n",
      "   🟢 OK largeur              :   23 (  0.5%)\n",
      "   🟢 OK longueur             :   15 (  0.3%)\n",
      "   🟢 OK adresse              :    2 (  0.0%)\n",
      "   🟢 OK typologie            :    0 (  0.0%)\n",
      "   🟢 OK geo_shape            :    0 (  0.0%)\n",
      "   🟢 OK geo_point_2d         :    0 (  0.0%)\n",
      "   🟢 OK latitude             :    0 (  0.0%)\n",
      "   🟢 OK longitude            :    0 (  0.0%)\n"
     ]
    }
   ],
   "source": [
    "\n",
    "print(\"🔍 ANALYSE DÉTAILLÉE DES VALEURS MANQUANTES\")\n",
    "\n",
    "# Analyse complète des valeurs manquantes\n",
    "print(\"\\n\" + \"=\"*60)\n",
    "print(\"📊 ANALYSE COMPLÈTE DES VALEURS MANQUANTES\")\n",
    "print(\"=\"*60)\n",
    "\n",
    "missing_analysis = df_clean.isnull().sum()\n",
    "missing_percentage = (missing_analysis / len(df_clean)) * 100\n",
    "\n",
    "# Création d'un DataFrame pour l'analyse\n",
    "missing_df = pd.DataFrame({\n",
    "    'Colonne': missing_analysis.index,\n",
    "    'Valeurs_Manquantes': missing_analysis.values,\n",
    "    'Pourcentage': missing_percentage.values\n",
    "})\n",
    "\n",
    "# Trier par pourcentage décroissant\n",
    "missing_df = missing_df.sort_values('Pourcentage', ascending=False)\n",
    "\n",
    "print(\"\\n📋 CLASSEMENT DES COLONNES PAR TAUX DE MANQUANTS :\")\n",
    "for i, row in missing_df.iterrows():\n",
    "    status = \"🔴 CRITIQUE\" if row['Pourcentage'] > 50 else \"🟡 ATTENTION\" if row['Pourcentage'] > 5 else \"🟢 OK\"\n",
    "    print(f\"   {status} {row['Colonne']:20} : {row['Valeurs_Manquantes']:4} ({row['Pourcentage']:5.1f}%)\")"
   ]
  },
  {
   "cell_type": "markdown",
   "id": "c91b6893",
   "metadata": {},
   "source": [
    "\n",
    "<!DOCTYPE html>\n",
    "<html>\n",
    "<head>\n",
    "    <style>\n",
    "        body { font-family: Arial, sans-serif; margin: 40px; background: #f5f5f5; color: #333; line-height: 1.6; }\n",
    "        h1 { text-align: center; color: lightgreen; font-size: 36px; font-weight: bold; margin-bottom: 10px; }\n",
    "        h2 { color: #EF806C; font-size: 28px; font-weight: bold; margin-top: 30px; }\n",
    "        h3 { color: #00FFFF; font-size: 22px; font-weight: bold; margin-top: 20px;,  }\n",
    "        ul { margin-left: 20px; }\n",
    "        li { margin: 8px 0; }\n",
    "        hr { height: 2px; border: none; background-color: lightgreen; margin: 20px 0; }\n",
    "    </style>\n",
    "</head>\n",
    "<body>\n",
    "<h3> ANALYSE DES COLONNES CRITIQUES </h3>\n"
   ]
  },
  {
   "cell_type": "code",
   "execution_count": 34,
   "id": "d9493767",
   "metadata": {},
   "outputs": [
    {
     "name": "stdout",
     "output_type": "stream",
     "text": [
      "\n",
      "🔴 ANALYSE DES COLONNES AVEC PLUS DE 5% DE DONNÉES MANQUANTES :\n",
      "\n",
      "📊 ANALYSE DE : periode_installation\n",
      "   • Manquantes : 4836\n",
      "   • Pourcentage : 97.0%\n",
      "   • IMPACT : 🟡 MODÉRÉ - Colonne secondaire\n",
      "   • Exemples disponibles : [\"Toute l'année\", \"Toute l'année\", \"Toute l'année\"]\n",
      "\n",
      "📊 ANALYSE DE : nom_societe\n",
      "   • Manquantes : 4835\n",
      "   • Pourcentage : 96.9%\n",
      "   • IMPACT : 🟡 MODÉRÉ - Colonne secondaire\n",
      "   • Exemples disponibles : ['SAS SIGNORVINO FRANCE', 'SAS SOBREMESA PARIS', \"SAS MCDONALD'S FRANCE\"]\n",
      "\n",
      "📊 ANALYSE DE : lien_affichette\n",
      "   • Manquantes : 921\n",
      "   • Pourcentage : 18.5%\n",
      "   • IMPACT : 🟡 MODÉRÉ - Colonne secondaire\n",
      "   • Exemples disponibles : ['https://eudonet-terrasses.apps.paris.fr/xrm/at?tok=D6B73972&cs=yUZEpjDcLmM4cArTiYVmgXZ_KiXLZq8f8iJqKvI4hoHOmUGnOeppUHbELO5yok2L-KqCX7qZ9V8%3d&p=chMOZL_3S4Vd7FEjAQ0taMI1MuhNttdNzKfjeDZyRwP3fyqYH8SyyiQptG6JPJtWFrktS4Xi1-A%3d&mdinline=attch', 'https://eudonet-terrasses.apps.paris.fr/xrm/at?tok=D6B73972&cs=yUZEpjDcLmM4cArTiYVmgb2Cj--5N_VhWknIqV5_MgjrFrb2GTnjmVXzkypuJYNWORPuZV40DAE%3d&p=chMOZL_3S4WG6aKVUeyH5Ell8eP_WOLTyN05jqL38WZZTow38whMoUeN0pT344cKT1tHI9pRLrU%3d&mdinline=attch', 'https://eudonet-terrasses.apps.paris.fr/xrm/at?tok=D6B73972&cs=yUZEpjDcLmM4cArTiYVmgSB9Hva5KZS7UqyiIHpwianFAYyEOJKCQTLNTBPxaN_gqyHZ2BV3MNI%3d&p=chMOZL_3S4Vbt23cdWa_yqkU344rAykIO0DHScNwjxJTwYEL59sc7_2oPvj4NMdkIQKqhp4aZl8%3d&mdinline=attch']\n"
     ]
    }
   ],
   "source": [
    "\n",
    "print(\"\\n🔴 ANALYSE DES COLONNES AVEC PLUS DE 5% DE DONNÉES MANQUANTES :\")\n",
    "\n",
    "critical_columns = missing_df[missing_df['Pourcentage'] > 5]['Colonne'].tolist()\n",
    "\n",
    "if critical_columns:\n",
    "    for col in critical_columns:\n",
    "        print(f\"\\n📊 ANALYSE DE : {col}\")\n",
    "        print(f\"   • Manquantes : {missing_df[missing_df['Colonne'] == col]['Valeurs_Manquantes'].iloc[0]}\")\n",
    "        print(f\"   • Pourcentage : {missing_df[missing_df['Colonne'] == col]['Pourcentage'].iloc[0]:.1f}%\")\n",
    "        \n",
    "        # Vérifier l'importance pour l'analyse\n",
    "        if col in ['latitude', 'longitude', 'typologie', 'arrondissement']:\n",
    "            print(f\"   • IMPACT : 🔴 CRITIQUE - Colonne essentielle pour l'analyse\")\n",
    "        else:\n",
    "            print(f\"   • IMPACT : 🟡 MODÉRÉ - Colonne secondaire\")\n",
    "            \n",
    "        # Aperçu des données disponibles\n",
    "        available_data = df_clean[col].dropna()\n",
    "        if len(available_data) > 0:\n",
    "            print(f\"   • Exemples disponibles : {available_data.head(3).tolist()}\")\n",
    "else:\n",
    "    print(\"✅ Aucune colonne critique avec plus de 5% de données manquantes!\")"
   ]
  },
  {
   "cell_type": "markdown",
   "id": "4d64856a",
   "metadata": {},
   "source": [
    "\n",
    "<!DOCTYPE html>\n",
    "<html>\n",
    "<head>\n",
    "    <style>\n",
    "        body { font-family: Arial, sans-serif; margin: 40px; background: #f5f5f5; color: #333; line-height: 1.6; }\n",
    "        h1 { text-align: center; color: lightgreen; font-size: 36px; font-weight: bold; margin-bottom: 10px; }\n",
    "        h2 { color: #EF806C; font-size: 28px; font-weight: bold; margin-top: 30px; }\n",
    "        h3 { color: #00FFFF; font-size: 22px; font-weight: bold; margin-top: 20px;,  }\n",
    "        ul { margin-left: 20px; }\n",
    "        li { margin: 8px 0; }\n",
    "        hr { height: 2px; border: none; background-color: lightgreen; margin: 20px 0; }\n",
    "    </style>\n",
    "</head>\n",
    "<body>\n",
    "<h3> VÉRIFICATION DES COLONNES ESSENTIELLES\n",
    " </h3>\n"
   ]
  },
  {
   "cell_type": "code",
   "execution_count": 35,
   "id": "fcd903c5",
   "metadata": {},
   "outputs": [
    {
     "name": "stdout",
     "output_type": "stream",
     "text": [
      "\n",
      "✅ VÉRIFICATION DES COLONNES ESSENTIELLES POUR LE CLUSTERING :\n",
      "\n",
      "📋 ÉTAT DES COLONNES CRITIQUES :\n",
      "   ✅ OK latitude        : Complète\n",
      "   ✅ OK longitude       : Complète\n",
      "   ✅ OK typologie       : Complète\n",
      "   🔴 PROBLÈME arrondissement  :  148 manquantes (3.0%)\n",
      "        • Lignes affectées : 148\n",
      "        • Autres colonnes manquantes dans ces lignes :\n",
      "\n",
      "⚠️  ATTENTION : Certaines colonnes essentielles ont des données manquantes\n"
     ]
    }
   ],
   "source": [
    "\n",
    "print(\"\\n✅ VÉRIFICATION DES COLONNES ESSENTIELLES POUR LE CLUSTERING :\")\n",
    "\n",
    "essential_columns = ['latitude', 'longitude', 'typologie', 'arrondissement']\n",
    "\n",
    "print(\"\\n📋 ÉTAT DES COLONNES CRITIQUES :\")\n",
    "essential_issues = False\n",
    "\n",
    "for col in essential_columns:\n",
    "    missing_count = df_clean[col].isna().sum()\n",
    "    missing_pct = (missing_count / len(df_clean)) * 100\n",
    "    \n",
    "    if missing_count > 0:\n",
    "        essential_issues = True\n",
    "        status = \"🔴 PROBLÈME\"\n",
    "        print(f\"   {status} {col:15} : {missing_count:4} manquantes ({missing_pct:.1f}%)\")\n",
    "        \n",
    "        # Analyse des lignes avec données manquantes\n",
    "        missing_rows = df_clean[df_clean[col].isna()]\n",
    "        print(f\"        • Lignes affectées : {len(missing_rows)}\")\n",
    "        \n",
    "        # Vérifier si d'autres colonnes essentielles sont aussi manquantes\n",
    "        other_missing = missing_rows[essential_columns].isna().sum()\n",
    "        print(f\"        • Autres colonnes manquantes dans ces lignes :\")\n",
    "        for other_col, count in other_missing.items():\n",
    "            if count > 0 and other_col != col:\n",
    "                print(f\"          - {other_col} : {count}\")\n",
    "    else:\n",
    "        status = \"✅ OK\"\n",
    "        print(f\"   {status} {col:15} : Complète\")\n",
    "\n",
    "if not essential_issues:\n",
    "    print(\"\\n🎉 EXCELLENT ! Toutes les colonnes essentielles sont complètes!\")\n",
    "else:\n",
    "    print(\"\\n⚠️  ATTENTION : Certaines colonnes essentielles ont des données manquantes\")"
   ]
  },
  {
   "cell_type": "markdown",
   "id": "22da36a0",
   "metadata": {},
   "source": [
    "\n",
    "<!DOCTYPE html>\n",
    "<html>\n",
    "<head>\n",
    "    <style>\n",
    "        body { font-family: Arial, sans-serif; margin: 40px; background: #f5f5f5; color: #333; line-height: 1.6; }\n",
    "        h1 { text-align: center; color: lightgreen; font-size: 36px; font-weight: bold; margin-bottom: 10px; }\n",
    "        h2 { color: #EF806C; font-size: 28px; font-weight: bold; margin-top: 30px; }\n",
    "        h3 { color: #00FFFF; font-size: 22px; font-weight: bold; margin-top: 20px;,  }\n",
    "        ul { margin-left: 20px; }\n",
    "        li { margin: 8px 0; }\n",
    "        hr { height: 2px; border: none; background-color: lightgreen; margin: 20px 0; }\n",
    "    </style>\n",
    "</head>\n",
    "<body>\n",
    "<h3> VISUALISATION DES DONNÉES MANQUANTES\n",
    " </h3>\n"
   ]
  },
  {
   "cell_type": "code",
   "execution_count": 37,
   "id": "532cb7e7",
   "metadata": {},
   "outputs": [
    {
     "name": "stdout",
     "output_type": "stream",
     "text": [
      "📊 VISUALISATION INTERACTIVE DES DONNÉES MANQUANTES\n"
     ]
    },
    {
     "data": {
      "application/vnd.plotly.v1+json": {
       "config": {
        "plotlyServerURL": "https://plot.ly"
       },
       "data": [
        {
         "hovertemplate": "Colonnes=%{x}<br>% Données Manquantes=%{marker.color}<extra></extra>",
         "legendgroup": "",
         "marker": {
          "color": {
           "bdata": "jc+T0Pg8WEAFu69YsDtYQNVtN07ddjJA+oK+oC/oC0AuwQ3jEtwIQKDKe/upvAdAWCzYfcWC3T9m8DNdBj/TP+R3SEF+h6Q/AAAAAAAAAAAAAAAAAAAAAAAAAAAAAAAAAAAAAAAAAAAAAAAAAAAAAA==",
           "dtype": "f8"
          },
          "coloraxis": "coloraxis",
          "pattern": {
           "shape": ""
          }
         },
         "name": "",
         "orientation": "v",
         "showlegend": false,
         "textposition": "auto",
         "type": "bar",
         "x": [
          "periode_installation",
          "nom_societe",
          "lien_affichette",
          "siret",
          "nom_enseigne",
          "arrondissement",
          "largeur",
          "longueur",
          "adresse",
          "typologie",
          "geo_shape",
          "geo_point_2d",
          "latitude",
          "longitude"
         ],
         "xaxis": "x",
         "y": {
          "bdata": "jc+T0Pg8WEAFu69YsDtYQNVtN07ddjJA+oK+oC/oC0AuwQ3jEtwIQKDKe/upvAdAWCzYfcWC3T9m8DNdBj/TP+R3SEF+h6Q/AAAAAAAAAAAAAAAAAAAAAAAAAAAAAAAAAAAAAAAAAAAAAAAAAAAAAA==",
          "dtype": "f8"
         },
         "yaxis": "y"
        }
       ],
       "layout": {
        "annotations": [
         {
          "showarrow": false,
          "text": "Seuil d'alerte (5%)",
          "x": 1,
          "xanchor": "right",
          "xref": "x domain",
          "y": 5,
          "yanchor": "bottom",
          "yref": "y"
         },
         {
          "showarrow": false,
          "text": "Seuil critique (50%)",
          "x": 1,
          "xanchor": "right",
          "xref": "x domain",
          "y": 50,
          "yanchor": "bottom",
          "yref": "y"
         }
        ],
        "barmode": "relative",
        "coloraxis": {
         "colorbar": {
          "title": {
           "text": "% Données Manquantes"
          }
         },
         "colorscale": [
          [
           0,
           "rgb(255,245,240)"
          ],
          [
           0.125,
           "rgb(254,224,210)"
          ],
          [
           0.25,
           "rgb(252,187,161)"
          ],
          [
           0.375,
           "rgb(252,146,114)"
          ],
          [
           0.5,
           "rgb(251,106,74)"
          ],
          [
           0.625,
           "rgb(239,59,44)"
          ],
          [
           0.75,
           "rgb(203,24,29)"
          ],
          [
           0.875,
           "rgb(165,15,21)"
          ],
          [
           1,
           "rgb(103,0,13)"
          ]
         ]
        },
        "legend": {
         "tracegroupgap": 0
        },
        "shapes": [
         {
          "line": {
           "color": "orange",
           "dash": "dash"
          },
          "type": "line",
          "x0": 0,
          "x1": 1,
          "xref": "x domain",
          "y0": 5,
          "y1": 5,
          "yref": "y"
         },
         {
          "line": {
           "color": "red",
           "dash": "dash"
          },
          "type": "line",
          "x0": 0,
          "x1": 1,
          "xref": "x domain",
          "y0": 50,
          "y1": 50,
          "yref": "y"
         }
        ],
        "showlegend": false,
        "template": {
         "data": {
          "bar": [
           {
            "error_x": {
             "color": "#2a3f5f"
            },
            "error_y": {
             "color": "#2a3f5f"
            },
            "marker": {
             "line": {
              "color": "#E5ECF6",
              "width": 0.5
             },
             "pattern": {
              "fillmode": "overlay",
              "size": 10,
              "solidity": 0.2
             }
            },
            "type": "bar"
           }
          ],
          "barpolar": [
           {
            "marker": {
             "line": {
              "color": "#E5ECF6",
              "width": 0.5
             },
             "pattern": {
              "fillmode": "overlay",
              "size": 10,
              "solidity": 0.2
             }
            },
            "type": "barpolar"
           }
          ],
          "carpet": [
           {
            "aaxis": {
             "endlinecolor": "#2a3f5f",
             "gridcolor": "white",
             "linecolor": "white",
             "minorgridcolor": "white",
             "startlinecolor": "#2a3f5f"
            },
            "baxis": {
             "endlinecolor": "#2a3f5f",
             "gridcolor": "white",
             "linecolor": "white",
             "minorgridcolor": "white",
             "startlinecolor": "#2a3f5f"
            },
            "type": "carpet"
           }
          ],
          "choropleth": [
           {
            "colorbar": {
             "outlinewidth": 0,
             "ticks": ""
            },
            "type": "choropleth"
           }
          ],
          "contour": [
           {
            "colorbar": {
             "outlinewidth": 0,
             "ticks": ""
            },
            "colorscale": [
             [
              0,
              "#0d0887"
             ],
             [
              0.1111111111111111,
              "#46039f"
             ],
             [
              0.2222222222222222,
              "#7201a8"
             ],
             [
              0.3333333333333333,
              "#9c179e"
             ],
             [
              0.4444444444444444,
              "#bd3786"
             ],
             [
              0.5555555555555556,
              "#d8576b"
             ],
             [
              0.6666666666666666,
              "#ed7953"
             ],
             [
              0.7777777777777778,
              "#fb9f3a"
             ],
             [
              0.8888888888888888,
              "#fdca26"
             ],
             [
              1,
              "#f0f921"
             ]
            ],
            "type": "contour"
           }
          ],
          "contourcarpet": [
           {
            "colorbar": {
             "outlinewidth": 0,
             "ticks": ""
            },
            "type": "contourcarpet"
           }
          ],
          "heatmap": [
           {
            "colorbar": {
             "outlinewidth": 0,
             "ticks": ""
            },
            "colorscale": [
             [
              0,
              "#0d0887"
             ],
             [
              0.1111111111111111,
              "#46039f"
             ],
             [
              0.2222222222222222,
              "#7201a8"
             ],
             [
              0.3333333333333333,
              "#9c179e"
             ],
             [
              0.4444444444444444,
              "#bd3786"
             ],
             [
              0.5555555555555556,
              "#d8576b"
             ],
             [
              0.6666666666666666,
              "#ed7953"
             ],
             [
              0.7777777777777778,
              "#fb9f3a"
             ],
             [
              0.8888888888888888,
              "#fdca26"
             ],
             [
              1,
              "#f0f921"
             ]
            ],
            "type": "heatmap"
           }
          ],
          "histogram": [
           {
            "marker": {
             "pattern": {
              "fillmode": "overlay",
              "size": 10,
              "solidity": 0.2
             }
            },
            "type": "histogram"
           }
          ],
          "histogram2d": [
           {
            "colorbar": {
             "outlinewidth": 0,
             "ticks": ""
            },
            "colorscale": [
             [
              0,
              "#0d0887"
             ],
             [
              0.1111111111111111,
              "#46039f"
             ],
             [
              0.2222222222222222,
              "#7201a8"
             ],
             [
              0.3333333333333333,
              "#9c179e"
             ],
             [
              0.4444444444444444,
              "#bd3786"
             ],
             [
              0.5555555555555556,
              "#d8576b"
             ],
             [
              0.6666666666666666,
              "#ed7953"
             ],
             [
              0.7777777777777778,
              "#fb9f3a"
             ],
             [
              0.8888888888888888,
              "#fdca26"
             ],
             [
              1,
              "#f0f921"
             ]
            ],
            "type": "histogram2d"
           }
          ],
          "histogram2dcontour": [
           {
            "colorbar": {
             "outlinewidth": 0,
             "ticks": ""
            },
            "colorscale": [
             [
              0,
              "#0d0887"
             ],
             [
              0.1111111111111111,
              "#46039f"
             ],
             [
              0.2222222222222222,
              "#7201a8"
             ],
             [
              0.3333333333333333,
              "#9c179e"
             ],
             [
              0.4444444444444444,
              "#bd3786"
             ],
             [
              0.5555555555555556,
              "#d8576b"
             ],
             [
              0.6666666666666666,
              "#ed7953"
             ],
             [
              0.7777777777777778,
              "#fb9f3a"
             ],
             [
              0.8888888888888888,
              "#fdca26"
             ],
             [
              1,
              "#f0f921"
             ]
            ],
            "type": "histogram2dcontour"
           }
          ],
          "mesh3d": [
           {
            "colorbar": {
             "outlinewidth": 0,
             "ticks": ""
            },
            "type": "mesh3d"
           }
          ],
          "parcoords": [
           {
            "line": {
             "colorbar": {
              "outlinewidth": 0,
              "ticks": ""
             }
            },
            "type": "parcoords"
           }
          ],
          "pie": [
           {
            "automargin": true,
            "type": "pie"
           }
          ],
          "scatter": [
           {
            "fillpattern": {
             "fillmode": "overlay",
             "size": 10,
             "solidity": 0.2
            },
            "type": "scatter"
           }
          ],
          "scatter3d": [
           {
            "line": {
             "colorbar": {
              "outlinewidth": 0,
              "ticks": ""
             }
            },
            "marker": {
             "colorbar": {
              "outlinewidth": 0,
              "ticks": ""
             }
            },
            "type": "scatter3d"
           }
          ],
          "scattercarpet": [
           {
            "marker": {
             "colorbar": {
              "outlinewidth": 0,
              "ticks": ""
             }
            },
            "type": "scattercarpet"
           }
          ],
          "scattergeo": [
           {
            "marker": {
             "colorbar": {
              "outlinewidth": 0,
              "ticks": ""
             }
            },
            "type": "scattergeo"
           }
          ],
          "scattergl": [
           {
            "marker": {
             "colorbar": {
              "outlinewidth": 0,
              "ticks": ""
             }
            },
            "type": "scattergl"
           }
          ],
          "scattermap": [
           {
            "marker": {
             "colorbar": {
              "outlinewidth": 0,
              "ticks": ""
             }
            },
            "type": "scattermap"
           }
          ],
          "scattermapbox": [
           {
            "marker": {
             "colorbar": {
              "outlinewidth": 0,
              "ticks": ""
             }
            },
            "type": "scattermapbox"
           }
          ],
          "scatterpolar": [
           {
            "marker": {
             "colorbar": {
              "outlinewidth": 0,
              "ticks": ""
             }
            },
            "type": "scatterpolar"
           }
          ],
          "scatterpolargl": [
           {
            "marker": {
             "colorbar": {
              "outlinewidth": 0,
              "ticks": ""
             }
            },
            "type": "scatterpolargl"
           }
          ],
          "scatterternary": [
           {
            "marker": {
             "colorbar": {
              "outlinewidth": 0,
              "ticks": ""
             }
            },
            "type": "scatterternary"
           }
          ],
          "surface": [
           {
            "colorbar": {
             "outlinewidth": 0,
             "ticks": ""
            },
            "colorscale": [
             [
              0,
              "#0d0887"
             ],
             [
              0.1111111111111111,
              "#46039f"
             ],
             [
              0.2222222222222222,
              "#7201a8"
             ],
             [
              0.3333333333333333,
              "#9c179e"
             ],
             [
              0.4444444444444444,
              "#bd3786"
             ],
             [
              0.5555555555555556,
              "#d8576b"
             ],
             [
              0.6666666666666666,
              "#ed7953"
             ],
             [
              0.7777777777777778,
              "#fb9f3a"
             ],
             [
              0.8888888888888888,
              "#fdca26"
             ],
             [
              1,
              "#f0f921"
             ]
            ],
            "type": "surface"
           }
          ],
          "table": [
           {
            "cells": {
             "fill": {
              "color": "#EBF0F8"
             },
             "line": {
              "color": "white"
             }
            },
            "header": {
             "fill": {
              "color": "#C8D4E3"
             },
             "line": {
              "color": "white"
             }
            },
            "type": "table"
           }
          ]
         },
         "layout": {
          "annotationdefaults": {
           "arrowcolor": "#2a3f5f",
           "arrowhead": 0,
           "arrowwidth": 1
          },
          "autotypenumbers": "strict",
          "coloraxis": {
           "colorbar": {
            "outlinewidth": 0,
            "ticks": ""
           }
          },
          "colorscale": {
           "diverging": [
            [
             0,
             "#8e0152"
            ],
            [
             0.1,
             "#c51b7d"
            ],
            [
             0.2,
             "#de77ae"
            ],
            [
             0.3,
             "#f1b6da"
            ],
            [
             0.4,
             "#fde0ef"
            ],
            [
             0.5,
             "#f7f7f7"
            ],
            [
             0.6,
             "#e6f5d0"
            ],
            [
             0.7,
             "#b8e186"
            ],
            [
             0.8,
             "#7fbc41"
            ],
            [
             0.9,
             "#4d9221"
            ],
            [
             1,
             "#276419"
            ]
           ],
           "sequential": [
            [
             0,
             "#0d0887"
            ],
            [
             0.1111111111111111,
             "#46039f"
            ],
            [
             0.2222222222222222,
             "#7201a8"
            ],
            [
             0.3333333333333333,
             "#9c179e"
            ],
            [
             0.4444444444444444,
             "#bd3786"
            ],
            [
             0.5555555555555556,
             "#d8576b"
            ],
            [
             0.6666666666666666,
             "#ed7953"
            ],
            [
             0.7777777777777778,
             "#fb9f3a"
            ],
            [
             0.8888888888888888,
             "#fdca26"
            ],
            [
             1,
             "#f0f921"
            ]
           ],
           "sequentialminus": [
            [
             0,
             "#0d0887"
            ],
            [
             0.1111111111111111,
             "#46039f"
            ],
            [
             0.2222222222222222,
             "#7201a8"
            ],
            [
             0.3333333333333333,
             "#9c179e"
            ],
            [
             0.4444444444444444,
             "#bd3786"
            ],
            [
             0.5555555555555556,
             "#d8576b"
            ],
            [
             0.6666666666666666,
             "#ed7953"
            ],
            [
             0.7777777777777778,
             "#fb9f3a"
            ],
            [
             0.8888888888888888,
             "#fdca26"
            ],
            [
             1,
             "#f0f921"
            ]
           ]
          },
          "colorway": [
           "#636efa",
           "#EF553B",
           "#00cc96",
           "#ab63fa",
           "#FFA15A",
           "#19d3f3",
           "#FF6692",
           "#B6E880",
           "#FF97FF",
           "#FECB52"
          ],
          "font": {
           "color": "#2a3f5f"
          },
          "geo": {
           "bgcolor": "white",
           "lakecolor": "white",
           "landcolor": "#E5ECF6",
           "showlakes": true,
           "showland": true,
           "subunitcolor": "white"
          },
          "hoverlabel": {
           "align": "left"
          },
          "hovermode": "closest",
          "mapbox": {
           "style": "light"
          },
          "paper_bgcolor": "white",
          "plot_bgcolor": "#E5ECF6",
          "polar": {
           "angularaxis": {
            "gridcolor": "white",
            "linecolor": "white",
            "ticks": ""
           },
           "bgcolor": "#E5ECF6",
           "radialaxis": {
            "gridcolor": "white",
            "linecolor": "white",
            "ticks": ""
           }
          },
          "scene": {
           "xaxis": {
            "backgroundcolor": "#E5ECF6",
            "gridcolor": "white",
            "gridwidth": 2,
            "linecolor": "white",
            "showbackground": true,
            "ticks": "",
            "zerolinecolor": "white"
           },
           "yaxis": {
            "backgroundcolor": "#E5ECF6",
            "gridcolor": "white",
            "gridwidth": 2,
            "linecolor": "white",
            "showbackground": true,
            "ticks": "",
            "zerolinecolor": "white"
           },
           "zaxis": {
            "backgroundcolor": "#E5ECF6",
            "gridcolor": "white",
            "gridwidth": 2,
            "linecolor": "white",
            "showbackground": true,
            "ticks": "",
            "zerolinecolor": "white"
           }
          },
          "shapedefaults": {
           "line": {
            "color": "#2a3f5f"
           }
          },
          "ternary": {
           "aaxis": {
            "gridcolor": "white",
            "linecolor": "white",
            "ticks": ""
           },
           "baxis": {
            "gridcolor": "white",
            "linecolor": "white",
            "ticks": ""
           },
           "bgcolor": "#E5ECF6",
           "caxis": {
            "gridcolor": "white",
            "linecolor": "white",
            "ticks": ""
           }
          },
          "title": {
           "x": 0.05
          },
          "xaxis": {
           "automargin": true,
           "gridcolor": "white",
           "linecolor": "white",
           "ticks": "",
           "title": {
            "standoff": 15
           },
           "zerolinecolor": "white",
           "zerolinewidth": 2
          },
          "yaxis": {
           "automargin": true,
           "gridcolor": "white",
           "linecolor": "white",
           "ticks": "",
           "title": {
            "standoff": 15
           },
           "zerolinecolor": "white",
           "zerolinewidth": 2
          }
         }
        },
        "title": {
         "text": "📊 POURCENTAGE DE DONNÉES MANQUANTES PAR COLONNE"
        },
        "xaxis": {
         "anchor": "y",
         "domain": [
          0,
          1
         ],
         "tickangle": -45,
         "title": {
          "text": "Colonnes"
         }
        },
        "yaxis": {
         "anchor": "x",
         "domain": [
          0,
          1
         ],
         "range": [
          0,
          100
         ],
         "title": {
          "text": "% Données Manquantes"
         }
        }
       }
      }
     },
     "metadata": {},
     "output_type": "display_data"
    }
   ],
   "source": [
    "\n",
    "print(\"📊 VISUALISATION INTERACTIVE DES DONNÉES MANQUANTES\")\n",
    "\n",
    "import plotly.express as px\n",
    "\n",
    "# Graphique des données manquantes\n",
    "fig_missing = px.bar(\n",
    "    missing_df, \n",
    "    x='Colonne', \n",
    "    y='Pourcentage',\n",
    "    title='📊 POURCENTAGE DE DONNÉES MANQUANTES PAR COLONNE',\n",
    "    labels={'Pourcentage': '% Données Manquantes', 'Colonne': 'Colonnes'},\n",
    "    color='Pourcentage',\n",
    "    color_continuous_scale='reds'\n",
    ")\n",
    "\n",
    "fig_missing.update_layout(\n",
    "    xaxis_tickangle=-45,\n",
    "    yaxis_range=[0, 100],\n",
    "    showlegend=False\n",
    ")\n",
    "\n",
    "# Ajouter une ligne à 5% pour le seuil d'alerte\n",
    "fig_missing.add_hline(y=5, line_dash=\"dash\", line_color=\"orange\", annotation_text=\"Seuil d'alerte (5%)\")\n",
    "fig_missing.add_hline(y=50, line_dash=\"dash\", line_color=\"red\", annotation_text=\"Seuil critique (50%)\")\n",
    "\n",
    "fig_missing.show()\n",
    "\n"
   ]
  },
  {
   "cell_type": "markdown",
   "id": "6b0f5226",
   "metadata": {},
   "source": [
    "<!DOCTYPE html>\n",
    "<html>\n",
    "<head>\n",
    "    <style>\n",
    "        body { font-family: Arial, sans-serif; margin: 40px; background: #f5f5f5; color: #333; line-height: 1.6; }\n",
    "        h1 { text-align: center; color: lightgreen; font-size: 36px; font-weight: bold; margin-bottom: 10px; }\n",
    "        h2 { color: #EF806C; font-size: 28px; font-weight: bold; margin-top: 30px; }\n",
    "        table { border-collapse: collapse; width: 100%; margin-top: 20px; border-radius: 8px; overflow: hidden; box-shadow: 0 2px 10px rgba(0,0,0,0.1); }\n",
    "        th, td { padding: 12px 15px; text-align: left; }\n",
    "        th { background-color: #4CAF50; color: white; font-size: 16px; }\n",
    "        tr:nth-child(even) { background-color: #f0f8f0; }\n",
    "        tr:hover { background-color: #e0ffe0; }\n",
    "        .impact-ok { background-color: #d4edda; color: #155724; font-weight: bold; text-align: center; }\n",
    "        .impact-moderate { background-color: #fff3cd; color: #856404; font-weight: bold; text-align: center; }\n",
    "        .impact-critical { background-color: #f8d7da; color: #721c24; font-weight: bold; text-align: center; }\n",
    "        td.strategy { font-style: italic; }\n",
    "    </style>\n",
    "</head>\n",
    "<body>\n",
    "\n",
    "<h1>📊 Analyse des Valeurs Manquantes</h1>\n",
    "\n",
    "<p>Résumé des colonnes avec valeurs manquantes, leur impact sur l'analyse et les stratégies de traitement recommandées.</p>\n",
    "\n",
    "<table>\n",
    "    <thead>\n",
    "        <tr>\n",
    "            <th>Colonne</th>\n",
    "            <th>Taux Manquants</th>\n",
    "            <th>Impact</th>\n",
    "            <th>Stratégie de traitement</th>\n",
    "        </tr>\n",
    "    </thead>\n",
    "    <tbody>\n",
    "        <tr>\n",
    "            <td>latitude</td>\n",
    "            <td>0%</td>\n",
    "            <td class=\"impact-ok\">OK</td>\n",
    "            <td class=\"strategy\">Complète – aucune action nécessaire</td>\n",
    "        </tr>\n",
    "        <tr>\n",
    "            <td>longitude</td>\n",
    "            <td>0%</td>\n",
    "            <td class=\"impact-ok\">OK</td>\n",
    "            <td class=\"strategy\">Complète – aucune action nécessaire</td>\n",
    "        </tr>\n",
    "        <tr>\n",
    "            <td>typologie</td>\n",
    "            <td>0%</td>\n",
    "            <td class=\"impact-ok\">OK</td>\n",
    "            <td class=\"strategy\">Complète – aucune action nécessaire</td>\n",
    "        </tr>\n",
    "        <tr>\n",
    "            <td>arrondissement</td>\n",
    "            <td>3%</td>\n",
    "            <td class=\"impact-moderate\">Modéré</td>\n",
    "            <td class=\"strategy\">Imputer avec la modalité la plus fréquente ou supprimer les lignes manquantes</td>\n",
    "        </tr>\n",
    "        <tr>\n",
    "            <td>periode_installation</td>\n",
    "            <td>97%</td>\n",
    "            <td class=\"impact-critical\">Critique</td>\n",
    "            <td class=\"strategy\">Ignorer ou remplir par \"Inconnu\"</td>\n",
    "        </tr>\n",
    "        <tr>\n",
    "            <td>nom_societe</td>\n",
    "            <td>96.9%</td>\n",
    "            <td class=\"impact-critical\">Critique</td>\n",
    "            <td class=\"strategy\">Ignorer ou remplir par \"Inconnu\"</td>\n",
    "        </tr>\n",
    "        <tr>\n",
    "            <td>lien_affichette</td>\n",
    "            <td>18.5%</td>\n",
    "            <td class=\"impact-moderate\">Modéré</td>\n",
    "            <td class=\"strategy\">Ignorer pour l'analyse principale ou remplir par \"Non disponible\"</td>\n",
    "        </tr>\n",
    "        <tr>\n",
    "            <td>siret</td>\n",
    "            <td>3.5%</td>\n",
    "            <td class=\"impact-ok\">OK</td>\n",
    "            <td class=\"strategy\">Imputer si nécessaire ou ignorer</td>\n",
    "        </tr>\n",
    "        <tr>\n",
    "            <td>nom_enseigne</td>\n",
    "            <td>3.1%</td>\n",
    "            <td class=\"impact-ok\">OK</td>\n",
    "            <td class=\"strategy\">Imputer si nécessaire ou ignorer</td>\n",
    "        </tr>\n",
    "        <tr>\n",
    "            <td>largeur</td>\n",
    "            <td>0.5%</td>\n",
    "            <td class=\"impact-ok\">OK</td>\n",
    "            <td class=\"strategy\">Imputer avec moyenne/median si nécessaire</td>\n",
    "        </tr>\n",
    "        <tr>\n",
    "            <td>longueur</td>\n",
    "            <td>0.3%</td>\n",
    "            <td class=\"impact-ok\">OK</td>\n",
    "            <td class=\"strategy\">Imputer avec moyenne/median si nécessaire</td>\n",
    "        </tr>\n",
    "        <tr>\n",
    "            <td>adresse</td>\n",
    "            <td>0%</td>\n",
    "            <td class=\"impact-ok\">OK</td>\n",
    "            <td class=\"strategy\">Complète – aucune action nécessaire</td>\n",
    "        </tr>\n",
    "        <tr>\n",
    "            <td>geo_shape</td>\n",
    "            <td>0%</td>\n",
    "            <td class=\"impact-ok\">OK</td>\n",
    "            <td class=\"strategy\">Complète – aucune action nécessaire</td>\n",
    "        </tr>\n",
    "        <tr>\n",
    "            <td>geo_point_2d</td>\n",
    "            <td>0%</td>\n",
    "            <td class=\"impact-ok\">OK</td>\n",
    "            <td class=\"strategy\">Complète – aucune action nécessaire</td>\n",
    "        </tr>\n",
    "    </tbody>\n",
    "</table>\n",
    "\n",
    "<p>✅ Les colonnes critiques pour l'analyse spatiale et le clustering sont complètes, ce qui permet de passer à l'étape suivante : <strong>traitement des valeurs manquantes et préparation des données</strong> afin d'assurer une analyse cohérente et fiable.</p>\n",
    "\n",
    "</body>\n",
    "</html>\n"
   ]
  },
  {
   "cell_type": "markdown",
   "id": "cf8bc457",
   "metadata": {},
   "source": [
    "\n",
    "<!DOCTYPE html>\n",
    "<html>\n",
    "<head>\n",
    "    <style>\n",
    "        body { font-family: Arial, sans-serif; margin: 40px; background: #f5f5f5; color: #333; line-height: 1.6; }\n",
    "        h1 { text-align: center; color: lightgreen; font-size: 36px; font-weight: bold; margin-bottom: 10px; }\n",
    "        h2 { color: #EF806C; font-size: 28px; font-weight: bold; margin-top: 30px; }\n",
    "        h3 { color: #00FFFF; font-size: 22px; font-weight: bold; margin-top: 20px;,  }\n",
    "        ul { margin-left: 20px; }\n",
    "        li { margin: 8px 0; }\n",
    "        hr { height: 2px; border: none; background-color: lightgreen; margin: 20px 0; }\n",
    "    </style>\n",
    "</head>\n",
    "<body>\n",
    "<h3> 🛠️ MÉTHODES IMPUTATION SANS SUPPRESSION DE DONNÉES\n",
    "\n",
    " </h3>\n"
   ]
  },
  {
   "cell_type": "markdown",
   "id": "0423c269",
   "metadata": {},
   "source": [
    "\n",
    "<!DOCTYPE html>\n",
    "<html>\n",
    "<head>\n",
    "    <style>\n",
    "        body { font-family: Arial, sans-serif; margin: 40px; background: #f5f5f5; color: #333; line-height: 1.6; }\n",
    "        h1 { text-align: center; color: lightgreen; font-size: 36px; font-weight: bold; margin-bottom: 10px; }\n",
    "        h2 { color: #EF806C; font-size: 28px; font-weight: bold; margin-top: 30px; }\n",
    "        h3 { color: #00FFFF; font-size: 22px; font-weight: bold; margin-top: 20px;,  }\n",
    "        h6 { color: lightpink; font-size: 15px; font-weight: bold; margin-top: 20px;,  }\n",
    "        ul { margin-left: 20px; }\n",
    "        li { margin: 8px 0; }\n",
    "        hr { height: 2px; border: none; background-color: lightgreen; margin: 20px 0; }\n",
    "    </style>\n",
    "</head>\n",
    "<body>\n",
    "<h6> IMPUTATION PAR GÉOLOCALISATION\n",
    "\n",
    " </h6>\n"
   ]
  },
  {
   "cell_type": "code",
   "execution_count": 38,
   "id": "a1d332a0",
   "metadata": {},
   "outputs": [
    {
     "name": "stdout",
     "output_type": "stream",
     "text": [
      "🗺️ OPTION 1: IMPUTATION PAR GÉOLOCALISATION PRÉCISE (SANS SUPPRESSION)\n",
      "🔄 Imputation par géolocalisation en cours...\n",
      "\n",
      "✅ RÉSULTATS IMPUTATION GÉOLOCALISATION :\n",
      "   • Lignes avec arrondissement manquant avant : 148\n",
      "   • Arrondissements imputés : 148\n",
      "   • Lignes avec arrondissement manquant après : 0\n",
      "   • Taux de succès : 100.0%\n",
      "\n",
      "📊 DISTRIBUTION DES ARRONDISSEMENTS APRÈS IMPUTATION :\n",
      "    1. 75011 :  350 terrasses\n",
      "    2. 75015 :  350 terrasses\n",
      "    3. 75018 :  345 terrasses\n",
      "    4. 75010 :  330 terrasses\n",
      "    5. 75017 :  303 terrasses\n",
      "    6. 75014 :  296 terrasses\n",
      "    7. 75005 :  292 terrasses\n",
      "    8. 75012 :  282 terrasses\n",
      "    9. 75008 :  274 terrasses\n",
      "   10. 75009 :  256 terrasses\n",
      "\n",
      "🎯 DONNÉES FINALES : 4988 lignes (100% conservées)\n"
     ]
    }
   ],
   "source": [
    "\n",
    "print(\"🗺️ OPTION 1: IMPUTATION PAR GÉOLOCALISATION PRÉCISE (SANS SUPPRESSION)\")\n",
    "\n",
    "# Créer une copie pour cette option\n",
    "df_no_deletion = df_clean.copy()\n",
    "\n",
    "# Fonction améliorée pour déterminer l'arrondissement\n",
    "def determiner_arrondissement_precis(lat, lon):\n",
    "    \"\"\"\n",
    "    Détermine l'arrondissement parisien basé sur les coordonnées GPS\n",
    "    avec des polygones plus précis\n",
    "    \"\"\"\n",
    "    # Polygones approximatifs des arrondissements (simplifiés mais plus précis)\n",
    "    arrondissements_polygones = {\n",
    "        '75001': {'lat': (48.858, 48.865), 'lon': (2.330, 2.350)},  # Louvre, Palais Royal\n",
    "        '75002': {'lat': (48.865, 48.870), 'lon': (2.335, 2.350)},  # Bourse, Sentier\n",
    "        '75003': {'lat': (48.860, 48.865), 'lon': (2.355, 2.370)},  # Marais, Archives\n",
    "        '75004': {'lat': (48.850, 48.860), 'lon': (2.350, 2.370)},  # Hôtel de Ville, Île St-Louis\n",
    "        '75005': {'lat': (48.840, 48.850), 'lon': (2.340, 2.360)},  # Panthéon, Quartier Latin\n",
    "        '75006': {'lat': (48.845, 48.855), 'lon': (2.325, 2.340)},  # Luxembourg, St-Germain\n",
    "        '75007': {'lat': (48.850, 48.860), 'lon': (2.300, 2.330)},  # Tour Eiffel, Invalides\n",
    "        '75008': {'lat': (48.870, 48.880), 'lon': (2.300, 2.325)},  # Champs-Élysées, Madeleine\n",
    "        '75009': {'lat': (48.875, 48.885), 'lon': (2.325, 2.350)},  # Opéra, Grands Boulevards\n",
    "        '75010': {'lat': (48.870, 48.880), 'lon': (2.350, 2.375)},  # Gare du Nord, Canal St-Martin\n",
    "        '75011': {'lat': (48.855, 48.865), 'lon': (2.370, 2.390)},  # Bastille, République\n",
    "        '75012': {'lat': (48.830, 48.850), 'lon': (2.370, 2.420)},  # Bercy, Gare de Lyon\n",
    "        '75013': {'lat': (48.820, 48.835), 'lon': (2.340, 2.370)},  # Butte-aux-Cailles, Chinatown\n",
    "        '75014': {'lat': (48.820, 48.835), 'lon': (2.300, 2.340)},  # Montparnasse, Denfert\n",
    "        '75015': {'lat': (48.835, 48.850), 'lon': (2.280, 2.300)},  # Front de Seine, Convention\n",
    "        '75016': {'lat': (48.850, 48.870), 'lon': (2.250, 2.280)},  # Passy, Trocadéro\n",
    "        '75017': {'lat': (48.880, 48.900), 'lon': (2.300, 2.325)},  # Batignolles, Monceau\n",
    "        '75018': {'lat': (48.885, 48.900), 'lon': (2.325, 2.350)},  # Montmartre, Goutte d'Or\n",
    "        '75019': {'lat': (48.880, 48.890), 'lon': (2.375, 2.400)},  # Buttes-Chaumont, Villette\n",
    "        '75020': {'lat': (48.850, 48.870), 'lon': (2.390, 2.410)}   # Ménilmontant, Père Lachaise\n",
    "    }\n",
    "    \n",
    "    for arr, bounds in arrondissements_polygones.items():\n",
    "        if (bounds['lat'][0] <= lat <= bounds['lat'][1] and \n",
    "            bounds['lon'][0] <= lon <= bounds['lon'][1]):\n",
    "            return arr\n",
    "    \n",
    "    # Si pas trouvé, utiliser la méthode de proximité approximative\n",
    "    return determiner_arrondissement_approximatif(lat, lon)\n",
    "\n",
    "def determiner_arrondissement_approximatif(lat, lon):\n",
    "    \"\"\"Méthode de repli pour les points limites\"\"\"\n",
    "    # Centres approximatifs des arrondissements\n",
    "    centres_arrondissements = {\n",
    "        '75001': (48.8615, 2.3400), '75002': (48.8675, 2.3425), '75003': (48.8625, 2.3625),\n",
    "        '75004': (48.8550, 2.3600), '75005': (48.8450, 2.3500), '75006': (48.8500, 2.3325),\n",
    "        '75007': (48.8550, 2.3150), '75008': (48.8750, 2.3125), '75009': (48.8800, 2.3375),\n",
    "        '75010': (48.8750, 2.3625), '75011': (48.8600, 2.3800), '75012': (48.8400, 2.3950),\n",
    "        '75013': (48.8275, 2.3550), '75014': (48.8275, 2.3200), '75015': (48.8425, 2.2900),\n",
    "        '75016': (48.8600, 2.2650), '75017': (48.8900, 2.3125), '75018': (48.8925, 2.3375),\n",
    "        '75019': (48.8850, 2.3875), '75020': (48.8600, 2.4000)\n",
    "    }\n",
    "    \n",
    "    # Trouver l'arrondissement le plus proche\n",
    "    min_distance = float('inf')\n",
    "    closest_arr = '75000'\n",
    "    \n",
    "    for arr, (center_lat, center_lon) in centres_arrondissements.items():\n",
    "        distance = ((lat - center_lat)**2 + (lon - center_lon)**2)**0.5\n",
    "        if distance < min_distance:\n",
    "            min_distance = distance\n",
    "            closest_arr = arr\n",
    "    \n",
    "    return closest_arr\n",
    "\n",
    "print(\"🔄 Imputation par géolocalisation en cours...\")\n",
    "missing_mask = df_no_deletion['arrondissement'].isna()\n",
    "imputed_count = 0\n",
    "\n",
    "for idx in df_no_deletion[missing_mask].index:\n",
    "    lat = df_no_deletion.loc[idx, 'latitude']\n",
    "    lon = df_no_deletion.loc[idx, 'longitude']\n",
    "    \n",
    "    arr_imputed = determiner_arrondissement_precis(lat, lon)\n",
    "    df_no_deletion.loc[idx, 'arrondissement'] = arr_imputed\n",
    "    imputed_count += 1\n",
    "\n",
    "print(f\"\\n✅ RÉSULTATS IMPUTATION GÉOLOCALISATION :\")\n",
    "print(f\"   • Lignes avec arrondissement manquant avant : {missing_mask.sum()}\")\n",
    "print(f\"   • Arrondissements imputés : {imputed_count}\")\n",
    "print(f\"   • Lignes avec arrondissement manquant après : {df_no_deletion['arrondissement'].isna().sum()}\")\n",
    "print(f\"   • Taux de succès : {imputed_count/missing_mask.sum()*100:.1f}%\")\n",
    "\n",
    "# Vérification de la distribution\n",
    "print(f\"\\n📊 DISTRIBUTION DES ARRONDISSEMENTS APRÈS IMPUTATION :\")\n",
    "arrondissement_stats = df_no_deletion['arrondissement'].value_counts().head(10)\n",
    "for i, (arr, count) in enumerate(arrondissement_stats.items(), 1):\n",
    "    print(f\"   {i:2d}. {arr} : {count:4} terrasses\")\n",
    "\n",
    "print(f\"\\n🎯 DONNÉES FINALES : {len(df_no_deletion)} lignes (100% conservées)\")"
   ]
  },
  {
   "cell_type": "markdown",
   "id": "dc24e81f",
   "metadata": {},
   "source": [
    "\n",
    "<!DOCTYPE html>\n",
    "<html>\n",
    "<head>\n",
    "    <style>\n",
    "        body { font-family: Arial, sans-serif; margin: 40px; background: #f5f5f5; color: #333; line-height: 1.6; }\n",
    "        h1 { text-align: center; color: lightgreen; font-size: 36px; font-weight: bold; margin-bottom: 10px; }\n",
    "        h2 { color: #EF806C; font-size: 28px; font-weight: bold; margin-top: 30px; }\n",
    "        h3 { color: #00FFFF; font-size: 22px; font-weight: bold; margin-top: 20px;,  }\n",
    "        h6 { color: lightpink; font-size: 15px; font-weight: bold; margin-top: 20px;,  }\n",
    "        ul { margin-left: 20px; }\n",
    "        li { margin: 8px 0; }\n",
    "        hr { height: 2px; border: none; background-color: lightgreen; margin: 20px 0; }\n",
    "    </style>\n",
    "</head>\n",
    "<body>\n",
    "<h6> CATÉGORIE \"INCONNU\" + ANALYSE\n",
    "\n",
    " </h6>\n"
   ]
  },
  {
   "cell_type": "code",
   "execution_count": 39,
   "id": "72285d0b",
   "metadata": {},
   "outputs": [
    {
     "name": "stdout",
     "output_type": "stream",
     "text": [
      "🎯 OPTION 2: CONSERVATION AVEC CATÉGORIE 'INCONNU'\n",
      "\n",
      "✅ RÉSULTATS :\n",
      "   • Lignes totales : 4988 (100% conservées)\n",
      "   • Arrondissements 'INCONNU' : 148\n",
      "   • Pourcentage de données inconnues : 3.0%\n",
      "\n",
      "🔍 ANALYSE DES POINTS 'INCONNU' :\n",
      "   • Répartition géographique des inconnus :\n",
      "      - Latitude  : 48.826 à 48.899\n",
      "      - Longitude : 2.263 à 2.410\n",
      "\n",
      "📊 CARACTÉRISTIQUES DES TERRASSES 'INCONNU' :\n",
      "   • Typologies des inconnus :\n",
      "      - TERRASSES OUVERTES SUR TROTTOIR : 36\n",
      "      - PARALLÈLE SUR FAÇADE : 26\n",
      "      - TERRASSE ESTIVALE SUR TROTTOIR FACE À LA DEVANTURE : 20\n",
      "      - CONTRE TERRASSE ESTIVALE SUR STATIONNEMENT : 17\n",
      "      - CONTRE TERRASSE ESTIVALE SUR TROTTOIR FACE À LA DEVANTURE : 17\n",
      "\n",
      "🎯 AVANTAGES DE CETTE MÉTHODE :\n",
      "   • AUCUNE donnée perdue\n",
      "   • Transparence sur les limites des données\n",
      "   • Possibilité d'analyser les patterns des données manquantes\n"
     ]
    }
   ],
   "source": [
    "\n",
    "print(\"🎯 OPTION 2: CONSERVATION AVEC CATÉGORIE 'INCONNU'\")\n",
    "\n",
    "\n",
    "# Créer une copie pour cette option\n",
    "df_unknown_category = df_clean.copy()\n",
    "\n",
    "# Remplacer les NaN par \"ARRONDISSEMENT_INCONNU\"\n",
    "df_unknown_category['arrondissement'] = df_unknown_category['arrondissement'].fillna('ARRONDISSEMENT_INCONNU')\n",
    "\n",
    "print(f\"\\n✅ RÉSULTATS :\")\n",
    "print(f\"   • Lignes totales : {len(df_unknown_category)} (100% conservées)\")\n",
    "print(f\"   • Arrondissements 'INCONNU' : {(df_unknown_category['arrondissement'] == 'ARRONDISSEMENT_INCONNU').sum()}\")\n",
    "print(f\"   • Pourcentage de données inconnues : {(df_unknown_category['arrondissement'] == 'ARRONDISSEMENT_INCONNU').sum()/len(df_unknown_category)*100:.1f}%\")\n",
    "\n",
    "# Analyse des points \"inconnus\"\n",
    "unknown_points = df_unknown_category[df_unknown_category['arrondissement'] == 'ARRONDISSEMENT_INCONNU']\n",
    "\n",
    "print(f\"\\n🔍 ANALYSE DES POINTS 'INCONNU' :\")\n",
    "print(f\"   • Répartition géographique des inconnus :\")\n",
    "print(f\"      - Latitude  : {unknown_points['latitude'].min():.3f} à {unknown_points['latitude'].max():.3f}\")\n",
    "print(f\"      - Longitude : {unknown_points['longitude'].min():.3f} à {unknown_points['longitude'].max():.3f}\")\n",
    "\n",
    "# Vérifier si les inconnus ont des patterns particuliers\n",
    "print(f\"\\n📊 CARACTÉRISTIQUES DES TERRASSES 'INCONNU' :\")\n",
    "if len(unknown_points) > 0:\n",
    "    print(f\"   • Typologies des inconnus :\")\n",
    "    typo_unknown = unknown_points['typologie'].value_counts()\n",
    "    for typo, count in typo_unknown.head().items():\n",
    "        print(f\"      - {typo} : {count}\")\n",
    "\n",
    "print(f\"\\n🎯 AVANTAGES DE CETTE MÉTHODE :\")\n",
    "print(f\"   • AUCUNE donnée perdue\")\n",
    "print(f\"   • Transparence sur les limites des données\")\n",
    "print(f\"   • Possibilité d'analyser les patterns des données manquantes\")"
   ]
  },
  {
   "cell_type": "markdown",
   "id": "a719f329",
   "metadata": {},
   "source": [
    "\n",
    "<!DOCTYPE html>\n",
    "<html>\n",
    "<head>\n",
    "    <style>\n",
    "        body { font-family: Arial, sans-serif; margin: 40px; background: #f5f5f5; color: #333; line-height: 1.6; }\n",
    "        h1 { text-align: center; color: lightgreen; font-size: 36px; font-weight: bold; margin-bottom: 10px; }\n",
    "        h2 { color: #EF806C; font-size: 28px; font-weight: bold; margin-top: 30px; }\n",
    "        h3 { color: #00FFFF; font-size: 22px; font-weight: bold; margin-top: 20px;,  }\n",
    "        h6 { color: lightpink; font-size: 15px; font-weight: bold; margin-top: 20px;,  }\n",
    "        ul { margin-left: 20px; }\n",
    "        li { margin: 8px 0; }\n",
    "        hr { height: 2px; border: none; background-color: lightgreen; margin: 20px 0; }\n",
    "    </style>\n",
    "</head>\n",
    "<body>\n",
    "<h6> IMPUTATION MULTIVARIÉE AVEC KNN\n",
    "\n",
    " </h6>\n"
   ]
  },
  {
   "cell_type": "code",
   "execution_count": 40,
   "id": "833a6d7b",
   "metadata": {},
   "outputs": [
    {
     "name": "stdout",
     "output_type": "stream",
     "text": [
      "🤖 OPTION 3: IMPUTATION MULTIVARIÉE AVEC K-NEAREST NEIGHBORS\n",
      "📊 DONNÉES POUR KNN :\n",
      "   • Points avec arrondissement connu : 4840\n",
      "   • Points avec arrondissement inconnu : 148\n",
      "\n",
      "✅ RÉSULTATS KNN MULTIVARIÉ :\n",
      "   • Arrondissements imputés : 148\n",
      "   • Distance moyenne des voisins : 0.254187\n",
      "   • Arrondissements manquants restants : 0\n",
      "\n",
      "📊 DONNÉES FINALES KNN : 4988 lignes (100% conservées)\n",
      "   • Complétude arrondissement : 4988/4988\n"
     ]
    }
   ],
   "source": [
    "\n",
    "print(\"🤖 OPTION 3: IMPUTATION MULTIVARIÉE AVEC K-NEAREST NEIGHBORS\")\n",
    "\n",
    "\n",
    "from sklearn.neighbors import NearestNeighbors\n",
    "import numpy as np\n",
    "\n",
    "# Créer une copie pour cette option\n",
    "df_knn_imputation = df_clean.copy()\n",
    "\n",
    "# Préparer les features pour KNN (coordonnées + typologie encodée)\n",
    "df_knn_imputation['typologie_encoded'] = df_knn_imputation['typologie'].astype('category').cat.codes\n",
    "\n",
    "# Séparer les données connues et inconnues\n",
    "known_mask = df_knn_imputation['arrondissement'].notna()\n",
    "unknown_mask = df_knn_imputation['arrondissement'].isna()\n",
    "\n",
    "print(f\"📊 DONNÉES POUR KNN :\")\n",
    "print(f\"   • Points avec arrondissement connu : {known_mask.sum()}\")\n",
    "print(f\"   • Points avec arrondissement inconnu : {unknown_mask.sum()}\")\n",
    "\n",
    "if unknown_mask.sum() > 0:\n",
    "    # Features pour KNN : latitude, longitude, typologie encodée\n",
    "    features = ['latitude', 'longitude', 'typologie_encoded']\n",
    "    \n",
    "    # Données d'entraînement (connues)\n",
    "    X_train = df_knn_imputation[known_mask][features].values\n",
    "    y_train = df_knn_imputation[known_mask]['arrondissement'].values\n",
    "    \n",
    "    # Données à prédire (inconnues)\n",
    "    X_predict = df_knn_imputation[unknown_mask][features].values\n",
    "    \n",
    "    # KNN avec k=3 pour plus de robustesse\n",
    "    knn = NearestNeighbors(n_neighbors=3, metric='euclidean')\n",
    "    knn.fit(X_train)\n",
    "    \n",
    "    # Trouver les 3 plus proches voisins pour chaque point inconnu\n",
    "    distances, indices = knn.kneighbors(X_predict)\n",
    "    \n",
    "    # Imputer avec le vote majoritaire des 3 plus proches voisins\n",
    "    imputed_count = 0\n",
    "    for i, idx in enumerate(df_knn_imputation[unknown_mask].index):\n",
    "        # Récupérer les arrondissements des 3 plus proches voisins\n",
    "        neighbor_arrs = y_train[indices[i]]\n",
    "        \n",
    "        # Vote majoritaire\n",
    "        arr_counts = {}\n",
    "        for arr in neighbor_arrs:\n",
    "            arr_counts[arr] = arr_counts.get(arr, 0) + 1\n",
    "        \n",
    "        # Prendre l'arrondissement le plus fréquent\n",
    "        most_common_arr = max(arr_counts.items(), key=lambda x: x[1])[0]\n",
    "        df_knn_imputation.loc[idx, 'arrondissement'] = most_common_arr\n",
    "        imputed_count += 1\n",
    "    \n",
    "    print(f\"\\n✅ RÉSULTATS KNN MULTIVARIÉ :\")\n",
    "    print(f\"   • Arrondissements imputés : {imputed_count}\")\n",
    "    print(f\"   • Distance moyenne des voisins : {distances.mean():.6f}\")\n",
    "    print(f\"   • Arrondissements manquants restants : {df_knn_imputation['arrondissement'].isna().sum()}\")\n",
    "    \n",
    "    # Nettoyer la colonne temporaire\n",
    "    df_knn_imputation = df_knn_imputation.drop('typologie_encoded', axis=1)\n",
    "\n",
    "print(f\"\\n📊 DONNÉES FINALES KNN : {len(df_knn_imputation)} lignes (100% conservées)\")\n",
    "print(f\"   • Complétude arrondissement : {df_knn_imputation['arrondissement'].notna().sum()}/{len(df_knn_imputation)}\")"
   ]
  },
  {
   "cell_type": "markdown",
   "id": "53461426",
   "metadata": {},
   "source": [
    "\n",
    "<!DOCTYPE html>\n",
    "<html>\n",
    "<head>\n",
    "    <style>\n",
    "        body { font-family: Arial, sans-serif; margin: 40px; background: #f5f5f5; color: #333; line-height: 1.6; }\n",
    "        h1 { text-align: center; color: lightgreen; font-size: 36px; font-weight: bold; margin-bottom: 10px; }\n",
    "        h2 { color: #EF806C; font-size: 28px; font-weight: bold; margin-top: 30px; }\n",
    "        h3 { color: #00FFFF; font-size: 22px; font-weight: bold; margin-top: 20px;,  }\n",
    "        h6 { color: lightpink; font-size: 15px; font-weight: bold; margin-top: 20px;,  }\n",
    "        ul { margin-left: 20px; }\n",
    "        li { margin: 8px 0; }\n",
    "        hr { height: 2px; border: none; background-color: lightgreen; margin: 20px 0; }\n",
    "    </style>\n",
    "</head>\n",
    "<body>\n",
    "<h6> COMPARAISON ET CHOIX FINAL\n",
    "\n",
    " </h6>\n"
   ]
  },
  {
   "cell_type": "code",
   "execution_count": 41,
   "id": "d53f40f2",
   "metadata": {},
   "outputs": [
    {
     "name": "stdout",
     "output_type": "stream",
     "text": [
      "📊 COMPARAISON DES MÉTHODES SANS SUPPRESSION DE DONNÉES\n",
      "\n",
      "================================================================================\n",
      "🎯 ANALYSE COMPARATIVE - CONSERVATION 100% DES DONNÉES\n",
      "================================================================================\n",
      "\n",
      "           Méthode  Lignes totales  Arrondissements manquants Complexité   Précision Transparence\n",
      "  Géolocalisation            4988                          0    Moyenne      Élevée      Moyenne\n",
      "Catégorie Inconnu            4988                        148     Faible      Faible       Élevée\n",
      "   KNN Multivarié            4988                          0     Élevée Très élevée       Faible\n",
      "\n",
      "💡 ANALYSE POUR VOTRE PROJET :\n",
      "\n",
      "🏆 RECOMMANDATION : KNN Multivarié\n",
      "   • Raison : Meilleur équilibre précision/transparence\n",
      "   • Imputation statistique multivariée\n",
      "\n",
      "✅ RÉSULTAT FINAL :\n",
      "   • Données conservées : 4,988 lignes (100%)\n",
      "   • Arrondissements complets : 4,988\n",
      "   • Méthode : KNN Multivarié\n",
      "\n",
      "💾 DONNÉES SAUVEGARDÉES : '../data/processed/terrasses_paris_100pourcent_complet.csv'\n",
      "\n",
      "🎉 FÉLICITATIONS ! VOUS AVEZ CONSERVÉ 100% DE VOS DONNÉES !\n",
      "🚀 PRÊT POUR LA PHASE 4: MODELING AVEC 4,988 POINTS COMPLETS !\n"
     ]
    }
   ],
   "source": [
    "\n",
    "print(\"📊 COMPARAISON DES MÉTHODES SANS SUPPRESSION DE DONNÉES\")\n",
    "\n",
    "print(\"\\n\" + \"=\"*80)\n",
    "print(\"🎯 ANALYSE COMPARATIVE - CONSERVATION 100% DES DONNÉES\")\n",
    "print(\"=\"*80)\n",
    "\n",
    "# Résumé des trois options sans suppression\n",
    "comparison_no_deletion = {\n",
    "    'Méthode': ['Géolocalisation', 'Catégorie Inconnu', 'KNN Multivarié'],\n",
    "    'Lignes totales': [len(df_no_deletion), len(df_unknown_category), len(df_knn_imputation)],\n",
    "    'Arrondissements manquants': [\n",
    "        df_no_deletion['arrondissement'].isna().sum(),\n",
    "        (df_unknown_category['arrondissement'] == 'ARRONDISSEMENT_INCONNU').sum(),\n",
    "        df_knn_imputation['arrondissement'].isna().sum()\n",
    "    ],\n",
    "    'Complexité': ['Moyenne', 'Faible', 'Élevée'],\n",
    "    'Précision': ['Élevée', 'Faible', 'Très élevée'],\n",
    "    'Transparence': ['Moyenne', 'Élevée', 'Faible']\n",
    "}\n",
    "\n",
    "df_comparison_nd = pd.DataFrame(comparison_no_deletion)\n",
    "print(\"\\n\", df_comparison_nd.to_string(index=False))\n",
    "\n",
    "print(f\"\\n💡 ANALYSE POUR VOTRE PROJET :\")\n",
    "\n",
    "# Vérifier la qualité de chaque méthode\n",
    "quality_scores = []\n",
    "\n",
    "# Méthode Géolocalisation\n",
    "score_geo = 8 if df_no_deletion['arrondissement'].isna().sum() == 0 else 6\n",
    "quality_scores.append(('Géolocalisation', score_geo))\n",
    "\n",
    "# Méthode Catégorie Inconnu  \n",
    "score_unknown = 7  # Bonne transparence\n",
    "quality_scores.append(('Catégorie Inconnu', score_unknown))\n",
    "\n",
    "# Méthode KNN\n",
    "score_knn = 9 if df_knn_imputation['arrondissement'].isna().sum() == 0 else 7\n",
    "quality_scores.append(('KNN Multivarié', score_knn))\n",
    "\n",
    "# Recommandation\n",
    "best_method = max(quality_scores, key=lambda x: x[1])[0]\n",
    "\n",
    "print(f\"\\n🏆 RECOMMANDATION : {best_method}\")\n",
    "print(f\"   • Raison : Meilleur équilibre précision/transparence\")\n",
    "\n",
    "# Sélection automatique de la meilleure méthode\n",
    "if best_method == 'Géolocalisation':\n",
    "    df_final_no_deletion = df_no_deletion\n",
    "    print(f\"   • Arrondissements déterminés par coordonnées GPS\")\n",
    "elif best_method == 'Catégorie Inconnu':\n",
    "    df_final_no_deletion = df_unknown_category  \n",
    "    print(f\"   • Catégorie spéciale pour données manquantes\")\n",
    "else:\n",
    "    df_final_no_deletion = df_knn_imputation\n",
    "    print(f\"   • Imputation statistique multivariée\")\n",
    "\n",
    "print(f\"\\n✅ RÉSULTAT FINAL :\")\n",
    "print(f\"   • Données conservées : {len(df_final_no_deletion):,} lignes (100%)\")\n",
    "print(f\"   • Arrondissements complets : {df_final_no_deletion['arrondissement'].notna().sum():,}\")\n",
    "print(f\"   • Méthode : {best_method}\")\n",
    "\n",
    "# Sauvegarde des données finales\n",
    "output_path = '../data/processed/terrasses_paris_100pourcent_complet.csv'\n",
    "df_final_no_deletion.to_csv(output_path, index=False, encoding='utf-8')\n",
    "print(f\"\\n💾 DONNÉES SAUVEGARDÉES : '{output_path}'\")\n",
    "\n",
    "print(f\"\\n🎉 FÉLICITATIONS ! VOUS AVEZ CONSERVÉ 100% DE VOS DONNÉES !\")\n",
    "print(f\"🚀 PRÊT POUR LA PHASE 4: MODELING AVEC {len(df_final_no_deletion):,} POINTS COMPLETS !\")"
   ]
  },
  {
   "cell_type": "markdown",
   "id": "bf787281",
   "metadata": {},
   "source": [
    "<!DOCTYPE html> <html> <head> <style> body { font-family: Arial, sans-serif; margin: 40px; background: #f5f5f5; color: #333; line-height: 1.6; } h1 { text-align: center; color: lightgreen; font-size: 36px; font-weight: bold; margin-bottom: 10px; } h2 { color: #EF806C; font-size: 28px; font-weight: bold; margin-top: 30px; } h3 { color: #00FFFF; font-size: 22px; margin-top: 20px; } ul { margin-left: 20px; } li { margin: 8px 0; } hr { height: 2px; border: none; background-color: lightgreen; margin: 20px 0; } </style> </head> <body>\n",
    "<h1>⚙️ 4. Feature Engineering</h1>\n",
    "<p><strong>📌 Goal:</strong></p>\n",
    "<p>Feature engineering focuses on transforming and creating variables that better represent the underlying patterns in your data — improving model performance and interpretability.</p>\n",
    "\n",
    "<h2>🧠 Key Steps</h2>\n",
    "<ul>\n",
    "  <li>🏗️ <b>Feature creation:</b> build new features from existing ones (e.g., ratios, interactions)</li>\n",
    "  <li>🧩 <b>Encoding categorical data:</b> use one-hot, label, or frequency encoding</li>\n",
    "  <li>📏 <b>Scaling & normalization:</b> apply StandardScaler or MinMaxScaler when needed</li>\n",
    "  <li>🔍 <b>Feature selection:</b> remove redundant or low-variance features</li>\n",
    "  <li>🧮 <b>Dimensionality reduction:</b> use PCA or t-SNE to simplify complex data</li>\n",
    "</ul>\n",
    "\n",
    "<p>This step enhances the dataset’s quality and ensures that your ML model learns from the most meaningful signals.</p>\n",
    "</body>\n",
    "</html>\n"
   ]
  },
  {
   "cell_type": "markdown",
   "id": "f66bc945",
   "metadata": {},
   "source": [
    "\n",
    "<!DOCTYPE html>\n",
    "<html>\n",
    "<head>\n",
    "    <style>\n",
    "        body { font-family: Arial, sans-serif; margin: 40px; background: #f5f5f5; color: #333; line-height: 1.6; }\n",
    "        h1 { text-align: center; color: lightgreen; font-size: 36px; font-weight: bold; margin-bottom: 10px; }\n",
    "        h2 { color: #EF806C; font-size: 28px; font-weight: bold; margin-top: 30px; }\n",
    "        h3 { color: #00FFFF; font-size: 22px; font-weight: bold; margin-top: 20px;,  }\n",
    "        ul { margin-left: 20px; }\n",
    "        li { margin: 8px 0; }\n",
    "        hr { height: 2px; border: none; background-color: lightgreen; margin: 20px 0; }\n",
    "    </style>\n",
    "</head>\n",
    "<body>\n",
    "<h3> 🛠️ Chargement des données complètes et analyse\n",
    "\n",
    " </h3>\n"
   ]
  },
  {
   "cell_type": "code",
   "execution_count": 42,
   "id": "50d733a2",
   "metadata": {},
   "outputs": [
    {
     "name": "stdout",
     "output_type": "stream",
     "text": [
      "🔧 FEATURE ENGINEERING POUR LE CLUSTERING SPATIAL\n",
      "✅ DONNÉES DÉJÀ 100% COMPLÈTES AVEC KNN MULTIVARIÉ\n",
      "📊 DONNÉES : 4,988 lignes, 14 colonnes\n",
      "🎯 COMPLÉTUDE : 100% - Aucune valeur manquante dans les features essentielles\n",
      "\n",
      "✅ VÉRIFICATION RAPIDE :\n",
      "   • Arrondissements manquants : 0\n",
      "   • Coordonnées manquantes : 0\n",
      "   • Typologies manquantes : 0\n",
      "\n",
      "📋 FEATURES DISPONIBLES :\n",
      "    1. typologie\n",
      "    2. adresse\n",
      "    3. arrondissement\n",
      "    4. nom_enseigne\n",
      "    5. nom_societe\n",
      "    6. siret\n",
      "    7. longueur\n",
      "    8. largeur\n",
      "    9. periode_installation\n",
      "   10. lien_affichette\n",
      "   11. geo_shape\n",
      "   12. geo_point_2d\n",
      "   13. latitude\n",
      "   14. longitude\n"
     ]
    }
   ],
   "source": [
    "\n",
    "print(\"🔧 FEATURE ENGINEERING POUR LE CLUSTERING SPATIAL\")\n",
    "print(\"✅ DONNÉES DÉJÀ 100% COMPLÈTES AVEC KNN MULTIVARIÉ\")\n",
    "\n",
    "# Chargement des données complètes\n",
    "df = pd.read_csv('../data/processed/terrasses_paris_100pourcent_complet.csv')\n",
    "\n",
    "print(f\"📊 DONNÉES : {len(df):,} lignes, {len(df.columns)} colonnes\")\n",
    "print(f\"🎯 COMPLÉTUDE : 100% - Aucune valeur manquante dans les features essentielles\")\n",
    "\n",
    "# Vérification rapide\n",
    "print(f\"\\n✅ VÉRIFICATION RAPIDE :\")\n",
    "print(f\"   • Arrondissements manquants : {df['arrondissement'].isna().sum()}\")\n",
    "print(f\"   • Coordonnées manquantes : {df[['latitude', 'longitude']].isna().sum().sum()}\")\n",
    "print(f\"   • Typologies manquantes : {df['typologie'].isna().sum()}\")\n",
    "\n",
    "# Features disponibles\n",
    "print(f\"\\n📋 FEATURES DISPONIBLES :\")\n",
    "for i, col in enumerate(df.columns, 1):\n",
    "    print(f\"   {i:2d}. {col}\")"
   ]
  },
  {
   "cell_type": "markdown",
   "id": "b2aab876",
   "metadata": {},
   "source": [
    "\n",
    "<!DOCTYPE html>\n",
    "<html>\n",
    "<head>\n",
    "    <style>\n",
    "        body { font-family: Arial, sans-serif; margin: 40px; background: #f5f5f5; color: #333; line-height: 1.6; }\n",
    "        h1 { text-align: center; color: lightgreen; font-size: 36px; font-weight: bold; margin-bottom: 10px; }\n",
    "        h2 { color: #EF806C; font-size: 28px; font-weight: bold; margin-top: 30px; }\n",
    "        h3 { color: #00FFFF; font-size: 22px; font-weight: bold; margin-top: 20px;,  }\n",
    "        ul { margin-left: 20px; }\n",
    "        li { margin: 8px 0; }\n",
    "        hr { height: 2px; border: none; background-color: lightgreen; margin: 20px 0; }\n",
    "    </style>\n",
    "</head>\n",
    "<body>\n",
    "<h3> 🛠️ Feature Selection Stratégique\n",
    "\n",
    " </h3>\n"
   ]
  },
  {
   "cell_type": "code",
   "execution_count": 43,
   "id": "56f6497b",
   "metadata": {},
   "outputs": [
    {
     "name": "stdout",
     "output_type": "stream",
     "text": [
      "🎯 FEATURE SELECTION POUR CLUSTERING SPATIAL\n",
      "🎯 OBJECTIF : Sélectionner les features les plus pertinentes pour DBSCAN\n",
      "📊 STRATÉGIE DE SÉLECTION :\n",
      "   ESSENTIELLES    : ['latitude', 'longitude']\n",
      "   CONTEXTUELLES   : ['typologie', 'arrondissement']\n",
      "   DIMENSIONNELLES : ['longueur', 'largeur']\n",
      "   EXCLUES         : ['nom_societe', 'periode_installation', 'lien_affichette', 'siret', 'geo_shape', 'geo_point_2d', 'nom_enseigne']\n",
      "   ✅ Ajout : longueur\n",
      "   ✅ Ajout : largeur\n",
      "\n",
      "✅ DATASET DE TRAVAIL SÉLECTIONNÉ :\n",
      "   • Features : ['latitude', 'longitude', 'typologie', 'arrondissement', 'longueur', 'largeur']\n",
      "   • Shape : (4988, 6)\n",
      "   • Aperçu :\n"
     ]
    },
    {
     "data": {
      "application/vnd.microsoft.datawrangler.viewer.v0+json": {
       "columns": [
        {
         "name": "index",
         "rawType": "int64",
         "type": "integer"
        },
        {
         "name": "latitude",
         "rawType": "float64",
         "type": "float"
        },
        {
         "name": "longitude",
         "rawType": "float64",
         "type": "float"
        },
        {
         "name": "typologie",
         "rawType": "object",
         "type": "string"
        },
        {
         "name": "arrondissement",
         "rawType": "int64",
         "type": "integer"
        },
        {
         "name": "longueur",
         "rawType": "float64",
         "type": "float"
        },
        {
         "name": "largeur",
         "rawType": "float64",
         "type": "float"
        }
       ],
       "ref": "29df1882-0606-4277-b3de-6fcff97fd87f",
       "rows": [
        [
         "0",
         "48.866330091701045",
         "2.3854522524772896",
         "CONTRE-TERRASSE OUVERTE",
         "75020",
         "4.8",
         "4.0"
        ],
        [
         "1",
         "48.854642373630554",
         "2.3857018993955266",
         "TERRASSE OUVERTE",
         "75011",
         "7.65",
         "2.0"
        ],
        [
         "2",
         "48.86116698012297",
         "2.3410809317051617",
         "TERRASSE OUVERTE",
         "75001",
         "2.5",
         "1.1"
        ]
       ],
       "shape": {
        "columns": 6,
        "rows": 3
       }
      },
      "text/html": [
       "<div>\n",
       "<style scoped>\n",
       "    .dataframe tbody tr th:only-of-type {\n",
       "        vertical-align: middle;\n",
       "    }\n",
       "\n",
       "    .dataframe tbody tr th {\n",
       "        vertical-align: top;\n",
       "    }\n",
       "\n",
       "    .dataframe thead th {\n",
       "        text-align: right;\n",
       "    }\n",
       "</style>\n",
       "<table border=\"1\" class=\"dataframe\">\n",
       "  <thead>\n",
       "    <tr style=\"text-align: right;\">\n",
       "      <th></th>\n",
       "      <th>latitude</th>\n",
       "      <th>longitude</th>\n",
       "      <th>typologie</th>\n",
       "      <th>arrondissement</th>\n",
       "      <th>longueur</th>\n",
       "      <th>largeur</th>\n",
       "    </tr>\n",
       "  </thead>\n",
       "  <tbody>\n",
       "    <tr>\n",
       "      <th>0</th>\n",
       "      <td>48.866330</td>\n",
       "      <td>2.385452</td>\n",
       "      <td>CONTRE-TERRASSE OUVERTE</td>\n",
       "      <td>75020</td>\n",
       "      <td>4.80</td>\n",
       "      <td>4.0</td>\n",
       "    </tr>\n",
       "    <tr>\n",
       "      <th>1</th>\n",
       "      <td>48.854642</td>\n",
       "      <td>2.385702</td>\n",
       "      <td>TERRASSE OUVERTE</td>\n",
       "      <td>75011</td>\n",
       "      <td>7.65</td>\n",
       "      <td>2.0</td>\n",
       "    </tr>\n",
       "    <tr>\n",
       "      <th>2</th>\n",
       "      <td>48.861167</td>\n",
       "      <td>2.341081</td>\n",
       "      <td>TERRASSE OUVERTE</td>\n",
       "      <td>75001</td>\n",
       "      <td>2.50</td>\n",
       "      <td>1.1</td>\n",
       "    </tr>\n",
       "  </tbody>\n",
       "</table>\n",
       "</div>"
      ],
      "text/plain": [
       "    latitude  longitude                typologie  arrondissement  longueur  \\\n",
       "0  48.866330   2.385452  CONTRE-TERRASSE OUVERTE           75020      4.80   \n",
       "1  48.854642   2.385702         TERRASSE OUVERTE           75011      7.65   \n",
       "2  48.861167   2.341081         TERRASSE OUVERTE           75001      2.50   \n",
       "\n",
       "   largeur  \n",
       "0      4.0  \n",
       "1      2.0  \n",
       "2      1.1  "
      ]
     },
     "metadata": {},
     "output_type": "display_data"
    }
   ],
   "source": [
    "\n",
    "print(\"🎯 FEATURE SELECTION POUR CLUSTERING SPATIAL\")\n",
    "\n",
    "print(\"🎯 OBJECTIF : Sélectionner les features les plus pertinentes pour DBSCAN\")\n",
    "\n",
    "# CATÉGORISATION DES FEATURES\n",
    "features_analysis = {\n",
    "    'ESSENTIELLES': [\n",
    "        'latitude',      # 🎯 CRITIQUE - Coordonnée spatiale\n",
    "        'longitude',     # 🎯 CRITIQUE - Coordonnée spatiale\n",
    "    ],\n",
    "    'CONTEXTUELLES': [\n",
    "        'typologie',     # 🎯 IMPORTANTE - Type de commerce\n",
    "        'arrondissement', # 🎯 IMPORTANTE - Zone administrative\n",
    "    ],\n",
    "    'DIMENSIONNELLES': [\n",
    "        'longueur',      # 🔶 OPTIONNEL - Dimension physique\n",
    "        'largeur',       # 🔶 OPTIONNEL - Dimension physique\n",
    "    ],\n",
    "    'EXCLUES': [\n",
    "        'nom_societe',         # ❌ 97% manquants\n",
    "        'periode_installation', # ❌ 97% manquants\n",
    "        'lien_affichette',     # ❌ 18% manquants + non structuré\n",
    "        'siret',              # ❌ Identifiant unique\n",
    "        'geo_shape',          # ❌ Redondant\n",
    "        'geo_point_2d',       # ❌ Redondant\n",
    "        'nom_enseigne'        # ❌ Trop spécifique\n",
    "    ]\n",
    "}\n",
    "\n",
    "print(\"📊 STRATÉGIE DE SÉLECTION :\")\n",
    "for category, features in features_analysis.items():\n",
    "    print(f\"   {category:15} : {features}\")\n",
    "\n",
    "# Sélection des features pour le clustering\n",
    "selected_features = features_analysis['ESSENTIELLES'] + features_analysis['CONTEXTUELLES']\n",
    "\n",
    "# Ajout conditionnel des features dimensionnelles\n",
    "for dim_feature in features_analysis['DIMENSIONNELLES']:\n",
    "    if dim_feature in df.columns and df[dim_feature].notna().sum() > 0.8 * len(df):\n",
    "        selected_features.append(dim_feature)\n",
    "        print(f\"   ✅ Ajout : {dim_feature}\")\n",
    "\n",
    "df_working = df[selected_features].copy()\n",
    "\n",
    "print(f\"\\n✅ DATASET DE TRAVAIL SÉLECTIONNÉ :\")\n",
    "print(f\"   • Features : {selected_features}\")\n",
    "print(f\"   • Shape : {df_working.shape}\")\n",
    "print(f\"   • Aperçu :\")\n",
    "display(df_working.head(3))"
   ]
  },
  {
   "cell_type": "markdown",
   "id": "de130832",
   "metadata": {},
   "source": [
    "\n",
    "<!DOCTYPE html>\n",
    "<html>\n",
    "<head>\n",
    "    <style>\n",
    "        body { font-family: Arial, sans-serif; margin: 40px; background: #f5f5f5; color: #333; line-height: 1.6; }\n",
    "        h1 { text-align: center; color: lightgreen; font-size: 36px; font-weight: bold; margin-bottom: 10px; }\n",
    "        h2 { color: #EF806C; font-size: 28px; font-weight: bold; margin-top: 30px; }\n",
    "        h3 { color: #00FFFF; font-size: 22px; font-weight: bold; margin-top: 20px;,  }\n",
    "        ul { margin-left: 20px; }\n",
    "        li { margin: 8px 0; }\n",
    "        hr { height: 2px; border: none; background-color: lightgreen; margin: 20px 0; }\n",
    "    </style>\n",
    "</head>\n",
    "<body>\n",
    "<h3> 🛠️ Feature Engineering - Création de variables dérivées\n",
    "\n",
    " </h3>\n"
   ]
  },
  {
   "cell_type": "code",
   "execution_count": 44,
   "id": "c4d9414c",
   "metadata": {},
   "outputs": [
    {
     "name": "stdout",
     "output_type": "stream",
     "text": [
      "🎨 FEATURE ENGINEERING - CRÉATION DE VARIABLES SPÉCIALISÉES\n",
      "🎯 OBJECTIF : Enrichir les données avec des features adaptées au clustering spatial\n",
      "📍 CALCUL DE LA DENSITÉ LOCALE...\n",
      "   ✅ Densité locale calculée :\n",
      "      • Moyenne : 13.9 points/200m\n",
      "      • Médiane : 12.0 points/200m\n",
      "      • Max : 69 points/200m\n",
      "\n",
      "🏷️ REGROUPEMENT STRATÉGIQUE DES TYPOLOGIES...\n",
      "   ✅ Catégories commerciales créées : 26 catégories\n",
      "      • Distribution : {'RESTAURATION': 3373, 'COMMERCE': 1038, 'CONTRE TERRASSE ESTIVALE SUR TROTTOIR FACE À LA DEVANTURE': 159, 'ÉTALAGE SUR TROTTOIR': 59, 'CONTRE-TERRASSE PERMANENTE SUR STATIONNEMENT': 59, 'AUTRE': 48, 'CONTRE-ÉTALAGE': 42, 'CONTRE TERRASSE ESTIVALE SUR PLACES ET TERRE-PLEIN': 36, 'TERRASSE ESTIVALE SUR TROTTOIR DÉSAXÉE PAR RAPPORT À LA DEVANTURE': 35, 'TERRASSES OUVERTES SUR VOIE PIÉTONNE': 26, 'PARALLÈLE SUR FAÇADE': 26, 'CONTRE TERRASSE ESTIVALE SUR TROTTOIR DÉSAXÉE PAR RAPPORT À LA DEVANTURE': 18, 'CONTRE-TERRASSE ESTIVALE SUR VOIE PIÉTONNE': 16, 'TERRASSE FERMEE': 13, 'CONTRE TERRASSE SUR TROTTOIR': 11, 'PERPENDICULAIRE SUR FAÇADE': 8, 'ÉTALAGE SUR VOIE PIÉTONNE': 4, 'TERRASSES FERMÉES SUR TROTTOIR': 4, 'CONTRE TERRASSE SUR VOIE PIÉTONNE': 4, 'CONTRE ETALAGE': 2, 'CONTRE-TERRASSE ESTIVALE SUR AIRE PIÉTONNE PROVISOIRE': 2, 'CONTRE ÉTALAGE SUR TROTTOIR': 1, 'PARALLÈLE SUR LAMBREQUIN DE STORES': 1, 'SUR AUVENT OU MARQUISE': 1, 'CONTRE TERRASSE': 1, 'CONTRE ÉTALAGE SUR PLACE DE STATIONNEMENT': 1}\n",
      "\n",
      "📐 Surface des terrasses calculée :\n",
      "   ✅ Surface moyenne : 9.6 m²\n",
      "   ✅ Surface médiane : 6.4 m²\n",
      "\n",
      "🔢 ENCODAGE DES VARIABLES CATÉGORIELLES...\n",
      "   ✅ Variables catégorielles encodées pour analyses numériques\n",
      "\n",
      "📊 APERÇU DES NOUVELLES FEATURES :\n",
      "   • Features créées : ['densite_200m', 'categorie_commerciale', 'surface_terrasse', 'categorie_encoded', 'arrondissement_encoded']\n"
     ]
    },
    {
     "data": {
      "application/vnd.microsoft.datawrangler.viewer.v0+json": {
       "columns": [
        {
         "name": "index",
         "rawType": "object",
         "type": "string"
        },
        {
         "name": "densite_200m",
         "rawType": "float64",
         "type": "float"
        },
        {
         "name": "surface_terrasse",
         "rawType": "float64",
         "type": "float"
        },
        {
         "name": "categorie_encoded",
         "rawType": "float64",
         "type": "float"
        },
        {
         "name": "arrondissement_encoded",
         "rawType": "float64",
         "type": "float"
        }
       ],
       "ref": "dd8048f0-099f-41a8-b368-af4a0fd05d10",
       "rows": [
        [
         "count",
         "4988.0",
         "4953.0",
         "4988.0",
         "4988.0"
        ],
        [
         "mean",
         "13.927425821972735",
         "9.558577145164547",
         "13.708901363271853",
         "10.581796311146752"
        ],
        [
         "std",
         "9.62303032742209",
         "19.146536909134927",
         "7.298572790918332",
         "5.550642346630429"
        ],
        [
         "min",
         "1.0",
         "0.0",
         "0.0",
         "0.0"
        ],
        [
         "25%",
         "7.0",
         "3.5",
         "6.0",
         "7.0"
        ],
        [
         "50%",
         "12.0",
         "6.4",
         "18.0",
         "11.0"
        ],
        [
         "75%",
         "18.0",
         "11.6",
         "18.0",
         "15.0"
        ],
        [
         "max",
         "69.0",
         "900.0",
         "25.0",
         "20.0"
        ]
       ],
       "shape": {
        "columns": 4,
        "rows": 8
       }
      },
      "text/html": [
       "<div>\n",
       "<style scoped>\n",
       "    .dataframe tbody tr th:only-of-type {\n",
       "        vertical-align: middle;\n",
       "    }\n",
       "\n",
       "    .dataframe tbody tr th {\n",
       "        vertical-align: top;\n",
       "    }\n",
       "\n",
       "    .dataframe thead th {\n",
       "        text-align: right;\n",
       "    }\n",
       "</style>\n",
       "<table border=\"1\" class=\"dataframe\">\n",
       "  <thead>\n",
       "    <tr style=\"text-align: right;\">\n",
       "      <th></th>\n",
       "      <th>densite_200m</th>\n",
       "      <th>surface_terrasse</th>\n",
       "      <th>categorie_encoded</th>\n",
       "      <th>arrondissement_encoded</th>\n",
       "    </tr>\n",
       "  </thead>\n",
       "  <tbody>\n",
       "    <tr>\n",
       "      <th>count</th>\n",
       "      <td>4988.000000</td>\n",
       "      <td>4953.000000</td>\n",
       "      <td>4988.000000</td>\n",
       "      <td>4988.000000</td>\n",
       "    </tr>\n",
       "    <tr>\n",
       "      <th>mean</th>\n",
       "      <td>13.927426</td>\n",
       "      <td>9.558577</td>\n",
       "      <td>13.708901</td>\n",
       "      <td>10.581796</td>\n",
       "    </tr>\n",
       "    <tr>\n",
       "      <th>std</th>\n",
       "      <td>9.623030</td>\n",
       "      <td>19.146537</td>\n",
       "      <td>7.298573</td>\n",
       "      <td>5.550642</td>\n",
       "    </tr>\n",
       "    <tr>\n",
       "      <th>min</th>\n",
       "      <td>1.000000</td>\n",
       "      <td>0.000000</td>\n",
       "      <td>0.000000</td>\n",
       "      <td>0.000000</td>\n",
       "    </tr>\n",
       "    <tr>\n",
       "      <th>25%</th>\n",
       "      <td>7.000000</td>\n",
       "      <td>3.500000</td>\n",
       "      <td>6.000000</td>\n",
       "      <td>7.000000</td>\n",
       "    </tr>\n",
       "    <tr>\n",
       "      <th>50%</th>\n",
       "      <td>12.000000</td>\n",
       "      <td>6.400000</td>\n",
       "      <td>18.000000</td>\n",
       "      <td>11.000000</td>\n",
       "    </tr>\n",
       "    <tr>\n",
       "      <th>75%</th>\n",
       "      <td>18.000000</td>\n",
       "      <td>11.600000</td>\n",
       "      <td>18.000000</td>\n",
       "      <td>15.000000</td>\n",
       "    </tr>\n",
       "    <tr>\n",
       "      <th>max</th>\n",
       "      <td>69.000000</td>\n",
       "      <td>900.000000</td>\n",
       "      <td>25.000000</td>\n",
       "      <td>20.000000</td>\n",
       "    </tr>\n",
       "  </tbody>\n",
       "</table>\n",
       "</div>"
      ],
      "text/plain": [
       "       densite_200m  surface_terrasse  categorie_encoded  \\\n",
       "count   4988.000000       4953.000000        4988.000000   \n",
       "mean      13.927426          9.558577          13.708901   \n",
       "std        9.623030         19.146537           7.298573   \n",
       "min        1.000000          0.000000           0.000000   \n",
       "25%        7.000000          3.500000           6.000000   \n",
       "50%       12.000000          6.400000          18.000000   \n",
       "75%       18.000000         11.600000          18.000000   \n",
       "max       69.000000        900.000000          25.000000   \n",
       "\n",
       "       arrondissement_encoded  \n",
       "count             4988.000000  \n",
       "mean                10.581796  \n",
       "std                  5.550642  \n",
       "min                  0.000000  \n",
       "25%                  7.000000  \n",
       "50%                 11.000000  \n",
       "75%                 15.000000  \n",
       "max                 20.000000  "
      ]
     },
     "metadata": {},
     "output_type": "display_data"
    }
   ],
   "source": [
    "\n",
    "print(\"🎨 FEATURE ENGINEERING - CRÉATION DE VARIABLES SPÉCIALISÉES\")\n",
    "\n",
    "print(\"🎯 OBJECTIF : Enrichir les données avec des features adaptées au clustering spatial\")\n",
    "\n",
    "import numpy as np\n",
    "from sklearn.neighbors import NearestNeighbors\n",
    "\n",
    "# 1. DENSITÉ LOCALE - Feature CRUCIALE pour DBSCAN\n",
    "print(\"📍 CALCUL DE LA DENSITÉ LOCALE...\")\n",
    "\n",
    "coords = df_working[['longitude', 'latitude']].values\n",
    "\n",
    "# Calcul du nombre de voisins dans un rayon de 200m (approximatif)\n",
    "# 0.002 degrés ≈ 200m à Paris\n",
    "knn = NearestNeighbors(radius=0.002)\n",
    "knn.fit(coords)\n",
    "\n",
    "distances, indices = knn.radius_neighbors(coords, return_distance=True)\n",
    "df_working['densite_200m'] = [len(indices[i]) for i in range(len(coords))]\n",
    "\n",
    "print(f\"   ✅ Densité locale calculée :\")\n",
    "print(f\"      • Moyenne : {df_working['densite_200m'].mean():.1f} points/200m\")\n",
    "print(f\"      • Médiane : {df_working['densite_200m'].median():.1f} points/200m\")\n",
    "print(f\"      • Max : {df_working['densite_200m'].max()} points/200m\")\n",
    "\n",
    "# 2. CATÉGORISATION INTELLIGENTE DES TYPOLOGIES\n",
    "print(\"\\n🏷️ REGROUPEMENT STRATÉGIQUE DES TYPOLOGIES...\")\n",
    "\n",
    "# Regroupement par type d'activité commerciale\n",
    "typologie_categories = {\n",
    "    # Terrasses de restauration\n",
    "    'TERRASSE OUVERTE': 'RESTAURATION',\n",
    "    'TERRASSES OUVERTES SUR TROTTOIR': 'RESTAURATION',\n",
    "    'TERRASSE ESTIVALE SUR TROTTOIR FACE À LA DEVANTURE': 'RESTAURATION',\n",
    "    'TERRASSE FERMÉE': 'RESTAURATION',\n",
    "    'CONTRE TERRASSE ESTIVALE SUR STATIONNEMENT': 'RESTAURATION',\n",
    "    'CONTRE-TERRASSE OUVERTE': 'RESTAURATION',\n",
    "    \n",
    "    # Étalages/commerces\n",
    "    'ETALAGE': 'COMMERCE',\n",
    "    'COMMERCE ACCESSOIRE': 'COMMERCE',\n",
    "    \n",
    "    # Autres\n",
    "    'PLANCHER MOBILE': 'AUTRE'\n",
    "}\n",
    "\n",
    "df_working['categorie_commerciale'] = df_working['typologie'].map(typologie_categories)\n",
    "# Garder l'original si pas dans le mapping\n",
    "df_working['categorie_commerciale'] = df_working['categorie_commerciale'].fillna(df_working['typologie'])\n",
    "\n",
    "print(f\"   ✅ Catégories commerciales créées : {df_working['categorie_commerciale'].nunique()} catégories\")\n",
    "print(f\"      • Distribution : {df_working['categorie_commerciale'].value_counts().to_dict()}\")\n",
    "\n",
    "# 3. SURFACE COMMERCIALE (si dimensions disponibles)\n",
    "if all(col in df_working.columns for col in ['longueur', 'largeur']):\n",
    "    df_working['surface_terrasse'] = df_working['longueur'] * df_working['largeur']\n",
    "    print(f\"\\n📐 Surface des terrasses calculée :\")\n",
    "    print(f\"   ✅ Surface moyenne : {df_working['surface_terrasse'].mean():.1f} m²\")\n",
    "    print(f\"   ✅ Surface médiane : {df_working['surface_terrasse'].median():.1f} m²\")\n",
    "\n",
    "# 4. ENCODAGE POUR ANALYSES NUMÉRIQUES\n",
    "from sklearn.preprocessing import LabelEncoder\n",
    "\n",
    "print(\"\\n🔢 ENCODAGE DES VARIABLES CATÉGORIELLES...\")\n",
    "\n",
    "# Encodage de la catégorie commerciale\n",
    "le_categorie = LabelEncoder()\n",
    "df_working['categorie_encoded'] = le_categorie.fit_transform(df_working['categorie_commerciale'])\n",
    "\n",
    "# Encodage de l'arrondissement\n",
    "le_arrondissement = LabelEncoder()\n",
    "df_working['arrondissement_encoded'] = le_arrondissement.fit_transform(df_working['arrondissement'])\n",
    "\n",
    "print(f\"   ✅ Variables catégorielles encodées pour analyses numériques\")\n",
    "\n",
    "print(f\"\\n📊 APERÇU DES NOUVELLES FEATURES :\")\n",
    "new_features = [col for col in df_working.columns if col not in selected_features]\n",
    "print(f\"   • Features créées : {new_features}\")\n",
    "display(df_working[new_features].describe())"
   ]
  },
  {
   "cell_type": "markdown",
   "id": "4d96e7c7",
   "metadata": {},
   "source": [
    "\n",
    "<!DOCTYPE html>\n",
    "<html>\n",
    "<head>\n",
    "    <style>\n",
    "        body { font-family: Arial, sans-serif; margin: 40px; background: #f5f5f5; color: #333; line-height: 1.6; }\n",
    "        h1 { text-align: center; color: lightgreen; font-size: 36px; font-weight: bold; margin-bottom: 10px; }\n",
    "        h2 { color: #EF806C; font-size: 28px; font-weight: bold; margin-top: 30px; }\n",
    "        h3 { color: #00FFFF; font-size: 22px; font-weight: bold; margin-top: 20px;,  }\n",
    "        ul { margin-left: 20px; }\n",
    "        li { margin: 8px 0; }\n",
    "        hr { height: 2px; border: none; background-color: lightgreen; margin: 20px 0; }\n",
    "    </style>\n",
    "</head>\n",
    "<body>\n",
    "<h3> 🛠️ Normalisation et Préparation pour DBSCAN\n",
    " </h3>\n"
   ]
  },
  {
   "cell_type": "code",
   "execution_count": 45,
   "id": "d894d979",
   "metadata": {},
   "outputs": [
    {
     "name": "stdout",
     "output_type": "stream",
     "text": [
      "📐 NORMALISATION STRATÉGIQUE POUR CLUSTERING DBSCAN\n",
      "🎯 OBJECTIF : Préparer les features pour une détection optimale des clusters\n",
      "🎯 STRATÉGIE : Standardisation (Z-score) pour DBSCAN\n",
      "📊 FEATURES POUR DBSCAN : ['longitude', 'latitude', 'densite_200m']\n",
      "\n",
      "✅ STANDARDISATION TERMINÉE :\n",
      "   • Features standardisées : ['longitude_scaled', 'latitude_scaled', 'densite_200m_scaled']\n",
      "   • Shape : (4988, 3)\n",
      "   • Statistiques après standardisation :\n",
      "      - Moyenne ~0 : {'longitude_scaled': -0.0, 'latitude_scaled': 0.0, 'densite_200m_scaled': -0.0}\n",
      "      - Écart-type ~1 : {'longitude_scaled': 1.0, 'latitude_scaled': 1.0, 'densite_200m_scaled': 1.0}\n",
      "\n",
      "📋 DATASET COMPLET POUR MODELING :\n",
      "   • Total features : 14\n",
      "   • Lignes : 4,988\n",
      "   • Features DBSCAN (standardisées) : ['longitude_scaled', 'latitude_scaled', 'densite_200m_scaled']\n",
      "   • Features contextuelles (brutes) : ['latitude', 'longitude', 'typologie', 'arrondissement', 'longueur', 'largeur', 'densite_200m', 'categorie_commerciale', 'surface_terrasse', 'categorie_encoded', 'arrondissement_encoded']\n",
      "\n",
      "👀 APERÇU DU DATASET FINAL :\n"
     ]
    },
    {
     "data": {
      "application/vnd.microsoft.datawrangler.viewer.v0+json": {
       "columns": [
        {
         "name": "index",
         "rawType": "int64",
         "type": "integer"
        },
        {
         "name": "latitude",
         "rawType": "float64",
         "type": "float"
        },
        {
         "name": "longitude",
         "rawType": "float64",
         "type": "float"
        },
        {
         "name": "typologie",
         "rawType": "object",
         "type": "string"
        },
        {
         "name": "arrondissement",
         "rawType": "int64",
         "type": "integer"
        },
        {
         "name": "longueur",
         "rawType": "float64",
         "type": "float"
        },
        {
         "name": "largeur",
         "rawType": "float64",
         "type": "float"
        },
        {
         "name": "densite_200m",
         "rawType": "int64",
         "type": "integer"
        },
        {
         "name": "categorie_commerciale",
         "rawType": "object",
         "type": "string"
        },
        {
         "name": "surface_terrasse",
         "rawType": "float64",
         "type": "float"
        },
        {
         "name": "categorie_encoded",
         "rawType": "int64",
         "type": "integer"
        },
        {
         "name": "arrondissement_encoded",
         "rawType": "int64",
         "type": "integer"
        },
        {
         "name": "longitude_scaled",
         "rawType": "float64",
         "type": "float"
        },
        {
         "name": "latitude_scaled",
         "rawType": "float64",
         "type": "float"
        },
        {
         "name": "densite_200m_scaled",
         "rawType": "float64",
         "type": "float"
        }
       ],
       "ref": "69b7aabb-510c-4195-a0f5-b1f20fbe8dc8",
       "rows": [
        [
         "0",
         "48.866330091701045",
         "2.3854522524772896",
         "CONTRE-TERRASSE OUVERTE",
         "75020",
         "4.8",
         "4.0",
         "14",
         "RESTAURATION",
         "19.2",
         "18",
         "19",
         "1.3285171508285958",
         "0.30355606846503125",
         "0.007542473787283337"
        ],
        [
         "1",
         "48.854642373630554",
         "2.3857018993955266",
         "TERRASSE OUVERTE",
         "75011",
         "7.65",
         "2.0",
         "12",
         "RESTAURATION",
         "15.3",
         "18",
         "10",
         "1.3360259729107176",
         "-0.3429741974079428",
         "-0.20031310218492307"
        ],
        [
         "2",
         "48.86116698012297",
         "2.3410809317051617",
         "TERRASSE OUVERTE",
         "75001",
         "2.5",
         "1.1",
         "10",
         "RESTAURATION",
         "2.75",
         "18",
         "0",
         "-0.00607314004961286",
         "0.01794788719526499",
         "-0.4081686781571295"
        ]
       ],
       "shape": {
        "columns": 14,
        "rows": 3
       }
      },
      "text/html": [
       "<div>\n",
       "<style scoped>\n",
       "    .dataframe tbody tr th:only-of-type {\n",
       "        vertical-align: middle;\n",
       "    }\n",
       "\n",
       "    .dataframe tbody tr th {\n",
       "        vertical-align: top;\n",
       "    }\n",
       "\n",
       "    .dataframe thead th {\n",
       "        text-align: right;\n",
       "    }\n",
       "</style>\n",
       "<table border=\"1\" class=\"dataframe\">\n",
       "  <thead>\n",
       "    <tr style=\"text-align: right;\">\n",
       "      <th></th>\n",
       "      <th>latitude</th>\n",
       "      <th>longitude</th>\n",
       "      <th>typologie</th>\n",
       "      <th>arrondissement</th>\n",
       "      <th>longueur</th>\n",
       "      <th>largeur</th>\n",
       "      <th>densite_200m</th>\n",
       "      <th>categorie_commerciale</th>\n",
       "      <th>surface_terrasse</th>\n",
       "      <th>categorie_encoded</th>\n",
       "      <th>arrondissement_encoded</th>\n",
       "      <th>longitude_scaled</th>\n",
       "      <th>latitude_scaled</th>\n",
       "      <th>densite_200m_scaled</th>\n",
       "    </tr>\n",
       "  </thead>\n",
       "  <tbody>\n",
       "    <tr>\n",
       "      <th>0</th>\n",
       "      <td>48.866330</td>\n",
       "      <td>2.385452</td>\n",
       "      <td>CONTRE-TERRASSE OUVERTE</td>\n",
       "      <td>75020</td>\n",
       "      <td>4.80</td>\n",
       "      <td>4.0</td>\n",
       "      <td>14</td>\n",
       "      <td>RESTAURATION</td>\n",
       "      <td>19.20</td>\n",
       "      <td>18</td>\n",
       "      <td>19</td>\n",
       "      <td>1.328517</td>\n",
       "      <td>0.303556</td>\n",
       "      <td>0.007542</td>\n",
       "    </tr>\n",
       "    <tr>\n",
       "      <th>1</th>\n",
       "      <td>48.854642</td>\n",
       "      <td>2.385702</td>\n",
       "      <td>TERRASSE OUVERTE</td>\n",
       "      <td>75011</td>\n",
       "      <td>7.65</td>\n",
       "      <td>2.0</td>\n",
       "      <td>12</td>\n",
       "      <td>RESTAURATION</td>\n",
       "      <td>15.30</td>\n",
       "      <td>18</td>\n",
       "      <td>10</td>\n",
       "      <td>1.336026</td>\n",
       "      <td>-0.342974</td>\n",
       "      <td>-0.200313</td>\n",
       "    </tr>\n",
       "    <tr>\n",
       "      <th>2</th>\n",
       "      <td>48.861167</td>\n",
       "      <td>2.341081</td>\n",
       "      <td>TERRASSE OUVERTE</td>\n",
       "      <td>75001</td>\n",
       "      <td>2.50</td>\n",
       "      <td>1.1</td>\n",
       "      <td>10</td>\n",
       "      <td>RESTAURATION</td>\n",
       "      <td>2.75</td>\n",
       "      <td>18</td>\n",
       "      <td>0</td>\n",
       "      <td>-0.006073</td>\n",
       "      <td>0.017948</td>\n",
       "      <td>-0.408169</td>\n",
       "    </tr>\n",
       "  </tbody>\n",
       "</table>\n",
       "</div>"
      ],
      "text/plain": [
       "    latitude  longitude                typologie  arrondissement  longueur  \\\n",
       "0  48.866330   2.385452  CONTRE-TERRASSE OUVERTE           75020      4.80   \n",
       "1  48.854642   2.385702         TERRASSE OUVERTE           75011      7.65   \n",
       "2  48.861167   2.341081         TERRASSE OUVERTE           75001      2.50   \n",
       "\n",
       "   largeur  densite_200m categorie_commerciale  surface_terrasse  \\\n",
       "0      4.0            14          RESTAURATION             19.20   \n",
       "1      2.0            12          RESTAURATION             15.30   \n",
       "2      1.1            10          RESTAURATION              2.75   \n",
       "\n",
       "   categorie_encoded  arrondissement_encoded  longitude_scaled  \\\n",
       "0                 18                      19          1.328517   \n",
       "1                 18                      10          1.336026   \n",
       "2                 18                       0         -0.006073   \n",
       "\n",
       "   latitude_scaled  densite_200m_scaled  \n",
       "0         0.303556             0.007542  \n",
       "1        -0.342974            -0.200313  \n",
       "2         0.017948            -0.408169  "
      ]
     },
     "metadata": {},
     "output_type": "display_data"
    }
   ],
   "source": [
    "\n",
    "print(\"📐 NORMALISATION STRATÉGIQUE POUR CLUSTERING DBSCAN\")\n",
    "\n",
    "print(\"🎯 OBJECTIF : Préparer les features pour une détection optimale des clusters\")\n",
    "\n",
    "from sklearn.preprocessing import StandardScaler\n",
    "import numpy as np\n",
    "\n",
    "# STRATÉGIE DE NORMALISATION POUR DBSCAN\n",
    "print(\"🎯 STRATÉGIE : Standardisation (Z-score) pour DBSCAN\")\n",
    "\n",
    "# Features pour DBSCAN (coordonnées + densité)\n",
    "features_dbscan = ['longitude', 'latitude', 'densite_200m']\n",
    "\n",
    "print(f\"📊 FEATURES POUR DBSCAN : {features_dbscan}\")\n",
    "\n",
    "# Standardisation CRUCIALE pour DBSCAN\n",
    "scaler = StandardScaler()\n",
    "dbscan_scaled = scaler.fit_transform(df_working[features_dbscan])\n",
    "\n",
    "# Création du dataset final pour modeling\n",
    "X_dbscan = pd.DataFrame(dbscan_scaled, columns=[f'{col}_scaled' for col in features_dbscan])\n",
    "\n",
    "print(f\"\\n✅ STANDARDISATION TERMINÉE :\")\n",
    "print(f\"   • Features standardisées : {list(X_dbscan.columns)}\")\n",
    "print(f\"   • Shape : {X_dbscan.shape}\")\n",
    "print(f\"   • Statistiques après standardisation :\")\n",
    "print(f\"      - Moyenne ~0 : {X_dbscan.mean().round(3).to_dict()}\")\n",
    "print(f\"      - Écart-type ~1 : {X_dbscan.std().round(3).to_dict()}\")\n",
    "\n",
    "# Dataset complet avec toutes les features pour analyse\n",
    "df_modeling = df_working.copy()\n",
    "for col in X_dbscan.columns:\n",
    "    df_modeling[col] = X_dbscan[col]\n",
    "\n",
    "print(f\"\\n📋 DATASET COMPLET POUR MODELING :\")\n",
    "print(f\"   • Total features : {len(df_modeling.columns)}\")\n",
    "print(f\"   • Lignes : {len(df_modeling):,}\")\n",
    "print(f\"   • Features DBSCAN (standardisées) : {list(X_dbscan.columns)}\")\n",
    "print(f\"   • Features contextuelles (brutes) : {[col for col in df_modeling.columns if '_scaled' not in col]}\")\n",
    "\n",
    "# Aperçu final\n",
    "print(f\"\\n👀 APERÇU DU DATASET FINAL :\")\n",
    "display(df_modeling.head(3))"
   ]
  },
  {
   "cell_type": "markdown",
   "id": "dc0d3ba4",
   "metadata": {},
   "source": [
    "\n",
    "<!DOCTYPE html>\n",
    "<html>\n",
    "<head>\n",
    "    <style>\n",
    "        body { font-family: Arial, sans-serif; margin: 40px; background: #f5f5f5; color: #333; line-height: 1.6; }\n",
    "        h1 { text-align: center; color: lightgreen; font-size: 36px; font-weight: bold; margin-bottom: 10px; }\n",
    "        h2 { color: #EF806C; font-size: 28px; font-weight: bold; margin-top: 30px; }\n",
    "        h3 { color: #00FFFF; font-size: 22px; font-weight: bold; margin-top: 20px;,  }\n",
    "        ul { margin-left: 20px; }\n",
    "        li { margin: 8px 0; }\n",
    "        hr { height: 2px; border: none; background-color: lightgreen; margin: 20px 0; }\n",
    "    </style>\n",
    "</head>\n",
    "<body>\n",
    "<h3> 🛠️ Validation et Préparation Finale\n",
    "\n",
    " </h3>\n"
   ]
  },
  {
   "cell_type": "code",
   "execution_count": 46,
   "id": "15e64aea",
   "metadata": {},
   "outputs": [
    {
     "name": "stdout",
     "output_type": "stream",
     "text": [
      "✅ VALIDATION FINALE DU FEATURE ENGINEERING\n",
      "🎯 OBJECTIF : S'assurer que les données sont optimales pour DBSCAN\n",
      "📊 VÉRIFICATION DES ÉCHELLES :\n",
      "   • Features DBSCAN (standardisées) :\n",
      "      - longitude_scaled     : μ= -0.000, σ= 1.000\n",
      "      - latitude_scaled      : μ=  0.000, σ= 1.000\n",
      "      - densite_200m_scaled  : μ= -0.000, σ= 1.000\n",
      "\n",
      "🔗 CORRÉLATION DES FEATURES DBSCAN :\n",
      "   • Matrice de corrélation :\n",
      "      - longitude_scaled          ↔ latitude_scaled           : 0.022\n",
      "      - longitude_scaled          ↔ densite_200m_scaled       : 0.094\n",
      "      - latitude_scaled           ↔ densite_200m_scaled       : 0.040\n",
      "\n",
      "📈 ANALYSE DE LA DENSITÉ (feature clé) :\n",
      "   • Moyenne  : 13.9 points/200m\n",
      "   • Médiane  : 12.0 points/200m\n",
      "   • Std      : 9.6 points/200m\n",
      "   • Q1       : 7.0 points/200m\n",
      "   • Q3       : 18.0 points/200m\n",
      "\n",
      "🎯 RECOMMANDATIONS POUR DBSCAN :\n",
      "   • Densité moyenne : 13.9 points/200m\n",
      "   • eps recommandé : 0.020\n",
      "   • min_samples recommandé : 5\n",
      "\n",
      "💾 SAUVEGARDE DU DATASET FINAL...\n",
      "✅ DATASET SAUVEGARDÉ : ../data/processed/terrasses_paris_feature_engineering.csv\n",
      "📊 RÉSUMÉ FINAL :\n",
      "   • Observations : 4,988\n",
      "   • Features totales : 14\n",
      "   • Features DBSCAN : 3\n",
      "   • Features contextuelles : 11\n",
      "\n",
      "🎉 FEATURE ENGINEERING TERMINÉ AVEC SUCCÈS !\n",
      "🚀 PRÊT POUR LE MODELING DBSCAN AVEC DES DONNÉES OPTIMISÉES !\n",
      "📈 Features clés : Coordonnées + Densité locale + Catégories commerciales\n"
     ]
    }
   ],
   "source": [
    "\n",
    "print(\"✅ VALIDATION FINALE DU FEATURE ENGINEERING\")\n",
    "\n",
    "print(\"🎯 OBJECTIF : S'assurer que les données sont optimales pour DBSCAN\")\n",
    "\n",
    "# 1. Vérification des échelles\n",
    "print(\"📊 VÉRIFICATION DES ÉCHELLES :\")\n",
    "\n",
    "print(\"   • Features DBSCAN (standardisées) :\")\n",
    "dbscan_features = [col for col in df_modeling.columns if '_scaled' in col]\n",
    "for feature in dbscan_features:\n",
    "    stats = {\n",
    "        'mean': df_modeling[feature].mean(),\n",
    "        'std': df_modeling[feature].std(),\n",
    "        'min': df_modeling[feature].min(),\n",
    "        'max': df_modeling[feature].max()\n",
    "    }\n",
    "    print(f\"      - {feature:20} : μ={stats['mean']:7.3f}, σ={stats['std']:6.3f}\")\n",
    "\n",
    "# 2. Analyse de corrélation des features DBSCAN\n",
    "print(f\"\\n🔗 CORRÉLATION DES FEATURES DBSCAN :\")\n",
    "correlation_matrix = df_modeling[dbscan_features].corr()\n",
    "\n",
    "print(\"   • Matrice de corrélation :\")\n",
    "for i in range(len(correlation_matrix)):\n",
    "    for j in range(i+1, len(correlation_matrix)):\n",
    "        corr = correlation_matrix.iloc[i, j]\n",
    "        feat1, feat2 = correlation_matrix.columns[i], correlation_matrix.columns[j]\n",
    "        print(f\"      - {feat1:25} ↔ {feat2:25} : {corr:.3f}\")\n",
    "\n",
    "# 3. Vérification de la densité (feature clé)\n",
    "print(f\"\\n📈 ANALYSE DE LA DENSITÉ (feature clé) :\")\n",
    "densite_stats = {\n",
    "    'Moyenne': df_modeling['densite_200m'].mean(),\n",
    "    'Médiane': df_modeling['densite_200m'].median(),\n",
    "    'Std': df_modeling['densite_200m'].std(),\n",
    "    'Q1': df_modeling['densite_200m'].quantile(0.25),\n",
    "    'Q3': df_modeling['densite_200m'].quantile(0.75)\n",
    "}\n",
    "\n",
    "for stat, value in densite_stats.items():\n",
    "    print(f\"   • {stat:8} : {value:.1f} points/200m\")\n",
    "\n",
    "# 4. Guide pour les paramètres DBSCAN\n",
    "print(f\"\\n🎯 RECOMMANDATIONS POUR DBSCAN :\")\n",
    "\n",
    "# Estimation de epsilon basée sur la densité\n",
    "avg_density = df_modeling['densite_200m'].mean()\n",
    "recommended_eps = 0.02 if avg_density > 10 else 0.03 if avg_density > 5 else 0.05\n",
    "recommended_min_samples = max(5, int(avg_density * 0.3))\n",
    "\n",
    "print(f\"   • Densité moyenne : {avg_density:.1f} points/200m\")\n",
    "print(f\"   • eps recommandé : {recommended_eps:.3f}\")\n",
    "print(f\"   • min_samples recommandé : {recommended_min_samples}\")\n",
    "\n",
    "# 5. Sauvegarde du dataset final\n",
    "print(f\"\\n💾 SAUVEGARDE DU DATASET FINAL...\")\n",
    "\n",
    "output_path = '../data/processed/terrasses_paris_feature_engineering.csv'\n",
    "df_modeling.to_csv(output_path, index=False, encoding='utf-8')\n",
    "\n",
    "print(f\"✅ DATASET SAUVEGARDÉ : {output_path}\")\n",
    "print(f\"📊 RÉSUMÉ FINAL :\")\n",
    "print(f\"   • Observations : {len(df_modeling):,}\")\n",
    "print(f\"   • Features totales : {len(df_modeling.columns)}\")\n",
    "print(f\"   • Features DBSCAN : {len(dbscan_features)}\")\n",
    "print(f\"   • Features contextuelles : {len(df_modeling.columns) - len(dbscan_features)}\")\n",
    "\n",
    "print(f\"\\n🎉 FEATURE ENGINEERING TERMINÉ AVEC SUCCÈS !\")\n",
    "print(f\"🚀 PRÊT POUR LE MODELING DBSCAN AVEC DES DONNÉES OPTIMISÉES !\")\n",
    "print(f\"📈 Features clés : Coordonnées + Densité locale + Catégories commerciales\")"
   ]
  },
  {
   "cell_type": "markdown",
   "id": "b0ca6bee",
   "metadata": {},
   "source": [
    "\n",
    "<!DOCTYPE html>\n",
    "<html>\n",
    "<head>\n",
    "    <style>\n",
    "        body { font-family: Arial, sans-serif; margin: 40px; background: #f5f5f5; color: #333; line-height: 1.6; }\n",
    "        h1 { text-align: center; color: lightgreen; font-size: 36px; font-weight: bold; margin-bottom: 10px; }\n",
    "        h2 { color: #EF806C; font-size: 28px; font-weight: bold; margin-top: 30px; }\n",
    "        h3 { color: #00FFFF; font-size: 22px; font-weight: bold; margin-top: 20px;,  }\n",
    "        ul { margin-left: 20px; }\n",
    "        li { margin: 8px 0; }\n",
    "        hr { height: 2px; border: none; background-color: lightgreen; margin: 20px 0; }\n",
    "    </style>\n",
    "</head>\n",
    "<body>\n",
    "<h3> 📊 VISUALISATIONS EXPLORATOIRES AVANT MODELING\n",
    "\n",
    " </h3>\n"
   ]
  },
  {
   "cell_type": "code",
   "execution_count": 47,
   "id": "edd089f5",
   "metadata": {},
   "outputs": [
    {
     "name": "stdout",
     "output_type": "stream",
     "text": [
      "🗺️ CARTE DE DENSITÉ DES TERRASSES PARISIENNES\n"
     ]
    },
    {
     "name": "stderr",
     "output_type": "stream",
     "text": [
      "/var/folders/gp/q_rht33j52g96p_m9v3ss8d80000gn/T/ipykernel_2644/405372181.py:11: DeprecationWarning:\n",
      "\n",
      "*density_mapbox* is deprecated! Use *density_map* instead. Learn more at: https://plotly.com/python/mapbox-to-maplibre/\n",
      "\n"
     ]
    },
    {
     "data": {
      "application/vnd.plotly.v1+json": {
       "config": {
        "plotlyServerURL": "https://plot.ly"
       },
       "data": [
        {
         "coloraxis": "coloraxis",
         "hovertemplate": "densite_200m=%{z}<br>latitude=%{lat}<br>longitude=%{lon}<extra></extra>",
         "lat": {
          "bdata": "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",
          "dtype": "f8"
         },
         "lon": {
          "bdata": "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",
          "dtype": "f8"
         },
         "name": "",
         "radius": 10,
         "subplot": "mapbox",
         "type": "densitymapbox",
         "z": {
          "bdata": "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",
          "dtype": "i1"
         }
        }
       ],
       "layout": {
        "coloraxis": {
         "colorbar": {
          "title": {
           "text": "densite_200m"
          }
         },
         "colorscale": [
          [
           0,
           "rgb(0,0,0)"
          ],
          [
           0.3333333333333333,
           "rgb(230,0,0)"
          ],
          [
           0.6666666666666666,
           "rgb(255,210,0)"
          ],
          [
           1,
           "rgb(255,255,255)"
          ]
         ]
        },
        "height": 600,
        "legend": {
         "tracegroupgap": 0
        },
        "mapbox": {
         "center": {
          "lat": 48.860842525327,
          "lon": 2.341282846290542
         },
         "domain": {
          "x": [
           0,
           1
          ],
          "y": [
           0,
           1
          ]
         },
         "style": "open-street-map",
         "zoom": 11
        },
        "template": {
         "data": {
          "bar": [
           {
            "error_x": {
             "color": "#2a3f5f"
            },
            "error_y": {
             "color": "#2a3f5f"
            },
            "marker": {
             "line": {
              "color": "#E5ECF6",
              "width": 0.5
             },
             "pattern": {
              "fillmode": "overlay",
              "size": 10,
              "solidity": 0.2
             }
            },
            "type": "bar"
           }
          ],
          "barpolar": [
           {
            "marker": {
             "line": {
              "color": "#E5ECF6",
              "width": 0.5
             },
             "pattern": {
              "fillmode": "overlay",
              "size": 10,
              "solidity": 0.2
             }
            },
            "type": "barpolar"
           }
          ],
          "carpet": [
           {
            "aaxis": {
             "endlinecolor": "#2a3f5f",
             "gridcolor": "white",
             "linecolor": "white",
             "minorgridcolor": "white",
             "startlinecolor": "#2a3f5f"
            },
            "baxis": {
             "endlinecolor": "#2a3f5f",
             "gridcolor": "white",
             "linecolor": "white",
             "minorgridcolor": "white",
             "startlinecolor": "#2a3f5f"
            },
            "type": "carpet"
           }
          ],
          "choropleth": [
           {
            "colorbar": {
             "outlinewidth": 0,
             "ticks": ""
            },
            "type": "choropleth"
           }
          ],
          "contour": [
           {
            "colorbar": {
             "outlinewidth": 0,
             "ticks": ""
            },
            "colorscale": [
             [
              0,
              "#0d0887"
             ],
             [
              0.1111111111111111,
              "#46039f"
             ],
             [
              0.2222222222222222,
              "#7201a8"
             ],
             [
              0.3333333333333333,
              "#9c179e"
             ],
             [
              0.4444444444444444,
              "#bd3786"
             ],
             [
              0.5555555555555556,
              "#d8576b"
             ],
             [
              0.6666666666666666,
              "#ed7953"
             ],
             [
              0.7777777777777778,
              "#fb9f3a"
             ],
             [
              0.8888888888888888,
              "#fdca26"
             ],
             [
              1,
              "#f0f921"
             ]
            ],
            "type": "contour"
           }
          ],
          "contourcarpet": [
           {
            "colorbar": {
             "outlinewidth": 0,
             "ticks": ""
            },
            "type": "contourcarpet"
           }
          ],
          "heatmap": [
           {
            "colorbar": {
             "outlinewidth": 0,
             "ticks": ""
            },
            "colorscale": [
             [
              0,
              "#0d0887"
             ],
             [
              0.1111111111111111,
              "#46039f"
             ],
             [
              0.2222222222222222,
              "#7201a8"
             ],
             [
              0.3333333333333333,
              "#9c179e"
             ],
             [
              0.4444444444444444,
              "#bd3786"
             ],
             [
              0.5555555555555556,
              "#d8576b"
             ],
             [
              0.6666666666666666,
              "#ed7953"
             ],
             [
              0.7777777777777778,
              "#fb9f3a"
             ],
             [
              0.8888888888888888,
              "#fdca26"
             ],
             [
              1,
              "#f0f921"
             ]
            ],
            "type": "heatmap"
           }
          ],
          "histogram": [
           {
            "marker": {
             "pattern": {
              "fillmode": "overlay",
              "size": 10,
              "solidity": 0.2
             }
            },
            "type": "histogram"
           }
          ],
          "histogram2d": [
           {
            "colorbar": {
             "outlinewidth": 0,
             "ticks": ""
            },
            "colorscale": [
             [
              0,
              "#0d0887"
             ],
             [
              0.1111111111111111,
              "#46039f"
             ],
             [
              0.2222222222222222,
              "#7201a8"
             ],
             [
              0.3333333333333333,
              "#9c179e"
             ],
             [
              0.4444444444444444,
              "#bd3786"
             ],
             [
              0.5555555555555556,
              "#d8576b"
             ],
             [
              0.6666666666666666,
              "#ed7953"
             ],
             [
              0.7777777777777778,
              "#fb9f3a"
             ],
             [
              0.8888888888888888,
              "#fdca26"
             ],
             [
              1,
              "#f0f921"
             ]
            ],
            "type": "histogram2d"
           }
          ],
          "histogram2dcontour": [
           {
            "colorbar": {
             "outlinewidth": 0,
             "ticks": ""
            },
            "colorscale": [
             [
              0,
              "#0d0887"
             ],
             [
              0.1111111111111111,
              "#46039f"
             ],
             [
              0.2222222222222222,
              "#7201a8"
             ],
             [
              0.3333333333333333,
              "#9c179e"
             ],
             [
              0.4444444444444444,
              "#bd3786"
             ],
             [
              0.5555555555555556,
              "#d8576b"
             ],
             [
              0.6666666666666666,
              "#ed7953"
             ],
             [
              0.7777777777777778,
              "#fb9f3a"
             ],
             [
              0.8888888888888888,
              "#fdca26"
             ],
             [
              1,
              "#f0f921"
             ]
            ],
            "type": "histogram2dcontour"
           }
          ],
          "mesh3d": [
           {
            "colorbar": {
             "outlinewidth": 0,
             "ticks": ""
            },
            "type": "mesh3d"
           }
          ],
          "parcoords": [
           {
            "line": {
             "colorbar": {
              "outlinewidth": 0,
              "ticks": ""
             }
            },
            "type": "parcoords"
           }
          ],
          "pie": [
           {
            "automargin": true,
            "type": "pie"
           }
          ],
          "scatter": [
           {
            "fillpattern": {
             "fillmode": "overlay",
             "size": 10,
             "solidity": 0.2
            },
            "type": "scatter"
           }
          ],
          "scatter3d": [
           {
            "line": {
             "colorbar": {
              "outlinewidth": 0,
              "ticks": ""
             }
            },
            "marker": {
             "colorbar": {
              "outlinewidth": 0,
              "ticks": ""
             }
            },
            "type": "scatter3d"
           }
          ],
          "scattercarpet": [
           {
            "marker": {
             "colorbar": {
              "outlinewidth": 0,
              "ticks": ""
             }
            },
            "type": "scattercarpet"
           }
          ],
          "scattergeo": [
           {
            "marker": {
             "colorbar": {
              "outlinewidth": 0,
              "ticks": ""
             }
            },
            "type": "scattergeo"
           }
          ],
          "scattergl": [
           {
            "marker": {
             "colorbar": {
              "outlinewidth": 0,
              "ticks": ""
             }
            },
            "type": "scattergl"
           }
          ],
          "scattermap": [
           {
            "marker": {
             "colorbar": {
              "outlinewidth": 0,
              "ticks": ""
             }
            },
            "type": "scattermap"
           }
          ],
          "scattermapbox": [
           {
            "marker": {
             "colorbar": {
              "outlinewidth": 0,
              "ticks": ""
             }
            },
            "type": "scattermapbox"
           }
          ],
          "scatterpolar": [
           {
            "marker": {
             "colorbar": {
              "outlinewidth": 0,
              "ticks": ""
             }
            },
            "type": "scatterpolar"
           }
          ],
          "scatterpolargl": [
           {
            "marker": {
             "colorbar": {
              "outlinewidth": 0,
              "ticks": ""
             }
            },
            "type": "scatterpolargl"
           }
          ],
          "scatterternary": [
           {
            "marker": {
             "colorbar": {
              "outlinewidth": 0,
              "ticks": ""
             }
            },
            "type": "scatterternary"
           }
          ],
          "surface": [
           {
            "colorbar": {
             "outlinewidth": 0,
             "ticks": ""
            },
            "colorscale": [
             [
              0,
              "#0d0887"
             ],
             [
              0.1111111111111111,
              "#46039f"
             ],
             [
              0.2222222222222222,
              "#7201a8"
             ],
             [
              0.3333333333333333,
              "#9c179e"
             ],
             [
              0.4444444444444444,
              "#bd3786"
             ],
             [
              0.5555555555555556,
              "#d8576b"
             ],
             [
              0.6666666666666666,
              "#ed7953"
             ],
             [
              0.7777777777777778,
              "#fb9f3a"
             ],
             [
              0.8888888888888888,
              "#fdca26"
             ],
             [
              1,
              "#f0f921"
             ]
            ],
            "type": "surface"
           }
          ],
          "table": [
           {
            "cells": {
             "fill": {
              "color": "#EBF0F8"
             },
             "line": {
              "color": "white"
             }
            },
            "header": {
             "fill": {
              "color": "#C8D4E3"
             },
             "line": {
              "color": "white"
             }
            },
            "type": "table"
           }
          ]
         },
         "layout": {
          "annotationdefaults": {
           "arrowcolor": "#2a3f5f",
           "arrowhead": 0,
           "arrowwidth": 1
          },
          "autotypenumbers": "strict",
          "coloraxis": {
           "colorbar": {
            "outlinewidth": 0,
            "ticks": ""
           }
          },
          "colorscale": {
           "diverging": [
            [
             0,
             "#8e0152"
            ],
            [
             0.1,
             "#c51b7d"
            ],
            [
             0.2,
             "#de77ae"
            ],
            [
             0.3,
             "#f1b6da"
            ],
            [
             0.4,
             "#fde0ef"
            ],
            [
             0.5,
             "#f7f7f7"
            ],
            [
             0.6,
             "#e6f5d0"
            ],
            [
             0.7,
             "#b8e186"
            ],
            [
             0.8,
             "#7fbc41"
            ],
            [
             0.9,
             "#4d9221"
            ],
            [
             1,
             "#276419"
            ]
           ],
           "sequential": [
            [
             0,
             "#0d0887"
            ],
            [
             0.1111111111111111,
             "#46039f"
            ],
            [
             0.2222222222222222,
             "#7201a8"
            ],
            [
             0.3333333333333333,
             "#9c179e"
            ],
            [
             0.4444444444444444,
             "#bd3786"
            ],
            [
             0.5555555555555556,
             "#d8576b"
            ],
            [
             0.6666666666666666,
             "#ed7953"
            ],
            [
             0.7777777777777778,
             "#fb9f3a"
            ],
            [
             0.8888888888888888,
             "#fdca26"
            ],
            [
             1,
             "#f0f921"
            ]
           ],
           "sequentialminus": [
            [
             0,
             "#0d0887"
            ],
            [
             0.1111111111111111,
             "#46039f"
            ],
            [
             0.2222222222222222,
             "#7201a8"
            ],
            [
             0.3333333333333333,
             "#9c179e"
            ],
            [
             0.4444444444444444,
             "#bd3786"
            ],
            [
             0.5555555555555556,
             "#d8576b"
            ],
            [
             0.6666666666666666,
             "#ed7953"
            ],
            [
             0.7777777777777778,
             "#fb9f3a"
            ],
            [
             0.8888888888888888,
             "#fdca26"
            ],
            [
             1,
             "#f0f921"
            ]
           ]
          },
          "colorway": [
           "#636efa",
           "#EF553B",
           "#00cc96",
           "#ab63fa",
           "#FFA15A",
           "#19d3f3",
           "#FF6692",
           "#B6E880",
           "#FF97FF",
           "#FECB52"
          ],
          "font": {
           "color": "#2a3f5f"
          },
          "geo": {
           "bgcolor": "white",
           "lakecolor": "white",
           "landcolor": "#E5ECF6",
           "showlakes": true,
           "showland": true,
           "subunitcolor": "white"
          },
          "hoverlabel": {
           "align": "left"
          },
          "hovermode": "closest",
          "mapbox": {
           "style": "light"
          },
          "paper_bgcolor": "white",
          "plot_bgcolor": "#E5ECF6",
          "polar": {
           "angularaxis": {
            "gridcolor": "white",
            "linecolor": "white",
            "ticks": ""
           },
           "bgcolor": "#E5ECF6",
           "radialaxis": {
            "gridcolor": "white",
            "linecolor": "white",
            "ticks": ""
           }
          },
          "scene": {
           "xaxis": {
            "backgroundcolor": "#E5ECF6",
            "gridcolor": "white",
            "gridwidth": 2,
            "linecolor": "white",
            "showbackground": true,
            "ticks": "",
            "zerolinecolor": "white"
           },
           "yaxis": {
            "backgroundcolor": "#E5ECF6",
            "gridcolor": "white",
            "gridwidth": 2,
            "linecolor": "white",
            "showbackground": true,
            "ticks": "",
            "zerolinecolor": "white"
           },
           "zaxis": {
            "backgroundcolor": "#E5ECF6",
            "gridcolor": "white",
            "gridwidth": 2,
            "linecolor": "white",
            "showbackground": true,
            "ticks": "",
            "zerolinecolor": "white"
           }
          },
          "shapedefaults": {
           "line": {
            "color": "#2a3f5f"
           }
          },
          "ternary": {
           "aaxis": {
            "gridcolor": "white",
            "linecolor": "white",
            "ticks": ""
           },
           "baxis": {
            "gridcolor": "white",
            "linecolor": "white",
            "ticks": ""
           },
           "bgcolor": "#E5ECF6",
           "caxis": {
            "gridcolor": "white",
            "linecolor": "white",
            "ticks": ""
           }
          },
          "title": {
           "x": 0.05
          },
          "xaxis": {
           "automargin": true,
           "gridcolor": "white",
           "linecolor": "white",
           "ticks": "",
           "title": {
            "standoff": 15
           },
           "zerolinecolor": "white",
           "zerolinewidth": 2
          },
          "yaxis": {
           "automargin": true,
           "gridcolor": "white",
           "linecolor": "white",
           "ticks": "",
           "title": {
            "standoff": 15
           },
           "zerolinecolor": "white",
           "zerolinewidth": 2
          }
         }
        },
        "title": {
         "text": "🔥 DENSITÉ DES TERRASSES PARISIENNES"
        }
       }
      }
     },
     "metadata": {},
     "output_type": "display_data"
    },
    {
     "name": "stdout",
     "output_type": "stream",
     "text": [
      "🎯 CE QUE CETTE CARTE VOUS MONTRE :\n",
      "   • Les zones ROUGES = forte concentration de terrasses\n",
      "   • Les zones BLEUES = terrasses isolées\n",
      "   • DBSCAN va détecter les zones rouges comme clusters\n"
     ]
    }
   ],
   "source": [
    "# %% [markdown]\n",
    "# ## 📍 CARTE DE DENSITÉ - VUE D'ENSEMBLE\n",
    "\n",
    "# %%\n",
    "print(\"🗺️ CARTE DE DENSITÉ DES TERRASSES PARISIENNES\")\n",
    "\n",
    "import plotly.express as px\n",
    "import plotly.graph_objects as go\n",
    "\n",
    "# Carte de densité avec Plotly\n",
    "fig_density = px.density_mapbox(\n",
    "    df_modeling, \n",
    "    lat='latitude', \n",
    "    lon='longitude',\n",
    "    z='densite_200m',  # Utilise votre feature de densité\n",
    "    radius=10,\n",
    "    zoom=11,\n",
    "    mapbox_style=\"open-street-map\",\n",
    "    title='🔥 DENSITÉ DES TERRASSES PARISIENNES',\n",
    "    color_continuous_scale='hot'\n",
    ")\n",
    "\n",
    "fig_density.update_layout(height=600)\n",
    "fig_density.show()\n",
    "\n",
    "print(\"🎯 CE QUE CETTE CARTE VOUS MONTRE :\")\n",
    "print(\"   • Les zones ROUGES = forte concentration de terrasses\")\n",
    "print(\"   • Les zones BLEUES = terrasses isolées\")\n",
    "print(\"   • DBSCAN va détecter les zones rouges comme clusters\")"
   ]
  },
  {
   "cell_type": "code",
   "execution_count": null,
   "id": "c2c23c3d",
   "metadata": {},
   "outputs": [],
   "source": []
  }
 ],
 "metadata": {
  "kernelspec": {
   "display_name": ".venv",
   "language": "python",
   "name": "python3"
  },
  "language_info": {
   "codemirror_mode": {
    "name": "ipython",
    "version": 3
   },
   "file_extension": ".py",
   "mimetype": "text/x-python",
   "name": "python",
   "nbconvert_exporter": "python",
   "pygments_lexer": "ipython3",
   "version": "3.13.1"
  }
 },
 "nbformat": 4,
 "nbformat_minor": 5
}
